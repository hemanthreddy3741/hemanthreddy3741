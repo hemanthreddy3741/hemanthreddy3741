{
 "cells": [
  {
   "cell_type": "markdown",
   "metadata": {
    "colab_type": "text",
    "id": "knBMNPtXhgVa"
   },
   "source": [
    "# DonorsChoose"
   ]
  },
  {
   "cell_type": "markdown",
   "metadata": {
    "colab_type": "text",
    "id": "-roW5UkjhgVg"
   },
   "source": [
    "<p>\n",
    "DonorsChoose.org receives hundreds of thousands of project proposals each year for classroom projects in need of funding. Right now, a large number of volunteers is needed to manually screen each submission before it's approved to be posted on the DonorsChoose.org website.\n",
    "</p>\n",
    "<p>\n",
    "    Next year, DonorsChoose.org expects to receive close to 500,000 project proposals. As a result, there are three main problems they need to solve:\n",
    "<ul>\n",
    "<li>\n",
    "    How to scale current manual processes and resources to screen 500,000 projects so that they can be posted as quickly and as efficiently as possible</li>\n",
    "    <li>How to increase the consistency of project vetting across different volunteers to improve the experience for teachers</li>\n",
    "    <li>How to focus volunteer time on the applications that need the most assistance</li>\n",
    "    </ul>\n",
    "</p>    \n",
    "<p>\n",
    "The goal of the competition is to predict whether or not a DonorsChoose.org project proposal submitted by a teacher will be approved, using the text of project descriptions as well as additional metadata about the project, teacher, and school. DonorsChoose.org can then use this information to identify projects most likely to need further review before approval.\n",
    "</p>"
   ]
  },
  {
   "cell_type": "markdown",
   "metadata": {
    "colab_type": "text",
    "id": "YsmLmNeVhgVi"
   },
   "source": [
    "## About the DonorsChoose Data Set\n",
    "\n",
    "The `train.csv` data set provided by DonorsChoose contains the following features:\n",
    "\n",
    "Feature | Description \n",
    "----------|---------------\n",
    "**`project_id`** | A unique identifier for the proposed project. **Example:** `p036502`   \n",
    "**`project_title`**    | Title of the project. **Examples:**<br><ul><li><code>Art Will Make You Happy!</code></li><li><code>First Grade Fun</code></li></ul> \n",
    "**`project_grade_category`** | Grade level of students for which the project is targeted. One of the following enumerated values: <br/><ul><li><code>Grades PreK-2</code></li><li><code>Grades 3-5</code></li><li><code>Grades 6-8</code></li><li><code>Grades 9-12</code></li></ul>  \n",
    " **`project_subject_categories`** | One or more (comma-separated) subject categories for the project from the following enumerated list of values:  <br/><ul><li><code>Applied Learning</code></li><li><code>Care &amp; Hunger</code></li><li><code>Health &amp; Sports</code></li><li><code>History &amp; Civics</code></li><li><code>Literacy &amp; Language</code></li><li><code>Math &amp; Science</code></li><li><code>Music &amp; The Arts</code></li><li><code>Special Needs</code></li><li><code>Warmth</code></li></ul><br/> **Examples:** <br/><ul><li><code>Music &amp; The Arts</code></li><li><code>Literacy &amp; Language, Math &amp; Science</code></li>  \n",
    "  **`school_state`** | State where school is located ([Two-letter U.S. postal code](https://en.wikipedia.org/wiki/List_of_U.S._state_abbreviations#Postal_codes)). **Example:** `WY`\n",
    "**`project_subject_subcategories`** | One or more (comma-separated) subject subcategories for the project. **Examples:** <br/><ul><li><code>Literacy</code></li><li><code>Literature &amp; Writing, Social Sciences</code></li></ul> \n",
    "**`project_resource_summary`** | An explanation of the resources needed for the project. **Example:** <br/><ul><li><code>My students need hands on literacy materials to manage sensory needs!</code</li></ul> \n",
    "**`project_essay_1`**    | First application essay<sup>*</sup>  \n",
    "**`project_essay_2`**    | Second application essay<sup>*</sup> \n",
    "**`project_essay_3`**    | Third application essay<sup>*</sup> \n",
    "**`project_essay_4`**    | Fourth application essay<sup>*</sup> \n",
    "**`project_submitted_datetime`** | Datetime when project application was submitted. **Example:** `2016-04-28 12:43:56.245`   \n",
    "**`teacher_id`** | A unique identifier for the teacher of the proposed project. **Example:** `bdf8baa8fedef6bfeec7ae4ff1c15c56`  \n",
    "**`teacher_prefix`** | Teacher's title. One of the following enumerated values: <br/><ul><li><code>nan</code></li><li><code>Dr.</code></li><li><code>Mr.</code></li><li><code>Mrs.</code></li><li><code>Ms.</code></li><li><code>Teacher.</code></li></ul>  \n",
    "**`teacher_number_of_previously_posted_projects`** | Number of project applications previously submitted by the same teacher. **Example:** `2` \n",
    "\n",
    "<sup>*</sup> See the section <b>Notes on the Essay Data</b> for more details about these features.\n",
    "\n",
    "Additionally, the `resources.csv` data set provides more data about the resources required for each project. Each line in this file represents a resource required by a project:\n",
    "\n",
    "Feature | Description \n",
    "----------|---------------\n",
    "**`id`** | A `project_id` value from the `train.csv` file.  **Example:** `p036502`   \n",
    "**`description`** | Desciption of the resource. **Example:** `Tenor Saxophone Reeds, Box of 25`   \n",
    "**`quantity`** | Quantity of the resource required. **Example:** `3`   \n",
    "**`price`** | Price of the resource required. **Example:** `9.95`   \n",
    "\n",
    "**Note:** Many projects require multiple resources. The `id` value corresponds to a `project_id` in train.csv, so you use it as a key to retrieve all resources needed for a project:\n",
    "\n",
    "The data set contains the following label (the value you will attempt to predict):\n",
    "\n",
    "Label | Description\n",
    "----------|---------------\n",
    "`project_is_approved` | A binary flag indicating whether DonorsChoose approved the project. A value of `0` indicates the project was not approved, and a value of `1` indicates the project was approved."
   ]
  },
  {
   "cell_type": "markdown",
   "metadata": {
    "colab_type": "text",
    "id": "El1wNSNQhgVm"
   },
   "source": [
    "### Notes on the Essay Data\n",
    "\n",
    "<ul>\n",
    "Prior to May 17, 2016, the prompts for the essays were as follows:\n",
    "<li>__project_essay_1:__ \"Introduce us to your classroom\"</li>\n",
    "<li>__project_essay_2:__ \"Tell us more about your students\"</li>\n",
    "<li>__project_essay_3:__ \"Describe how your students will use the materials you're requesting\"</li>\n",
    "<li>__project_essay_3:__ \"Close by sharing why your project will make a difference\"</li>\n",
    "</ul>\n",
    "\n",
    "\n",
    "<ul>\n",
    "Starting on May 17, 2016, the number of essays was reduced from 4 to 2, and the prompts for the first 2 essays were changed to the following:<br>\n",
    "<li>__project_essay_1:__ \"Describe your students: What makes your students special? Specific details about their background, your neighborhood, and your school are all helpful.\"</li>\n",
    "<li>__project_essay_2:__ \"About your project: How will these materials make a difference in your students' learning and improve their school lives?\"</li>\n",
    "<br>For all projects with project_submitted_datetime of 2016-05-17 and later, the values of project_essay_3 and project_essay_4 will be NaN.\n",
    "</ul>\n"
   ]
  },
  {
   "cell_type": "code",
   "execution_count": 2,
   "metadata": {
    "colab": {
     "base_uri": "https://localhost:8080/",
     "height": 649
    },
    "colab_type": "code",
    "executionInfo": {
     "elapsed": 17371,
     "status": "ok",
     "timestamp": 1583751619403,
     "user": {
      "displayName": "Hemanth Reddy",
      "photoUrl": "",
      "userId": "16713424825086946671"
     },
     "user_tz": -330
    },
    "id": "ZNGR-TSHiGfX",
    "outputId": "0b9fd20a-a86c-4f11-c1b0-4cf394edb535"
   },
   "outputs": [
    {
     "name": "stdout",
     "output_type": "stream",
     "text": [
      "Collecting ipykernel\n",
      "\u001b[?25l  Downloading https://files.pythonhosted.org/packages/d7/62/d1a5d654b7a21bd3eb99be1b59a608cc18a7a08ed88495457a87c40a0495/ipykernel-5.1.4-py3-none-any.whl (116kB)\n",
      "\r",
      "\u001b[K     |██▉                             | 10kB 19.9MB/s eta 0:00:01\r",
      "\u001b[K     |█████▋                          | 20kB 1.8MB/s eta 0:00:01\r",
      "\u001b[K     |████████▍                       | 30kB 2.6MB/s eta 0:00:01\r",
      "\u001b[K     |███████████▏                    | 40kB 1.7MB/s eta 0:00:01\r",
      "\u001b[K     |██████████████                  | 51kB 2.1MB/s eta 0:00:01\r",
      "\u001b[K     |████████████████▉               | 61kB 2.5MB/s eta 0:00:01\r",
      "\u001b[K     |███████████████████▋            | 71kB 2.9MB/s eta 0:00:01\r",
      "\u001b[K     |██████████████████████▍         | 81kB 3.3MB/s eta 0:00:01\r",
      "\u001b[K     |█████████████████████████▎      | 92kB 3.7MB/s eta 0:00:01\r",
      "\u001b[K     |████████████████████████████    | 102kB 2.8MB/s eta 0:00:01\r",
      "\u001b[K     |██████████████████████████████▉ | 112kB 2.8MB/s eta 0:00:01\r",
      "\u001b[K     |████████████████████████████████| 122kB 2.8MB/s \n",
      "\u001b[?25hRequirement already satisfied, skipping upgrade: jupyter-client in /usr/local/lib/python3.6/dist-packages (from ipykernel) (5.3.4)\n",
      "Requirement already satisfied, skipping upgrade: ipython>=5.0.0 in /usr/local/lib/python3.6/dist-packages (from ipykernel) (5.5.0)\n",
      "Requirement already satisfied, skipping upgrade: tornado>=4.2 in /usr/local/lib/python3.6/dist-packages (from ipykernel) (4.5.3)\n",
      "Requirement already satisfied, skipping upgrade: traitlets>=4.1.0 in /usr/local/lib/python3.6/dist-packages (from ipykernel) (4.3.3)\n",
      "Requirement already satisfied, skipping upgrade: jupyter-core>=4.6.0 in /usr/local/lib/python3.6/dist-packages (from jupyter-client->ipykernel) (4.6.2)\n",
      "Requirement already satisfied, skipping upgrade: python-dateutil>=2.1 in /usr/local/lib/python3.6/dist-packages (from jupyter-client->ipykernel) (2.6.1)\n",
      "Requirement already satisfied, skipping upgrade: pyzmq>=13 in /usr/local/lib/python3.6/dist-packages (from jupyter-client->ipykernel) (17.0.0)\n",
      "Requirement already satisfied, skipping upgrade: prompt-toolkit<2.0.0,>=1.0.4 in /usr/local/lib/python3.6/dist-packages (from ipython>=5.0.0->ipykernel) (1.0.18)\n",
      "Requirement already satisfied, skipping upgrade: decorator in /usr/local/lib/python3.6/dist-packages (from ipython>=5.0.0->ipykernel) (4.4.1)\n",
      "Requirement already satisfied, skipping upgrade: pickleshare in /usr/local/lib/python3.6/dist-packages (from ipython>=5.0.0->ipykernel) (0.7.5)\n",
      "Requirement already satisfied, skipping upgrade: simplegeneric>0.8 in /usr/local/lib/python3.6/dist-packages (from ipython>=5.0.0->ipykernel) (0.8.1)\n",
      "Requirement already satisfied, skipping upgrade: pygments in /usr/local/lib/python3.6/dist-packages (from ipython>=5.0.0->ipykernel) (2.1.3)\n",
      "Requirement already satisfied, skipping upgrade: pexpect; sys_platform != \"win32\" in /usr/local/lib/python3.6/dist-packages (from ipython>=5.0.0->ipykernel) (4.8.0)\n",
      "Requirement already satisfied, skipping upgrade: setuptools>=18.5 in /usr/local/lib/python3.6/dist-packages (from ipython>=5.0.0->ipykernel) (45.2.0)\n",
      "Requirement already satisfied, skipping upgrade: six in /usr/local/lib/python3.6/dist-packages (from traitlets>=4.1.0->ipykernel) (1.12.0)\n",
      "Requirement already satisfied, skipping upgrade: ipython-genutils in /usr/local/lib/python3.6/dist-packages (from traitlets>=4.1.0->ipykernel) (0.2.0)\n",
      "Requirement already satisfied, skipping upgrade: wcwidth in /usr/local/lib/python3.6/dist-packages (from prompt-toolkit<2.0.0,>=1.0.4->ipython>=5.0.0->ipykernel) (0.1.8)\n",
      "Requirement already satisfied, skipping upgrade: ptyprocess>=0.5 in /usr/local/lib/python3.6/dist-packages (from pexpect; sys_platform != \"win32\"->ipython>=5.0.0->ipykernel) (0.6.0)\n",
      "\u001b[31mERROR: google-colab 1.0.0 has requirement ipykernel~=4.6.0, but you'll have ipykernel 5.1.4 which is incompatible.\u001b[0m\n",
      "Installing collected packages: ipykernel\n",
      "  Found existing installation: ipykernel 4.6.1\n",
      "    Uninstalling ipykernel-4.6.1:\n",
      "      Successfully uninstalled ipykernel-4.6.1\n",
      "Successfully installed ipykernel-5.1.4\n"
     ]
    },
    {
     "data": {
      "application/vnd.colab-display-data+json": {
       "pip_warning": {
        "packages": [
         "ipykernel"
        ]
       }
      }
     },
     "metadata": {
      "tags": []
     },
     "output_type": "display_data"
    }
   ],
   "source": [
    "!pip install -U ipykernel\n"
   ]
  },
  {
   "cell_type": "code",
   "execution_count": 3,
   "metadata": {
    "colab": {
     "base_uri": "https://localhost:8080/",
     "height": 1000
    },
    "colab_type": "code",
    "executionInfo": {
     "elapsed": 33900,
     "status": "ok",
     "timestamp": 1583751636003,
     "user": {
      "displayName": "Hemanth Reddy",
      "photoUrl": "",
      "userId": "16713424825086946671"
     },
     "user_tz": -330
    },
    "id": "UlsLU_1uiVHz",
    "outputId": "2e5ce414-a056-4be6-b480-5bb1e4dd87d2"
   },
   "outputs": [
    {
     "name": "stdout",
     "output_type": "stream",
     "text": [
      "Requirement already satisfied: chart_studio in /usr/local/lib/python3.6/dist-packages (1.0.0)\n",
      "Requirement already satisfied: requests in /usr/local/lib/python3.6/dist-packages (from chart_studio) (2.21.0)\n",
      "Requirement already satisfied: retrying>=1.3.3 in /usr/local/lib/python3.6/dist-packages (from chart_studio) (1.3.3)\n",
      "Requirement already satisfied: plotly in /usr/local/lib/python3.6/dist-packages (from chart_studio) (4.4.1)\n",
      "Requirement already satisfied: six in /usr/local/lib/python3.6/dist-packages (from chart_studio) (1.12.0)\n",
      "Requirement already satisfied: certifi>=2017.4.17 in /usr/local/lib/python3.6/dist-packages (from requests->chart_studio) (2019.11.28)\n",
      "Requirement already satisfied: idna<2.9,>=2.5 in /usr/local/lib/python3.6/dist-packages (from requests->chart_studio) (2.8)\n",
      "Requirement already satisfied: chardet<3.1.0,>=3.0.2 in /usr/local/lib/python3.6/dist-packages (from requests->chart_studio) (3.0.4)\n",
      "Requirement already satisfied: urllib3<1.25,>=1.21.1 in /usr/local/lib/python3.6/dist-packages (from requests->chart_studio) (1.24.3)\n",
      "Requirement already satisfied: plotly in /usr/local/lib/python3.6/dist-packages (4.4.1)\n",
      "Requirement already satisfied: six in /usr/local/lib/python3.6/dist-packages (from plotly) (1.12.0)\n",
      "Requirement already satisfied: retrying>=1.3.3 in /usr/local/lib/python3.6/dist-packages (from plotly) (1.3.3)\n",
      "Collecting notebook>=5.3\n",
      "\u001b[?25l  Downloading https://files.pythonhosted.org/packages/b1/f1/0a67f09ef53a342403ffa66646ee39273e0ac79ffa5de5dbe2f3e28b5bdf/notebook-6.0.3-py3-none-any.whl (9.7MB)\n",
      "\u001b[K     |████████████████████████████████| 9.7MB 2.7MB/s \n",
      "\u001b[?25hRequirement already satisfied: ipywidgets>=7.2 in /usr/local/lib/python3.6/dist-packages (7.5.1)\n",
      "Requirement already satisfied: prometheus-client in /usr/local/lib/python3.6/dist-packages (from notebook>=5.3) (0.7.1)\n",
      "Requirement already satisfied: traitlets>=4.2.1 in /usr/local/lib/python3.6/dist-packages (from notebook>=5.3) (4.3.3)\n",
      "Requirement already satisfied: nbformat in /usr/local/lib/python3.6/dist-packages (from notebook>=5.3) (5.0.4)\n",
      "Requirement already satisfied: jinja2 in /usr/local/lib/python3.6/dist-packages (from notebook>=5.3) (2.11.1)\n",
      "Requirement already satisfied: nbconvert in /usr/local/lib/python3.6/dist-packages (from notebook>=5.3) (5.6.1)\n",
      "Requirement already satisfied: ipykernel in /usr/local/lib/python3.6/dist-packages (from notebook>=5.3) (5.1.4)\n",
      "Requirement already satisfied: jupyter-client>=5.3.4 in /usr/local/lib/python3.6/dist-packages (from notebook>=5.3) (5.3.4)\n",
      "Requirement already satisfied: terminado>=0.8.1 in /usr/local/lib/python3.6/dist-packages (from notebook>=5.3) (0.8.3)\n",
      "Requirement already satisfied: jupyter-core>=4.6.1 in /usr/local/lib/python3.6/dist-packages (from notebook>=5.3) (4.6.2)\n",
      "Requirement already satisfied: Send2Trash in /usr/local/lib/python3.6/dist-packages (from notebook>=5.3) (1.5.0)\n",
      "Requirement already satisfied: pyzmq>=17 in /usr/local/lib/python3.6/dist-packages (from notebook>=5.3) (17.0.0)\n",
      "Collecting tornado>=5.0\n",
      "\u001b[?25l  Downloading https://files.pythonhosted.org/packages/95/84/119a46d494f008969bf0c775cb2c6b3579d3c4cc1bb1b41a022aa93ee242/tornado-6.0.4.tar.gz (496kB)\n",
      "\u001b[K     |████████████████████████████████| 501kB 52.4MB/s \n",
      "\u001b[?25hRequirement already satisfied: ipython-genutils in /usr/local/lib/python3.6/dist-packages (from notebook>=5.3) (0.2.0)\n",
      "Requirement already satisfied: widgetsnbextension~=3.5.0 in /usr/local/lib/python3.6/dist-packages (from ipywidgets>=7.2) (3.5.1)\n",
      "Requirement already satisfied: ipython>=4.0.0; python_version >= \"3.3\" in /usr/local/lib/python3.6/dist-packages (from ipywidgets>=7.2) (5.5.0)\n",
      "Requirement already satisfied: six in /usr/local/lib/python3.6/dist-packages (from traitlets>=4.2.1->notebook>=5.3) (1.12.0)\n",
      "Requirement already satisfied: decorator in /usr/local/lib/python3.6/dist-packages (from traitlets>=4.2.1->notebook>=5.3) (4.4.1)\n",
      "Requirement already satisfied: jsonschema!=2.5.0,>=2.4 in /usr/local/lib/python3.6/dist-packages (from nbformat->notebook>=5.3) (2.6.0)\n",
      "Requirement already satisfied: MarkupSafe>=0.23 in /usr/local/lib/python3.6/dist-packages (from jinja2->notebook>=5.3) (1.1.1)\n",
      "Requirement already satisfied: bleach in /usr/local/lib/python3.6/dist-packages (from nbconvert->notebook>=5.3) (3.1.0)\n",
      "Requirement already satisfied: pandocfilters>=1.4.1 in /usr/local/lib/python3.6/dist-packages (from nbconvert->notebook>=5.3) (1.4.2)\n",
      "Requirement already satisfied: pygments in /usr/local/lib/python3.6/dist-packages (from nbconvert->notebook>=5.3) (2.1.3)\n",
      "Requirement already satisfied: mistune<2,>=0.8.1 in /usr/local/lib/python3.6/dist-packages (from nbconvert->notebook>=5.3) (0.8.4)\n",
      "Requirement already satisfied: entrypoints>=0.2.2 in /usr/local/lib/python3.6/dist-packages (from nbconvert->notebook>=5.3) (0.3)\n",
      "Requirement already satisfied: testpath in /usr/local/lib/python3.6/dist-packages (from nbconvert->notebook>=5.3) (0.4.4)\n",
      "Requirement already satisfied: defusedxml in /usr/local/lib/python3.6/dist-packages (from nbconvert->notebook>=5.3) (0.6.0)\n",
      "Requirement already satisfied: python-dateutil>=2.1 in /usr/local/lib/python3.6/dist-packages (from jupyter-client>=5.3.4->notebook>=5.3) (2.6.1)\n",
      "Requirement already satisfied: ptyprocess; os_name != \"nt\" in /usr/local/lib/python3.6/dist-packages (from terminado>=0.8.1->notebook>=5.3) (0.6.0)\n",
      "Requirement already satisfied: pickleshare in /usr/local/lib/python3.6/dist-packages (from ipython>=4.0.0; python_version >= \"3.3\"->ipywidgets>=7.2) (0.7.5)\n",
      "Requirement already satisfied: prompt-toolkit<2.0.0,>=1.0.4 in /usr/local/lib/python3.6/dist-packages (from ipython>=4.0.0; python_version >= \"3.3\"->ipywidgets>=7.2) (1.0.18)\n",
      "Requirement already satisfied: simplegeneric>0.8 in /usr/local/lib/python3.6/dist-packages (from ipython>=4.0.0; python_version >= \"3.3\"->ipywidgets>=7.2) (0.8.1)\n",
      "Requirement already satisfied: pexpect; sys_platform != \"win32\" in /usr/local/lib/python3.6/dist-packages (from ipython>=4.0.0; python_version >= \"3.3\"->ipywidgets>=7.2) (4.8.0)\n",
      "Requirement already satisfied: setuptools>=18.5 in /usr/local/lib/python3.6/dist-packages (from ipython>=4.0.0; python_version >= \"3.3\"->ipywidgets>=7.2) (45.2.0)\n",
      "Requirement already satisfied: webencodings in /usr/local/lib/python3.6/dist-packages (from bleach->nbconvert->notebook>=5.3) (0.5.1)\n",
      "Requirement already satisfied: wcwidth in /usr/local/lib/python3.6/dist-packages (from prompt-toolkit<2.0.0,>=1.0.4->ipython>=4.0.0; python_version >= \"3.3\"->ipywidgets>=7.2) (0.1.8)\n",
      "Building wheels for collected packages: tornado\n",
      "  Building wheel for tornado (setup.py) ... \u001b[?25l\u001b[?25hdone\n",
      "  Created wheel for tornado: filename=tornado-6.0.4-cp36-cp36m-linux_x86_64.whl size=427630 sha256=827a17fbfe7e0e47f3381c67a8c6b6e52cc2400100f76180f7a8c933bcc1970a\n",
      "  Stored in directory: /root/.cache/pip/wheels/93/84/2f/409c7b2bb3afc3aa727f7ee8787975e0793f74d1165f4d0104\n",
      "Successfully built tornado\n",
      "\u001b[31mERROR: google-colab 1.0.0 has requirement ipykernel~=4.6.0, but you'll have ipykernel 5.1.4 which is incompatible.\u001b[0m\n",
      "\u001b[31mERROR: google-colab 1.0.0 has requirement notebook~=5.2.0, but you'll have notebook 6.0.3 which is incompatible.\u001b[0m\n",
      "\u001b[31mERROR: google-colab 1.0.0 has requirement tornado~=4.5.0, but you'll have tornado 6.0.4 which is incompatible.\u001b[0m\n",
      "Installing collected packages: tornado, notebook\n",
      "  Found existing installation: tornado 4.5.3\n",
      "    Uninstalling tornado-4.5.3:\n",
      "      Successfully uninstalled tornado-4.5.3\n",
      "  Found existing installation: notebook 5.2.2\n",
      "    Uninstalling notebook-5.2.2:\n",
      "      Successfully uninstalled notebook-5.2.2\n",
      "Successfully installed notebook-6.0.3 tornado-6.0.4\n"
     ]
    },
    {
     "data": {
      "application/vnd.colab-display-data+json": {
       "pip_warning": {
        "packages": [
         "tornado"
        ]
       }
      }
     },
     "metadata": {
      "tags": []
     },
     "output_type": "display_data"
    }
   ],
   "source": [
    "!pip install chart_studio\n",
    "!pip install plotly\n",
    "!pip install \"notebook>=5.3\" \"ipywidgets>=7.2\""
   ]
  },
  {
   "cell_type": "code",
   "execution_count": 4,
   "metadata": {
    "colab": {
     "base_uri": "https://localhost:8080/",
     "height": 17,
     "output_embedded_package_id": "1Fez7x1cG_XHUboKZjTmCLaoBP3pRY1Lp"
    },
    "colab_type": "code",
    "executionInfo": {
     "elapsed": 37722,
     "status": "ok",
     "timestamp": 1583751639903,
     "user": {
      "displayName": "Hemanth Reddy",
      "photoUrl": "",
      "userId": "16713424825086946671"
     },
     "user_tz": -330
    },
    "id": "ixt2BY77hgVp",
    "outputId": "507a32f7-7bda-4f95-bc0f-3b1972ec1dd3"
   },
   "outputs": [
    {
     "data": {
      "text/plain": [
       "Output hidden; open in https://colab.research.google.com to view."
      ]
     },
     "metadata": {},
     "output_type": "display_data"
    }
   ],
   "source": [
    "%matplotlib inline\n",
    "import warnings\n",
    "warnings.filterwarnings(\"ignore\")\n",
    "\n",
    "import sqlite3\n",
    "import pandas as pd\n",
    "import numpy as np\n",
    "import nltk\n",
    "import string\n",
    "import matplotlib.pyplot as plt\n",
    "import seaborn as sns\n",
    "from sklearn.feature_extraction.text import TfidfTransformer\n",
    "from sklearn.feature_extraction.text import TfidfVectorizer\n",
    "from sklearn.model_selection import train_test_split\n",
    "\n",
    "\n",
    "from sklearn.feature_extraction.text import CountVectorizer\n",
    "from sklearn.metrics import confusion_matrix\n",
    "from sklearn import metrics\n",
    "from sklearn.metrics import roc_curve, auc\n",
    "from nltk.stem.porter import PorterStemmer\n",
    "\n",
    "import re\n",
    "# Tutorial about Python regular expressions: https://pymotw.com/2/re/\n",
    "import string\n",
    "from nltk.corpus import stopwords\n",
    "from nltk.stem import PorterStemmer\n",
    "from nltk.stem.wordnet import WordNetLemmatizer\n",
    "\n",
    "from gensim.models import Word2Vec\n",
    "from gensim.models import KeyedVectors\n",
    "import pickle\n",
    "\n",
    "from tqdm import tqdm\n",
    "import os\n",
    "\n",
    "\n",
    "from chart_studio.plotly import plotly # here i used char_studio.plotly as per the requirement of google colab\n",
    "import plotly.offline as offline\n",
    "import plotly.graph_objs as go\n",
    "offline.init_notebook_mode()\n",
    "from collections import Counter\n"
   ]
  },
  {
   "cell_type": "code",
   "execution_count": 0,
   "metadata": {
    "colab": {},
    "colab_type": "code",
    "id": "J-AgSlR0lwBF"
   },
   "outputs": [],
   "source": [
    "# this is a new module to be installed to get the access of files on the google drive\n",
    "#citation:https://drive.google.com/file/d/1uV_t5yVL63imwT4kBWkll5y79OX4LUER/view\n",
    "!pip install -U -q PyDrive\n",
    "from pydrive.auth import GoogleAuth\n",
    "from pydrive.drive import GoogleDrive\n",
    "from google.colab import auth\n",
    "from oauth2client.client import GoogleCredentials\n",
    "\n",
    "# here i authenticated the usage from my gmail ID\n",
    "auth.authenticate_user()\n",
    "gauth = GoogleAuth()\n",
    "gauth.credentials = GoogleCredentials.get_application_default()\n",
    "drive = GoogleDrive(gauth)\n",
    "\n",
    "\n",
    "# here i used the google drive link to upload the csv files in the google colab \n",
    "downloaded = drive.CreateFile({'id':'1ff0g7R3aYYLTR_Wm8tluPpvRjlXg0e5d'}) # replace the id with id of file you want to access\n",
    "downloaded.GetContentFile('resources.csv') \n",
    "\n",
    "\n",
    "\n",
    "# here i used the google drive link to upload the csv files in the google colab \n",
    "downloaded = drive.CreateFile({'id':'1JT9krYcVmOpW0A3qgt--MoprH-8qKoVz'}) # replace the id with id of file you want to access\n",
    "downloaded.GetContentFile('train_data.csv') \n",
    "\n",
    "# here i used the google drive link to upload the csv files in the google colab \n",
    "downloaded = drive.CreateFile({'id':'1Z6bjXmyCaoEzXYo_tRDwLTsfeA2F3K3j'}) # replace the id with id of file you want to access\n",
    "downloaded.GetContentFile('glove_vectors') \n",
    "\n",
    "\n"
   ]
  },
  {
   "cell_type": "markdown",
   "metadata": {
    "colab_type": "text",
    "id": "cFvzhg4shgV5"
   },
   "source": [
    "## 1.1 Reading Data"
   ]
  },
  {
   "cell_type": "code",
   "execution_count": 0,
   "metadata": {
    "colab": {},
    "colab_type": "code",
    "id": "Cxu7Vi0zhgV7"
   },
   "outputs": [],
   "source": [
    "project_data = pd.read_csv('train_data.csv', nrows=50000)\n",
    "resource_data = pd.read_csv('resources.csv')"
   ]
  },
  {
   "cell_type": "code",
   "execution_count": 7,
   "metadata": {
    "colab": {
     "base_uri": "https://localhost:8080/",
     "height": 153
    },
    "colab_type": "code",
    "executionInfo": {
     "elapsed": 96874,
     "status": "ok",
     "timestamp": 1583751699126,
     "user": {
      "displayName": "Hemanth Reddy",
      "photoUrl": "",
      "userId": "16713424825086946671"
     },
     "user_tz": -330
    },
    "id": "_7qX-hrphgWA",
    "outputId": "6ef7bf58-a515-48bb-9157-5484ea51f792"
   },
   "outputs": [
    {
     "name": "stdout",
     "output_type": "stream",
     "text": [
      "Number of data points in train data (50000, 17)\n",
      "--------------------------------------------------\n",
      "The attributes of data : ['Unnamed: 0' 'id' 'teacher_id' 'teacher_prefix' 'school_state'\n",
      " 'project_submitted_datetime' 'project_grade_category'\n",
      " 'project_subject_categories' 'project_subject_subcategories'\n",
      " 'project_title' 'project_essay_1' 'project_essay_2' 'project_essay_3'\n",
      " 'project_essay_4' 'project_resource_summary'\n",
      " 'teacher_number_of_previously_posted_projects' 'project_is_approved']\n"
     ]
    }
   ],
   "source": [
    "print(\"Number of data points in train data\", project_data.shape)\n",
    "print('-'*50)\n",
    "print(\"The attributes of data :\", project_data.columns.values)"
   ]
  },
  {
   "cell_type": "code",
   "execution_count": 8,
   "metadata": {
    "colab": {
     "base_uri": "https://localhost:8080/",
     "height": 250
    },
    "colab_type": "code",
    "executionInfo": {
     "elapsed": 96833,
     "status": "ok",
     "timestamp": 1583751699128,
     "user": {
      "displayName": "Hemanth Reddy",
      "photoUrl": "",
      "userId": "16713424825086946671"
     },
     "user_tz": -330
    },
    "id": "V0eJgxQLhgWF",
    "outputId": "dbc1dcbd-29be-4870-c8d7-18f55de19959"
   },
   "outputs": [
    {
     "data": {
      "text/html": [
       "<div>\n",
       "<style scoped>\n",
       "    .dataframe tbody tr th:only-of-type {\n",
       "        vertical-align: middle;\n",
       "    }\n",
       "\n",
       "    .dataframe tbody tr th {\n",
       "        vertical-align: top;\n",
       "    }\n",
       "\n",
       "    .dataframe thead th {\n",
       "        text-align: right;\n",
       "    }\n",
       "</style>\n",
       "<table border=\"1\" class=\"dataframe\">\n",
       "  <thead>\n",
       "    <tr style=\"text-align: right;\">\n",
       "      <th></th>\n",
       "      <th>Unnamed: 0</th>\n",
       "      <th>id</th>\n",
       "      <th>teacher_id</th>\n",
       "      <th>teacher_prefix</th>\n",
       "      <th>school_state</th>\n",
       "      <th>Date</th>\n",
       "      <th>project_grade_category</th>\n",
       "      <th>project_subject_categories</th>\n",
       "      <th>project_subject_subcategories</th>\n",
       "      <th>project_title</th>\n",
       "      <th>project_essay_1</th>\n",
       "      <th>project_essay_2</th>\n",
       "      <th>project_essay_3</th>\n",
       "      <th>project_essay_4</th>\n",
       "      <th>project_resource_summary</th>\n",
       "      <th>teacher_number_of_previously_posted_projects</th>\n",
       "      <th>project_is_approved</th>\n",
       "    </tr>\n",
       "  </thead>\n",
       "  <tbody>\n",
       "    <tr>\n",
       "      <th>473</th>\n",
       "      <td>100660</td>\n",
       "      <td>p234804</td>\n",
       "      <td>cbc0e38f522143b86d372f8b43d4cff3</td>\n",
       "      <td>Mrs.</td>\n",
       "      <td>GA</td>\n",
       "      <td>2016-04-27 00:53:00</td>\n",
       "      <td>Grades PreK-2</td>\n",
       "      <td>Applied Learning</td>\n",
       "      <td>Early Development</td>\n",
       "      <td>Flexible Seating for Flexible Learning</td>\n",
       "      <td>I recently read an article about giving studen...</td>\n",
       "      <td>I teach at a low-income (Title 1) school. Ever...</td>\n",
       "      <td>We need a classroom rug that we can use as a c...</td>\n",
       "      <td>Benjamin Franklin once said, \\\"Tell me and I f...</td>\n",
       "      <td>My students need flexible seating in the class...</td>\n",
       "      <td>2</td>\n",
       "      <td>1</td>\n",
       "    </tr>\n",
       "    <tr>\n",
       "      <th>41558</th>\n",
       "      <td>33679</td>\n",
       "      <td>p137682</td>\n",
       "      <td>06f6e62e17de34fcf81020c77549e1d5</td>\n",
       "      <td>Mrs.</td>\n",
       "      <td>WA</td>\n",
       "      <td>2016-04-27 01:05:25</td>\n",
       "      <td>Grades 3-5</td>\n",
       "      <td>Literacy &amp; Language</td>\n",
       "      <td>Literacy</td>\n",
       "      <td>Going Deep: The Art of Inner Thinking!</td>\n",
       "      <td>My students crave challenge, they eat obstacle...</td>\n",
       "      <td>We are an urban, public k-5 elementary school....</td>\n",
       "      <td>With the new common core standards that have b...</td>\n",
       "      <td>These remarkable gifts will provide students w...</td>\n",
       "      <td>My students need copies of the New York Times ...</td>\n",
       "      <td>2</td>\n",
       "      <td>1</td>\n",
       "    </tr>\n",
       "  </tbody>\n",
       "</table>\n",
       "</div>"
      ],
      "text/plain": [
       "       Unnamed: 0  ... project_is_approved\n",
       "473        100660  ...                   1\n",
       "41558       33679  ...                   1\n",
       "\n",
       "[2 rows x 17 columns]"
      ]
     },
     "execution_count": 8,
     "metadata": {
      "tags": []
     },
     "output_type": "execute_result"
    }
   ],
   "source": [
    "# how to replace elements in list python: https://stackoverflow.com/a/2582163/4084039\n",
    "cols = ['Date' if x=='project_submitted_datetime' else x for x in list(project_data.columns)]\n",
    "\n",
    "\n",
    "#sort dataframe based on time pandas python: https://stackoverflow.com/a/49702492/4084039\n",
    "project_data['Date'] = pd.to_datetime(project_data['project_submitted_datetime'])\n",
    "project_data.drop('project_submitted_datetime', axis=1, inplace=True)\n",
    "project_data.sort_values(by=['Date'], inplace=True)\n",
    "\n",
    "\n",
    "# how to reorder columns pandas python: https://stackoverflow.com/a/13148611/4084039\n",
    "project_data = project_data[cols]\n",
    "\n",
    "\n",
    "project_data.head(2)"
   ]
  },
  {
   "cell_type": "code",
   "execution_count": 9,
   "metadata": {
    "colab": {
     "base_uri": "https://localhost:8080/",
     "height": 34
    },
    "colab_type": "code",
    "executionInfo": {
     "elapsed": 96784,
     "status": "ok",
     "timestamp": 1583751699129,
     "user": {
      "displayName": "Hemanth Reddy",
      "photoUrl": "",
      "userId": "16713424825086946671"
     },
     "user_tz": -330
    },
    "id": "TiYcYGJ51YmS",
    "outputId": "4946551a-1c65-48a1-e707-98588ef34b0b"
   },
   "outputs": [
    {
     "data": {
      "text/plain": [
       "(50000, 16)"
      ]
     },
     "execution_count": 9,
     "metadata": {
      "tags": []
     },
     "output_type": "execute_result"
    }
   ],
   "source": [
    "y = project_data['project_is_approved'].values\n",
    "X = project_data.drop(['project_is_approved'], axis=1)\n",
    "X.shape"
   ]
  },
  {
   "cell_type": "code",
   "execution_count": 10,
   "metadata": {
    "colab": {
     "base_uri": "https://localhost:8080/",
     "height": 145
    },
    "colab_type": "code",
    "executionInfo": {
     "elapsed": 96737,
     "status": "ok",
     "timestamp": 1583751699130,
     "user": {
      "displayName": "Hemanth Reddy",
      "photoUrl": "",
      "userId": "16713424825086946671"
     },
     "user_tz": -330
    },
    "id": "3u5Z3vd0hgWK",
    "outputId": "31dfe777-0b69-427e-e9d0-65f24c2d223f"
   },
   "outputs": [
    {
     "name": "stdout",
     "output_type": "stream",
     "text": [
      "Number of data points in train data (1541272, 4)\n",
      "['id' 'description' 'quantity' 'price']\n"
     ]
    },
    {
     "data": {
      "text/html": [
       "<div>\n",
       "<style scoped>\n",
       "    .dataframe tbody tr th:only-of-type {\n",
       "        vertical-align: middle;\n",
       "    }\n",
       "\n",
       "    .dataframe tbody tr th {\n",
       "        vertical-align: top;\n",
       "    }\n",
       "\n",
       "    .dataframe thead th {\n",
       "        text-align: right;\n",
       "    }\n",
       "</style>\n",
       "<table border=\"1\" class=\"dataframe\">\n",
       "  <thead>\n",
       "    <tr style=\"text-align: right;\">\n",
       "      <th></th>\n",
       "      <th>id</th>\n",
       "      <th>description</th>\n",
       "      <th>quantity</th>\n",
       "      <th>price</th>\n",
       "    </tr>\n",
       "  </thead>\n",
       "  <tbody>\n",
       "    <tr>\n",
       "      <th>0</th>\n",
       "      <td>p233245</td>\n",
       "      <td>LC652 - Lakeshore Double-Space Mobile Drying Rack</td>\n",
       "      <td>1</td>\n",
       "      <td>149.00</td>\n",
       "    </tr>\n",
       "    <tr>\n",
       "      <th>1</th>\n",
       "      <td>p069063</td>\n",
       "      <td>Bouncy Bands for Desks (Blue support pipes)</td>\n",
       "      <td>3</td>\n",
       "      <td>14.95</td>\n",
       "    </tr>\n",
       "  </tbody>\n",
       "</table>\n",
       "</div>"
      ],
      "text/plain": [
       "        id                                        description  quantity   price\n",
       "0  p233245  LC652 - Lakeshore Double-Space Mobile Drying Rack         1  149.00\n",
       "1  p069063        Bouncy Bands for Desks (Blue support pipes)         3   14.95"
      ]
     },
     "execution_count": 10,
     "metadata": {
      "tags": []
     },
     "output_type": "execute_result"
    }
   ],
   "source": [
    "print(\"Number of data points in train data\", resource_data.shape)\n",
    "print(resource_data.columns.values)\n",
    "resource_data.head(2)"
   ]
  },
  {
   "cell_type": "markdown",
   "metadata": {
    "colab_type": "text",
    "id": "lPdlLAs4hgWP"
   },
   "source": [
    "## 1.2 preprocessing of `project_subject_categories`"
   ]
  },
  {
   "cell_type": "code",
   "execution_count": 0,
   "metadata": {
    "colab": {},
    "colab_type": "code",
    "id": "MPOOuXN4hgWQ"
   },
   "outputs": [],
   "source": [
    "catogories = list(project_data['project_subject_categories'].values)\n",
    "# remove special characters from list of strings python: https://stackoverflow.com/a/47301924/4084039\n",
    "\n",
    "# https://www.geeksforgeeks.org/removing-stop-words-nltk-python/\n",
    "# https://stackoverflow.com/questions/23669024/how-to-strip-a-specific-word-from-a-string\n",
    "# https://stackoverflow.com/questions/8270092/remove-all-whitespace-in-a-string-in-python\n",
    "cat_list = []\n",
    "for i in catogories:\n",
    "    temp = \"\"\n",
    "    # consider we have text like this \"Math & Science, Warmth, Care & Hunger\"\n",
    "    for j in i.split(','): # it will split it in three parts [\"Math & Science\", \"Warmth\", \"Care & Hunger\"]\n",
    "        if 'The' in j.split(): # this will split each of the catogory based on space \"Math & Science\"=> \"Math\",\"&\", \"Science\"\n",
    "            j=j.replace('The','') # if we have the words \"The\" we are going to replace it with ''(i.e removing 'The')\n",
    "        j = j.replace(' ','') # we are placeing all the ' '(space) with ''(empty) ex:\"Math & Science\"=>\"Math&Science\"\n",
    "        temp+=j.strip()+\" \" #\" abc \".strip() will return \"abc\", remove the trailing spaces\n",
    "        temp = temp.replace('&','_') # we are replacing the & value into \n",
    "    cat_list.append(temp.strip())\n",
    "    \n",
    "project_data['clean_categories'] = cat_list\n",
    "project_data.drop(['project_subject_categories'], axis=1, inplace=True)\n",
    "\n",
    "from collections import Counter\n",
    "my_counter = Counter()\n",
    "for word in project_data['clean_categories'].values:\n",
    "    my_counter.update(word.split())\n",
    "\n",
    "cat_dict = dict(my_counter)\n",
    "sorted_cat_dict = dict(sorted(cat_dict.items(), key=lambda kv: kv[1]))"
   ]
  },
  {
   "cell_type": "code",
   "execution_count": 12,
   "metadata": {
    "colab": {
     "base_uri": "https://localhost:8080/",
     "height": 34
    },
    "colab_type": "code",
    "executionInfo": {
     "elapsed": 97158,
     "status": "ok",
     "timestamp": 1583751699620,
     "user": {
      "displayName": "Hemanth Reddy",
      "photoUrl": "",
      "userId": "16713424825086946671"
     },
     "user_tz": -330
    },
    "id": "obbetGWckJnf",
    "outputId": "ecfe029c-9822-488a-f998-7d70231af31b"
   },
   "outputs": [
    {
     "data": {
      "text/plain": [
       "dict_values([643, 643, 2689, 4699, 5569, 6233, 6538, 18874, 23998])"
      ]
     },
     "execution_count": 12,
     "metadata": {
      "tags": []
     },
     "output_type": "execute_result"
    }
   ],
   "source": [
    "sorted_cat_dict.values()"
   ]
  },
  {
   "cell_type": "markdown",
   "metadata": {
    "colab_type": "text",
    "id": "_yBeWN5lhgWV"
   },
   "source": [
    "## 1.3 preprocessing of `project_subject_subcategories`"
   ]
  },
  {
   "cell_type": "code",
   "execution_count": 0,
   "metadata": {
    "colab": {},
    "colab_type": "code",
    "id": "k8yyBR74hgWX"
   },
   "outputs": [],
   "source": [
    "\n",
    "sub_catogories = list(project_data['project_subject_subcategories'].values)\n",
    "# remove special characters from list of strings python: https://stackoverflow.com/a/47301924/4084039\n",
    "\n",
    "# https://www.geeksforgeeks.org/removing-stop-words-nltk-python/\n",
    "# https://stackoverflow.com/questions/23669024/how-to-strip-a-specific-word-from-a-string\n",
    "# https://stackoverflow.com/questions/8270092/remove-all-whitespace-in-a-string-in-python\n",
    "\n",
    "sub_cat_list = []\n",
    "for i in sub_catogories:\n",
    "    temp = \"\"\n",
    "    # consider we have text like this \"Math & Science, Warmth, Care & Hunger\"\n",
    "    for j in i.split(','): # it will split it in three parts [\"Math & Science\", \"Warmth\", \"Care & Hunger\"]\n",
    "        if 'The' in j.split(): # this will split each of the catogory based on space \"Math & Science\"=> \"Math\",\"&\", \"Science\"\n",
    "            j=j.replace('The','') # if we have the words \"The\" we are going to replace it with ''(i.e removing 'The')\n",
    "        j = j.replace(' ','') # we are placeing all the ' '(space) with ''(empty) ex:\"Math & Science\"=>\"Math&Science\"\n",
    "        temp +=j.strip()+\" \"#\" abc \".strip() will return \"abc\", remove the trailing spaces\n",
    "        temp = temp.replace('&','_')\n",
    "    sub_cat_list.append(temp.strip())\n",
    "\n",
    "project_data['clean_subcategories'] = sub_cat_list\n",
    "project_data.drop(['project_subject_subcategories'], axis=1, inplace=True)\n",
    "\n",
    "# count of all the words in corpus python: https://stackoverflow.com/a/22898595/4084039\n",
    "my_counter = Counter()\n",
    "for word in project_data['clean_subcategories'].values:\n",
    "    my_counter.update(word.split())\n",
    "    \n",
    "sub_cat_dict = dict(my_counter)\n",
    "sorted_sub_cat_dict = dict(sorted(sub_cat_dict.items(), key=lambda kv: kv[1]))"
   ]
  },
  {
   "cell_type": "code",
   "execution_count": 14,
   "metadata": {
    "colab": {
     "base_uri": "https://localhost:8080/",
     "height": 221
    },
    "colab_type": "code",
    "executionInfo": {
     "elapsed": 97664,
     "status": "ok",
     "timestamp": 1583751700211,
     "user": {
      "displayName": "Hemanth Reddy",
      "photoUrl": "",
      "userId": "16713424825086946671"
     },
     "user_tz": -330
    },
    "id": "WhC3kg6a0bWn",
    "outputId": "1964251d-29e2-4546-e015-5128e17002fe"
   },
   "outputs": [
    {
     "data": {
      "text/plain": [
       "473                          EarlyDevelopment\n",
       "41558                                Literacy\n",
       "29891              Mathematics SocialSciences\n",
       "23374                            ESL Literacy\n",
       "49228                                Literacy\n",
       "                         ...                 \n",
       "11368                             Mathematics\n",
       "32881                        Music VisualArts\n",
       "27376                      Literature_Writing\n",
       "14678                  EarlyDevelopment Other\n",
       "39096    AppliedSciences EnvironmentalScience\n",
       "Name: clean_subcategories, Length: 50000, dtype: object"
      ]
     },
     "execution_count": 14,
     "metadata": {
      "tags": []
     },
     "output_type": "execute_result"
    }
   ],
   "source": [
    "project_data['clean_subcategories']"
   ]
  },
  {
   "cell_type": "markdown",
   "metadata": {
    "colab_type": "text",
    "id": "SjXEgP7HhgWd"
   },
   "source": [
    "## 1.3 Text preprocessing"
   ]
  },
  {
   "cell_type": "code",
   "execution_count": 0,
   "metadata": {
    "colab": {},
    "colab_type": "code",
    "id": "bURULaC0hgWf"
   },
   "outputs": [],
   "source": [
    "# merge two column text dataframe: here we have merged all the essays which are individual into just one column called \"essay\"\n",
    "project_data[\"essay\"] = project_data[\"project_essay_1\"].map(str) +\\\n",
    "                        project_data[\"project_essay_2\"].map(str) + \\\n",
    "                        project_data[\"project_essay_3\"].map(str) + \\\n",
    "                        project_data[\"project_essay_4\"].map(str)\n",
    "                        "
   ]
  },
  {
   "cell_type": "code",
   "execution_count": 16,
   "metadata": {
    "colab": {
     "base_uri": "https://localhost:8080/",
     "height": 219
    },
    "colab_type": "code",
    "executionInfo": {
     "elapsed": 97585,
     "status": "ok",
     "timestamp": 1583751700214,
     "user": {
      "displayName": "Hemanth Reddy",
      "photoUrl": "",
      "userId": "16713424825086946671"
     },
     "user_tz": -330
    },
    "id": "4w7j3-WUhgWm",
    "outputId": "01f2872d-43a5-4c7d-bcad-b8ad79b32a43"
   },
   "outputs": [
    {
     "data": {
      "text/html": [
       "<div>\n",
       "<style scoped>\n",
       "    .dataframe tbody tr th:only-of-type {\n",
       "        vertical-align: middle;\n",
       "    }\n",
       "\n",
       "    .dataframe tbody tr th {\n",
       "        vertical-align: top;\n",
       "    }\n",
       "\n",
       "    .dataframe thead th {\n",
       "        text-align: right;\n",
       "    }\n",
       "</style>\n",
       "<table border=\"1\" class=\"dataframe\">\n",
       "  <thead>\n",
       "    <tr style=\"text-align: right;\">\n",
       "      <th></th>\n",
       "      <th>Unnamed: 0</th>\n",
       "      <th>id</th>\n",
       "      <th>teacher_id</th>\n",
       "      <th>teacher_prefix</th>\n",
       "      <th>school_state</th>\n",
       "      <th>Date</th>\n",
       "      <th>project_grade_category</th>\n",
       "      <th>project_title</th>\n",
       "      <th>project_essay_1</th>\n",
       "      <th>project_essay_2</th>\n",
       "      <th>project_essay_3</th>\n",
       "      <th>project_essay_4</th>\n",
       "      <th>project_resource_summary</th>\n",
       "      <th>teacher_number_of_previously_posted_projects</th>\n",
       "      <th>project_is_approved</th>\n",
       "      <th>clean_categories</th>\n",
       "      <th>clean_subcategories</th>\n",
       "      <th>essay</th>\n",
       "    </tr>\n",
       "  </thead>\n",
       "  <tbody>\n",
       "    <tr>\n",
       "      <th>473</th>\n",
       "      <td>100660</td>\n",
       "      <td>p234804</td>\n",
       "      <td>cbc0e38f522143b86d372f8b43d4cff3</td>\n",
       "      <td>Mrs.</td>\n",
       "      <td>GA</td>\n",
       "      <td>2016-04-27 00:53:00</td>\n",
       "      <td>Grades PreK-2</td>\n",
       "      <td>Flexible Seating for Flexible Learning</td>\n",
       "      <td>I recently read an article about giving studen...</td>\n",
       "      <td>I teach at a low-income (Title 1) school. Ever...</td>\n",
       "      <td>We need a classroom rug that we can use as a c...</td>\n",
       "      <td>Benjamin Franklin once said, \\\"Tell me and I f...</td>\n",
       "      <td>My students need flexible seating in the class...</td>\n",
       "      <td>2</td>\n",
       "      <td>1</td>\n",
       "      <td>AppliedLearning</td>\n",
       "      <td>EarlyDevelopment</td>\n",
       "      <td>I recently read an article about giving studen...</td>\n",
       "    </tr>\n",
       "  </tbody>\n",
       "</table>\n",
       "</div>"
      ],
      "text/plain": [
       "     Unnamed: 0  ...                                              essay\n",
       "473      100660  ...  I recently read an article about giving studen...\n",
       "\n",
       "[1 rows x 18 columns]"
      ]
     },
     "execution_count": 16,
     "metadata": {
      "tags": []
     },
     "output_type": "execute_result"
    }
   ],
   "source": [
    "project_data.head(1)"
   ]
  },
  {
   "cell_type": "code",
   "execution_count": 0,
   "metadata": {
    "colab": {},
    "colab_type": "code",
    "id": "FskARBpMhgWs"
   },
   "outputs": [],
   "source": [
    "#### 1.4.2.3 Using Pretrained Models: TFIDF weighted W2V"
   ]
  },
  {
   "cell_type": "code",
   "execution_count": 18,
   "metadata": {
    "colab": {
     "base_uri": "https://localhost:8080/",
     "height": 207
    },
    "colab_type": "code",
    "executionInfo": {
     "elapsed": 97517,
     "status": "ok",
     "timestamp": 1583751700218,
     "user": {
      "displayName": "Hemanth Reddy",
      "photoUrl": "",
      "userId": "16713424825086946671"
     },
     "user_tz": -330
    },
    "id": "7JuKuHB6hgW1",
    "outputId": "33d7c1f2-98c9-4202-fa37-498c500c4eef"
   },
   "outputs": [
    {
     "name": "stdout",
     "output_type": "stream",
     "text": [
      "I recently read an article about giving students a choice about how they learn. We already set goals; why not let them choose where to sit, and give them options of what to sit on?I teach at a low-income (Title 1) school. Every year, I have a class with a range of abilities, yet they are all the same age. They learn differently, and they have different interests. Some have ADHD, and some are fast learners. Yet they are eager and active learners that want and need to be able to move around the room, yet have a place that they can be comfortable to complete their work.We need a classroom rug that we can use as a class for reading time, and students can use during other learning times. I have also requested four Kore Kids wobble chairs and four Back Jack padded portable chairs so that students can still move during whole group lessons without disrupting the class. Having these areas will provide these little ones with a way to wiggle while working.Benjamin Franklin once said, \\\"Tell me and I forget, teach me and I may remember, involve me and I learn.\\\" I want these children to be involved in their learning by having a choice on where to sit and how to learn, all by giving them options for comfortable flexible seating.\n",
      "==================================================\n",
      "At the beginning of every class we start out with a Math Application problem to help students see the relevance of topics in math. We are always in groups and do a lot of cooperative activities. We also use lots of technology in our class. I love seeing my students grow and love math!I have a very diverse population of students from all different races, SES, and experiences. My students love school and are starting to embrace the hard work it takes to be a fifth grader.  My school is a 5th/6th grade school only and is considered a school for the middle grades. It is located in a suburban area. It is now more diverse than it has been in many years.I am in an inclusion setting and many of my students have disabilities. It is hard for them to see the board because our resources are old and outdated.  A new document camera for our classroom will allow our students to see the board more clearly during instructional times and will create a classroom environment where lots of movement isn't necessary just because my students cannot see the board.It's frustrating to teach a lesson when many of my students can't see the board because the resources I have are old and outdated. Oftentimes students will tell me to wait before moving on because it takes them forever to write notes because they cannot see the materials.  I want students to enjoy coming to my class to learn math and not feel frustrated because they cannot see the board.\n",
      "==================================================\n",
      "My students love coming to school and they love learning. I strive daily to make our classroom a relaxed, comfortable and welcoming environment where all learners will excel and grow in their learning. And a new rug will make our days even brighter!My 2nd grade classroom is filled with 20 amazing young learners. These students fill my heart everyday with their passion for learning new things. Working with these students and how engaged they are in each subject matter is so much fun. We are small elementary school in mid-Missouri and we have an 80 percent free and reduced lunch rate. I have a wide range of learners in my classroom, and all of my students learn in different ways. So it is important to provide a learning environment that meets all students.A beautiful new carpet will be the focal point of our classroom. The carpet will be full of students all day long. It will be a clean and comfortable place where my students will find comfort in learning. Students will be sitting in small groups, laying and reading a book or even dancing on the carpet for brain breaks during the day. A carpet in an elementary classroom is the heart of where learning takes place!Thank you for donating or considering a donation to this project. I want to make my 2nd grade classroom as comfortable and inviting as Starbucks or as cozy as a grandma's living room! This beautiful carpet will be a perfect addition to a classroom the is filled with so much excitement and enthusiasm!\n",
      "==================================================\n",
      "I teach at a Title 1 school, with 73% of my students who receive free/reduced lunch. Our school provides free breakfast for all students. I am a Special Education certified teacher and I teach Kindergarten in a general education setting with my class that consists 52% students with special needs. The disabilities include Autism Spectrum Disorder, Speech Impaired, Language Impaired, Other Health Impaired (ADHD), and Developmentally Delayed. I also have about 42% of my students who are English Language Learners.\\r\\n\\r\\n\\\"Self-motivated learners\\\" is a synonym of \\\"my students\\\".  They love to learn and they possess a positive outlook and attitude in school. Almost everyday, my students would ask me, \\\"Ms. Perez, what are we going to learn today?\\\" I could not ask for a better greeting from my students.This project will greatly impact my students’ learning on a daily basis. The wobble chairs will provide assistance for my students who have difficulties focusing and attending during lessons and discussions. Despite the fact that students participate in physical activities in P.E., Recess, and GoNoodle (dance videos) sessions in our classroom, students still have energy to stand or wiggle from their seats during lessons. Due to these special needs that are beyond the students’ control, there is a lot of distraction and student learning is not really achieved at its full potential. The lack of appropriate stimulation hinders them to focus and learn in class. Students with special needs will be able to sit on the wobble chairs during whole group/small group lessons. This will enable their little active bodies to move while “sitting still” without disrupting other students. As a result, all students will improve focus and increase student attention in learning all content areas. In addition, the visual timer will help my students to actually see the allotted time for activities. This will benefit especially ELL students and students with special needs. Whenever we do independent classwork or work in our centers, the students can refer to it and self-monitor their progress in completing assignments. It will encourage them to use their time wisely and finish tasks on time. It will also help the students have a smoother transition from one activity to another. \\r\\nBy donating to this project, you will significantly help students with special needs have an equal opportunity to learn with their peers. Behavior issues will be greatly minimized and classroom management will be optimized. Help me set all students for success! I am looking forward to seeing my students become active listeners and engaged learners, and always happy to go to school!\\r\\nnannan\n",
      "==================================================\n",
      "We are a Title 1 school  650 total students. Our Elementary school students are from third to fifth grade and are just now beginning formal training in technology and computing.\\r\\n\\r\\nMany of theses children come from rural and farm backgrounds and have seen agriculture in action all of their lives, but few connect agriculture with sustainability. \\r\\n\\r\\nIn our Elementary School, our students have access to a single computer and technology laboratory. All 650+ students rotate through the lab to learn science, mathematics, computer programming, web design, reading, and computer processing using computers.\\r\\n\\r\\nOur students rely on computing and technology, but only currently have access to Chromebooks due to state budget issues. Students would greatly benefit from more current computers that they could use to access programs and activities, such as: Google Earth, geographic information systems software, and software that could be used to teach the relationship between agriculture and sustainability.\\r\\nThese computers will populate the computer lab which currently has no computers at all.  The old systems were over 11 years old and had to be removed because of network safety issues and they could no longer be updated or repaired.  \\r\\nWe would like to teach these children about taking responsibility for our environment early in life.  There are several very effective ways to do that.  Three of which are computer video games: Blockhood is a game where the students are building their homes in a responsible way.  It teaches that you must take into account resources such as water, land and energy.  Also Cityrain teaches about building sustainable cities. Lastly stopdisasters.org teaches about planning and anticipated potential disasters and building accordingly.nannan\n",
      "==================================================\n"
     ]
    }
   ],
   "source": [
    "# printing some random reviews\n",
    "print(project_data['essay'].values[0])\n",
    "print(\"=\"*50)\n",
    "print(project_data['essay'].values[150])\n",
    "print(\"=\"*50)\n",
    "print(project_data['essay'].values[1000])\n",
    "print(\"=\"*50)\n",
    "print(project_data['essay'].values[20000])\n",
    "print(\"=\"*50)\n",
    "print(project_data['essay'].values[49999])\n",
    "print(\"=\"*50)"
   ]
  },
  {
   "cell_type": "code",
   "execution_count": 0,
   "metadata": {
    "colab": {},
    "colab_type": "code",
    "id": "1LEazPI7hgW6"
   },
   "outputs": [],
   "source": [
    "# https://stackoverflow.com/a/47091490/4084039\n",
    "import re\n",
    "\n",
    "def decontracted(phrase):\n",
    "    # specific\n",
    "    phrase = re.sub(r\"won't\", \"will not\", phrase)\n",
    "    phrase = re.sub(r\"can\\'t\", \"can not\", phrase)\n",
    "\n",
    "    # general\n",
    "    phrase = re.sub(r\"n\\'t\", \" not\", phrase)\n",
    "    phrase = re.sub(r\"\\'re\", \" are\", phrase)\n",
    "    phrase = re.sub(r\"\\'s\", \" is\", phrase)\n",
    "    phrase = re.sub(r\"\\'d\", \" would\", phrase)\n",
    "    phrase = re.sub(r\"\\'ll\", \" will\", phrase)\n",
    "    phrase = re.sub(r\"\\'t\", \" not\", phrase)\n",
    "    phrase = re.sub(r\"\\'ve\", \" have\", phrase)\n",
    "    phrase = re.sub(r\"\\'m\", \" am\", phrase)\n",
    "    return phrase"
   ]
  },
  {
   "cell_type": "code",
   "execution_count": 20,
   "metadata": {
    "colab": {
     "base_uri": "https://localhost:8080/",
     "height": 71
    },
    "colab_type": "code",
    "executionInfo": {
     "elapsed": 97905,
     "status": "ok",
     "timestamp": 1583751700667,
     "user": {
      "displayName": "Hemanth Reddy",
      "photoUrl": "",
      "userId": "16713424825086946671"
     },
     "user_tz": -330
    },
    "id": "UNGLPMNehgW_",
    "outputId": "684c50dc-dc29-4a27-c7d6-e7055309fe8f"
   },
   "outputs": [
    {
     "name": "stdout",
     "output_type": "stream",
     "text": [
      "I teach at a Title 1 school, with 73% of my students who receive free/reduced lunch. Our school provides free breakfast for all students. I am a Special Education certified teacher and I teach Kindergarten in a general education setting with my class that consists 52% students with special needs. The disabilities include Autism Spectrum Disorder, Speech Impaired, Language Impaired, Other Health Impaired (ADHD), and Developmentally Delayed. I also have about 42% of my students who are English Language Learners.\\r\\n\\r\\n\\\"Self-motivated learners\\\" is a synonym of \\\"my students\\\".  They love to learn and they possess a positive outlook and attitude in school. Almost everyday, my students would ask me, \\\"Ms. Perez, what are we going to learn today?\\\" I could not ask for a better greeting from my students.This project will greatly impact my students’ learning on a daily basis. The wobble chairs will provide assistance for my students who have difficulties focusing and attending during lessons and discussions. Despite the fact that students participate in physical activities in P.E., Recess, and GoNoodle (dance videos) sessions in our classroom, students still have energy to stand or wiggle from their seats during lessons. Due to these special needs that are beyond the students’ control, there is a lot of distraction and student learning is not really achieved at its full potential. The lack of appropriate stimulation hinders them to focus and learn in class. Students with special needs will be able to sit on the wobble chairs during whole group/small group lessons. This will enable their little active bodies to move while “sitting still” without disrupting other students. As a result, all students will improve focus and increase student attention in learning all content areas. In addition, the visual timer will help my students to actually see the allotted time for activities. This will benefit especially ELL students and students with special needs. Whenever we do independent classwork or work in our centers, the students can refer to it and self-monitor their progress in completing assignments. It will encourage them to use their time wisely and finish tasks on time. It will also help the students have a smoother transition from one activity to another. \\r\\nBy donating to this project, you will significantly help students with special needs have an equal opportunity to learn with their peers. Behavior issues will be greatly minimized and classroom management will be optimized. Help me set all students for success! I am looking forward to seeing my students become active listeners and engaged learners, and always happy to go to school!\\r\\nnannan\n",
      "==================================================\n"
     ]
    }
   ],
   "source": [
    "sent = decontracted(project_data['essay'].values[20000])\n",
    "print(sent)\n",
    "print(\"=\"*50)"
   ]
  },
  {
   "cell_type": "code",
   "execution_count": 21,
   "metadata": {
    "colab": {
     "base_uri": "https://localhost:8080/",
     "height": 54
    },
    "colab_type": "code",
    "executionInfo": {
     "elapsed": 97834,
     "status": "ok",
     "timestamp": 1583751700670,
     "user": {
      "displayName": "Hemanth Reddy",
      "photoUrl": "",
      "userId": "16713424825086946671"
     },
     "user_tz": -330
    },
    "id": "pqZHObeUhgXG",
    "outputId": "ebe0f37e-8421-4848-f35c-040e175e6c88"
   },
   "outputs": [
    {
     "name": "stdout",
     "output_type": "stream",
     "text": [
      "I teach at a Title 1 school, with 73% of my students who receive free/reduced lunch. Our school provides free breakfast for all students. I am a Special Education certified teacher and I teach Kindergarten in a general education setting with my class that consists 52% students with special needs. The disabilities include Autism Spectrum Disorder, Speech Impaired, Language Impaired, Other Health Impaired (ADHD), and Developmentally Delayed. I also have about 42% of my students who are English Language Learners.     Self-motivated learners  is a synonym of  my students .  They love to learn and they possess a positive outlook and attitude in school. Almost everyday, my students would ask me,  Ms. Perez, what are we going to learn today?  I could not ask for a better greeting from my students.This project will greatly impact my students’ learning on a daily basis. The wobble chairs will provide assistance for my students who have difficulties focusing and attending during lessons and discussions. Despite the fact that students participate in physical activities in P.E., Recess, and GoNoodle (dance videos) sessions in our classroom, students still have energy to stand or wiggle from their seats during lessons. Due to these special needs that are beyond the students’ control, there is a lot of distraction and student learning is not really achieved at its full potential. The lack of appropriate stimulation hinders them to focus and learn in class. Students with special needs will be able to sit on the wobble chairs during whole group/small group lessons. This will enable their little active bodies to move while “sitting still” without disrupting other students. As a result, all students will improve focus and increase student attention in learning all content areas. In addition, the visual timer will help my students to actually see the allotted time for activities. This will benefit especially ELL students and students with special needs. Whenever we do independent classwork or work in our centers, the students can refer to it and self-monitor their progress in completing assignments. It will encourage them to use their time wisely and finish tasks on time. It will also help the students have a smoother transition from one activity to another.   By donating to this project, you will significantly help students with special needs have an equal opportunity to learn with their peers. Behavior issues will be greatly minimized and classroom management will be optimized. Help me set all students for success! I am looking forward to seeing my students become active listeners and engaged learners, and always happy to go to school!  nannan\n"
     ]
    }
   ],
   "source": [
    "# \\r \\n \\t remove from string python: http://texthandler.com/info/remove-line-breaks-python/\n",
    "sent = sent.replace('\\\\r', ' ')\n",
    "sent = sent.replace('\\\\\"', ' ')\n",
    "sent = sent.replace('\\\\n', ' ')\n",
    "print(sent)"
   ]
  },
  {
   "cell_type": "code",
   "execution_count": 22,
   "metadata": {
    "colab": {
     "base_uri": "https://localhost:8080/",
     "height": 54
    },
    "colab_type": "code",
    "executionInfo": {
     "elapsed": 97783,
     "status": "ok",
     "timestamp": 1583751700672,
     "user": {
      "displayName": "Hemanth Reddy",
      "photoUrl": "",
      "userId": "16713424825086946671"
     },
     "user_tz": -330
    },
    "id": "FK8CggX6hgXN",
    "outputId": "2bee6a58-e368-4356-dbba-a020d21bf149"
   },
   "outputs": [
    {
     "name": "stdout",
     "output_type": "stream",
     "text": [
      "I teach at a Title 1 school with 73 of my students who receive free reduced lunch Our school provides free breakfast for all students I am a Special Education certified teacher and I teach Kindergarten in a general education setting with my class that consists 52 students with special needs The disabilities include Autism Spectrum Disorder Speech Impaired Language Impaired Other Health Impaired ADHD and Developmentally Delayed I also have about 42 of my students who are English Language Learners Self motivated learners is a synonym of my students They love to learn and they possess a positive outlook and attitude in school Almost everyday my students would ask me Ms Perez what are we going to learn today I could not ask for a better greeting from my students This project will greatly impact my students learning on a daily basis The wobble chairs will provide assistance for my students who have difficulties focusing and attending during lessons and discussions Despite the fact that students participate in physical activities in P E Recess and GoNoodle dance videos sessions in our classroom students still have energy to stand or wiggle from their seats during lessons Due to these special needs that are beyond the students control there is a lot of distraction and student learning is not really achieved at its full potential The lack of appropriate stimulation hinders them to focus and learn in class Students with special needs will be able to sit on the wobble chairs during whole group small group lessons This will enable their little active bodies to move while sitting still without disrupting other students As a result all students will improve focus and increase student attention in learning all content areas In addition the visual timer will help my students to actually see the allotted time for activities This will benefit especially ELL students and students with special needs Whenever we do independent classwork or work in our centers the students can refer to it and self monitor their progress in completing assignments It will encourage them to use their time wisely and finish tasks on time It will also help the students have a smoother transition from one activity to another By donating to this project you will significantly help students with special needs have an equal opportunity to learn with their peers Behavior issues will be greatly minimized and classroom management will be optimized Help me set all students for success I am looking forward to seeing my students become active listeners and engaged learners and always happy to go to school nannan\n"
     ]
    }
   ],
   "source": [
    "#remove spacial character: https://stackoverflow.com/a/5843547/4084039\n",
    "sent = re.sub('[^A-Za-z0-9]+', ' ', sent)\n",
    "print(sent)"
   ]
  },
  {
   "cell_type": "code",
   "execution_count": 23,
   "metadata": {
    "colab": {
     "base_uri": "https://localhost:8080/",
     "height": 34
    },
    "colab_type": "code",
    "executionInfo": {
     "elapsed": 97723,
     "status": "ok",
     "timestamp": 1583751700675,
     "user": {
      "displayName": "Hemanth Reddy",
      "photoUrl": "",
      "userId": "16713424825086946671"
     },
     "user_tz": -330
    },
    "id": "3sjrM1eN3ku8",
    "outputId": "fcca1ed9-483b-46d3-ef85-074154ff74b7"
   },
   "outputs": [
    {
     "data": {
      "text/plain": [
       "(50000, 18)"
      ]
     },
     "execution_count": 23,
     "metadata": {
      "tags": []
     },
     "output_type": "execute_result"
    }
   ],
   "source": [
    "project_data.shape"
   ]
  },
  {
   "cell_type": "code",
   "execution_count": 0,
   "metadata": {
    "colab": {},
    "colab_type": "code",
    "id": "gIfb6uk5hgXS"
   },
   "outputs": [],
   "source": [
    "# https://gist.github.com/sebleier/554280\n",
    "# we are removing the words from the stop words list: 'no', 'nor', 'not'\n",
    "stopwords= ['i', 'me', 'my', 'myself', 'we', 'our', 'ours', 'ourselves', 'you', \"you're\", \"you've\",\\\n",
    "            \"you'll\", \"you'd\", 'your', 'yours', 'yourself', 'yourselves', 'he', 'him', 'his', 'himself', \\\n",
    "            'she', \"she's\", 'her', 'hers', 'herself', 'it', \"it's\", 'its', 'itself', 'they', 'them', 'their',\\\n",
    "            'theirs', 'themselves', 'what', 'which', 'who', 'whom', 'this', 'that', \"that'll\", 'these', 'those', \\\n",
    "            'am', 'is', 'are', 'was', 'were', 'be', 'been', 'being', 'have', 'has', 'had', 'having', 'do', 'does', \\\n",
    "            'did', 'doing', 'a', 'an', 'the', 'and', 'but', 'if', 'or', 'because', 'as', 'until', 'while', 'of', \\\n",
    "            'at', 'by', 'for', 'with', 'about', 'against', 'between', 'into', 'through', 'during', 'before', 'after',\\\n",
    "            'above', 'below', 'to', 'from', 'up', 'down', 'in', 'out', 'on', 'off', 'over', 'under', 'again', 'further',\\\n",
    "            'then', 'once', 'here', 'there', 'when', 'where', 'why', 'how', 'all', 'any', 'both', 'each', 'few', 'more',\\\n",
    "            'most', 'other', 'some', 'such', 'only', 'own', 'same', 'so', 'than', 'too', 'very', \\\n",
    "            's', 't', 'can', 'will', 'just', 'don', \"don't\", 'should', \"should've\", 'now', 'd', 'll', 'm', 'o', 're', \\\n",
    "            've', 'y', 'ain', 'aren', \"aren't\", 'couldn', \"couldn't\", 'didn', \"didn't\", 'doesn', \"doesn't\", 'hadn',\\\n",
    "            \"hadn't\", 'hasn', \"hasn't\", 'haven', \"haven't\", 'isn', \"isn't\", 'ma', 'mightn', \"mightn't\", 'mustn',\\\n",
    "            \"mustn't\", 'needn', \"needn't\", 'shan', \"shan't\", 'shouldn', \"shouldn't\", 'wasn', \"wasn't\", 'weren', \"weren't\", \\\n",
    "            'won', \"won't\", 'wouldn', \"wouldn't\"]"
   ]
  },
  {
   "cell_type": "code",
   "execution_count": 25,
   "metadata": {
    "colab": {
     "base_uri": "https://localhost:8080/",
     "height": 34
    },
    "colab_type": "code",
    "executionInfo": {
     "elapsed": 125619,
     "status": "ok",
     "timestamp": 1583751728644,
     "user": {
      "displayName": "Hemanth Reddy",
      "photoUrl": "",
      "userId": "16713424825086946671"
     },
     "user_tz": -330
    },
    "id": "Nf6_TQExhgXX",
    "outputId": "2790c346-53a2-4611-a9cc-7020458b50fe"
   },
   "outputs": [
    {
     "name": "stderr",
     "output_type": "stream",
     "text": [
      "100%|██████████| 50000/50000 [00:28<00:00, 1770.31it/s]\n"
     ]
    }
   ],
   "source": [
    "# Combining all the above stundents \n",
    "from tqdm import tqdm\n",
    "preprocessed_essays = []\n",
    "# tqdm is for printing the status bar\n",
    "for sentance in tqdm(project_data['essay'].values):\n",
    "    sent = decontracted(sentance)\n",
    "    sent = sent.replace('\\\\r', ' ')\n",
    "    sent = sent.replace('\\\\\"', ' ')\n",
    "    sent = sent.replace('\\\\n', ' ')\n",
    "    sent = re.sub('[^A-Za-z0-9]+', ' ', sent)\n",
    "    # https://gist.github.com/sebleier/554280\n",
    "    sent = ' '.join(e for e in sent.split() if e not in stopwords)\n",
    "    preprocessed_essays.append(sent.lower().strip())"
   ]
  },
  {
   "cell_type": "code",
   "execution_count": 26,
   "metadata": {
    "colab": {
     "base_uri": "https://localhost:8080/",
     "height": 54
    },
    "colab_type": "code",
    "executionInfo": {
     "elapsed": 125550,
     "status": "ok",
     "timestamp": 1583751728648,
     "user": {
      "displayName": "Hemanth Reddy",
      "photoUrl": "",
      "userId": "16713424825086946671"
     },
     "user_tz": -330
    },
    "id": "lcTYMGW3hgXc",
    "outputId": "3c757367-23fb-41df-d5c8-5c19d2839066"
   },
   "outputs": [
    {
     "data": {
      "text/plain": [
       "'i teach title 1 school 73 students receive free reduced lunch our school provides free breakfast students i special education certified teacher i teach kindergarten general education setting class consists 52 students special needs the disabilities include autism spectrum disorder speech impaired language impaired other health impaired adhd developmentally delayed i also 42 students english language learners self motivated learners synonym students they love learn possess positive outlook attitude school almost everyday students would ask ms perez going learn today i could not ask better greeting students this project greatly impact students learning daily basis the wobble chairs provide assistance students difficulties focusing attending lessons discussions despite fact students participate physical activities p e recess gonoodle dance videos sessions classroom students still energy stand wiggle seats lessons due special needs beyond students control lot distraction student learning not really achieved full potential the lack appropriate stimulation hinders focus learn class students special needs able sit wobble chairs whole group small group lessons this enable little active bodies move sitting still without disrupting students as result students improve focus increase student attention learning content areas in addition visual timer help students actually see allotted time activities this benefit especially ell students students special needs whenever independent classwork work centers students refer self monitor progress completing assignments it encourage use time wisely finish tasks time it also help students smoother transition one activity another by donating project significantly help students special needs equal opportunity learn peers behavior issues greatly minimized classroom management optimized help set students success i looking forward seeing students become active listeners engaged learners always happy go school nannan'"
      ]
     },
     "execution_count": 26,
     "metadata": {
      "tags": []
     },
     "output_type": "execute_result"
    }
   ],
   "source": [
    "# after preprocesing\n",
    "preprocessed_essays[20000]"
   ]
  },
  {
   "cell_type": "markdown",
   "metadata": {
    "colab_type": "text",
    "id": "4PPmcIc8hgXl"
   },
   "source": [
    "<h2><font color='red'> 1.4 Preprocessing of `project_title`</font></h2>"
   ]
  },
  {
   "cell_type": "code",
   "execution_count": 27,
   "metadata": {
    "colab": {
     "base_uri": "https://localhost:8080/",
     "height": 34
    },
    "colab_type": "code",
    "executionInfo": {
     "elapsed": 126694,
     "status": "ok",
     "timestamp": 1583751729850,
     "user": {
      "displayName": "Hemanth Reddy",
      "photoUrl": "",
      "userId": "16713424825086946671"
     },
     "user_tz": -330
    },
    "id": "_TFTYWlvhgXo",
    "outputId": "b01406f2-0e0c-45d7-d3d1-f4f2d6b880c8"
   },
   "outputs": [
    {
     "name": "stderr",
     "output_type": "stream",
     "text": [
      "100%|██████████| 50000/50000 [00:01<00:00, 42178.46it/s]\n"
     ]
    }
   ],
   "source": [
    "# Combining all the above stundents \n",
    "from tqdm import tqdm\n",
    "preprocessed_title = []\n",
    "# tqdm is for printing the status bar\n",
    "for sentance in tqdm(project_data['project_title'].values):\n",
    "    sent = decontracted(sentance)\n",
    "    sent = sent.replace('\\\\r', ' ')\n",
    "    sent = sent.replace('\\\\\"', ' ')\n",
    "    sent = sent.replace('\\\\n', ' ')\n",
    "    sent = re.sub('[^A-Za-z0-9]+', ' ', sent)\n",
    "    # https://gist.github.com/sebleier/554280\n",
    "    sent = ' '.join(e for e in sent.split() if e not in stopwords)\n",
    "    preprocessed_title.append(sent.lower().strip())"
   ]
  },
  {
   "cell_type": "code",
   "execution_count": 28,
   "metadata": {
    "colab": {
     "base_uri": "https://localhost:8080/",
     "height": 34
    },
    "colab_type": "code",
    "executionInfo": {
     "elapsed": 126640,
     "status": "ok",
     "timestamp": 1583751729852,
     "user": {
      "displayName": "Hemanth Reddy",
      "photoUrl": "",
      "userId": "16713424825086946671"
     },
     "user_tz": -330
    },
    "id": "fuVb2ONjqM6M",
    "outputId": "a2f5632e-3280-4b94-e974-42c2d0f1e99c"
   },
   "outputs": [
    {
     "data": {
      "text/plain": [
       "'literacy classroom materials'"
      ]
     },
     "execution_count": 28,
     "metadata": {
      "tags": []
     },
     "output_type": "execute_result"
    }
   ],
   "source": [
    "preprocessed_title[10]"
   ]
  },
  {
   "cell_type": "code",
   "execution_count": 0,
   "metadata": {
    "colab": {},
    "colab_type": "code",
    "id": "y-qX6LMFNO7h"
   },
   "outputs": [],
   "source": [
    "project_data['project_title'] = pd.DataFrame(preprocessed_title)#have changed the column name "
   ]
  },
  {
   "cell_type": "code",
   "execution_count": 30,
   "metadata": {
    "colab": {
     "base_uri": "https://localhost:8080/",
     "height": 111
    },
    "colab_type": "code",
    "executionInfo": {
     "elapsed": 127366,
     "status": "ok",
     "timestamp": 1583751730644,
     "user": {
      "displayName": "Hemanth Reddy",
      "photoUrl": "",
      "userId": "16713424825086946671"
     },
     "user_tz": -330
    },
    "id": "WGrjkZP6Jds1",
    "outputId": "333ed746-a63d-490d-f18a-a1ccf6cbc356"
   },
   "outputs": [
    {
     "data": {
      "text/html": [
       "<div>\n",
       "<style scoped>\n",
       "    .dataframe tbody tr th:only-of-type {\n",
       "        vertical-align: middle;\n",
       "    }\n",
       "\n",
       "    .dataframe tbody tr th {\n",
       "        vertical-align: top;\n",
       "    }\n",
       "\n",
       "    .dataframe thead th {\n",
       "        text-align: right;\n",
       "    }\n",
       "</style>\n",
       "<table border=\"1\" class=\"dataframe\">\n",
       "  <thead>\n",
       "    <tr style=\"text-align: right;\">\n",
       "      <th></th>\n",
       "      <th>id</th>\n",
       "      <th>price</th>\n",
       "      <th>quantity</th>\n",
       "    </tr>\n",
       "  </thead>\n",
       "  <tbody>\n",
       "    <tr>\n",
       "      <th>0</th>\n",
       "      <td>p000001</td>\n",
       "      <td>459.56</td>\n",
       "      <td>7</td>\n",
       "    </tr>\n",
       "    <tr>\n",
       "      <th>1</th>\n",
       "      <td>p000002</td>\n",
       "      <td>515.89</td>\n",
       "      <td>21</td>\n",
       "    </tr>\n",
       "  </tbody>\n",
       "</table>\n",
       "</div>"
      ],
      "text/plain": [
       "        id   price  quantity\n",
       "0  p000001  459.56         7\n",
       "1  p000002  515.89        21"
      ]
     },
     "execution_count": 30,
     "metadata": {
      "tags": []
     },
     "output_type": "execute_result"
    }
   ],
   "source": [
    "# https://stackoverflow.com/questions/22407798/how-to-reset-a-dataframes-indexes-for-all-groups-in-one-step\n",
    "price_data = resource_data.groupby('id').agg({'price':'sum', 'quantity':'sum'}).reset_index()\n",
    "price_data.head(2)"
   ]
  },
  {
   "cell_type": "code",
   "execution_count": 0,
   "metadata": {
    "colab": {},
    "colab_type": "code",
    "id": "HjqJVV43JiYY"
   },
   "outputs": [],
   "source": [
    "# join two dataframes in python: \n",
    "project_data = pd.merge(project_data, price_data, on='id', how='left')"
   ]
  },
  {
   "cell_type": "markdown",
   "metadata": {
    "colab_type": "text",
    "id": "gb67sBuqhgXt"
   },
   "source": [
    "## 1.5 Preparing data for models"
   ]
  },
  {
   "cell_type": "code",
   "execution_count": 32,
   "metadata": {
    "colab": {
     "base_uri": "https://localhost:8080/",
     "height": 153
    },
    "colab_type": "code",
    "executionInfo": {
     "elapsed": 127294,
     "status": "ok",
     "timestamp": 1583751730647,
     "user": {
      "displayName": "Hemanth Reddy",
      "photoUrl": "",
      "userId": "16713424825086946671"
     },
     "user_tz": -330
    },
    "id": "Ts_y1adyhgXu",
    "outputId": "aa71c428-e0ba-42c7-beaa-d005f8ad8d98"
   },
   "outputs": [
    {
     "data": {
      "text/plain": [
       "Index(['Unnamed: 0', 'id', 'teacher_id', 'teacher_prefix', 'school_state',\n",
       "       'Date', 'project_grade_category', 'project_title', 'project_essay_1',\n",
       "       'project_essay_2', 'project_essay_3', 'project_essay_4',\n",
       "       'project_resource_summary',\n",
       "       'teacher_number_of_previously_posted_projects', 'project_is_approved',\n",
       "       'clean_categories', 'clean_subcategories', 'essay', 'price',\n",
       "       'quantity'],\n",
       "      dtype='object')"
      ]
     },
     "execution_count": 32,
     "metadata": {
      "tags": []
     },
     "output_type": "execute_result"
    }
   ],
   "source": [
    "project_data.columns"
   ]
  },
  {
   "cell_type": "code",
   "execution_count": 33,
   "metadata": {
    "colab": {
     "base_uri": "https://localhost:8080/",
     "height": 221
    },
    "colab_type": "code",
    "executionInfo": {
     "elapsed": 127685,
     "status": "ok",
     "timestamp": 1583751731102,
     "user": {
      "displayName": "Hemanth Reddy",
      "photoUrl": "",
      "userId": "16713424825086946671"
     },
     "user_tz": -330
    },
    "id": "xk5EHenbCTNg",
    "outputId": "011a253d-86f0-4fa0-e994-f6af8ac2c908"
   },
   "outputs": [
    {
     "data": {
      "text/plain": [
       "0        I recently read an article about giving studen...\n",
       "1        My students crave challenge, they eat obstacle...\n",
       "2        It's the end of the school year. Routines have...\n",
       "3        Never has society so rapidly changed. Technolo...\n",
       "4        My students yearn for a classroom environment ...\n",
       "                               ...                        \n",
       "49995    I teach 17 amazing students in a Title One sch...\n",
       "49996    My students often have to worry about things o...\n",
       "49997    I teach first grade in a Title I school. Altho...\n",
       "49998    My students range from age four to five years ...\n",
       "49999    We are a Title 1 school  650 total students. O...\n",
       "Name: essay, Length: 50000, dtype: object"
      ]
     },
     "execution_count": 33,
     "metadata": {
      "tags": []
     },
     "output_type": "execute_result"
    }
   ],
   "source": [
    "project_data[\"essay\"]"
   ]
  },
  {
   "cell_type": "code",
   "execution_count": 34,
   "metadata": {
    "colab": {
     "base_uri": "https://localhost:8080/",
     "height": 34
    },
    "colab_type": "code",
    "executionInfo": {
     "elapsed": 127580,
     "status": "ok",
     "timestamp": 1583751731104,
     "user": {
      "displayName": "Hemanth Reddy",
      "photoUrl": "",
      "userId": "16713424825086946671"
     },
     "user_tz": -330
    },
    "id": "RZzJOatTgmp7",
    "outputId": "a0896407-957d-4f25-9d3a-50792b725b02"
   },
   "outputs": [
    {
     "data": {
      "text/plain": [
       "(50000, 20)"
      ]
     },
     "execution_count": 34,
     "metadata": {
      "tags": []
     },
     "output_type": "execute_result"
    }
   ],
   "source": [
    "project_data.shape"
   ]
  },
  {
   "cell_type": "code",
   "execution_count": 35,
   "metadata": {
    "colab": {
     "base_uri": "https://localhost:8080/",
     "height": 153
    },
    "colab_type": "code",
    "executionInfo": {
     "elapsed": 127500,
     "status": "ok",
     "timestamp": 1583751731105,
     "user": {
      "displayName": "Hemanth Reddy",
      "photoUrl": "",
      "userId": "16713424825086946671"
     },
     "user_tz": -330
    },
    "id": "qo3zWFr3hvO8",
    "outputId": "65412d79-a8c0-4d2d-9853-3c04aa510a13"
   },
   "outputs": [
    {
     "data": {
      "text/plain": [
       "Index(['Unnamed: 0', 'id', 'teacher_id', 'teacher_prefix', 'school_state',\n",
       "       'Date', 'project_grade_category', 'project_title', 'project_essay_1',\n",
       "       'project_essay_2', 'project_essay_3', 'project_essay_4',\n",
       "       'project_resource_summary',\n",
       "       'teacher_number_of_previously_posted_projects', 'project_is_approved',\n",
       "       'clean_categories', 'clean_subcategories', 'essay', 'price',\n",
       "       'quantity'],\n",
       "      dtype='object')"
      ]
     },
     "execution_count": 35,
     "metadata": {
      "tags": []
     },
     "output_type": "execute_result"
    }
   ],
   "source": [
    "project_data.columns"
   ]
  },
  {
   "cell_type": "code",
   "execution_count": 0,
   "metadata": {
    "colab": {},
    "colab_type": "code",
    "id": "RLxKsY-HiceK"
   },
   "outputs": [],
   "source": [
    "project_data.drop(['id','Date','project_resource_summary','project_is_approved','quantity','Unnamed: 0'], axis=1, inplace=True)"
   ]
  },
  {
   "cell_type": "code",
   "execution_count": 0,
   "metadata": {
    "colab": {},
    "colab_type": "code",
    "id": "qg-9FI8SkNj3"
   },
   "outputs": [],
   "source": [
    "project_data.drop(['project_essay_1', 'project_essay_2', 'project_essay_3', 'project_essay_4'], axis=1, inplace=True)"
   ]
  },
  {
   "cell_type": "code",
   "execution_count": 0,
   "metadata": {
    "colab": {},
    "colab_type": "code",
    "id": "7QktI6sNkoC0"
   },
   "outputs": [],
   "source": [
    "project_data.drop(['teacher_id'],axis=1, inplace=True)"
   ]
  },
  {
   "cell_type": "code",
   "execution_count": 39,
   "metadata": {
    "colab": {
     "base_uri": "https://localhost:8080/",
     "height": 85
    },
    "colab_type": "code",
    "executionInfo": {
     "elapsed": 127417,
     "status": "ok",
     "timestamp": 1583751731109,
     "user": {
      "displayName": "Hemanth Reddy",
      "photoUrl": "",
      "userId": "16713424825086946671"
     },
     "user_tz": -330
    },
    "id": "jiAmvbPtjJGI",
    "outputId": "5002b002-e97c-4eaa-e4d2-b2402450db81"
   },
   "outputs": [
    {
     "data": {
      "text/plain": [
       "Index(['teacher_prefix', 'school_state', 'project_grade_category',\n",
       "       'project_title', 'teacher_number_of_previously_posted_projects',\n",
       "       'clean_categories', 'clean_subcategories', 'essay', 'price'],\n",
       "      dtype='object')"
      ]
     },
     "execution_count": 39,
     "metadata": {
      "tags": []
     },
     "output_type": "execute_result"
    }
   ],
   "source": [
    "\n",
    "project_data.columns"
   ]
  },
  {
   "cell_type": "code",
   "execution_count": 40,
   "metadata": {
    "colab": {
     "base_uri": "https://localhost:8080/",
     "height": 34
    },
    "colab_type": "code",
    "executionInfo": {
     "elapsed": 127373,
     "status": "ok",
     "timestamp": 1583751731110,
     "user": {
      "displayName": "Hemanth Reddy",
      "photoUrl": "",
      "userId": "16713424825086946671"
     },
     "user_tz": -330
    },
    "id": "YkjW5TzJkG2Q",
    "outputId": "37655983-1c10-4a06-fd79-2544d258ef0e"
   },
   "outputs": [
    {
     "data": {
      "text/plain": [
       "(50000, 9)"
      ]
     },
     "execution_count": 40,
     "metadata": {
      "tags": []
     },
     "output_type": "execute_result"
    }
   ],
   "source": [
    "project_data.shape"
   ]
  },
  {
   "cell_type": "markdown",
   "metadata": {
    "colab_type": "text",
    "id": "Wv0z5uPYhgXz"
   },
   "source": [
    "we are going to consider\n",
    "\n",
    "       - school_state : categorical data\n",
    "       - clean_categories : categorical data\n",
    "       - clean_subcategories : categorical data\n",
    "       - project_grade_category : categorical data\n",
    "       - teacher_prefix : categorical data\n",
    "       \n",
    "       - project_title : text data\n",
    "       - text : text data\n",
    "       - project_resource_summary: text data (optinal)\n",
    "       \n",
    "       - quantity : numerical (optinal)\n",
    "       - teacher_number_of_previously_posted_projects : numerical\n",
    "       - price : numerical"
   ]
  },
  {
   "cell_type": "code",
   "execution_count": 41,
   "metadata": {
    "colab": {
     "base_uri": "https://localhost:8080/",
     "height": 85
    },
    "colab_type": "code",
    "executionInfo": {
     "elapsed": 127304,
     "status": "ok",
     "timestamp": 1583751731110,
     "user": {
      "displayName": "Hemanth Reddy",
      "photoUrl": "",
      "userId": "16713424825086946671"
     },
     "user_tz": -330
    },
    "id": "urlqsrod_Lpi",
    "outputId": "161f7b9e-4dae-4e75-e1cf-2b8d5d183e8d"
   },
   "outputs": [
    {
     "data": {
      "text/plain": [
       "Index(['teacher_prefix', 'school_state', 'project_grade_category',\n",
       "       'project_title', 'teacher_number_of_previously_posted_projects',\n",
       "       'clean_categories', 'clean_subcategories', 'essay', 'price'],\n",
       "      dtype='object')"
      ]
     },
     "execution_count": 41,
     "metadata": {
      "tags": []
     },
     "output_type": "execute_result"
    }
   ],
   "source": [
    "project_data.columns"
   ]
  },
  {
   "cell_type": "code",
   "execution_count": 42,
   "metadata": {
    "colab": {
     "base_uri": "https://localhost:8080/",
     "height": 221
    },
    "colab_type": "code",
    "executionInfo": {
     "elapsed": 127244,
     "status": "ok",
     "timestamp": 1583751731112,
     "user": {
      "displayName": "Hemanth Reddy",
      "photoUrl": "",
      "userId": "16713424825086946671"
     },
     "user_tz": -330
    },
    "id": "4XX-n4KluCa9",
    "outputId": "5861ac96-175f-4978-fcef-612f37f27304"
   },
   "outputs": [
    {
     "data": {
      "text/plain": [
       "0                                 picture book party\n",
       "1        ten frames lead way aspiring mathematicians\n",
       "2                                    reading reality\n",
       "3                               get your wiggles out\n",
       "4                                   microphone check\n",
       "                            ...                     \n",
       "49995                 stage supplies student success\n",
       "49996       assisting students behavior self control\n",
       "49997         help 1st graders choose good fit books\n",
       "49998                   kitties cats pigeons dragons\n",
       "49999                   help mrs walsh first graders\n",
       "Name: project_title, Length: 50000, dtype: object"
      ]
     },
     "execution_count": 42,
     "metadata": {
      "tags": []
     },
     "output_type": "execute_result"
    }
   ],
   "source": [
    "project_data[\"project_title\"]"
   ]
  },
  {
   "cell_type": "code",
   "execution_count": 0,
   "metadata": {
    "colab": {},
    "colab_type": "code",
    "id": "Vbq61noV_LVh"
   },
   "outputs": [],
   "source": [
    "X=project_data.copy()"
   ]
  },
  {
   "cell_type": "code",
   "execution_count": 0,
   "metadata": {
    "colab": {},
    "colab_type": "code",
    "id": "tF6Yh6zy45HX"
   },
   "outputs": [],
   "source": [
    "# train test split\n",
    "from sklearn.model_selection import train_test_split\n",
    "X_train, X_test, y_train, y_test = train_test_split(X, y, test_size=0.33, stratify=y)\n",
    "X_train, X_cv, y_train, y_cv = train_test_split(X_train, y_train, test_size=0.33, stratify=y_train)"
   ]
  },
  {
   "cell_type": "code",
   "execution_count": 45,
   "metadata": {
    "colab": {
     "base_uri": "https://localhost:8080/",
     "height": 85
    },
    "colab_type": "code",
    "executionInfo": {
     "elapsed": 127158,
     "status": "ok",
     "timestamp": 1583751731117,
     "user": {
      "displayName": "Hemanth Reddy",
      "photoUrl": "",
      "userId": "16713424825086946671"
     },
     "user_tz": -330
    },
    "id": "uta9_oAJ3KFS",
    "outputId": "560f4c69-65e8-47d9-81e6-b9ed6ce2ac60"
   },
   "outputs": [
    {
     "data": {
      "text/plain": [
       "Index(['teacher_prefix', 'school_state', 'project_grade_category',\n",
       "       'project_title', 'teacher_number_of_previously_posted_projects',\n",
       "       'clean_categories', 'clean_subcategories', 'essay', 'price'],\n",
       "      dtype='object')"
      ]
     },
     "execution_count": 45,
     "metadata": {
      "tags": []
     },
     "output_type": "execute_result"
    }
   ],
   "source": [
    "X_train.columns"
   ]
  },
  {
   "cell_type": "markdown",
   "metadata": {
    "colab_type": "text",
    "id": "oRdSBBhyhgX0"
   },
   "source": [
    "### 1.5.1 Vectorizing Categorical data"
   ]
  },
  {
   "cell_type": "markdown",
   "metadata": {
    "colab_type": "text",
    "id": "EZoTVv9chgX2"
   },
   "source": [
    "- https://www.appliedaicourse.com/course/applied-ai-course-online/lessons/handling-categorical-and-numerical-features/"
   ]
  },
  {
   "cell_type": "markdown",
   "metadata": {
    "colab_type": "text",
    "id": "6bDh1d-2CK1H"
   },
   "source": [
    "# Project_grade_category"
   ]
  },
  {
   "cell_type": "code",
   "execution_count": 0,
   "metadata": {
    "colab": {},
    "colab_type": "code",
    "id": "XPPL3r7Im1wu"
   },
   "outputs": [],
   "source": [
    "#preprocess the project_grade_cetegory\n",
    "project_grade_list=project_data['project_grade_category'].values\n",
    "project_grade_list=list(project_grade_list)\n",
    "\n",
    "## preprocessing the grades to remove the SPACES,- else the vectors will be just 0's. Try adding - and see\n",
    "project_grade_nospace_list = []\n",
    "for i in project_grade_list:\n",
    "    temp = \"\"\n",
    "    i = i.replace(' ','_') # we are placeing all the ' '(space) with ''(empty) ex:\"Grades 3-5\"=>\"Grades_3-5\"\n",
    "    i = i.replace('-','_')\n",
    "    temp +=i.strip()+\" \"#\" abc \".strip() will return \"abc\", remove the trailing spaces\n",
    "    project_grade_nospace_list.append(temp.strip())"
   ]
  },
  {
   "cell_type": "code",
   "execution_count": 47,
   "metadata": {
    "colab": {
     "base_uri": "https://localhost:8080/",
     "height": 170
    },
    "colab_type": "code",
    "executionInfo": {
     "elapsed": 127504,
     "status": "ok",
     "timestamp": 1583751731547,
     "user": {
      "displayName": "Hemanth Reddy",
      "photoUrl": "",
      "userId": "16713424825086946671"
     },
     "user_tz": -330
    },
    "id": "wkRJ2xZUm8fD",
    "outputId": "89235c06-88c1-4ddc-8345-882e4aebbd36"
   },
   "outputs": [
    {
     "name": "stdout",
     "output_type": "stream",
     "text": [
      "['Grades_3_5', 'Grades_6_8', 'Grades_9_12', 'Grades_PreK_2']\n",
      "Shape of matrix after one hot encoding  (50000, 4)\n",
      "<class 'scipy.sparse.csr.csr_matrix'>\n",
      "After vectorizations\n",
      "(22445, 4) (22445,)\n",
      "(11055, 4) (11055,)\n",
      "(16500, 4) (16500,)\n",
      "['Grades_3_5', 'Grades_6_8', 'Grades_9_12', 'Grades_PreK_2']\n",
      "====================================================================================================\n"
     ]
    }
   ],
   "source": [
    "# we use count vectorizer to convert the values into one hot encoded features\n",
    "#Project_grade_category\n",
    "#citation:\n",
    "vectorizer = CountVectorizer(vocabulary=set(project_grade_nospace_list), lowercase=False, binary=True)\n",
    "vectorizer.fit(project_grade_nospace_list)\n",
    "print(vectorizer.get_feature_names())\n",
    "project_grade_category_one_hot = vectorizer.transform(project_grade_nospace_list)\n",
    "X_train_grade_ohe = vectorizer.transform(X_train['project_grade_category'].values)\n",
    "X_cv_grade_ohe = vectorizer.transform(X_cv['project_grade_category'].values)\n",
    "X_test_grade_ohe = vectorizer.transform(X_test['project_grade_category'].values)\n",
    "\n",
    "print(\"Shape of matrix after one hot encoding \",project_grade_category_one_hot.shape)\n",
    "print(type(project_grade_category_one_hot))\n",
    "project_grade_category_one_hot.toarray()\n",
    "\n",
    "print(\"After vectorizations\")\n",
    "print(X_train_grade_ohe.shape, y_train.shape)\n",
    "print(X_cv_grade_ohe.shape, y_cv.shape)\n",
    "print(X_test_grade_ohe.shape, y_test.shape)\n",
    "print(vectorizer.get_feature_names())\n",
    "print(\"=\"*100)"
   ]
  },
  {
   "cell_type": "markdown",
   "metadata": {
    "colab_type": "text",
    "id": "wEWGH_gWFfLu"
   },
   "source": [
    "# teacher_prefix"
   ]
  },
  {
   "cell_type": "code",
   "execution_count": 48,
   "metadata": {
    "colab": {
     "base_uri": "https://localhost:8080/",
     "height": 102
    },
    "colab_type": "code",
    "executionInfo": {
     "elapsed": 127849,
     "status": "ok",
     "timestamp": 1583751731977,
     "user": {
      "displayName": "Hemanth Reddy",
      "photoUrl": "",
      "userId": "16713424825086946671"
     },
     "user_tz": -330
    },
    "id": "11LRWtRrFXcv",
    "outputId": "f13e739c-5a9b-4ef3-c1f9-e0fc3715a74b"
   },
   "outputs": [
    {
     "name": "stdout",
     "output_type": "stream",
     "text": [
      "After vectorizations\n",
      "(22445, 6) (22445,)\n",
      "(11055, 6) (11055,)\n",
      "(16500, 6) (16500,)\n",
      "['dr', 'mr', 'mrs', 'ms', 'nan', 'teacher']\n"
     ]
    }
   ],
   "source": [
    "vectorizer = CountVectorizer()\n",
    "vectorizer.fit(X_train['teacher_prefix'].values.astype(str)) # fit has to happen only on train data\n",
    "\n",
    "# we use the fitted CountVectorizer to convert the text to vector\n",
    "X_train_teacher_one_hot = vectorizer.transform(X_train['teacher_prefix'].values.astype(str))\n",
    "X_cv_teacher_one_hot = vectorizer.transform(X_cv['teacher_prefix'].values.astype(str))#here i used astype(str) because there is an error stating that \"the np.nan is an invalid document, expected byte or unicode string.\"\n",
    "X_test_teacher_one_hot = vectorizer.transform(X_test['teacher_prefix'].values.astype(str))\n",
    "\n",
    "print(\"After vectorizations\")\n",
    "print(X_train_teacher_one_hot.shape, y_train.shape)\n",
    "print(X_cv_teacher_one_hot.shape, y_cv.shape)\n",
    "print(X_test_teacher_one_hot.shape, y_test.shape)\n",
    "print(vectorizer.get_feature_names())"
   ]
  },
  {
   "cell_type": "markdown",
   "metadata": {
    "colab_type": "text",
    "id": "r3teHPk3EHRh"
   },
   "source": [
    "# school state"
   ]
  },
  {
   "cell_type": "code",
   "execution_count": 49,
   "metadata": {
    "colab": {
     "base_uri": "https://localhost:8080/",
     "height": 139
    },
    "colab_type": "code",
    "executionInfo": {
     "elapsed": 127794,
     "status": "ok",
     "timestamp": 1583751731981,
     "user": {
      "displayName": "Hemanth Reddy",
      "photoUrl": "",
      "userId": "16713424825086946671"
     },
     "user_tz": -330
    },
    "id": "btZ2lSIrD2uj",
    "outputId": "b37c7b2a-928f-4082-ced8-204b2551e097"
   },
   "outputs": [
    {
     "name": "stdout",
     "output_type": "stream",
     "text": [
      "After vectorizations\n",
      "(22445, 51) (22445,)\n",
      "(11055, 51) (11055,)\n",
      "(16500, 51) (16500,)\n",
      "['ak', 'al', 'ar', 'az', 'ca', 'co', 'ct', 'dc', 'de', 'fl', 'ga', 'hi', 'ia', 'id', 'il', 'in', 'ks', 'ky', 'la', 'ma', 'md', 'me', 'mi', 'mn', 'mo', 'ms', 'mt', 'nc', 'nd', 'ne', 'nh', 'nj', 'nm', 'nv', 'ny', 'oh', 'ok', 'or', 'pa', 'ri', 'sc', 'sd', 'tn', 'tx', 'ut', 'va', 'vt', 'wa', 'wi', 'wv', 'wy']\n",
      "====================================================================================================\n"
     ]
    }
   ],
   "source": [
    "# we use count vectorizer to convert the values into one \n",
    "vectorizer = CountVectorizer()\n",
    "vectorizer.fit(X_train['school_state'].values) # fit has to happen only on train data\n",
    "\n",
    "# we use the fitted CountVectorizer to convert the text to vector\n",
    "X_train_state_ohe = vectorizer.transform(X_train['school_state'].values)\n",
    "X_cv_state_ohe = vectorizer.transform(X_cv['school_state'].values)\n",
    "X_test_state_ohe = vectorizer.transform(X_test['school_state'].values)\n",
    "\n",
    "print(\"After vectorizations\")\n",
    "print(X_train_state_ohe.shape, y_train.shape)\n",
    "print(X_cv_state_ohe.shape, y_cv.shape)\n",
    "print(X_test_state_ohe.shape, y_test.shape)\n",
    "print(vectorizer.get_feature_names())\n",
    "print(\"=\"*100)"
   ]
  },
  {
   "cell_type": "code",
   "execution_count": 50,
   "metadata": {
    "colab": {
     "base_uri": "https://localhost:8080/",
     "height": 34
    },
    "colab_type": "code",
    "executionInfo": {
     "elapsed": 127751,
     "status": "ok",
     "timestamp": 1583751731985,
     "user": {
      "displayName": "Hemanth Reddy",
      "photoUrl": "",
      "userId": "16713424825086946671"
     },
     "user_tz": -330
    },
    "id": "eg4XLEVT739q",
    "outputId": "35e178ba-0309-445b-f11f-c97f7a747e04"
   },
   "outputs": [
    {
     "data": {
      "text/plain": [
       "array(['GA', 'WA', 'CA', ..., 'CT', 'NM', 'IL'], dtype=object)"
      ]
     },
     "execution_count": 50,
     "metadata": {
      "tags": []
     },
     "output_type": "execute_result"
    }
   ],
   "source": [
    "project_data[\"school_state\"].values"
   ]
  },
  {
   "cell_type": "code",
   "execution_count": 51,
   "metadata": {
    "colab": {
     "base_uri": "https://localhost:8080/",
     "height": 68
    },
    "colab_type": "code",
    "executionInfo": {
     "elapsed": 127722,
     "status": "ok",
     "timestamp": 1583751731988,
     "user": {
      "displayName": "Hemanth Reddy",
      "photoUrl": "",
      "userId": "16713424825086946671"
     },
     "user_tz": -330
    },
    "id": "POS4CqGx1pov",
    "outputId": "4c9a059f-9919-4543-aff4-9af17ab9a4d9"
   },
   "outputs": [
    {
     "data": {
      "text/plain": [
       "array(['AppliedLearning', 'Literacy_Language',\n",
       "       'Math_Science History_Civics', ..., 'Literacy_Language',\n",
       "       'AppliedLearning', 'Math_Science'], dtype=object)"
      ]
     },
     "execution_count": 51,
     "metadata": {
      "tags": []
     },
     "output_type": "execute_result"
    }
   ],
   "source": [
    "project_data[\"clean_categories\"].values"
   ]
  },
  {
   "cell_type": "markdown",
   "metadata": {
    "colab_type": "text",
    "id": "fu8yvbRyqKlw"
   },
   "source": [
    "<h3> Encoding categorical features: clean_categories</h3>"
   ]
  },
  {
   "cell_type": "code",
   "execution_count": 52,
   "metadata": {
    "colab": {
     "base_uri": "https://localhost:8080/",
     "height": 34
    },
    "colab_type": "code",
    "executionInfo": {
     "elapsed": 128056,
     "status": "ok",
     "timestamp": 1583751732347,
     "user": {
      "displayName": "Hemanth Reddy",
      "photoUrl": "",
      "userId": "16713424825086946671"
     },
     "user_tz": -330
    },
    "id": "KnBq96rLz7Yg",
    "outputId": "f8967e7e-f619-403f-d431-6bd417b62a33"
   },
   "outputs": [
    {
     "name": "stdout",
     "output_type": "stream",
     "text": [
      "['Warmth', 'Care_Hunger', 'History_Civics', 'Music_Arts', 'AppliedLearning', 'SpecialNeeds', 'Health_Sports', 'Math_Science', 'Literacy_Language']\n"
     ]
    }
   ],
   "source": [
    "# we use count vectorizer to convert the values into one \n",
    "\n",
    "vectorizer = CountVectorizer(vocabulary=list(sorted_cat_dict.keys()), lowercase=False, binary=True)\n",
    "vectorizer.fit_transform(project_data['clean_categories'].values)\n",
    "print(vectorizer.get_feature_names())\n",
    "#print(\"Shape of matrix after one hot encodig \",categories_one_hot.shape)"
   ]
  },
  {
   "cell_type": "code",
   "execution_count": 53,
   "metadata": {
    "colab": {
     "base_uri": "https://localhost:8080/",
     "height": 119
    },
    "colab_type": "code",
    "executionInfo": {
     "elapsed": 128029,
     "status": "ok",
     "timestamp": 1583751732349,
     "user": {
      "displayName": "Hemanth Reddy",
      "photoUrl": "",
      "userId": "16713424825086946671"
     },
     "user_tz": -330
    },
    "id": "haFAo1B8wGhw",
    "outputId": "e02446f8-0555-4e60-a59f-419580a18189"
   },
   "outputs": [
    {
     "name": "stdout",
     "output_type": "stream",
     "text": [
      "After vectorizations\n",
      "(22445, 9) (22445,)\n",
      "(11055, 9) (11055,)\n",
      "(16500, 9) (16500,)\n",
      "['Warmth', 'Care_Hunger', 'History_Civics', 'Music_Arts', 'AppliedLearning', 'SpecialNeeds', 'Health_Sports', 'Math_Science', 'Literacy_Language']\n",
      "====================================================================================================\n"
     ]
    }
   ],
   "source": [
    "vectorizer = CountVectorizer(vocabulary=list(sorted_cat_dict.keys()), lowercase=False, binary=True)\n",
    "vectorizer.fit(X_train['clean_categories'].values) # fit has to happen only on train data\n",
    "\n",
    "# we use the fitted CountVectorizer to convert the text to vector\n",
    "X_train_cat_ohe = vectorizer.transform(X_train['clean_categories'].values)\n",
    "X_cv_cat_ohe = vectorizer.transform(X_cv['clean_categories'].values)\n",
    "X_test_cat_ohe = vectorizer.transform(X_test['clean_categories'].values)\n",
    "\n",
    "print(\"After vectorizations\")\n",
    "print(X_train_cat_ohe.shape, y_train.shape)\n",
    "print(X_cv_cat_ohe.shape, y_cv.shape)\n",
    "print(X_test_cat_ohe.shape, y_test.shape)\n",
    "print(vectorizer.get_feature_names())\n",
    "print(\"=\"*100)"
   ]
  },
  {
   "cell_type": "markdown",
   "metadata": {
    "colab_type": "text",
    "id": "NeMgEpl6oUpU"
   },
   "source": [
    "<h3> Encoding categorical features: clean_subcategories</h3>"
   ]
  },
  {
   "cell_type": "code",
   "execution_count": 54,
   "metadata": {
    "colab": {
     "base_uri": "https://localhost:8080/",
     "height": 139
    },
    "colab_type": "code",
    "executionInfo": {
     "elapsed": 128513,
     "status": "ok",
     "timestamp": 1583751732861,
     "user": {
      "displayName": "Hemanth Reddy",
      "photoUrl": "",
      "userId": "16713424825086946671"
     },
     "user_tz": -330
    },
    "id": "bPMhrljD8Rwh",
    "outputId": "3e913d19-00bf-4170-8160-b10267e8b60c"
   },
   "outputs": [
    {
     "name": "stdout",
     "output_type": "stream",
     "text": [
      "After vectorizations\n",
      "(22445, 30) (22445,)\n",
      "(11055, 30) (11055,)\n",
      "(16500, 30) (16500,)\n",
      "['Economics', 'CommunityService', 'FinancialLiteracy', 'ParentInvolvement', 'Extracurricular', 'Civics_Government', 'ForeignLanguages', 'NutritionEducation', 'Warmth', 'Care_Hunger', 'SocialSciences', 'PerformingArts', 'CharacterEducation', 'TeamSports', 'Other', 'College_CareerPrep', 'Music', 'History_Geography', 'Health_LifeScience', 'EarlyDevelopment', 'ESL', 'Gym_Fitness', 'EnvironmentalScience', 'VisualArts', 'Health_Wellness', 'AppliedSciences', 'SpecialNeeds', 'Literature_Writing', 'Mathematics', 'Literacy']\n",
      "====================================================================================================\n"
     ]
    }
   ],
   "source": [
    "vectorizer = CountVectorizer(vocabulary=list(sorted_sub_cat_dict.keys()), lowercase=False, binary=True)\n",
    "vectorizer.fit(X_train['clean_subcategories'].values) # fit has to happen only on train data\n",
    "\n",
    "# we use the fitted CountVectorizer to convert the text to vector\n",
    "X_train_subcat_ohe = vectorizer.transform(X_train['clean_subcategories'].values)\n",
    "X_cv_subcat_ohe = vectorizer.transform(X_cv['clean_subcategories'].values)\n",
    "X_test_subcat_ohe = vectorizer.transform(X_test['clean_subcategories'].values)\n",
    "\n",
    "print(\"After vectorizations\")\n",
    "print(X_train_subcat_ohe.shape, y_train.shape)\n",
    "print(X_cv_subcat_ohe.shape, y_cv.shape)\n",
    "print(X_test_subcat_ohe.shape, y_test.shape)\n",
    "print(vectorizer.get_feature_names())\n",
    "print(\"=\"*100)"
   ]
  },
  {
   "cell_type": "code",
   "execution_count": 55,
   "metadata": {
    "colab": {
     "base_uri": "https://localhost:8080/",
     "height": 71
    },
    "colab_type": "code",
    "executionInfo": {
     "elapsed": 128491,
     "status": "ok",
     "timestamp": 1583751732863,
     "user": {
      "displayName": "Hemanth Reddy",
      "photoUrl": "",
      "userId": "16713424825086946671"
     },
     "user_tz": -330
    },
    "id": "4NnWnQKIwJXA",
    "outputId": "454f4481-0ce3-4f12-a36c-5a8e63b204e0"
   },
   "outputs": [
    {
     "name": "stdout",
     "output_type": "stream",
     "text": [
      "['Economics', 'CommunityService', 'FinancialLiteracy', 'ParentInvolvement', 'Extracurricular', 'Civics_Government', 'ForeignLanguages', 'NutritionEducation', 'Warmth', 'Care_Hunger', 'SocialSciences', 'PerformingArts', 'CharacterEducation', 'TeamSports', 'Other', 'College_CareerPrep', 'Music', 'History_Geography', 'Health_LifeScience', 'EarlyDevelopment', 'ESL', 'Gym_Fitness', 'EnvironmentalScience', 'VisualArts', 'Health_Wellness', 'AppliedSciences', 'SpecialNeeds', 'Literature_Writing', 'Mathematics', 'Literacy']\n",
      "Shape of matrix after one hot encodig  (50000, 30)\n"
     ]
    }
   ],
   "source": [
    "# we use count vectorizer to convert the values into one \n",
    "vectorizer = CountVectorizer(vocabulary=list(sorted_sub_cat_dict.keys()), lowercase=False, binary=True)\n",
    "sub_categories_one_hot = vectorizer.fit_transform(project_data['clean_subcategories'].values)\n",
    "print(vectorizer.get_feature_names())\n",
    "print(\"Shape of matrix after one hot encodig \",sub_categories_one_hot.shape)"
   ]
  },
  {
   "cell_type": "markdown",
   "metadata": {
    "colab_type": "text",
    "id": "t8tV7z3MhgYG"
   },
   "source": [
    "### 1.5.2 Vectorizing Text data"
   ]
  },
  {
   "cell_type": "code",
   "execution_count": 56,
   "metadata": {
    "colab": {
     "base_uri": "https://localhost:8080/",
     "height": 0
    },
    "colab_type": "code",
    "executionInfo": {
     "elapsed": 128474,
     "status": "ok",
     "timestamp": 1583751732865,
     "user": {
      "displayName": "Hemanth Reddy",
      "photoUrl": "",
      "userId": "16713424825086946671"
     },
     "user_tz": -330
    },
    "id": "DVT0En8ylwlE",
    "outputId": "f38ac211-43f3-4a80-be07-aa1f601ff612"
   },
   "outputs": [
    {
     "data": {
      "text/plain": [
       "Index(['teacher_prefix', 'school_state', 'project_grade_category',\n",
       "       'project_title', 'teacher_number_of_previously_posted_projects',\n",
       "       'clean_categories', 'clean_subcategories', 'essay', 'price'],\n",
       "      dtype='object')"
      ]
     },
     "execution_count": 56,
     "metadata": {
      "tags": []
     },
     "output_type": "execute_result"
    }
   ],
   "source": [
    "X_train.columns"
   ]
  },
  {
   "cell_type": "markdown",
   "metadata": {
    "colab_type": "text",
    "id": "Un_Mp3cRhgYH"
   },
   "source": [
    "#### 1.5.2.1 Bag of words"
   ]
  },
  {
   "cell_type": "code",
   "execution_count": 57,
   "metadata": {
    "colab": {
     "base_uri": "https://localhost:8080/",
     "height": 0
    },
    "colab_type": "code",
    "executionInfo": {
     "elapsed": 141506,
     "status": "ok",
     "timestamp": 1583751745909,
     "user": {
      "displayName": "Hemanth Reddy",
      "photoUrl": "",
      "userId": "16713424825086946671"
     },
     "user_tz": -330
    },
    "id": "4W8Y7IHFhgYJ",
    "outputId": "5ab70f3d-221e-43f6-b7d9-3238cecdf9f4"
   },
   "outputs": [
    {
     "name": "stdout",
     "output_type": "stream",
     "text": [
      "After vectorizations\n",
      "(22445, 9209) (22445,)\n",
      "(11055, 9209) (11055,)\n",
      "(16500, 9209) (16500,)\n",
      "['00', '000', '10', '100', '1000', '104', '10th', '11', '110', '11th', '12', '120', '1200', '125', '12th', '13', '130', '14', '140', '1400', '15', '150', '16', '160', '17', '170', '18', '180', '19', '1st', '20', '200', '2000', '2003', '2008', '2011', '2012', '2013', '2014', '2015', '2016', '2017', '2018', '20th', '21', '21st', '22', '23', '24', '25', '250', '26', '27', '28', '280', '29', '2d', '2nd', '30', '300', '3000', '31', '32', '320', '33', '34', '35', '350', '36', '360', '365', '37', '375', '38', '39', '3d', '3doodler', '3rd', '40', '400', '41', '42', '43', '44', '45', '450', '46', '47', '48', '49', '4k', '4th', '50', '500', '504', '51', '52', '53', '54', '55', '550', '56', '57', '58', '5th', '60', '600', '61', '62', '63', '64', '65', '650', '66', '67', '68', '69', '6th', '70', '700', '71', '72', '73', '74', '75', '750', '76', '77', '78', '79', '7th', '80', '800', '81', '82', '83', '84', '85', '850', '86', '87', '88', '89', '8th', '90', '900', '91', '92', '93', '94', '95', '96', '97', '98', '99', '9th', 'abandoned', 'abc', 'abcya', 'abdominal', 'abilities', 'ability', 'able', 'abound', 'about', 'above', 'abraham', 'absence', 'absences', 'absent', 'absenteeism', 'absolute', 'absolutely', 'absorb', 'absorbed', 'absorbing', 'abstract', 'abundance', 'abundant', 'abuse', 'academia', 'academic', 'academically', 'academics', 'academy', 'accelerate', 'accelerated', 'acceleration', 'accept', 'acceptable', 'acceptance', 'accepted', 'accepting', 'accepts', 'access', 'accessed', 'accessibility', 'accessible', 'accessing', 'accessories', 'accessory', 'accident', 'accidentally', 'accidents', 'accommodate', 'accommodating', 'accommodation', 'accommodations', 'accompanied', 'accompaniment', 'accompany', 'accompanying', 'accomplish', 'accomplished', 'accomplishing', 'accomplishment', 'accomplishments', 'according', 'accordingly', 'account', 'accountability', 'accountable', 'accounts', 'accredited', 'accumulate', 'accumulated', 'accuracy', 'accurate', 'accurately', 'accustomed', 'ace', 'acer', 'aches', 'achievable', 'achieve', 'achieved', 'achievement', 'achievements', 'achiever', 'achievers', 'achieving', 'acknowledge', 'acknowledged', 'acquire', 'acquired', 'acquiring', 'acquisition', 'across', 'acrylic', 'act', 'acting', 'action', 'actions', 'activate', 'activates', 'active', 'actively', 'activites', 'activities', 'activity', 'actors', 'acts', 'actual', 'actually', 'ad', 'adapt', 'adaptable', 'adaptation', 'adaptations', 'adapted', 'adapter', 'adapting', 'adaptive', 'add', 'added', 'addiction', 'adding', 'addition', 'additional', 'additionally', 'additions', 'address', 'addressed', 'addresses', 'addressing', 'adds', 'adept', 'adequate', 'adequately', 'adhd', 'adhere', 'adhesive', 'adjectives', 'adjust', 'adjustable', 'adjusted', 'adjusting', 'adjustment', 'adjustments', 'administered', 'administration', 'administrator', 'administrators', 'admire', 'admission', 'admit', 'adobe', 'adolescence', 'adolescent', 'adolescents', 'adopt', 'adopted', 'adoption', 'adorable', 'adore', 'adult', 'adulthood', 'adults', 'advance', 'advanced', 'advancement', 'advancements', 'advances', 'advancing', 'advantage', 'advantages', 'adventure', 'adventures', 'adventurous', 'adversities', 'adversity', 'advertisements', 'advertising', 'advisory', 'advocacy', 'advocate', 'advocates', 'advocating', 'aerobic', 'aesthetically', 'aesthetics', 'affect', 'affected', 'affecting', 'affection', 'affective', 'affects', 'affiliated', 'affirmation', 'affluent', 'afford', 'affordable', 'afforded', 'affording', 'affords', 'afghanistan', 'aforementioned', 'afraid', 'africa', 'african', 'after', 'afternoon', 'afternoons', 'afterschool', 'afterwards', 'again', 'against', 'age', 'aged', 'agencies', 'agency', 'agenda', 'agents', 'ages', 'aggression', 'aggressive', 'agility', 'aging', 'ago', 'agree', 'agreed', 'agricultural', 'agriculture', 'aha', 'ahead', 'aid', 'aide', 'aided', 'aides', 'aiding', 'aids', 'aim', 'aimed', 'aiming', 'aims', 'air', 'airport', 'aka', 'al', 'alabama', 'alaska', 'alaskan', 'albert', 'alcohol', 'alert', 'alertness', 'algebra', 'algebraic', 'algorithms', 'align', 'aligned', 'aligns', 'alike', 'alive', 'all', 'allergies', 'alleviate', 'allocated', 'allotted', 'allow', 'allowed', 'allowing', 'allows', 'almost', 'alone', 'along', 'alongside', 'alot', 'aloud', 'alouds', 'alphabet', 'already', 'also', 'alter', 'alternate', 'alternative', 'alternatives', 'although', 'alto', 'altogether', 'alumni', 'always', 'am', 'amaze', 'amazed', 'amazement', 'amazes', 'amazing', 'amazingly', 'amazon', 'ambassadors', 'ambition', 'ambitions', 'ambitious', 'amenities', 'america', 'american', 'americans', 'amharic', 'amidst', 'among', 'amongst', 'amount', 'amounts', 'ample', 'amplification', 'amplify', 'an', 'analysis', 'analytical', 'analyze', 'analyzed', 'analyzing', 'anatomy', 'ancestors', 'ancestry', 'anchor', 'anchors', 'ancient', 'and', 'anderson', 'android', 'andy', 'angeles', 'angelou', 'anger', 'angle', 'angles', 'angry', 'animal', 'animals', 'animated', 'animation', 'animations', 'anne', 'annotate', 'annotating', 'announcements', 'annual', 'annually', 'anonymous', 'another', 'answer', 'answered', 'answering', 'answers', 'ant', 'anti', 'anticipate', 'anticipated', 'anticipating', 'anticipation', 'antiquated', 'antonio', 'antonyms', 'ants', 'antsy', 'anxieties', 'anxiety', 'anxious', 'anxiously', 'any', 'anymore', 'anyone', 'anything', 'anytime', 'anyway', 'anywhere', 'ap', 'apart', 'apartment', 'apartments', 'app', 'appalachia', 'appalachian', 'apparent', 'appeal', 'appealing', 'appeals', 'appear', 'appearance', 'appears', 'appetite', 'apple', 'applesauce', 'applicable', 'application', 'applications', 'applied', 'applies', 'apply', 'applying', 'appreciate', 'appreciated', 'appreciating', 'appreciation', 'appreciative', 'approach', 'approached', 'approaches', 'approaching', 'appropriate', 'appropriately', 'approval', 'approved', 'approximately', 'apps', 'april', 'apt', 'aptitude', 'aquarium', 'aquatic', 'ar', 'arabic', 'archery', 'architect', 'architects', 'architecture', 'arduino', 'are', 'area', 'areas', 'aren', 'argue', 'argument', 'argumentative', 'arguments', 'arise', 'arises', 'arithmetic', 'arizona', 'arkansas', 'arm', 'armed', 'arms', 'army', 'around', 'arrange', 'arranged', 'arrangement', 'arrangements', 'arranging', 'array', 'arrays', 'arrival', 'arrivals', 'arrive', 'arrived', 'arrives', 'arriving', 'art', 'article', 'articles', 'articulate', 'articulation', 'artifacts', 'artificial', 'artist', 'artistic', 'artistically', 'artists', 'arts', 'artwork', 'artworks', 'as', 'asd', 'asia', 'asian', 'aside', 'ask', 'asked', 'asking', 'asks', 'aspect', 'aspects', 'aspirations', 'aspire', 'aspiring', 'assemble', 'assemblies', 'assembly', 'assess', 'assessed', 'assesses', 'assessing', 'assessment', 'assessments', 'asset', 'assets', 'assign', 'assigned', 'assigning', 'assignment', 'assignments', 'assimilate', 'assist', 'assistance', 'assistant', 'assistants', 'assisted', 'assisting', 'assistive', 'assists', 'associate', 'associated', 'association', 'assorted', 'assortment', 'assume', 'assure', 'assured', 'asthma', 'astounding', 'astronomy', 'at', 'ate', 'athlete', 'athletes', 'athletic', 'athletics', 'atlanta', 'atmosphere', 'atoms', 'attach', 'attached', 'attack', 'attain', 'attainable', 'attained', 'attaining', 'attempt', 'attempting', 'attempts', 'attend', 'attendance', 'attended', 'attending', 'attends', 'attention', 'attentive', 'attentiveness', 'attire', 'attitude', 'attitudes', 'attract', 'attracted', 'attractive', 'attribute', 'attributes', 'audible', 'audience', 'audiences', 'audio', 'audiobooks', 'audition', 'auditorium', 'auditory', 'augment', 'augmentative', 'augmented', 'august', 'aunts', 'austin', 'authentic', 'author', 'authors', 'autism', 'autistic', 'automatic', 'automatically', 'autonomous', 'autonomy', 'availability', 'available', 'avenue', 'avenues', 'average', 'averages', 'avid', 'avoid', 'avoiding', 'await', 'awaiting', 'awaits', 'awake', 'awaken', 'award', 'awarded', 'awards', 'aware', 'awareness', 'away', 'awe', 'awesome', 'awful', 'awhile', 'awkward', 'babies', 'baby', 'babysitting', 'baccalaureate', 'back', 'backbone', 'background', 'backgrounds', 'backpack', 'backpacks', 'backs', 'backwards', 'backyard', 'bacteria', 'bad', 'badly', 'badminton', 'bag', 'baggage', 'baggies', 'bags', 'bake', 'baking', 'balance', 'balanced', 'balances', 'balancing', 'ball', 'ballet', 'balloon', 'balloons', 'balls', 'baltimore', 'band', 'bands', 'bangladesh', 'bank', 'bar', 'bare', 'barely', 'barrier', 'barriers', 'bars', 'base', 'baseball', 'based', 'bases', 'basic', 'basically', 'basics', 'basis', 'basket', 'basketball', 'basketballs', 'baskets', 'bass', 'bath', 'bathroom', 'baton', 'bats', 'batteries', 'battery', 'batting', 'battle', 'battles', 'battling', 'bay', 'be', 'beach', 'beacon', 'beads', 'beakers', 'beam', 'beaming', 'beams', 'bean', 'beanbag', 'beanbags', 'beans', 'bear', 'bears', 'beat', 'beating', 'beats', 'beautiful', 'beautifully', 'beauty', 'became', 'because', 'become', 'becomes', 'becoming', 'bed', 'bedroom', 'beds', 'bedtime', 'bee', 'been', 'bees', 'before', 'beg', 'began', 'begged', 'begging', 'begin', 'beginner', 'beginners', 'beginning', 'beginnings', 'begins', 'begun', 'behalf', 'behave', 'behaved', 'behavior', 'behavioral', 'behaviorally', 'behaviors', 'behind', 'behold', 'being', 'beings', 'belief', 'beliefs', 'believe', 'believed', 'believer', 'believers', 'believes', 'believing', 'bell', 'bellies', 'bells', 'belly', 'belong', 'belonging', 'belongings', 'belongs', 'beloved', 'below', 'belt', 'belts', 'ben', 'bench', 'benches', 'benchmark', 'benchmarks', 'bend', 'beneath', 'beneficial', 'benefit', 'benefited', 'benefiting', 'benefits', 'bengali', 'benjamin', 'bent', 'beside', 'besides', 'best', 'bet', 'better', 'bettering', 'between', 'beyond', 'bi', 'bias', 'biased', 'bicycle', 'big', 'bigger', 'biggest', 'bike', 'bikes', 'bilingual', 'bilingualism', 'biliterate', 'bill', 'bills', 'bin', 'bind', 'binder', 'binders', 'binding', 'bingo', 'bins', 'biographies', 'biography', 'biological', 'biology', 'biomedical', 'biotechnology', 'bird', 'birds', 'birth', 'birthday', 'birthdays', 'bit', 'bits', 'black', 'blacktop', 'blame', 'blank', 'blanket', 'blankets', 'blast', 'blend', 'blended', 'blender', 'blending', 'blends', 'bless', 'blessed', 'blessing', 'blessings', 'blind', 'block', 'blocking', 'blocks', 'blog', 'blogging', 'blogs', 'blood', 'bloom', 'blossom', 'blossoming', 'blow', 'blowing', 'blown', 'bloxels', 'blue', 'bluetooth', 'board', 'boards', 'boasts', 'boat', 'boats', 'bodies', 'body', 'boisterous', 'bold', 'bolster', 'bombarded', 'bond', 'bonding', 'bonds', 'bone', 'bones', 'bonus', 'boogie', 'book', 'bookcase', 'bookcases', 'bookmarks', 'books', 'bookshelf', 'bookshelves', 'bookstore', 'bookworms', 'boost', 'boosting', 'boosts', 'border', 'borders', 'bored', 'boredom', 'boring', 'born', 'borough', 'boroughs', 'borrow', 'borrowed', 'borrowing', 'boston', 'bot', 'both', 'bothering', 'bots', 'bottle', 'bottled', 'bottles', 'bottom', 'bottoms', 'bought', 'bounce', 'bouncing', 'bouncy', 'bound', 'boundaries', 'boundary', 'boundless', 'bounds', 'bowl', 'bowling', 'bowls', 'box', 'boxed', 'boxes', 'boy', 'boys', 'bracelets', 'bracket', 'brag', 'brain', 'brainpop', 'brains', 'brainstorm', 'brainstormed', 'brainstorming', 'branch', 'branches', 'brand', 'brave', 'bravery', 'brazil', 'break', 'breakdown', 'breakfast', 'breakfasts', 'breaking', 'breakout', 'breakoutedu', 'breaks', 'breath', 'breathe', 'breathing', 'breeze', 'brick', 'bricks', 'bridge', 'bridges', 'bridging', 'brief', 'bright', 'brighten', 'brightens', 'brighter', 'brightest', 'brightly', 'brilliance', 'brilliant', 'brimming', 'bring', 'bringing', 'brings', 'broad', 'broadcast', 'broaden', 'broadening', 'broader', 'broadway', 'brochures', 'broke', 'broken', 'bronx', 'brooklyn', 'brother', 'brothers', 'brought', 'brown', 'browse', 'browsing', 'brush', 'brushes', 'bubble', 'bubbles', 'bubbling', 'bubbly', 'bucket', 'buckets', 'bucks', 'buddies', 'budding', 'buddy', 'budget', 'budgetary', 'budgeting', 'budgets', 'buds', 'buffalo', 'bug', 'bugs', 'build', 'builder', 'builders', 'building', 'buildings', 'builds', 'built', 'bulb', 'bulbs', 'bulk', 'bulky', 'bulletin', 'bullies', 'bullying', 'bump', 'bumping', 'bumps', 'bunch', 'bundle', 'bundles', 'bungee', 'burden', 'burdened', 'burdens', 'burma', 'burmese', 'burn', 'burned', 'burner', 'burning', 'burst', 'bursting', 'bus', 'bused', 'buses', 'business', 'businesses', 'bussed', 'busting', 'bustling', 'busy', 'but', 'butterflies', 'butterfly', 'button', 'buttons', 'buy', 'buying', 'buzz', 'buzzers', 'buzzing', 'by', 'ca', 'cabinet', 'cabinets', 'cable', 'cables', 'cad', 'caddies', 'cafe', 'cafeteria', 'cake', 'calculate', 'calculating', 'calculations', 'calculator', 'calculators', 'calculus', 'calendar', 'calendars', 'caliber', 'california', 'call', 'called', 'calling', 'calls', 'calm', 'calmer', 'calming', 'calories', 'cam', 'camaraderie', 'cambodia', 'camden', 'came', 'camera', 'cameras', 'camp', 'campaign', 'camping', 'camps', 'campus', 'campuses', 'can', 'cancel', 'cancelling', 'cancer', 'candy', 'cannot', 'canon', 'cans', 'cant', 'cantonese', 'canvas', 'canvases', 'canyon', 'cap', 'capabilities', 'capability', 'capable', 'capacities', 'capacity', 'capital', 'capitalize', 'caps', 'captions', 'captivate', 'captivated', 'captivating', 'capture', 'captured', 'captures', 'capturing', 'car', 'carbon', 'card', 'cardboard', 'cardio', 'cardiovascular', 'cards', 'cardstock', 'care', 'cared', 'career', 'careers', 'careful', 'carefully', 'caregiver', 'caregivers', 'cares', 'caretakers', 'caribbean', 'caring', 'carol', 'carolina', 'carpet', 'carpeted', 'carpets', 'carried', 'carries', 'carry', 'carrying', 'cars', 'cart', 'cartoons', 'cartridge', 'cartridges', 'carts', 'carve', 'carving', 'case', 'caseload', 'cases', 'cash', 'cassette', 'cast', 'castle', 'castles', 'cat', 'catalog', 'catalyst', 'catapult', 'catch', 'catches', 'catching', 'catchy', 'categorical', 'categories', 'categorized', 'category', 'cater', 'caterpillar', 'caterpillars', 'caters', 'cats', 'caucasian', 'caught', 'cause', 'caused', 'causes', 'causing', 'ccss', 'cd', 'cds', 'cease', 'ceases', 'ceiling', 'celebrate', 'celebrated', 'celebrates', 'celebrating', 'celebration', 'celebrations', 'cell', 'cells', 'cement', 'center', 'centered', 'centers', 'central', 'century', 'ceramic', 'ceramics', 'cereal', 'cerebral', 'certain', 'certainly', 'certificate', 'certificates', 'certification', 'certified', 'chain', 'chains', 'chair', 'chairs', 'chalk', 'chalkboard', 'challenge', 'challenged', 'challenges', 'challenging', 'champion', 'champions', 'championship', 'championships', 'chance', 'chances', 'change', 'changed', 'changer', 'changers', 'changes', 'changing', 'channel', 'channeled', 'chant', 'chants', 'chaos', 'chaotic', 'chapter', 'chapters', 'character', 'characteristic', 'characteristics', 'characterization', 'characterized', 'characters', 'charge', 'charged', 'charger', 'chargers', 'charges', 'charging', 'charismatic', 'charity', 'charleston', 'charlotte', 'charm', 'charming', 'chart', 'charter', 'charting', 'charts', 'chase', 'chat', 'chatter', 'cheap', 'cheaper', 'check', 'checked', 'checking', 'checkout', 'checks', 'cheer', 'cheerful', 'cheering', 'cheerleader', 'cheerleaders', 'cheerleading', 'cheers', 'chef', 'chefs', 'chemical', 'chemicals', 'chemistry', 'cherish', 'cherished', 'chess', 'chest', 'chew', 'chicago', 'chicken', 'chickens', 'chicks', 'child', 'childcare', 'childhood', 'children', 'childrens', 'china', 'chinese', 'chip', 'chips', 'chocolate', 'choice', 'choices', 'choir', 'choose', 'chooses', 'choosing', 'choral', 'chord', 'chords', 'chore', 'chores', 'chorus', 'chose', 'chosen', 'christmas', 'chrome', 'chromebook', 'chromebooks', 'chronic', 'chunks', 'church', 'churches', 'circle', 'circles', 'circuit', 'circuitry', 'circuits', 'circular', 'circulation', 'circumstance', 'circumstances', 'cite', 'cities', 'citizen', 'citizens', 'citizenship', 'city', 'civic', 'civil', 'civilization', 'civilizations', 'claim', 'claims', 'clarify', 'clarinet', 'clarinets', 'clarity', 'clark', 'class', 'classdojo', 'classes', 'classic', 'classical', 'classics', 'classification', 'classified', 'classify', 'classmate', 'classmates', 'classroom', 'classrooms', 'classwork', 'clay', 'clean', 'cleaned', 'cleaner', 'cleaners', 'cleaning', 'cleanliness', 'cleanup', 'clear', 'clearer', 'clearly', 'cleveland', 'clever', 'click', 'clickers', 'clicking', 'climate', 'climb', 'climbing', 'clinic', 'clip', 'clipboard', 'clipboards', 'clips', 'clock', 'clocks', 'clorox', 'close', 'closed', 'closely', 'closer', 'closest', 'closet', 'closing', 'clothes', 'clothing', 'cloud', 'club', 'clubs', 'clue', 'clues', 'cluster', 'clutter', 'cluttered', 'co', 'coach', 'coaches', 'coaching', 'coal', 'coast', 'coastal', 'coaster', 'coasters', 'coat', 'coats', 'code', 'coded', 'coders', 'codes', 'coding', 'coffee', 'cognition', 'cognitive', 'cognitively', 'cohesive', 'cohort', 'coincide', 'coins', 'cold', 'collaborate', 'collaborating', 'collaboration', 'collaborative', 'collaboratively', 'collaborators', 'collage', 'collages', 'collar', 'colleague', 'colleagues', 'collect', 'collected', 'collecting', 'collection', 'collections', 'collective', 'collectively', 'college', 'colleges', 'collegiate', 'colony', 'color', 'colorado', 'colored', 'colorful', 'coloring', 'colors', 'columbia', 'columbus', 'com', 'combat', 'combination', 'combinations', 'combine', 'combined', 'combines', 'combining', 'combo', 'come', 'comes', 'comfort', 'comfortable', 'comfortably', 'comforting', 'comforts', 'comfy', 'comic', 'comics', 'coming', 'command', 'commands', 'comment', 'commented', 'comments', 'commercial', 'commercials', 'commit', 'commitment', 'committed', 'committee', 'commodity', 'common', 'commonalities', 'commonality', 'commonly', 'commons', 'communicate', 'communicates', 'communicating', 'communication', 'communications', 'communicators', 'communities', 'community', 'commute', 'compact', 'companies', 'company', 'comparable', 'compare', 'compared', 'comparing', 'comparison', 'comparisons', 'compass', 'compasses', 'compassion', 'compassionate', 'compatible', 'compelling', 'compete', 'competence', 'competency', 'competent', 'competing', 'competition', 'competitions', 'competitive', 'competitors', 'compile', 'compiled', 'complain', 'complained', 'complaining', 'complement', 'complete', 'completed', 'completely', 'completes', 'completing', 'completion', 'complex', 'complexes', 'complexity', 'complicated', 'compliment', 'component', 'components', 'compose', 'composed', 'composers', 'composing', 'composition', 'compositions', 'compost', 'composting', 'compound', 'comprehend', 'comprehending', 'comprehension', 'comprehensive', 'comprise', 'comprised', 'compromise', 'computation', 'computations', 'computer', 'computerized', 'computers', 'computing', 'concentrate', 'concentrated', 'concentrating', 'concentration', 'concept', 'concepts', 'conceptual', 'conceptualize', 'concern', 'concerned', 'concerning', 'concerns', 'concert', 'concerts', 'conclude', 'conclusion', 'conclusions', 'concrete', 'concretely', 'condition', 'conditioner', 'conditioning', 'conditions', 'conducive', 'conduct', 'conducted', 'conducting', 'cone', 'cones', 'conference', 'conferences', 'conferencing', 'confidence', 'confident', 'confidently', 'confined', 'confines', 'conflict', 'conflicts', 'conform', 'confused', 'confusing', 'confusion', 'congo', 'congressional', 'conjunction', 'connect', 'connected', 'connecticut', 'connecting', 'connection', 'connections', 'connectivity', 'connects', 'conquer', 'conscientious', 'conscious', 'consecutive', 'consequences', 'consequently', 'conservation', 'conserve', 'consider', 'considerable', 'considerably', 'considerate', 'consideration', 'considered', 'considering', 'consist', 'consistency', 'consistent', 'consistently', 'consisting', 'consists', 'console', 'consoles', 'constant', 'constantly', 'constitution', 'constraints', 'construct', 'constructed', 'constructing', 'construction', 'constructive', 'consumable', 'consume', 'consumed', 'consumer', 'consumers', 'consuming', 'consumption', 'contact', 'contagious', 'contain', 'contained', 'container', 'containers', 'containing', 'contains', 'contemporary', 'content', 'contents', 'contest', 'contests', 'context', 'contexts', 'continents', 'continual', 'continually', 'continuation', 'continue', 'continued', 'continues', 'continuing', 'continuous', 'continuously', 'continuum', 'contrary', 'contrast', 'contrasting', 'contribute', 'contributed', 'contributes', 'contributing', 'contribution', 'contributions', 'contributors', 'control', 'controlled', 'controlling', 'convenience', 'convenient', 'conveniently', 'conventional', 'conventions', 'conversation', 'conversational', 'conversations', 'converse', 'convert', 'converted', 'convex', 'convey', 'convince', 'convinced', 'cook', 'cookie', 'cookies', 'cooking', 'cool', 'cooler', 'coolest', 'cooperate', 'cooperating', 'cooperation', 'cooperative', 'cooperatively', 'coordinate', 'coordination', 'coordinator', 'cope', 'copier', 'copies', 'coping', 'copper', 'copy', 'copying', 'cord', 'cords', 'core', 'cores', 'corn', 'cornell', 'corner', 'corners', 'cornerstone', 'corporation', 'correct', 'corrections', 'correctly', 'correlate', 'correlated', 'correlation', 'correspond', 'correspondence', 'corresponding', 'cost', 'costly', 'costs', 'costume', 'costumes', 'couch', 'couches', 'could', 'couldn', 'council', 'counseling', 'counselor', 'counselors', 'count', 'counter', 'counterparts', 'counters', 'counties', 'counting', 'countless', 'countries', 'country', 'counts', 'county', 'couple', 'coupled', 'courage', 'courageous', 'course', 'courses', 'coursework', 'court', 'courts', 'courtyard', 'cousins', 'cover', 'covered', 'covering', 'covers', 'coveted', 'covey', 'cozy', 'crack', 'cracked', 'crackers', 'cracks', 'craft', 'crafted', 'crafting', 'crafts', 'craftsmanship', 'cramped', 'crash', 'crate', 'crates', 'crave', 'craving', 'crayola', 'crayon', 'crayons', 'crazy', 'cream', 'create', 'created', 'creates', 'creating', 'creation', 'creations', 'creative', 'creatively', 'creativeness', 'creativity', 'creator', 'creators', 'creatures', 'credit', 'credits', 'creek', 'creole', 'crew', 'cricut', 'crime', 'crisis', 'crisp', 'criteria', 'critical', 'critically', 'critique', 'critiquing', 'crop', 'crops', 'cross', 'crossing', 'crowd', 'crowded', 'crucial', 'cry', 'cuba', 'cubbies', 'cubby', 'cube', 'cubes', 'cuddle', 'cue', 'cues', 'culinary', 'culminating', 'culmination', 'cultivate', 'cultivates', 'cultivating', 'cultural', 'culturally', 'culture', 'cultures', 'cumbersome', 'cup', 'cups', 'curb', 'curiosities', 'curiosity', 'curious', 'curl', 'curling', 'current', 'currently', 'curricula', 'curricular', 'curriculum', 'curriculums', 'cursive', 'curve', 'cushion', 'cushioned', 'cushions', 'custodians', 'custom', 'customer', 'customers', 'customize', 'customized', 'customs', 'cut', 'cute', 'cuts', 'cutter', 'cutting', 'cvc', 'cycle', 'cycles', 'dad', 'dahl', 'daily', 'dakota', 'dallas', 'damage', 'damaged', 'damaging', 'dance', 'dancers', 'dances', 'dancing', 'danger', 'dangerous', 'dare', 'dark', 'dash', 'data', 'databases', 'date', 'dated', 'dates', 'daughter', 'daunting', 'david', 'day', 'daycare', 'days', 'dc', 'de', 'dead', 'deadlines', 'deaf', 'deal', 'dealing', 'deals', 'dealt', 'dear', 'death', 'debate', 'debates', 'debating', 'decade', 'decades', 'december', 'decent', 'decide', 'decided', 'deciding', 'decimals', 'decipher', 'decision', 'decisions', 'deck', 'decline', 'decode', 'decoding', 'decompose', 'decor', 'decorate', 'decorated', 'decorating', 'decorations', 'decorative', 'decrease', 'decreased', 'decreases', 'decreasing', 'dedicate', 'dedicated', 'dedication', 'deemed', 'deep', 'deepen', 'deepening', 'deeper', 'deeply', 'defeat', 'defeated', 'defend', 'deficiencies', 'deficient', 'deficit', 'deficits', 'define', 'defined', 'defines', 'defining', 'definite', 'definitely', 'definition', 'definitions', 'defy', 'defying', 'degree', 'degrees', 'delay', 'delayed', 'delays', 'delicate', 'delicious', 'delight', 'delighted', 'delightful', 'deliver', 'delivered', 'delivering', 'delivery', 'dell', 'delta', 'delve', 'delving', 'delzer', 'demand', 'demanding', 'demands', 'demographic', 'demographics', 'demonstrate', 'demonstrated', 'demonstrates', 'demonstrating', 'demonstration', 'demonstrations', 'denied', 'dense', 'density', 'dental', 'denver', 'deodorant', 'department', 'departmentalized', 'depend', 'dependable', 'dependent', 'dependents', 'depending', 'depends', 'depleted', 'deployed', 'deployment', 'depressed', 'depression', 'deprived', 'depth', 'descent', 'describe', 'described', 'describes', 'describing', 'description', 'descriptive', 'desert', 'deserve', 'deserved', 'deserves', 'deserving', 'design', 'designated', 'designed', 'designer', 'designers', 'designing', 'designs', 'desirable', 'desire', 'desired', 'desires', 'desk', 'desks', 'desktop', 'desktops', 'desperate', 'desperately', 'despite', 'destination', 'destined', 'destiny', 'destroyed', 'detail', 'detailed', 'details', 'detectives', 'deter', 'determination', 'determine', 'determined', 'determining', 'detrimental', 'detroit', 'devastated', 'devastating', 'develop', 'developed', 'developing', 'development', 'developmental', 'developmentally', 'developments', 'develops', 'device', 'devices', 'devise', 'devote', 'devoted', 'devour', 'dewey', 'dexterity', 'diabetes', 'diagnosed', 'diagnoses', 'diagnosis', 'diagnostic', 'diagram', 'diagrams', 'dialects', 'dialogue', 'diamond', 'diamonds', 'diaries', 'diary', 'dice', 'dictate', 'dictionaries', 'dictionary', 'did', 'didn', 'die', 'diego', 'dies', 'diet', 'diets', 'differ', 'difference', 'differences', 'different', 'differentiate', 'differentiated', 'differentiating', 'differentiation', 'differently', 'differing', 'difficult', 'difficulties', 'difficulty', 'diffuser', 'dig', 'digging', 'digit', 'digital', 'digitally', 'dignity', 'digraphs', 'dilapidated', 'dilemma', 'diligent', 'diligently', 'dim', 'dimension', 'dimensional', 'dimensions', 'diminished', 'dinner', 'dinosaur', 'dinosaurs', 'dioramas', 'diploma', 'dire', 'direct', 'directed', 'directing', 'direction', 'directions', 'directly', 'director', 'directors', 'dirt', 'dirty', 'disabilities', 'disability', 'disabled', 'disadvantage', 'disadvantaged', 'disadvantages', 'disagree', 'disagreements', 'disappear', 'disappointed', 'disappointment', 'disaster', 'disasters', 'disc', 'disciplinary', 'discipline', 'disciplined', 'disciplines', 'discomfort', 'disconnect', 'discourage', 'discouraged', 'discourse', 'discover', 'discovered', 'discoveries', 'discovering', 'discovery', 'discrimination', 'discs', 'discuss', 'discussed', 'discussing', 'discussion', 'discussions', 'disease', 'disenfranchised', 'disengaged', 'dishes', 'disinfecting', 'disk', 'disks', 'dislike', 'dislikes', 'dismissal', 'disney', 'disorder', 'disorders', 'disorganized', 'disparity', 'dispenser', 'displaced', 'display', 'displayed', 'displaying', 'displays', 'disposable', 'disposal', 'disrepair', 'disrupt', 'disrupting', 'disruption', 'disruptions', 'disruptive', 'dissect', 'dissecting', 'dissection', 'distance', 'distances', 'distant', 'distinct', 'distinguish', 'distinguished', 'distract', 'distracted', 'distracting', 'distraction', 'distractions', 'distracts', 'distribute', 'distributed', 'district', 'districts', 'disturb', 'disturbance', 'disturbances', 'disturbed', 'disturbing', 'dive', 'divergent', 'diverse', 'diversified', 'diversify', 'diversity', 'divide', 'divided', 'dividers', 'diving', 'division', 'divorce', 'diy', 'dna', 'do', 'doc', 'docs', 'doctor', 'doctors', 'document', 'documentaries', 'documentary', 'documentation', 'documented', 'documenting', 'documents', 'doers', 'does', 'doesn', 'dog', 'dogs', 'doh', 'doing', 'dojo', 'dollar', 'dollars', 'dolls', 'dolphins', 'domains', 'domestic', 'dominant', 'dominated', 'dominican', 'dominoes', 'don', 'donate', 'donated', 'donating', 'donation', 'donations', 'done', 'donor', 'donors', 'donorschoose', 'doodle', 'doodler', 'door', 'doors', 'dork', 'dose', 'dot', 'dots', 'double', 'doubled', 'doubles', 'doubt', 'dough', 'douglass', 'down', 'download', 'downloaded', 'downloading', 'downs', 'downtown', 'dozen', 'dozens', 'dr', 'draft', 'drafting', 'drafts', 'drag', 'dragon', 'drama', 'dramatic', 'dramatically', 'drastic', 'drastically', 'draw', 'drawbacks', 'drawer', 'drawers', 'drawing', 'drawings', 'drawn', 'draws', 'dread', 'dream', 'dreambox', 'dreamed', 'dreamers', 'dreaming', 'dreams', 'dress', 'dressed', 'drew', 'dribbling', 'dried', 'drill', 'drills', 'drink', 'drinking', 'drinks', 'drive', 'driven', 'driver', 'drivers', 'drives', 'driving', 'drone', 'drones', 'drop', 'dropped', 'dropping', 'drown', 'drug', 'drugs', 'drum', 'drumline', 'drumming', 'drums', 'dry', 'drying', 'dual', 'duct', 'due', 'dull', 'durability', 'durable', 'duration', 'during', 'dust', 'duties', 'duty', 'dvd', 'dvds', 'dwindling', 'dye', 'dying', 'dynamic', 'dynamics', 'dyslexia', 'dyslexic', 'dystopian', 'each', 'eager', 'eagerly', 'eagerness', 'eagle', 'eagles', 'ear', 'earbuds', 'earlier', 'earliest', 'early', 'earn', 'earned', 'earning', 'earphones', 'ears', 'earth', 'earthquake', 'earthquakes', 'ease', 'easel', 'easels', 'easier', 'easiest', 'easily', 'east', 'eastern', 'easy', 'eat', 'eaten', 'eating', 'eats', 'ebooks', 'ec', 'echo', 'eclectic', 'eco', 'ecology', 'economic', 'economical', 'economically', 'economics', 'economy', 'ecosystem', 'ecosystems', 'ecstatic', 'ect', 'ecuador', 'ed', 'edge', 'edges', 'edible', 'edison', 'edit', 'editing', 'edition', 'edu', 'educate', 'educated', 'educates', 'educating', 'education', 'educational', 'educationally', 'educations', 'educator', 'educators', 'edutopia', 'effect', 'effected', 'effective', 'effectively', 'effectiveness', 'effects', 'efficiency', 'efficient', 'efficiently', 'effort', 'effortlessly', 'efforts', 'egg', 'eggs', 'egypt', 'eight', 'eighteen', 'eighth', 'eighty', 'einstein', 'either', 'el', 'ela', 'elaborate', 'elastic', 'elbow', 'eld', 'elderly', 'election', 'elections', 'elective', 'electives', 'electric', 'electrical', 'electricity', 'electronic', 'electronically', 'electronics', 'electrophoresis', 'element', 'elementary', 'elements', 'elephant', 'elevate', 'eleven', 'eligibility', 'eligible', 'eliminate', 'eliminated', 'eliminates', 'eliminating', 'ell', 'elliptical', 'ells', 'elmo', 'else', 'elsewhere', 'email', 'emails', 'embark', 'embarking', 'embarrassed', 'embarrassing', 'embarrassment', 'embed', 'embedded', 'embodies', 'embody', 'embrace', 'embraced', 'embraces', 'embracing', 'emerge', 'emergency', 'emergent', 'emerging', 'emotion', 'emotional', 'emotionally', 'emotions', 'empathetic', 'empathize', 'empathy', 'emphasis', 'emphasize', 'emphasized', 'emphasizes', 'emphasizing', 'employ', 'employed', 'employees', 'employers', 'employment', 'empower', 'empowered', 'empowering', 'empowerment', 'empowers', 'empty', 'emulate', 'en', 'enable', 'enabled', 'enables', 'enabling', 'encompass', 'encompasses', 'encounter', 'encountered', 'encounters', 'encourage', 'encouraged', 'encouragement', 'encourages', 'encouraging', 'end', 'endangered', 'endearing', 'endeavor', 'endeavors', 'ended', 'ending', 'endings', 'endless', 'ends', 'endurance', 'endure', 'endured', 'enduring', 'energetic', 'energize', 'energized', 'energy', 'enforce', 'engage', 'engaged', 'engagement', 'engages', 'engaging', 'engine', 'engineer', 'engineering', 'engineers', 'engines', 'england', 'english', 'engrossed', 'enhance', 'enhanced', 'enhancement', 'enhances', 'enhancing', 'enjoy', 'enjoyable', 'enjoyed', 'enjoying', 'enjoyment', 'enjoys', 'enl', 'enlarge', 'enlighten', 'enlightening', 'enormous', 'enough', 'enrich', 'enriched', 'enriches', 'enriching', 'enrichment', 'enroll', 'enrolled', 'enrolling', 'enrollment', 'ensemble', 'ensembles', 'ensure', 'ensures', 'ensuring', 'entails', 'enter', 'entered', 'entering', 'enters', 'entertain', 'entertained', 'entertaining', 'entertainment', 'enthralled', 'enthused', 'enthusiasm', 'enthusiastic', 'enthusiastically', 'entice', 'enticing', 'entire', 'entirely', 'entirety', 'entitled', 'entrance', 'entrepreneur', 'entrepreneurs', 'entrepreneurship', 'entries', 'entry', 'envelopes', 'environment', 'environmental', 'environmentally', 'environments', 'envision', 'envisioned', 'epic', 'equal', 'equality', 'equalizer', 'equally', 'equals', 'equation', 'equations', 'equip', 'equipment', 'equipped', 'equipping', 'equitable', 'equity', 'equivalent', 'era', 'erase', 'erased', 'eraser', 'erasers', 'ergonomic', 'eric', 'erosion', 'error', 'errors', 'escape', 'ese', 'esl', 'esol', 'especially', 'essay', 'essays', 'essence', 'essential', 'essentially', 'essentials', 'establish', 'established', 'establishing', 'esteem', 'estimate', 'estimation', 'estrada', 'etc', 'ethic', 'ethical', 'ethics', 'ethiopia', 'ethnic', 'ethnically', 'ethnicities', 'ethnicity', 'europe', 'european', 'ev3', 'evaluate', 'evaluating', 'evaluation', 'evans', 'even', 'evening', 'evenings', 'event', 'events', 'eventually', 'ever', 'every', 'everybody', 'everyday', 'everyone', 'everything', 'everywhere', 'evidence', 'evident', 'evolution', 'evolve', 'evolved', 'evolves', 'evolving', 'ex', 'exact', 'exactly', 'exam', 'examine', 'examining', 'example', 'examples', 'exams', 'exceed', 'exceeded', 'exceeding', 'exceeds', 'excel', 'excelled', 'excellence', 'excellent', 'excelling', 'except', 'exception', 'exceptional', 'exceptionalities', 'exceptionally', 'exceptions', 'excess', 'excessive', 'exchange', 'excitable', 'excite', 'excited', 'excitedly', 'excitement', 'excites', 'exciting', 'exclaimed', 'excuse', 'excuses', 'execute', 'executing', 'executive', 'exemplary', 'exemplify', 'exercise', 'exercises', 'exercising', 'exert', 'exhibit', 'exhibiting', 'exhibits', 'exist', 'existed', 'existence', 'existent', 'existing', 'exists', 'exit', 'exited', 'exiting', 'expand', 'expanded', 'expanding', 'expands', 'expansion', 'expect', 'expectation', 'expectations', 'expected', 'expecting', 'expedition', 'expeditionary', 'expeditions', 'expel', 'expend', 'expense', 'expenses', 'expensive', 'experience', 'experienced', 'experiences', 'experiencing', 'experiential', 'experiment', 'experimental', 'experimentation', 'experimented', 'experimenting', 'experiments', 'expert', 'expertise', 'experts', 'explain', 'explained', 'explaining', 'explains', 'explanation', 'explanations', 'explicit', 'explicitly', 'explode', 'exploration', 'explorations', 'exploratory', 'explore', 'explored', 'explorers', 'explores', 'exploring', 'explosion', 'expo', 'exponential', 'exponentially', 'expose', 'exposed', 'exposes', 'exposing', 'expository', 'exposure', 'exposures', 'express', 'expressed', 'expressing', 'expression', 'expressions', 'expressive', 'extend', 'extended', 'extending', 'extends', 'extension', 'extensions', 'extensive', 'extensively', 'extent', 'exterior', 'external', 'extra', 'extracurricular', 'extraordinary', 'extras', 'extreme', 'extremely', 'extrinsic', 'exuberant', 'exude', 'eye', 'eyed', 'eyes', 'fabric', 'fabulous', 'face', 'facebook', 'faced', 'faces', 'facet', 'faceted', 'facets', 'facial', 'facilitate', 'facilitated', 'facilitates', 'facilitating', 'facilitator', 'facilities', 'facility', 'facing', 'fact', 'factor', 'factors', 'factory', 'facts', 'faculty', 'fail', 'failed', 'failing', 'fails', 'failure', 'failures', 'fair', 'fairly', 'fairness', 'fairy', 'faith', 'fake', 'fall', 'fallen', 'falling', 'falls', 'familial', 'familiar', 'familiarity', 'familiarize', 'families', 'family', 'famous', 'fan', 'fancy', 'fans', 'fantastic', 'fantasy', 'far', 'farm', 'farmers', 'farming', 'farmland', 'farms', 'farther', 'fascinated', 'fascinating', 'fashion', 'fashioned', 'fast', 'faster', 'fastest', 'fat', 'father', 'fathers', 'fatigue', 'fault', 'favor', 'favorite', 'favorites', 'fear', 'fearless', 'fears', 'feasible', 'feat', 'feature', 'featured', 'features', 'featuring', 'february', 'fed', 'federal', 'fee', 'feed', 'feedback', 'feeder', 'feeding', 'feeds', 'feel', 'feeling', 'feelings', 'feels', 'fees', 'feet', 'fell', 'fellow', 'felt', 'female', 'females', 'feminine', 'ferguson', 'festival', 'festivals', 'few', 'fewer', 'fi', 'fiction', 'fictional', 'fidget', 'fidgeting', 'fidgets', 'fidgety', 'field', 'fields', 'fiercely', 'fifteen', 'fifth', 'fifty', 'fight', 'fighters', 'fighting', 'figurative', 'figure', 'figured', 'figures', 'figuring', 'filament', 'file', 'files', 'filing', 'filipino', 'fill', 'filled', 'filling', 'fills', 'film', 'filming', 'films', 'filter', 'filters', 'final', 'finally', 'finance', 'finances', 'financial', 'financially', 'find', 'finding', 'findings', 'finds', 'fine', 'finest', 'finger', 'fingers', 'fingertips', 'finish', 'finished', 'finishers', 'finishes', 'finishing', 'fire', 'fired', 'fires', 'firm', 'firmly', 'first', 'firsthand', 'firsties', 'fish', 'fishing', 'fist', 'fit', 'fitbit', 'fitbits', 'fitness', 'fits', 'fitting', 'five', 'fives', 'fix', 'fixed', 'fixing', 'fl', 'flag', 'flags', 'flame', 'flash', 'flashcards', 'flashlight', 'flashlights', 'flat', 'flex', 'flexibility', 'flexible', 'flight', 'flint', 'flip', 'flipped', 'flipping', 'float', 'floating', 'flocabulary', 'flood', 'flooded', 'flooding', 'floor', 'floors', 'florida', 'flourish', 'flourishing', 'flow', 'flower', 'flowers', 'flowing', 'flows', 'flu', 'fluency', 'fluent', 'fluently', 'fluid', 'fluorescent', 'fly', 'flyers', 'flying', 'foam', 'focal', 'focus', 'focused', 'focuses', 'focusing', 'fold', 'foldable', 'foldables', 'folder', 'folders', 'folding', 'folk', 'folktales', 'follow', 'followed', 'following', 'follows', 'fond', 'food', 'foods', 'foot', 'footage', 'football', 'footballs', 'foothills', 'footprint', 'for', 'force', 'forced', 'forces', 'forcing', 'forefront', 'foreign', 'foremost', 'forensic', 'forensics', 'forest', 'forests', 'forever', 'forge', 'forget', 'forgot', 'forgotten', 'form', 'formal', 'formally', 'format', 'formation', 'formative', 'formats', 'formed', 'former', 'formerly', 'forming', 'forms', 'formula', 'formulate', 'fort', 'forth', 'fortunate', 'fortunately', 'fortune', 'forty', 'forum', 'forward', 'fossil', 'fossils', 'foster', 'fostered', 'fostering', 'fosters', 'found', 'foundation', 'foundational', 'foundations', 'founded', 'founding', 'fountain', 'four', 'fourteen', 'fourth', 'fourths', 'fraction', 'fractions', 'fragile', 'frame', 'frames', 'framework', 'frameworks', 'france', 'francisco', 'frank', 'franklin', 'frankly', 'fred', 'free', 'freedom', 'freeing', 'freely', 'french', 'frequency', 'frequent', 'frequently', 'fresh', 'freshly', 'freshman', 'freshmen', 'friday', 'fridays', 'friend', 'friendly', 'friends', 'friendship', 'friendships', 'frisbee', 'frisbees', 'frog', 'frogs', 'from', 'front', 'frozen', 'fruit', 'fruition', 'fruits', 'frustrated', 'frustrating', 'frustration', 'frustrations', 'ft', 'fuel', 'fueled', 'fueling', 'fuels', 'fulfill', 'fulfilled', 'fulfilling', 'fulfillment', 'full', 'fullest', 'fully', 'fun', 'function', 'functional', 'functionality', 'functionally', 'functioning', 'functions', 'fund', 'fundamental', 'fundamentals', 'funded', 'funding', 'fundraisers', 'fundraising', 'funds', 'funniest', 'funny', 'furnish', 'furniture', 'further', 'furthering', 'furthermore', 'futon', 'future', 'futures', 'ga', 'gadgets', 'gaiam', 'gain', 'gained', 'gaining', 'gains', 'galaxy', 'galleries', 'gallery', 'gallon', 'game', 'gamers', 'games', 'gaming', 'gamut', 'gang', 'gangs', 'gap', 'gaps', 'garage', 'garbage', 'garden', 'gardening', 'gardens', 'gas', 'gases', 'gate', 'gates', 'gateway', 'gather', 'gathered', 'gathering', 'gauge', 'gave', 'gear', 'geared', 'gears', 'gel', 'gem', 'gender', 'genders', 'general', 'generalization', 'generalize', 'generally', 'generate', 'generated', 'generating', 'generation', 'generational', 'generations', 'generosity', 'generous', 'generously', 'genetic', 'genetics', 'genius', 'geniuses', 'genre', 'genres', 'gentle', 'gentlemen', 'gently', 'genuine', 'genuinely', 'geographic', 'geographical', 'geography', 'geometric', 'geometry', 'george', 'georgia', 'germ', 'german', 'germs', 'gestures', 'get', 'gets', 'getting', 'ghana', 'giant', 'gift', 'gifted', 'gifts', 'giggle', 'giggles', 'girl', 'girls', 'give', 'given', 'giver', 'gives', 'giving', 'gizmos', 'glad', 'glance', 'glare', 'glass', 'glasses', 'glaze', 'glazes', 'glimpse', 'glitter', 'global', 'globally', 'globe', 'globes', 'gloves', 'glow', 'glue', 'glued', 'gluing', 'go', 'goal', 'goals', 'goats', 'god', 'goes', 'goggles', 'gogh', 'going', 'gold', 'golden', 'goldfish', 'goldilocks', 'golf', 'gone', 'gonoodle', 'good', 'goodbye', 'goodness', 'goods', 'goofy', 'google', 'gopro', 'got', 'gotten', 'government', 'grab', 'grabbing', 'grace', 'gracious', 'graciously', 'grade', 'graded', 'grader', 'graders', 'grades', 'grading', 'gradually', 'graduate', 'graduated', 'graduates', 'graduating', 'graduation', 'graffiti', 'grammar', 'grand', 'grandma', 'grandparent', 'grandparents', 'granola', 'grant', 'granted', 'grants', 'graph', 'graphic', 'graphics', 'graphing', 'graphs', 'grapple', 'grasp', 'grasped', 'grasping', 'grass', 'grateful', 'gratification', 'gratifying', 'gratitude', 'gravitate', 'gravity', 'great', 'greater', 'greatest', 'greatly', 'greatness', 'greece', 'greek', 'green', 'greenhouse', 'greet', 'greeted', 'greeting', 'greetings', 'grew', 'grid', 'grip', 'grips', 'grit', 'grocery', 'groove', 'grooving', 'gross', 'ground', 'grounded', 'grounds', 'group', 'grouped', 'grouping', 'groupings', 'groups', 'grove', 'grow', 'growing', 'growling', 'grown', 'grows', 'growth', 'gt', 'guarantee', 'guaranteed', 'guard', 'guardian', 'guardians', 'guards', 'guatemala', 'guess', 'guest', 'guests', 'guidance', 'guide', 'guided', 'guidelines', 'guides', 'guiding', 'guinea', 'guitar', 'guitars', 'gun', 'gusto', 'guy', 'guys', 'gym', 'gymnasium', 'gymnastics', 'ha', 'habit', 'habitat', 'habitats', 'habits', 'had', 'hail', 'hair', 'haiti', 'haitian', 'half', 'halfway', 'hall', 'halls', 'hallway', 'hallways', 'hand', 'handed', 'handful', 'handheld', 'handicapped', 'handing', 'handle', 'handles', 'handling', 'handouts', 'hands', 'handshake', 'handwriting', 'handy', 'hang', 'hanging', 'happen', 'happened', 'happening', 'happenings', 'happens', 'happier', 'happiest', 'happily', 'happiness', 'happy', 'hard', 'hardcover', 'harder', 'hardest', 'hardly', 'hardship', 'hardships', 'hardware', 'hardworking', 'harlem', 'harm', 'harmful', 'harmony', 'harness', 'harnessing', 'harry', 'harsh', 'harvest', 'harvesting', 'has', 'hasn', 'hassle', 'hat', 'hatch', 'hatching', 'hate', 'hates', 'hats', 'have', 'haven', 'haves', 'having', 'hawaii', 'hawaiian', 'hazard', 'hdmi', 'he', 'head', 'headaches', 'headed', 'heading', 'headphone', 'headphones', 'heads', 'headset', 'headsets', 'healing', 'health', 'healthier', 'healthy', 'hear', 'heard', 'hearing', 'heart', 'heartbeat', 'heartbreaking', 'hearted', 'hearts', 'heartwarming', 'heat', 'heating', 'heaven', 'heavily', 'heavy', 'hectic', 'height', 'heighten', 'heightened', 'heights', 'held', 'helen', 'hello', 'helmets', 'help', 'helped', 'helper', 'helpers', 'helpful', 'helping', 'helps', 'hence', 'henry', 'her', 'herbs', 'here', 'heritage', 'hero', 'heroes', 'herself', 'hesitant', 'hesitation', 'heterogeneous', 'hey', 'hi', 'hidden', 'hide', 'high', 'higher', 'highest', 'highlight', 'highlighted', 'highlighters', 'highlighting', 'highlights', 'highly', 'hilarious', 'hill', 'hills', 'him', 'himself', 'hinder', 'hindered', 'hindering', 'hinders', 'hindi', 'hindrance', 'hip', 'hired', 'his', 'hispanic', 'hispanics', 'historians', 'historic', 'historical', 'historically', 'histories', 'history', 'hit', 'hits', 'hitting', 'hmong', 'hobbies', 'hobby', 'hockey', 'hokki', 'hold', 'holder', 'holders', 'holding', 'holds', 'hole', 'holes', 'holiday', 'holidays', 'holistic', 'hollywood', 'holocaust', 'home', 'homeless', 'homelessness', 'homemade', 'homeroom', 'homes', 'homestead', 'hometown', 'homework', 'homey', 'honduras', 'hone', 'honest', 'honestly', 'honesty', 'honing', 'honor', 'honored', 'honoring', 'honors', 'hood', 'hook', 'hooked', 'hooks', 'hoop', 'hoops', 'hop', 'hope', 'hoped', 'hopeful', 'hopefully', 'hopes', 'hoping', 'hopping', 'hopscotch', 'horizon', 'horizons', 'horrible', 'horseshoe', 'hose', 'hospital', 'host', 'hosted', 'hosting', 'hosts', 'hot', 'hotel', 'hotels', 'hour', 'hours', 'house', 'housed', 'household', 'households', 'housekeeping', 'houses', 'housing', 'houston', 'how', 'however', 'hp', 'html', 'http', 'https', 'hub', 'hug', 'huge', 'hugely', 'hugs', 'hula', 'hum', 'human', 'humanities', 'humanity', 'humans', 'humble', 'humbled', 'humbly', 'humidity', 'humor', 'humorous', 'hundred', 'hundreds', 'hung', 'hunger', 'hungry', 'hunt', 'hunter', 'hunting', 'hunts', 'hurdle', 'hurdles', 'hurricane', 'hurt', 'hurting', 'hurts', 'hybrid', 'hydrated', 'hydration', 'hygiene', 'hyper', 'hyperactive', 'hyperactivity', 'hypotheses', 'hypothesis', 'ib', 'ice', 'ict', 'id', 'idaho', 'idea', 'ideal', 'ideally', 'ideals', 'ideas', 'identification', 'identified', 'identify', 'identifying', 'identities', 'identity', 'ie', 'iep', 'ieps', 'if', 'ignacio', 'ignite', 'ignited', 'ignites', 'igniting', 'ignore', 'ignored', 'ii', 'iii', 'il', 'ill', 'illinois', 'illiterate', 'illness', 'illnesses', 'illustrate', 'illustrated', 'illustrating', 'illustration', 'illustrations', 'illustrator', 'illustrators', 'imac', 'image', 'imagery', 'images', 'imaginable', 'imaginary', 'imagination', 'imaginations', 'imaginative', 'imagine', 'imagined', 'imagining', 'imitate', 'immeasurable', 'immediate', 'immediately', 'immense', 'immensely', 'immerse', 'immersed', 'immersing', 'immersion', 'immigrant', 'immigrants', 'immigrated', 'immigration', 'imovie', 'imovies', 'impact', 'impacted', 'impactful', 'impacting', 'impacts', 'impaired', 'impairment', 'impairments', 'impart', 'impede', 'imperative', 'implement', 'implementation', 'implemented', 'implementing', 'implications', 'importance', 'important', 'importantly', 'impossible', 'impoverished', 'impress', 'impressed', 'impression', 'impressionable', 'impressions', 'impressive', 'improve', 'improved', 'improvement', 'improvements', 'improves', 'improving', 'improvise', 'impulsive', 'in', 'inability', 'inadequate', 'inappropriate', 'inaugural', 'incarcerated', 'incarceration', 'incentive', 'incentives', 'inch', 'inches', 'inclement', 'inclined', 'include', 'included', 'includes', 'including', 'inclusion', 'inclusive', 'income', 'incomes', 'incoming', 'incorporate', 'incorporated', 'incorporates', 'incorporating', 'incorporation', 'incorrect', 'increase', 'increased', 'increases', 'increasing', 'increasingly', 'incredible', 'incredibly', 'incubator', 'indeed', 'independence', 'independent', 'independently', 'index', 'india', 'indian', 'indiana', 'indianapolis', 'indicate', 'indicated', 'indicates', 'indicator', 'individual', 'individuality', 'individualize', 'individualized', 'individually', 'individuals', 'indoor', 'indoors', 'industrial', 'industries', 'industry', 'inequality', 'inequities', 'inevitable', 'inevitably', 'inexpensive', 'infectious', 'infer', 'inference', 'inferences', 'infested', 'infinite', 'infinity', 'inflatable', 'influence', 'influenced', 'influences', 'influential', 'influx', 'inform', 'informal', 'information', 'informational', 'informative', 'informed', 'infrastructure', 'infuse', 'infused', 'infusing', 'ingenuity', 'ingredient', 'ingredients', 'inhabit', 'inherent', 'inherently', 'inherited', 'inhibit', 'initial', 'initially', 'initiate', 'initiated', 'initiative', 'initiatives', 'injured', 'injuries', 'injury', 'injustice', 'ink', 'innate', 'inner', 'innocent', 'innovate', 'innovated', 'innovating', 'innovation', 'innovations', 'innovative', 'innovators', 'input', 'inquire', 'inquirers', 'inquiries', 'inquiring', 'inquiry', 'inquisitive', 'inquisitiveness', 'ins', 'insatiable', 'insect', 'insects', 'insecure', 'insecurity', 'insert', 'inside', 'insight', 'insightful', 'insights', 'inspiration', 'inspirational', 'inspirations', 'inspire', 'inspired', 'inspires', 'inspiring', 'instability', 'instagram', 'install', 'installation', 'installed', 'instance', 'instances', 'instant', 'instantly', 'instead', 'instill', 'instilled', 'instilling', 'instills', 'institute', 'institution', 'institutions', 'instruct', 'instructed', 'instructing', 'instruction', 'instructional', 'instructions', 'instructor', 'instrument', 'instrumental', 'instrumentation', 'instruments', 'insufficient', 'insure', 'insurmountable', 'intake', 'integral', 'integrate', 'integrated', 'integrates', 'integrating', 'integration', 'integrity', 'intellect', 'intellectual', 'intellectually', 'intelligence', 'intelligences', 'intelligent', 'intend', 'intended', 'intense', 'intensely', 'intensity', 'intensive', 'intent', 'intention', 'intentional', 'inter', 'interact', 'interacting', 'interaction', 'interactions', 'interactive', 'interactively', 'interacts', 'interconnected', 'interdependent', 'interdisciplinary', 'interest', 'interested', 'interesting', 'interests', 'interface', 'interfere', 'intermediate', 'internal', 'internalize', 'international', 'internationally', 'internet', 'internships', 'interpersonal', 'interpret', 'interpretation', 'interpretations', 'interpreting', 'interrupt', 'interrupted', 'interrupting', 'interruption', 'interruptions', 'intertwined', 'intervals', 'intervention', 'interventionist', 'interventions', 'interview', 'interviews', 'intimate', 'intimidated', 'intimidating', 'into', 'intonation', 'intricate', 'intrigue', 'intrigued', 'intriguing', 'intrinsic', 'intrinsically', 'introduce', 'introduced', 'introduces', 'introducing', 'introduction', 'introductory', 'intuitive', 'invaluable', 'invent', 'invented', 'inventing', 'invention', 'inventions', 'inventive', 'inventor', 'inventors', 'inventory', 'invest', 'invested', 'investigate', 'investigating', 'investigation', 'investigations', 'investigative', 'investigators', 'investing', 'investment', 'invigorating', 'invisible', 'invite', 'invited', 'invites', 'inviting', 'involve', 'involved', 'involvement', 'involves', 'involving', 'iowa', 'ipad', 'ipads', 'iphone', 'iphones', 'ipod', 'ipods', 'iq', 'iraq', 'iready', 'iron', 'is', 'isd', 'island', 'islander', 'islanders', 'isn', 'isolated', 'isolation', 'issue', 'issued', 'issues', 'istation', 'it', 'italy', 'item', 'items', 'its', 'itself', 'ixl', 'jack', 'jacket', 'jackets', 'jacks', 'jackson', 'jail', 'jam', 'jamaica', 'james', 'january', 'japan', 'japanese', 'jazz', 'jean', 'jefferson', 'jellyfish', 'jenga', 'jersey', 'jet', 'jewelry', 'jitters', 'job', 'jobs', 'john', 'johnson', 'join', 'joined', 'joining', 'joint', 'joints', 'jokes', 'jones', 'jordan', 'jose', 'joseph', 'jot', 'journal', 'journaling', 'journalism', 'journalists', 'journals', 'journey', 'journeys', 'joy', 'joyful', 'joys', 'jr', 'judge', 'judged', 'judges', 'judgment', 'juice', 'juices', 'july', 'jumbo', 'jump', 'jumped', 'jumping', 'jumpstart', 'junction', 'june', 'jungle', 'junie', 'junior', 'juniors', 'junk', 'just', 'justice', 'justify', 'juvenile', 'kahoot', 'kansas', 'karen', 'kate', 'katrina', 'kayla', 'keen', 'keep', 'keeping', 'keeps', 'keepsake', 'keller', 'kennedy', 'kentucky', 'kenya', 'kept', 'key', 'keyboard', 'keyboarding', 'keyboards', 'keynote', 'keys', 'khan', 'kick', 'kickball', 'kicking', 'kid', 'kiddos', 'kidney', 'kids', 'kill', 'killed', 'kiln', 'kind', 'kinder', 'kindergarten', 'kindergartener', 'kindergarteners', 'kindergartens', 'kindergartner', 'kindergartners', 'kinders', 'kindest', 'kindhearted', 'kindle', 'kindles', 'kindly', 'kindness', 'kinds', 'kinesthetic', 'kinesthetically', 'kinetic', 'king', 'kit', 'kitchen', 'kits', 'kleenex', 'knack', 'knee', 'kneel', 'kneeling', 'knees', 'knew', 'knit', 'knock', 'know', 'knowing', 'knowledge', 'knowledgeable', 'known', 'knows', 'kore', 'korea', 'korean', 'la', 'lab', 'label', 'labeled', 'labeling', 'labels', 'labor', 'laboratory', 'labs', 'lacing', 'lack', 'lacked', 'lacking', 'lacks', 'lacrosse', 'ladder', 'ladies', 'lady', 'laid', 'lake', 'lakeshore', 'lakota', 'laminate', 'laminated', 'laminating', 'lamination', 'laminator', 'lamp', 'lamps', 'land', 'landforms', 'landmarks', 'lands', 'landscape', 'landscapes', 'language', 'languages', 'lap', 'laps', 'laptop', 'laptops', 'large', 'largely', 'larger', 'largest', 'las', 'laser', 'last', 'lasting', 'lastly', 'lasts', 'latch', 'late', 'lately', 'later', 'latest', 'latin', 'latino', 'latinos', 'laugh', 'laughing', 'laughter', 'launch', 'launching', 'laundry', 'law', 'laws', 'lawyers', 'lay', 'layer', 'layers', 'laying', 'layout', 'lcd', 'lead', 'leader', 'leaders', 'leadership', 'leading', 'leads', 'leaf', 'league', 'lean', 'leaning', 'leap', 'leapfrog', 'leaps', 'learn', 'learned', 'learner', 'learners', 'learning', 'learnings', 'learns', 'least', 'leave', 'leaves', 'leaving', 'lecture', 'lectures', 'lecturing', 'led', 'left', 'leftover', 'leg', 'legacy', 'legal', 'legged', 'lego', 'legos', 'legs', 'leisure', 'lend', 'lending', 'lends', 'length', 'lengths', 'lengthy', 'lenovo', 'lens', 'lenses', 'less', 'lessen', 'lesson', 'lessons', 'let', 'lets', 'letter', 'letters', 'letting', 'level', 'leveled', 'leveling', 'levels', 'leverage', 'lewis', 'lexia', 'lexile', 'lgbtq', 'liberty', 'librarian', 'librarians', 'libraries', 'library', 'lice', 'license', 'licenses', 'lie', 'lies', 'life', 'lifelong', 'lifestyle', 'lifestyles', 'lifetime', 'lift', 'lifting', 'light', 'lightbulb', 'lighthouse', 'lighting', 'lightly', 'lights', 'lightweight', 'like', 'liked', 'likelihood', 'likely', 'likes', 'likewise', 'liking', 'limit', 'limitation', 'limitations', 'limited', 'limiting', 'limitless', 'limits', 'lincoln', 'line', 'linear', 'lined', 'lines', 'lingual', 'linguistic', 'linguistically', 'lining', 'link', 'linked', 'linking', 'links', 'linoleum', 'lion', 'liquid', 'liquids', 'list', 'listed', 'listen', 'listened', 'listeners', 'listening', 'lists', 'lit', 'literacy', 'literal', 'literally', 'literary', 'literate', 'literature', 'little', 'littlebits', 'littles', 'littlest', 'live', 'lived', 'lively', 'liven', 'lives', 'living', 'll', 'load', 'loaded', 'loads', 'loan', 'local', 'locally', 'locate', 'located', 'locating', 'location', 'locations', 'lock', 'locked', 'locker', 'lockers', 'locks', 'log', 'logan', 'logging', 'logic', 'logical', 'login', 'logs', 'long', 'longer', 'longevity', 'longing', 'look', 'looked', 'looking', 'looks', 'loop', 'looped', 'looping', 'loose', 'los', 'lose', 'losing', 'loss', 'lost', 'lot', 'lots', 'lottery', 'loud', 'loudly', 'louis', 'louisiana', 'louisville', 'lounge', 'lovable', 'love', 'loved', 'lovely', 'lover', 'lovers', 'loves', 'loving', 'lovingly', 'low', 'lower', 'lowered', 'lowest', 'loyal', 'luck', 'luckiest', 'luckily', 'lucky', 'lucy', 'lunch', 'lunches', 'lunchroom', 'luther', 'luxuries', 'luxury', 'lying', 'lyrics', 'ma', 'mac', 'macbook', 'mache', 'machine', 'machines', 'mad', 'made', 'magazine', 'magazines', 'magic', 'magical', 'magna', 'magnatiles', 'magnet', 'magnetic', 'magnetism', 'magnets', 'magnificent', 'magnifying', 'mail', 'mailbox', 'mailboxes', 'main', 'maine', 'mainly', 'mainstream', 'mainstreamed', 'maintain', 'maintained', 'maintaining', 'maintains', 'maintenance', 'major', 'majority', 'make', 'makeover', 'maker', 'makers', 'makerspace', 'makerspaces', 'makes', 'makeup', 'makey', 'making', 'malala', 'male', 'males', 'mallets', 'man', 'manage', 'manageable', 'managed', 'management', 'manager', 'managers', 'managing', 'mandarin', 'mandated', 'mandatory', 'mandela', 'maneuver', 'manhattan', 'manipulate', 'manipulated', 'manipulates', 'manipulating', 'manipulation', 'manipulative', 'manipulatives', 'manner', 'mannered', 'manners', 'mantra', 'manual', 'manufacturing', 'many', 'map', 'maps', 'marble', 'march', 'marching', 'margaret', 'marginalized', 'maria', 'marine', 'mark', 'marked', 'marker', 'markers', 'market', 'marketable', 'marketing', 'marking', 'marks', 'mars', 'marshallese', 'martin', 'marvel', 'marvelous', 'mary', 'maryland', 'mascot', 'masks', 'mass', 'massachusetts', 'massive', 'master', 'mastered', 'mastering', 'masterpiece', 'masterpieces', 'masters', 'mastery', 'mat', 'match', 'matched', 'matches', 'matching', 'material', 'materials', 'math', 'mathematic', 'mathematical', 'mathematically', 'mathematician', 'mathematicians', 'mathematics', 'mats', 'matter', 'matters', 'matthew', 'mature', 'maturing', 'maturity', 'max', 'maximize', 'maximized', 'maximizes', 'maximizing', 'maximum', 'may', 'maya', 'maybe', 'mayo', 'maze', 'mazes', 'me', 'mead', 'meager', 'meal', 'meals', 'mean', 'meaning', 'meaningful', 'meanings', 'means', 'meant', 'meanwhile', 'measurable', 'measure', 'measured', 'measurement', 'measurements', 'measures', 'measuring', 'mechanical', 'mechanics', 'mechanisms', 'medal', 'media', 'median', 'medical', 'medication', 'medicine', 'meditating', 'meditation', 'medium', 'mediums', 'meet', 'meeting', 'meetings', 'meets', 'melodies', 'melody', 'melt', 'melting', 'member', 'members', 'membership', 'memorable', 'memories', 'memorization', 'memorize', 'memorized', 'memorizing', 'memory', 'memphis', 'men', 'mental', 'mentality', 'mentally', 'mention', 'mentioned', 'mentor', 'mentoring', 'mentors', 'menu', 'mercy', 'merely', 'mesh', 'mess', 'message', 'messages', 'messes', 'messy', 'met', 'metabolism', 'metal', 'meter', 'method', 'methods', 'metric', 'metro', 'metropolitan', 'mexican', 'mexico', 'mi', 'miami', 'mice', 'michael', 'michigan', 'micro', 'microphone', 'microphones', 'microscope', 'microscopes', 'microsoft', 'microwave', 'mid', 'middle', 'midst', 'midwest', 'might', 'mighty', 'migrant', 'mild', 'mile', 'miles', 'milestone', 'milestones', 'military', 'milk', 'mill', 'miller', 'million', 'millions', 'milwaukee', 'mimic', 'min', 'mind', 'minded', 'mindedness', 'mindful', 'mindfulness', 'minds', 'mindset', 'mindsets', 'mindstorms', 'mine', 'minecraft', 'mineral', 'minerals', 'mini', 'miniature', 'minimal', 'minimize', 'minimizing', 'minimum', 'mining', 'minis', 'minneapolis', 'minnesota', 'minor', 'minorities', 'minority', 'minute', 'minutes', 'miracle', 'mirror', 'mirrors', 'misconceptions', 'misplaced', 'miss', 'missed', 'missing', 'mission', 'missions', 'mississippi', 'missouri', 'mistake', 'mistakes', 'misunderstood', 'mix', 'mixed', 'mixing', 'mixture', 'mn', 'mo', 'mobile', 'mobility', 'moby', 'mobymax', 'mock', 'mockingbird', 'modalities', 'modality', 'mode', 'model', 'modeled', 'modeling', 'models', 'moderate', 'modern', 'modes', 'modest', 'modification', 'modifications', 'modified', 'modify', 'modules', 'mold', 'molded', 'molding', 'molds', 'molecules', 'mom', 'moment', 'moments', 'momentum', 'moms', 'monday', 'mondays', 'monetary', 'money', 'monitor', 'monitored', 'monitoring', 'monitors', 'monolingual', 'monster', 'montana', 'montessori', 'month', 'monthly', 'months', 'monumental', 'mood', 'moods', 'moon', 'moral', 'morale', 'more', 'moreover', 'morning', 'mornings', 'mosaic', 'most', 'mostly', 'motels', 'mother', 'mothers', 'motion', 'motions', 'motivate', 'motivated', 'motivates', 'motivating', 'motivation', 'motivational', 'motivations', 'motivator', 'motivators', 'motor', 'motors', 'motto', 'mount', 'mountain', 'mountains', 'mounted', 'mouse', 'mouth', 'mouthpieces', 'mouths', 'movable', 'move', 'moved', 'movement', 'movements', 'movers', 'moves', 'movie', 'movies', 'moving', 'mp3', 'mr', 'mrs', 'ms', 'mt', 'much', 'mud', 'multi', 'multiage', 'multicultural', 'multilingual', 'multimedia', 'multiple', 'multiplication', 'multiply', 'multiracial', 'multisensory', 'multitude', 'mundane', 'mural', 'murals', 'murder', 'muscle', 'muscles', 'muscular', 'museum', 'museums', 'music', 'musical', 'musically', 'musicals', 'musician', 'musicians', 'musicianship', 'must', 'mutual', 'my', 'myon', 'myriad', 'myself', 'mysteries', 'mystery', 'mythology', 'myths', 'n1', 'n100', 'n2', 'n3', 'n4', 'n5', 'na', 'nabout', 'naccess', 'naccording', 'nactive', 'nadding', 'nadditionally', 'nafter', 'nall', 'nallowing', 'nalmost', 'nalong', 'nalso', 'nalternative', 'nalthough', 'name', 'named', 'names', 'nan', 'nancy', 'nand', 'nannan', 'nanother', 'nany', 'nap', 'napproximately', 'narrative', 'narratives', 'narrow', 'nart', 'nas', 'nasa', 'nat', 'nate', 'nation', 'national', 'nationalities', 'nationally', 'nations', 'nationwide', 'native', 'natives', 'natural', 'naturally', 'nature', 'navigate', 'navigating', 'nbecause', 'nbefore', 'nbeing', 'nbesides', 'nbeyond', 'nbooks', 'nboth', 'nbouncy', 'nbreakout', 'nbringing', 'nbuilding', 'nbut', 'nby', 'nc', 'ncan', 'nchildren', 'nchromebooks', 'nclassroom', 'ncoding', 'ncollaboration', 'ncoming', 'ncomputer', 'ncomputers', 'ncreating', 'ncurrently', 'ndaily', 'ndespite', 'ndeveloping', 'ndid', 'ndifferent', 'ndo', 'ndonating', 'ndonations', 'ndue', 'nduring', 'neach', 'near', 'nearby', 'nearest', 'nearly', 'nearpod', 'neat', 'neatly', 'nebraska', 'necessarily', 'necessary', 'necessities', 'necessity', 'neck', 'necklaces', 'neducation', 'need', 'needed', 'neediest', 'needing', 'needless', 'needs', 'needy', 'negative', 'negatively', 'negatives', 'negativity', 'neglect', 'neglected', 'negotiate', 'neighbor', 'neighborhood', 'neighborhoods', 'neighboring', 'neighbors', 'neither', 'nelson', 'nengaging', 'nenglish', 'nepal', 'nepali', 'nerve', 'nervous', 'nestled', 'net', 'netbooks', 'nets', 'network', 'neurological', 'nevada', 'neven', 'never', 'nevertheless', 'nevery', 'neveryday', 'neveryone', 'new', 'newcomer', 'newcomers', 'newer', 'newest', 'newfound', 'newly', 'news', 'newsela', 'newsletter', 'newsletters', 'newspaper', 'newspapers', 'newton', 'nex', 'next', 'nfinally', 'nfirst', 'nflexible', 'nfor', 'nfourth', 'nfrom', 'nfunding', 'nfurthermore', 'ngames', 'ngetting', 'ngiven', 'ngiving', 'ngood', 'ngoogle', 'ngraphic', 'ngss', 'nhands', 'nhave', 'nhaving', 'nheadphones', 'nhealthy', 'nhelp', 'nhelping', 'nhere', 'nhigh', 'nhokki', 'nhow', 'nhowever', 'ni', 'nice', 'nicely', 'nicer', 'niche', 'nif', 'night', 'nightly', 'nights', 'nimagine', 'nin', 'nincorporating', 'nine', 'nineteen', 'ninety', 'ninstead', 'nintegrating', 'ninteractive', 'ninth', 'nipads', 'nit', 'nj', 'njust', 'nkeeping', 'nkids', 'nkindergarten', 'nkindergarteners', 'nkindergartners', 'nknowing', 'nlast', 'nlastly', 'nlearning', 'nlegos', 'nlet', 'nlife', 'nlike', 'nlistening', 'nliteracy', 'nlittle', 'nliving', 'nmaking', 'nmany', 'nmath', 'nmiddle', 'nmore', 'nmost', 'nmovement', 'nmoving', 'nms', 'nmusic', 'nmy', 'nnannan', 'nnew', 'nnext', 'nno', 'nnot', 'nnothing', 'nnow', 'no', 'nobody', 'nof', 'noften', 'noh', 'noise', 'noises', 'noisy', 'non', 'nonce', 'none', 'nonetheless', 'nonexistent', 'nonfiction', 'nontraditional', 'nonverbal', 'noodle', 'noodles', 'nook', 'nooks', 'nor', 'norganization', 'norm', 'normal', 'normalcy', 'normally', 'norms', 'north', 'northeast', 'northern', 'northwest', 'nose', 'noses', 'nosmo', 'not', 'notable', 'notation', 'notch', 'note', 'notebook', 'notebooks', 'noted', 'notes', 'nother', 'nothing', 'notice', 'noticed', 'notices', 'noticing', 'notion', 'notoriously', 'nour', 'nourish', 'nourished', 'novel', 'novels', 'novelty', 'november', 'nover', 'noverall', 'novice', 'now', 'nowadays', 'nowhere', 'nparents', 'npart', 'nphysical', 'nplaying', 'nplease', 'nproviding', 'nreading', 'nreceiving', 'nrecently', 'nrecess', 'nregardless', 'nremember', 'nresearch', 'nright', 'nsadly', 'nscholastic', 'nschool', 'nscience', 'nsecond', 'nseeing', 'nsensory', 'nseveral', 'nsince', 'nsitting', 'nsmall', 'nso', 'nsome', 'nsomething', 'nsometimes', 'nstability', 'nstanding', 'nsteam', 'nstem', 'nstudent', 'nstudents', 'nstudies', 'ntablets', 'ntaking', 'nteachers', 'nteaching', 'ntechnology', 'nthank', 'nthanks', 'nthat', 'nthe', 'ntheir', 'nthen', 'nthere', 'ntherefore', 'nthese', 'nthey', 'nthink', 'nthird', 'nthis', 'nthough', 'nthree', 'nthrough', 'nthroughout', 'ntime', 'nto', 'ntoday', 'ntogether', 'ntwo', 'nuclear', 'nultimately', 'number', 'numbers', 'numeracy', 'numerous', 'nunfortunately', 'nupon', 'nurse', 'nursery', 'nurses', 'nurture', 'nurtured', 'nurtures', 'nurturing', 'nusing', 'nut', 'nutilizing', 'nutrient', 'nutrients', 'nutrition', 'nutritional', 'nutritious', 'nuts', 'nvery', 'nwatching', 'nwe', 'nwhat', 'nwhen', 'nwhether', 'nwhile', 'nwho', 'nwhy', 'nwith', 'nwithin', 'nwithout', 'nwobble', 'nworking', 'nwriting', 'ny', 'nyc', 'nyet', 'nyoga', 'nyou', 'nyoung', 'nyour', 'oakland', 'oasis', 'obama', 'obese', 'obesity', 'object', 'objective', 'objectives', 'objects', 'obligation', 'observant', 'observation', 'observations', 'observe', 'observed', 'observer', 'observing', 'obsessed', 'obsolete', 'obstacle', 'obstacles', 'obtain', 'obtained', 'obtaining', 'obvious', 'obviously', 'occasion', 'occasional', 'occasionally', 'occasions', 'occupational', 'occupations', 'occupy', 'occur', 'occurred', 'occurrence', 'occurring', 'occurs', 'ocean', 'oceans', 'october', 'odd', 'odds', 'odyssey', 'of', 'off', 'offer', 'offered', 'offering', 'offerings', 'offers', 'office', 'officer', 'officers', 'offices', 'official', 'officially', 'often', 'oftentimes', 'oh', 'ohio', 'oil', 'oils', 'ok', 'okay', 'oklahoma', 'old', 'older', 'oldest', 'olds', 'olympic', 'olympics', 'on', 'once', 'one', 'ones', 'oneself', 'ongoing', 'online', 'only', 'onto', 'open', 'opened', 'opening', 'openly', 'opens', 'opera', 'operate', 'operates', 'operating', 'operation', 'operations', 'opinion', 'opinions', 'opponents', 'opportunities', 'opportunity', 'opposed', 'opposite', 'optimal', 'optimism', 'optimistic', 'optimize', 'optimum', 'option', 'optional', 'options', 'or', 'oral', 'orally', 'orange', 'orchestra', 'order', 'ordered', 'ordering', 'orderly', 'orders', 'ordinary', 'oregon', 'orff', 'org', 'organ', 'organic', 'organism', 'organisms', 'organization', 'organizational', 'organizations', 'organize', 'organized', 'organizer', 'organizers', 'organizing', 'organs', 'orientation', 'oriented', 'origami', 'origin', 'original', 'originally', 'origins', 'orlando', 'orleans', 'orthopedic', 'osmo', 'osmos', 'ot', 'other', 'others', 'otherwise', 'our', 'ours', 'ourselves', 'out', 'outbursts', 'outcome', 'outcomes', 'outdated', 'outdoor', 'outdoors', 'outer', 'outfit', 'outgoing', 'outlet', 'outlets', 'outlook', 'output', 'outreach', 'outs', 'outside', 'outskirts', 'outstanding', 'oven', 'over', 'overall', 'overcome', 'overcoming', 'overcrowded', 'overcrowding', 'overflow', 'overflowing', 'overhead', 'overjoyed', 'overload', 'overlook', 'overlooked', 'overly', 'overnight', 'overrated', 'overseas', 'oversized', 'overstimulated', 'overweight', 'overwhelmed', 'overwhelming', 'overwhelmingly', 'owe', 'owl', 'owls', 'own', 'owned', 'owners', 'ownership', 'oxygen', 'ozobot', 'ozobots', 'pa', 'pablo', 'pace', 'paced', 'paces', 'pacific', 'pacing', 'pack', 'package', 'packages', 'packed', 'packets', 'packing', 'packs', 'pad', 'padded', 'padlet', 'pads', 'page', 'pages', 'paid', 'pain', 'pains', 'paint', 'paintbrush', 'painted', 'painters', 'painting', 'paintings', 'paints', 'pair', 'paired', 'pairing', 'pairs', 'pakistan', 'palacio', 'palm', 'pals', 'palsy', 'panel', 'panels', 'pans', 'pantry', 'pants', 'paper', 'paperback', 'paperless', 'papers', 'paperwork', 'par', 'parachute', 'parachutes', 'parade', 'parades', 'paragraph', 'paragraphs', 'parallel', 'parameters', 'paramount', 'paraprofessional', 'paraprofessionals', 'parcc', 'parent', 'parental', 'parenting', 'parents', 'parish', 'park', 'parking', 'parks', 'part', 'partake', 'partial', 'partially', 'participant', 'participants', 'participate', 'participated', 'participates', 'participating', 'participation', 'particular', 'particularly', 'parties', 'partitions', 'partner', 'partnered', 'partnering', 'partners', 'partnership', 'partnerships', 'parts', 'party', 'pass', 'passage', 'passages', 'passed', 'passes', 'passing', 'passion', 'passionate', 'passionately', 'passions', 'passive', 'passively', 'passport', 'past', 'paste', 'pastels', 'path', 'pathologist', 'paths', 'pathway', 'pathways', 'patience', 'patient', 'patiently', 'pattern', 'patterning', 'patterns', 'paul', 'pause', 'pave', 'pay', 'paycheck', 'paying', 'pays', 'pbis', 'pbl', 'pc', 'pdf', 'pe', 'peace', 'peaceful', 'peak', 'peanut', 'pedagogy', 'pedal', 'pedals', 'pedometer', 'pedometers', 'peek', 'peer', 'peers', 'pegs', 'pellet', 'pellets', 'pen', 'pencil', 'pencils', 'penmanship', 'pennsylvania', 'penny', 'pens', 'pent', 'people', 'pep', 'per', 'perceive', 'perceived', 'percent', 'percentage', 'percentages', 'percentile', 'perception', 'percussion', 'percy', 'perfect', 'perfection', 'perfectly', 'perform', 'performance', 'performances', 'performed', 'performers', 'performing', 'performs', 'perhaps', 'perimeter', 'period', 'periodic', 'periodicals', 'periods', 'perks', 'permanent', 'permanently', 'permission', 'permit', 'perseverance', 'persevere', 'persevering', 'persist', 'persistence', 'persistent', 'person', 'personal', 'personalities', 'personality', 'personalize', 'personalized', 'personally', 'personnel', 'perspective', 'perspectives', 'persuade', 'persuasive', 'pertain', 'pertaining', 'pertinent', 'peru', 'peruse', 'pervasive', 'pet', 'pete', 'pets', 'ph', 'phase', 'phases', 'phenomena', 'phenomenal', 'phenomenon', 'philadelphia', 'philosophy', 'phoenix', 'phone', 'phonemes', 'phonemic', 'phones', 'phonetic', 'phonic', 'phonics', 'phonological', 'photo', 'photograph', 'photographer', 'photographers', 'photographs', 'photography', 'photos', 'photoshop', 'photosynthesis', 'phrase', 'phrases', 'physical', 'physically', 'physics', 'physiology', 'pi', 'piano', 'pianos', 'picasso', 'pick', 'picked', 'picking', 'picks', 'picnic', 'pictorial', 'picture', 'pictures', 'piece', 'pieces', 'pig', 'pigeon', 'piggie', 'pigs', 'pile', 'piles', 'pillars', 'pillow', 'pillows', 'pilot', 'piloting', 'pink', 'pins', 'pioneers', 'pipe', 'pique', 'pitch', 'pittsburgh', 'pivotal', 'pizza', 'pk', 'place', 'placed', 'placement', 'places', 'placing', 'plague', 'plagued', 'plain', 'plan', 'plane', 'planet', 'planets', 'planned', 'planners', 'planning', 'plans', 'plant', 'planted', 'planting', 'plants', 'plastic', 'plate', 'plates', 'platform', 'platforms', 'play', 'playdough', 'played', 'player', 'players', 'playful', 'playground', 'playing', 'plays', 'playtime', 'pleasant', 'please', 'pleased', 'pleasing', 'pleasurable', 'pleasure', 'pledge', 'plentiful', 'plenty', 'plethora', 'plickers', 'plot', 'plots', 'plug', 'plugged', 'plugs', 'plus', 'plush', 'pm', 'pocket', 'pockets', 'pod', 'podcast', 'podcasts', 'pods', 'poem', 'poems', 'poetry', 'poets', 'point', 'pointed', 'pointers', 'pointing', 'points', 'pokemon', 'poles', 'police', 'policy', 'polish', 'polite', 'political', 'politicians', 'politics', 'pollution', 'pom', 'poms', 'pond', 'pool', 'poor', 'poorest', 'poorly', 'pop', 'popcorn', 'popsicle', 'popular', 'popularity', 'populated', 'population', 'populations', 'portability', 'portable', 'portal', 'portfolio', 'portfolios', 'portion', 'portions', 'portland', 'portrait', 'portraits', 'portuguese', 'pose', 'posed', 'poses', 'position', 'positions', 'positive', 'positively', 'positives', 'positivity', 'possess', 'possessions', 'possibilities', 'possibility', 'possible', 'possibly', 'post', 'posted', 'poster', 'posters', 'posting', 'posts', 'posture', 'pot', 'potato', 'potential', 'potentially', 'potentials', 'pots', 'potter', 'pottery', 'pouch', 'pouches', 'pound', 'pour', 'pouring', 'poverty', 'power', 'powered', 'powerful', 'powerpoint', 'powerpoints', 'powers', 'practical', 'practically', 'practice', 'practiced', 'practices', 'practicing', 'praise', 'praised', 'pray', 'pre', 'precious', 'precise', 'precision', 'precocious', 'predict', 'predictable', 'predicting', 'predictions', 'predominantly', 'predominately', 'prefer', 'preference', 'preferences', 'preferred', 'preform', 'prek', 'prekindergarten', 'premium', 'prep', 'preparation', 'preparatory', 'prepare', 'prepared', 'prepares', 'preparing', 'prerequisite', 'preschool', 'preschoolers', 'prescribed', 'presence', 'present', 'presentation', 'presentations', 'presented', 'presenter', 'presenters', 'presenting', 'presently', 'presents', 'preserve', 'preserved', 'preserving', 'president', 'presidential', 'press', 'pressed', 'pressing', 'pressure', 'pressures', 'prestigious', 'pretend', 'pretending', 'pretty', 'pretzels', 'prevalent', 'prevent', 'prevented', 'preventing', 'prevention', 'prevents', 'previous', 'previously', 'prezi', 'price', 'priced', 'priceless', 'prices', 'pricey', 'pride', 'prides', 'primarily', 'primary', 'prime', 'princesses', 'principal', 'principals', 'principle', 'principles', 'print', 'printable', 'printed', 'printer', 'printers', 'printing', 'printmaking', 'prints', 'prior', 'priorities', 'priority', 'prison', 'privacy', 'private', 'privilege', 'privileged', 'privileges', 'prize', 'prizes', 'pro', 'proactive', 'probability', 'probably', 'probes', 'problem', 'problematic', 'problems', 'procedures', 'proceed', 'process', 'processes', 'processing', 'prodigy', 'produce', 'produced', 'producers', 'produces', 'producing', 'product', 'production', 'productions', 'productive', 'productively', 'productivity', 'products', 'profession', 'professional', 'professionalism', 'professionally', 'professionals', 'professions', 'professor', 'professors', 'proficiency', 'proficient', 'proficiently', 'profile', 'profit', 'profound', 'profoundly', 'program', 'programing', 'programmable', 'programmed', 'programmers', 'programming', 'programs', 'progress', 'progressed', 'progresses', 'progressing', 'progression', 'progressive', 'project', 'projected', 'projecting', 'projection', 'projector', 'projectors', 'projects', 'prolonged', 'promethean', 'prominent', 'promise', 'promised', 'promising', 'promote', 'promoted', 'promotes', 'promoting', 'prompt', 'prompting', 'prompts', 'prone', 'pronunciation', 'proof', 'prop', 'propel', 'proper', 'properly', 'properties', 'property', 'proposal', 'proposed', 'props', 'pros', 'prospect', 'prosper', 'prosperous', 'protect', 'protected', 'protecting', 'protection', 'protective', 'protector', 'protectors', 'protein', 'prototype', 'prototypes', 'prototyping', 'proud', 'prouder', 'proudly', 'prove', 'proved', 'proven', 'proverb', 'proves', 'provide', 'provided', 'provider', 'providers', 'provides', 'providing', 'proving', 'provoking', 'proximity', 'psychological', 'psychologist', 'psychology', 'pta', 'pto', 'public', 'publication', 'publications', 'publicly', 'publish', 'published', 'publishing', 'puerto', 'pull', 'pulled', 'pulling', 'pulls', 'pump', 'pumped', 'pumping', 'punch', 'punctuation', 'pupils', 'puppet', 'puppets', 'purchase', 'purchased', 'purchases', 'purchasing', 'pure', 'purifier', 'purple', 'purpose', 'purposeful', 'purposefully', 'purposes', 'pursue', 'pursuing', 'pursuit', 'pursuits', 'push', 'pushed', 'pushes', 'pushing', 'put', 'puts', 'putting', 'putty', 'puzzle', 'puzzles', 'pyramid', 'pyramids', 'qr', 'qualified', 'qualifies', 'qualify', 'qualifying', 'qualities', 'quality', 'quantities', 'quantity', 'quarter', 'quarterly', 'quarters', 'queens', 'quench', 'quenched', 'quest', 'question', 'questioners', 'questioning', 'questions', 'quests', 'quick', 'quicker', 'quickly', 'quiet', 'quieter', 'quietly', 'quirky', 'quit', 'quite', 'quiz', 'quizlet', 'quizzes', 'quote', 'quotes', 'race', 'races', 'racial', 'racially', 'racing', 'rack', 'rackets', 'racks', 'radio', 'radios', 'radius', 'rain', 'rainbow', 'raining', 'rains', 'rainy', 'raise', 'raised', 'raises', 'raising', 'rallies', 'rambunctious', 'ramps', 'ran', 'random', 'range', 'ranges', 'ranging', 'rank', 'ranked', 'ranking', 'ranks', 'rap', 'rapid', 'rapidly', 'rare', 'rarely', 'raspberry', 'rate', 'rated', 'rates', 'rather', 'rating', 'ratio', 'ratios', 'raw', 'ray', 'rays', 'raz', 're', 'reach', 'reached', 'reaches', 'reaching', 'react', 'reaction', 'reactions', 'read', 'readability', 'readable', 'reader', 'readers', 'readily', 'readiness', 'reading', 'readings', 'reads', 'ready', 'real', 'realia', 'realistic', 'realities', 'reality', 'realization', 'realize', 'realized', 'realizes', 'realizing', 'really', 'realm', 'reap', 'rearrange', 'reason', 'reasoning', 'reasons', 'rebuild', 'rebuilding', 'rebuilt', 'recall', 'receive', 'received', 'receives', 'receiving', 'recent', 'recently', 'receptive', 'recess', 'recesses', 'recession', 'recharge', 'rechargeable', 'recieve', 'recipe', 'recipes', 'recipient', 'recipients', 'recite', 'recognition', 'recognize', 'recognized', 'recognizes', 'recognizing', 'recommend', 'recommendations', 'recommended', 'record', 'recorded', 'recorder', 'recorders', 'recording', 'recordings', 'records', 'recovery', 'recreate', 'recreation', 'recreational', 'rectangle', 'rectangular', 'recycle', 'recycled', 'recycling', 'red', 'redesign', 'redesigning', 'redirect', 'redirecting', 'redirection', 'reduce', 'reduced', 'reduces', 'reducing', 'reduction', 'reeds', 'reef', 'refer', 'reference', 'references', 'referred', 'referring', 'refill', 'refine', 'refining', 'reflect', 'reflected', 'reflecting', 'reflection', 'reflections', 'reflective', 'reflects', 'reflex', 'refocus', 'refresh', 'refreshed', 'refreshing', 'refrigerator', 'refuge', 'refugee', 'refugees', 'refuse', 'regain', 'regard', 'regarding', 'regardless', 'regards', 'region', 'regional', 'regions', 'register', 'registered', 'regroup', 'regular', 'regularly', 'regulate', 'regulated', 'regulating', 'regulation', 'regulations', 'rehearsal', 'rehearsals', 'rehearse', 'reinforce', 'reinforced', 'reinforcement', 'reinforcements', 'reinforces', 'reinforcing', 'rekenrek', 'rekenreks', 'relatable', 'relate', 'related', 'relates', 'relating', 'relation', 'relational', 'relations', 'relationship', 'relationships', 'relative', 'relatively', 'relatives', 'relax', 'relaxation', 'relaxed', 'relaxing', 'relay', 'release', 'released', 'releases', 'releasing', 'relentlessly', 'relevance', 'relevant', 'reliable', 'reliant', 'relief', 'relies', 'relieve', 'religion', 'religions', 'religious', 'relish', 'relocated', 'reluctant', 'rely', 'relying', 'remain', 'remainder', 'remained', 'remaining', 'remains', 'remarkable', 'remedial', 'remediate', 'remediation', 'remember', 'remembered', 'remembering', 'remind', 'reminded', 'reminder', 'reminders', 'reminding', 'reminds', 'remote', 'remove', 'removed', 'removing', 'renaissance', 'renewable', 'renewed', 'rent', 'repair', 'repaired', 'repairs', 'repeat', 'repeated', 'repeatedly', 'repeating', 'repertoire', 'repetition', 'repetitive', 'replace', 'replaced', 'replacement', 'replacements', 'replacing', 'replenish', 'replenished', 'replicate', 'replied', 'reply', 'report', 'reported', 'reporting', 'reports', 'represent', 'representation', 'representations', 'representative', 'represented', 'representing', 'represents', 'republic', 'reputable', 'reputation', 'request', 'requested', 'requesting', 'requests', 'require', 'required', 'requirement', 'requirements', 'requires', 'requiring', 'requisite', 'reread', 'rereading', 'research', 'researched', 'researchers', 'researching', 'reservation', 'reserve', 'reserved', 'reside', 'residence', 'residential', 'residents', 'resides', 'residing', 'resilience', 'resiliency', 'resilient', 'resist', 'resistance', 'resistant', 'resolution', 'resolve', 'resonates', 'resort', 'resource', 'resourced', 'resourceful', 'resources', 'respect', 'respected', 'respectful', 'respectfully', 'respecting', 'respective', 'respects', 'respiratory', 'respond', 'responded', 'responding', 'responds', 'response', 'responses', 'responsibilities', 'responsibility', 'responsible', 'responsibly', 'responsive', 'rest', 'restaurant', 'restaurants', 'restless', 'restlessness', 'restock', 'restorative', 'restraints', 'restricted', 'restrictions', 'restrictive', 'rests', 'result', 'resulted', 'resulting', 'results', 'resume', 'retain', 'retained', 'retaining', 'reteach', 'reteaching', 'retell', 'retelling', 'retention', 'retired', 'retrieve', 'return', 'returned', 'returning', 'reusable', 'reuse', 'reused', 'reusing', 'reveal', 'review', 'reviewed', 'reviewing', 'reviews', 'revise', 'revising', 'revisit', 'revolution', 'revolutionary', 'revolutionize', 'revolve', 'revolves', 'revolving', 'reward', 'rewarded', 'rewarding', 'rewards', 'rewrite', 'rhyme', 'rhymes', 'rhyming', 'rhythm', 'rhythmic', 'rhythms', 'ribbon', 'ribbons', 'rican', 'rice', 'rich', 'richer', 'richest', 'richmond', 'richness', 'rico', 'rid', 'ridden', 'riddles', 'ride', 'ridge', 'riding', 'right', 'rights', 'rigid', 'rigor', 'rigorous', 'rigors', 'ring', 'rings', 'rip', 'ripped', 'rise', 'risen', 'risers', 'rises', 'rising', 'risk', 'risks', 'river', 'rivers', 'road', 'roadblocks', 'roads', 'roald', 'roam', 'rob', 'robert', 'robot', 'robotic', 'robotics', 'robots', 'robust', 'rochester', 'rock', 'rocker', 'rockers', 'rocket', 'rockets', 'rocking', 'rocks', 'rods', 'rogers', 'role', 'roles', 'roll', 'rolled', 'roller', 'rolling', 'rolls', 'rome', 'ron', 'roof', 'room', 'rooms', 'roosevelt', 'root', 'rooted', 'roots', 'rope', 'ropes', 'rose', 'roster', 'rotate', 'rotated', 'rotating', 'rotation', 'rotations', 'rote', 'rouge', 'rough', 'roughly', 'round', 'rounded', 'route', 'routine', 'routinely', 'routines', 'row', 'rowdy', 'rows', 'rti', 'rubber', 'rug', 'rugs', 'ruined', 'rule', 'ruled', 'ruler', 'rulers', 'rules', 'run', 'runners', 'running', 'runs', 'rural', 'rush', 'russia', 'russian', 'sack', 'sacks', 'sacramento', 'sacrifice', 'sad', 'sadly', 'sadness', 'safe', 'safely', 'safer', 'safest', 'safety', 'said', 'saint', 'sake', 'salad', 'salary', 'sale', 'salem', 'sales', 'salt', 'salvador', 'same', 'sample', 'samples', 'samsung', 'san', 'sanctuary', 'sand', 'sandy', 'sanitary', 'sanitizer', 'santa', 'sat', 'satisfaction', 'satisfied', 'satisfy', 'satisfying', 'saturday', 'save', 'saved', 'saver', 'saves', 'saving', 'savings', 'savvy', 'saw', 'saxophone', 'say', 'saying', 'says', 'sc', 'scaffold', 'scaffolding', 'scale', 'scales', 'scan', 'scanner', 'scarce', 'scared', 'scarves', 'scary', 'scattered', 'scavenger', 'scenario', 'scenarios', 'scene', 'scenes', 'schedule', 'scheduled', 'schedules', 'scheduling', 'schema', 'scholar', 'scholarly', 'scholars', 'scholarship', 'scholarships', 'scholastic', 'school', 'schoolers', 'schooling', 'schools', 'schoolwide', 'schoolwork', 'science', 'sciences', 'scientific', 'scientifically', 'scientist', 'scientists', 'scissors', 'scoop', 'scoot', 'scooter', 'scooters', 'scope', 'score', 'scored', 'scores', 'scoring', 'scotch', 'scrabble', 'scratch', 'scratched', 'screen', 'screens', 'script', 'scripts', 'sculpt', 'sculpture', 'sculptures', 'sea', 'seamless', 'seamlessly', 'seams', 'search', 'searches', 'searching', 'season', 'seasonal', 'seasons', 'seat', 'seated', 'seating', 'seats', 'seattle', 'second', 'secondary', 'secondly', 'seconds', 'secret', 'section', 'sections', 'secure', 'secured', 'securely', 'securing', 'security', 'sedentary', 'see', 'seed', 'seeds', 'seeing', 'seek', 'seekers', 'seeking', 'seeks', 'seem', 'seemed', 'seemingly', 'seems', 'seen', 'sees', 'seesaw', 'segment', 'segments', 'seize', 'sel', 'seldom', 'select', 'selected', 'selecting', 'selection', 'selections', 'selective', 'self', 'selfies', 'sell', 'selling', 'selves', 'semester', 'semi', 'seminar', 'seminars', 'send', 'sending', 'sends', 'senegal', 'senior', 'seniors', 'sense', 'senses', 'sensitive', 'sensitivity', 'sensor', 'sensors', 'sensory', 'sent', 'sentence', 'sentences', 'separate', 'separated', 'separating', 'september', 'sequence', 'sequences', 'sequencing', 'sequential', 'series', 'serious', 'seriously', 'serve', 'served', 'serves', 'service', 'serviced', 'services', 'servicing', 'serving', 'ses', 'session', 'sessions', 'set', 'setbacks', 'sets', 'setting', 'settings', 'settle', 'settled', 'setup', 'seuss', 'seven', 'seventeen', 'seventh', 'seventy', 'several', 'severe', 'severely', 'severity', 'sew', 'sewing', 'shade', 'shades', 'shadow', 'shake', 'shakers', 'shakespeare', 'shaking', 'shame', 'shampoo', 'shape', 'shaped', 'shapes', 'shaping', 'share', 'shared', 'shares', 'sharing', 'sharp', 'sharpen', 'sharpened', 'sharpener', 'sharpeners', 'sharpening', 'sharpies', 'she', 'shed', 'sheer', 'sheet', 'sheets', 'shelf', 'shell', 'shells', 'shelter', 'sheltered', 'shelters', 'shelves', 'shelving', 'shift', 'shifted', 'shifting', 'shifts', 'shine', 'shines', 'shining', 'shiny', 'shirt', 'shirts', 'shock', 'shoe', 'shoes', 'shoot', 'shooting', 'shop', 'shopping', 'shops', 'short', 'shortage', 'shortcomings', 'shorter', 'shorts', 'shot', 'shots', 'should', 'shoulder', 'shoulders', 'shouldn', 'shout', 'show', 'showcase', 'showcased', 'showcasing', 'showed', 'shower', 'showing', 'shown', 'shows', 'shrinking', 'shut', 'shy', 'sibling', 'siblings', 'sick', 'side', 'sided', 'sides', 'sidewalk', 'sight', 'sights', 'sign', 'signed', 'significance', 'significant', 'significantly', 'signing', 'signs', 'silence', 'silent', 'silently', 'silicon', 'silly', 'silver', 'similar', 'similarities', 'similarly', 'simple', 'simpler', 'simplest', 'simply', 'simulate', 'simulation', 'simulations', 'simultaneously', 'since', 'sincere', 'sincerely', 'sing', 'singers', 'singing', 'single', 'singled', 'sink', 'sinking', 'sister', 'sisters', 'sit', 'site', 'sites', 'sits', 'sitting', 'situated', 'situation', 'situations', 'six', 'sixteen', 'sixth', 'sixty', 'size', 'sized', 'sizes', 'skeleton', 'sketch', 'sketchbooks', 'sketches', 'skill', 'skilled', 'skills', 'skin', 'skip', 'skipping', 'skits', 'sky', 'skype', 'sleep', 'sleeping', 'sleepy', 'sleeves', 'slide', 'slides', 'slideshows', 'slight', 'slightly', 'slim', 'slime', 'slip', 'slips', 'slot', 'slow', 'slower', 'slowly', 'slows', 'small', 'smaller', 'smallest', 'smart', 'smartboard', 'smartboards', 'smarter', 'smartest', 'smartphone', 'smartphones', 'smell', 'smile', 'smiles', 'smiling', 'smooth', 'smoother', 'smoothies', 'smoothly', 'snack', 'snacks', 'snap', 'snare', 'sneak', 'snow', 'snowy', 'snuggle', 'so', 'soak', 'soaking', 'soap', 'soar', 'soaring', 'soccer', 'social', 'socialization', 'socialize', 'socializing', 'socially', 'societies', 'society', 'socio', 'socioeconomic', 'socioeconomically', 'socks', 'socratic', 'sofa', 'soft', 'softball', 'softer', 'software', 'soil', 'solar', 'sold', 'sole', 'solely', 'solid', 'solidify', 'solo', 'solution', 'solutions', 'solve', 'solved', 'solvers', 'solving', 'somali', 'somalia', 'some', 'somebody', 'someday', 'somehow', 'someone', 'someplace', 'something', 'sometime', 'sometimes', 'somewhat', 'somewhere', 'son', 'song', 'songs', 'sons', 'soon', 'sooner', 'soothe', 'soothing', 'sophisticated', 'sophomore', 'sophomores', 'soprano', 'sore', 'sorely', 'sorry', 'sort', 'sorted', 'sorting', 'sorts', 'sought', 'soul', 'souls', 'sound', 'sounding', 'sounds', 'soup', 'source', 'sources', 'south', 'southeast', 'southeastern', 'southern', 'southwest', 'space', 'spaces', 'spacial', 'span', 'spanish', 'spanning', 'spans', 'spare', 'spark', 'sparked', 'sparking', 'sparkle', 'sparks', 'spatial', 'speak', 'speaker', 'speakers', 'speaking', 'speaks', 'special', 'specialist', 'specialists', 'specialize', 'specialized', 'specializes', 'specially', 'specials', 'specialty', 'species', 'specific', 'specifically', 'specified', 'specimen', 'specimens', 'spectacular', 'spectrum', 'sped', 'speech', 'speeches', 'speed', 'speeds', 'spell', 'spelling', 'spend', 'spending', 'spends', 'spent', 'sphero', 'spheros', 'spill', 'spills', 'spin', 'spinning', 'spiral', 'spirit', 'spirited', 'spirits', 'spite', 'split', 'splitters', 'spoke', 'spoken', 'sponge', 'sponges', 'sponsor', 'sponsored', 'sponsoring', 'sponsors', 'spontaneous', 'sport', 'sporting', 'sports', 'sportsmanship', 'spot', 'spots', 'sprawl', 'spray', 'spread', 'spreading', 'spreads', 'spreadsheets', 'spring', 'springboard', 'springs', 'spunk', 'spunky', 'spur', 'square', 'squares', 'squeeze', 'squirm', 'squirming', 'squishy', 'st', 'staar', 'stability', 'stable', 'stack', 'stackable', 'stacked', 'stacking', 'staff', 'staffing', 'stage', 'stages', 'stained', 'stains', 'stakeholders', 'stakes', 'stamina', 'stamp', 'stamps', 'stand', 'standard', 'standardized', 'standards', 'standing', 'stands', 'staple', 'stapler', 'staplers', 'staples', 'star', 'starbucks', 'starfall', 'stars', 'start', 'started', 'starter', 'starters', 'starting', 'starts', 'starving', 'state', 'stated', 'statement', 'statements', 'states', 'statewide', 'static', 'stating', 'station', 'stationary', 'stationed', 'stations', 'statistic', 'statistical', 'statistically', 'statistics', 'status', 'statuses', 'stay', 'stayed', 'staying', 'stays', 'steady', 'steam', 'steel', 'steer', 'stellar', 'stem', 'stems', 'stencils', 'step', 'stephen', 'stepped', 'stepping', 'steps', 'stereo', 'stereotypes', 'steve', 'stewards', 'stewardship', 'stick', 'sticker', 'stickers', 'sticking', 'sticks', 'sticky', 'stiff', 'stifle', 'stigma', 'still', 'stimulate', 'stimulated', 'stimulates', 'stimulating', 'stimulation', 'stimuli', 'stimulus', 'stix', 'stock', 'stocked', 'stolen', 'stomach', 'stomachs', 'stone', 'stones', 'stood', 'stool', 'stools', 'stop', 'stopped', 'stopping', 'stops', 'stopwatches', 'storage', 'store', 'stored', 'stores', 'stories', 'storing', 'storm', 'story', 'storytellers', 'storytelling', 'storyworks', 'straight', 'strain', 'strangers', 'strapped', 'straps', 'strategic', 'strategically', 'strategies', 'strategy', 'straws', 'stream', 'streaming', 'streamline', 'street', 'streets', 'strength', 'strengthen', 'strengthened', 'strengthening', 'strengthens', 'strengths', 'stress', 'stressed', 'stresses', 'stressful', 'stressors', 'stretch', 'stretched', 'stretches', 'stretching', 'stricken', 'strictly', 'strides', 'striking', 'string', 'strings', 'strip', 'strips', 'strive', 'strives', 'striving', 'strong', 'stronger', 'strongest', 'strongly', 'struck', 'structural', 'structure', 'structured', 'structures', 'struggle', 'struggled', 'struggles', 'struggling', 'stuck', 'student', 'students', 'studied', 'studies', 'studio', 'study', 'studying', 'stuff', 'stuffed', 'stunning', 'stupid', 'sturdy', 'style', 'styles', 'stylus', 'sub', 'subject', 'subjects', 'submit', 'submitted', 'submitting', 'subscription', 'subscriptions', 'subsequent', 'subsequently', 'subsidized', 'substance', 'substances', 'substantial', 'substantially', 'substitute', 'subtle', 'subtract', 'subtracting', 'subtraction', 'suburb', 'suburban', 'suburbs', 'succeed', 'succeeded', 'succeeding', 'succeeds', 'success', 'successes', 'successful', 'successfully', 'such', 'sudan', 'suddenly', 'suffer', 'suffered', 'suffering', 'sufficient', 'sugar', 'sugary', 'suggest', 'suggested', 'suggestions', 'suggests', 'suit', 'suitable', 'suite', 'suited', 'suits', 'sum', 'summaries', 'summarize', 'summarizing', 'summary', 'summer', 'sums', 'sun', 'sunny', 'sunshine', 'super', 'superhero', 'superheroes', 'superior', 'superstars', 'supervised', 'supervision', 'supper', 'supplement', 'supplemental', 'supplied', 'supplies', 'supply', 'supplying', 'support', 'supported', 'supporter', 'supporters', 'supporting', 'supportive', 'supports', 'supposed', 'supreme', 'sure', 'surely', 'surface', 'surfaces', 'surpass', 'surprise', 'surprised', 'surprises', 'surprising', 'surprisingly', 'surround', 'surrounded', 'surrounding', 'surroundings', 'surrounds', 'survey', 'surveys', 'survival', 'survive', 'survived', 'surviving', 'survivors', 'sustain', 'sustainability', 'sustainable', 'sustained', 'sustaining', 'sway', 'sweat', 'sweet', 'sweetest', 'swim', 'swimming', 'swing', 'swinging', 'swings', 'switch', 'switched', 'switching', 'swivel', 'syllables', 'symbol', 'symbolism', 'symbols', 'symmetry', 'symphony', 'syndrome', 'synergize', 'synonyms', 'syntax', 'synthesize', 'synthesizing', 'syria', 'system', 'systems', 'table', 'tables', 'tablet', 'tabletop', 'tablets', 'tabs', 'tackle', 'tackling', 'tactile', 'tag', 'tagalog', 'tags', 'tailor', 'tailored', 'take', 'taken', 'takers', 'takes', 'taking', 'tale', 'talent', 'talented', 'talents', 'tales', 'talk', 'talkative', 'talked', 'talkers', 'talking', 'talks', 'tall', 'taller', 'tampa', 'tangible', 'tangle', 'tangled', 'tangrams', 'tank', 'tap', 'tape', 'taped', 'tapes', 'tapping', 'target', 'targeted', 'targeting', 'targets', 'task', 'tasked', 'tasks', 'taste', 'tasting', 'tasty', 'tattered', 'taught', 'tax', 'tea', 'teach', 'teachable', 'teacher', 'teachers', 'teaches', 'teaching', 'teachings', 'team', 'teammates', 'teams', 'teamwork', 'tear', 'tears', 'tech', 'technical', 'technically', 'technique', 'techniques', 'technological', 'technologically', 'technologies', 'technology', 'tedious', 'teen', 'teenage', 'teenager', 'teenagers', 'teens', 'teeter', 'teeth', 'teks', 'television', 'tell', 'tellers', 'telling', 'tells', 'tempera', 'temperature', 'temperatures', 'templates', 'temporarily', 'temporary', 'ten', 'tenacious', 'tenacity', 'tend', 'tendencies', 'tends', 'tenmarks', 'tennessee', 'tennis', 'tens', 'tension', 'tent', 'tenth', 'term', 'terminology', 'terms', 'terrible', 'terrific', 'territory', 'test', 'testament', 'tested', 'testing', 'tests', 'texas', 'text', 'textbook', 'textbooks', 'texting', 'texts', 'textual', 'texture', 'textured', 'textures', 'th', 'thailand', 'than', 'thank', 'thankful', 'thankfully', 'thanks', 'that', 'the', 'theater', 'theatre', 'their', 'theirs', 'them', 'thematic', 'theme', 'themed', 'themes', 'themselves', 'then', 'theoretical', 'theories', 'theory', 'therapeutic', 'therapies', 'therapist', 'therapists', 'theraputty', 'therapy', 'there', 'thereby', 'therefore', 'thermometer', 'thermometers', 'thesaurus', 'these', 'theses', 'they', 'thick', 'thief', 'thier', 'thin', 'thing', 'things', 'think', 'thinker', 'thinkers', 'thinking', 'thinks', 'third', 'thirds', 'thirst', 'thirsty', 'thirteen', 'thirty', 'this', 'thomas', 'thorough', 'thoroughly', 'those', 'though', 'thought', 'thoughtful', 'thoughtfully', 'thoughts', 'thousand', 'thousands', 'thread', 'threatening', 'three', 'threshold', 'thrift', 'thrill', 'thrilled', 'thrilling', 'thrive', 'thrives', 'thriving', 'through', 'throughout', 'throw', 'throwing', 'thrown', 'throws', 'thru', 'thursday', 'thursdays', 'thus', 'ti', 'ticket', 'tickets', 'tidy', 'tie', 'tied', 'tier', 'ties', 'tiger', 'tigers', 'tiggly', 'tight', 'tightly', 'tile', 'tiles', 'tilt', 'time', 'timed', 'timeline', 'timely', 'timer', 'timers', 'times', 'timid', 'tinker', 'tinkercad', 'tinkering', 'tiny', 'tip', 'tipping', 'tips', 'tired', 'tirelessly', 'tissue', 'tissues', 'title', 'titles', 'tk', 'tlc', 'tn', 'to', 'today', 'todays', 'toes', 'together', 'toilet', 'token', 'told', 'tolerance', 'tolerant', 'toll', 'tom', 'tomatoes', 'tomorrow', 'ton', 'tone', 'toner', 'tongue', 'tons', 'too', 'took', 'tool', 'toolbox', 'tools', 'toon', 'toothbrush', 'toothbrushes', 'toothpaste', 'top', 'topic', 'topics', 'tops', 'torn', 'tornado', 'toss', 'total', 'totally', 'tote', 'touch', 'touched', 'touches', 'touching', 'touchscreen', 'tough', 'toughest', 'tour', 'tournament', 'tournaments', 'tours', 'toward', 'towards', 'towel', 'towels', 'tower', 'towers', 'town', 'towns', 'township', 'toy', 'toys', 'trace', 'tracing', 'track', 'tracked', 'tracker', 'trackers', 'tracking', 'tracks', 'trade', 'tradition', 'traditional', 'traditionally', 'traditions', 'traffic', 'tragedy', 'tragic', 'trail', 'trailer', 'trailers', 'train', 'trained', 'trainer', 'training', 'trains', 'trait', 'traits', 'trajectory', 'trampoline', 'transcend', 'transfer', 'transferable', 'transferred', 'transferring', 'transfers', 'transform', 'transformation', 'transformations', 'transformed', 'transforming', 'transforms', 'transient', 'transition', 'transitional', 'transitioned', 'transitioning', 'transitions', 'translate', 'translated', 'translates', 'translation', 'translations', 'translators', 'transport', 'transportation', 'transported', 'transporting', 'trapped', 'trash', 'trauma', 'traumatic', 'travel', 'traveled', 'travelers', 'traveling', 'travels', 'tray', 'trays', 'treasure', 'treasured', 'treasures', 'treat', 'treated', 'treating', 'treatment', 'treats', 'tree', 'trees', 'tremendous', 'tremendously', 'trend', 'trends', 'tri', 'trial', 'trials', 'tribe', 'tribes', 'tribulations', 'trick', 'tricky', 'tricycles', 'tried', 'tries', 'triggers', 'trimester', 'trip', 'triple', 'tripping', 'trips', 'triumph', 'trouble', 'troubled', 'troubles', 'troubleshoot', 'troubleshooting', 'true', 'truly', 'trunk', 'trust', 'trusted', 'trusting', 'truth', 'try', 'trying', 'tub', 'tube', 'tubes', 'tubs', 'tucked', 'tuesday', 'tulsa', 'tumbling', 'tummies', 'tummy', 'tumultuous', 'tune', 'tuned', 'tuners', 'tunes', 'tuning', 'tunnel', 'turmoil', 'turn', 'turnaround', 'turned', 'turning', 'turns', 'turtle', 'turtles', 'tutor', 'tutorial', 'tutorials', 'tutoring', 'tutors', 'tv', 'tweezers', 'twelfth', 'twelve', 'twenty', 'twice', 'twist', 'twisting', 'twitter', 'two', 'tx', 'tying', 'type', 'typed', 'types', 'typical', 'typically', 'typing', 'ugly', 'ukulele', 'ukuleles', 'ultimate', 'ultimately', 'un', 'unable', 'unavailable', 'unaware', 'unbelievable', 'unbelievably', 'uncertainty', 'uncles', 'uncomfortable', 'uncommon', 'unconditional', 'unconventional', 'uncover', 'under', 'underestimated', 'underfunded', 'undergo', 'undergoing', 'underline', 'underneath', 'underprivileged', 'underrepresented', 'underserved', 'understand', 'understandable', 'understanding', 'understandings', 'understands', 'understatement', 'understood', 'undertaking', 'underwater', 'underwear', 'undoubtedly', 'unemployed', 'unemployment', 'uneven', 'unexpected', 'unfair', 'unfamiliar', 'unfinished', 'unfold', 'unforgettable', 'unfortunate', 'unfortunately', 'unhealthy', 'unified', 'unifix', 'uniform', 'uniforms', 'unimaginable', 'uninterested', 'uninterrupted', 'union', 'unique', 'uniquely', 'uniqueness', 'unit', 'unite', 'united', 'unites', 'units', 'unity', 'universal', 'universe', 'universities', 'university', 'unknown', 'unleash', 'unless', 'unlike', 'unlimited', 'unlock', 'unlocking', 'unmatched', 'unmotivated', 'unnecessary', 'unnoticed', 'unparalleled', 'unprecedented', 'unpredictable', 'unprepared', 'unrealistic', 'unreliable', 'unsafe', 'unstable', 'unstoppable', 'unstructured', 'unsuccessful', 'unsure', 'unthinkable', 'until', 'unusable', 'unusual', 'unwanted', 'unwind', 'up', 'upbeat', 'upcoming', 'update', 'updated', 'updates', 'updating', 'upgrade', 'upgraded', 'uphill', 'uphold', 'uplifting', 'upload', 'uploaded', 'upon', 'upper', 'upright', 'ups', 'upset', 'upside', 'upstate', 'upward', 'urban', 'urdu', 'urge', 'urgency', 'urgent', 'us', 'usa', 'usable', 'usage', 'usb', 'use', 'used', 'useful', 'user', 'users', 'uses', 'using', 'usual', 'usually', 'utah', 'utensils', 'utilization', 'utilize', 'utilized', 'utilizes', 'utilizing', 'utmost', 'uv', 'vacation', 'vacuum', 'valid', 'valley', 'valuable', 'value', 'valued', 'values', 'van', 'variables', 'variation', 'variations', 'varied', 'varies', 'variety', 'various', 'varsity', 'vary', 'varying', 'vast', 'vastly', 've', 'vegas', 'vegetable', 'vegetables', 'veggies', 'vehicle', 'vehicles', 'velcro', 'velocity', 'venture', 'venue', 'venues', 'verbal', 'verbalize', 'verbally', 'verbs', 'verge', 'vernier', 'versa', 'versatile', 'versed', 'version', 'versions', 'versus', 'very', 'vest', 'vested', 'vestibular', 'vests', 'veteran', 'veterans', 'veterinarian', 'veterinarians', 'vex', 'via', 'viable', 'vibe', 'vibrant', 'victims', 'victories', 'victory', 'video', 'videos', 'vietnam', 'vietnamese', 'view', 'viewed', 'viewers', 'viewing', 'viewpoints', 'views', 'village', 'vinyl', 'violence', 'violent', 'violin', 'violins', 'virginia', 'virtual', 'virtually', 'viruses', 'visible', 'vision', 'visions', 'visit', 'visited', 'visiting', 'visitors', 'visits', 'visual', 'visualize', 'visualizing', 'visually', 'visuals', 'vital', 'vitally', 'vivacious', 'vivid', 'vividly', 'vocabularies', 'vocabulary', 'vocal', 'vocational', 'voice', 'voices', 'void', 'volcano', 'volcanoes', 'volleyball', 'volleyballs', 'volume', 'volumes', 'volunteer', 'volunteering', 'volunteers', 'voracious', 'vote', 'voted', 'voting', 'vowel', 'vowels', 'vr', 'vs', 'vulnerable', 'wage', 'wages', 'wagon', 'wait', 'waiting', 'wake', 'waking', 'walk', 'walked', 'walking', 'walks', 'wall', 'walls', 'walt', 'wander', 'wandering', 'wands', 'want', 'wanted', 'wanting', 'wants', 'war', 'ward', 'warlick', 'warm', 'warming', 'warms', 'warmth', 'warriors', 'wars', 'was', 'wash', 'washed', 'washing', 'washington', 'wasn', 'waste', 'wasted', 'wasting', 'watch', 'watched', 'watches', 'watching', 'water', 'watercolor', 'watercolors', 'watering', 'waters', 'watson', 'wave', 'waves', 'wax', 'way', 'ways', 'we', 'weak', 'weakness', 'weaknesses', 'wealth', 'wealthier', 'wealthy', 'weapon', 'wear', 'wearing', 'weather', 'weaving', 'web', 'webs', 'website', 'websites', 'wedo', 'week', 'weekend', 'weekends', 'weekly', 'weeks', 'weight', 'weighted', 'weights', 'welcome', 'welcomed', 'welcomes', 'welcoming', 'well', 'wellbeing', 'wellness', 'went', 'were', 'weren', 'west', 'western', 'wet', 'what', 'whatever', 'wheel', 'wheelchair', 'wheelchairs', 'wheels', 'when', 'whenever', 'where', 'whereas', 'wherever', 'whether', 'which', 'while', 'whisper', 'whistles', 'white', 'whiteboard', 'whiteboards', 'who', 'whole', 'wholeheartedly', 'whom', 'whose', 'why', 'wi', 'wide', 'widely', 'widen', 'wider', 'wifi', 'wiggle', 'wigglers', 'wiggles', 'wiggling', 'wiggly', 'wii', 'wild', 'wildlife', 'will', 'willed', 'willems', 'william', 'willing', 'willingly', 'willingness', 'wimpy', 'win', 'wind', 'window', 'windows', 'wing', 'wings', 'winner', 'winners', 'winning', 'wins', 'winter', 'winters', 'wipe', 'wipes', 'wire', 'wired', 'wireless', 'wirelessly', 'wires', 'wiring', 'wisconsin', 'wisdom', 'wise', 'wisely', 'wish', 'wished', 'wishes', 'wishing', 'with', 'within', 'without', 'withstand', 'witness', 'witnessed', 'witnessing', 'witty', 'wobble', 'wobbling', 'wobbly', 'wolf', 'woman', 'women', 'won', 'wonder', 'wondered', 'wonderful', 'wonderfully', 'wondering', 'wonders', 'wondrous', 'wont', 'wood', 'wooden', 'woods', 'woodwind', 'word', 'words', 'work', 'workbook', 'workbooks', 'worked', 'worker', 'workers', 'workforce', 'working', 'workout', 'workouts', 'workplace', 'works', 'worksheet', 'worksheets', 'workshop', 'workshops', 'workspace', 'workstation', 'workstations', 'world', 'worlds', 'worldwide', 'worm', 'worms', 'worn', 'worried', 'worries', 'worry', 'worrying', 'worse', 'worst', 'worth', 'worthwhile', 'worthy', 'would', 'wouldn', 'woven', 'wow', 'wrap', 'wrapped', 'wrist', 'write', 'writer', 'writers', 'writes', 'writing', 'writings', 'written', 'wrong', 'wrote', 'www', 'xbox', 'xtra', 'xtramath', 'xylophone', 'xylophones', 'yard', 'yarn', 'yay', 'year', 'yearbook', 'yearly', 'yearn', 'yearning', 'years', 'yellow', 'yemen', 'yes', 'yesterday', 'yet', 'yield', 'yields', 'yoga', 'york', 'you', 'younannan', 'young', 'younger', 'youngest', 'youngsters', 'your', 'yours', 'yourself', 'youth', 'youtube', 'yummy', 'zeal', 'zenergy', 'zero', 'zest', 'zip', 'zone', 'zones', 'zoo', 'zoom', 'zumba']\n",
      "====================================================================================================\n"
     ]
    }
   ],
   "source": [
    "# We are considering only the words which appeared in at least 10 documents(rows or projects).\n",
    "\n",
    "\n",
    "vectorizer = CountVectorizer(min_df=10)\n",
    "vectorizer.fit(X_train['essay'].values) # fit has to happen only on train data\n",
    "\n",
    "# we use the fitted CountVectorizer to convert the text to vector\n",
    "X_train_essay_bow = vectorizer.transform(X_train['essay'].values)\n",
    "X_cv_essay_bow = vectorizer.transform(X_cv['essay'].values)\n",
    "X_test_essay_bow = vectorizer.transform(X_test['essay'].values)\n",
    "\n",
    "print(\"After vectorizations\")\n",
    "print(X_train_essay_bow.shape, y_train.shape)\n",
    "print(X_cv_essay_bow.shape, y_cv.shape)\n",
    "print(X_test_essay_bow.shape, y_test.shape)\n",
    "print(vectorizer.get_feature_names())\n",
    "print(\"=\"*100)"
   ]
  },
  {
   "cell_type": "code",
   "execution_count": 58,
   "metadata": {
    "colab": {
     "base_uri": "https://localhost:8080/",
     "height": 0
    },
    "colab_type": "code",
    "executionInfo": {
     "elapsed": 141497,
     "status": "ok",
     "timestamp": 1583751745912,
     "user": {
      "displayName": "Hemanth Reddy",
      "photoUrl": "",
      "userId": "16713424825086946671"
     },
     "user_tz": -330
    },
    "id": "EwWc7PmvAnbT",
    "outputId": "93c8f7ae-938a-4878-99fd-e2e40f06ea7e"
   },
   "outputs": [
    {
     "name": "stdout",
     "output_type": "stream",
     "text": [
      "After vectorizations\n",
      "(22445, 1221) (22445,)\n",
      "(11055, 1221) (11055,)\n",
      "(16500, 1221) (16500,)\n",
      "['05', '10', '16', '1st', '2016', '2017', '21st', '2nd', '3d', '3rd', '4th', '5th', '6th', 'abc', 'about', 'academic', 'access', 'accessible', 'accessing', 'accessories', 'achieve', 'achievement', 'achieving', 'across', 'act', 'action', 'active', 'activities', 'activity', 'add', 'adding', 'advanced', 'adventure', 'adventures', 'after', 'again', 'age', 'ahead', 'air', 'algebra', 'alive', 'all', 'along', 'alouds', 'alphabet', 'alternative', 'always', 'am', 'amazing', 'america', 'american', 'an', 'and', 'animal', 'another', 'ap', 'app', 'apple', 'apples', 'approach', 'apps', 'are', 'area', 'around', 'art', 'artist', 'artistic', 'artists', 'arts', 'as', 'aspiring', 'at', 'atpe', 'attention', 'audio', 'authors', 'autism', 'avid', 'award', 'away', 'awesome', 'baby', 'back', 'backpack', 'backpacks', 'bag', 'bags', 'balance', 'balancing', 'ball', 'balls', 'band', 'bands', 'baseball', 'based', 'basic', 'basics', 'basketball', 'bay', 'be', 'bean', 'beat', 'beautiful', 'become', 'becoming', 'begin', 'beginning', 'begins', 'behavior', 'being', 'believing', 'best', 'better', 'beyond', 'big', 'bilingual', 'binders', 'bins', 'biology', 'blended', 'block', 'blocks', 'board', 'boards', 'bodies', 'body', 'boogie', 'book', 'books', 'bookworms', 'boom', 'boost', 'bounce', 'bouncing', 'bouncy', 'box', 'boxes', 'boys', 'brain', 'brains', 'break', 'breaking', 'breakout', 'bridge', 'bridging', 'bright', 'brighter', 'bring', 'bringing', 'bronx', 'budding', 'bug', 'build', 'building', 'busy', 'but', 'by', 'ca', 'calculating', 'calculators', 'calling', 'calm', 'calming', 'camera', 'cameras', 'can', 'capture', 'capturing', 'care', 'career', 'caring', 'carpet', 'cart', 'cases', 'celebrate', 'center', 'centered', 'centers', 'century', 'chair', 'chairs', 'challenge', 'change', 'changing', 'chapter', 'character', 'characters', 'charge', 'charging', 'charts', 'check', 'chemistry', 'chess', 'child', 'children', 'choice', 'choices', 'choose', 'chrome', 'chromebook', 'chromebooks', 'circles', 'circuits', 'citizens', 'city', 'class', 'classes', 'classroom', 'classrooms', 'clay', 'clean', 'clearly', 'click', 'close', 'club', 'clubs', 'code', 'coding', 'collaborate', 'collaboration', 'collaborative', 'collection', 'college', 'color', 'colorful', 'colors', 'come', 'comes', 'comfort', 'comfortable', 'comfy', 'coming', 'common', 'communicate', 'communication', 'community', 'comprehension', 'computer', 'computers', 'concentration', 'concepts', 'confidence', 'connect', 'connected', 'connecting', 'connections', 'cooking', 'cool', 'cooperative', 'core', 'corner', 'could', 'count', 'counting', 'cozy', 'crazy', 'create', 'creates', 'creating', 'creation', 'creations', 'creative', 'creativity', 'critical', 'cross', 'cultivating', 'culture', 'curiosity', 'curious', 'current', 'curriculum', 'cushions', 'cut', 'cycle', 'daily', 'dance', 'dancing', 'dash', 'data', 'day', 'days', 'deck', 'design', 'designing', 'desk', 'desks', 'desperately', 'develop', 'developing', 'development', 'difference', 'different', 'differentiated', 'digital', 'disabilities', 'discover', 'discovering', 'discovery', 'display', 'diverse', 'diversity', 'divide', 'do', 'document', 'does', 'doing', 'dot', 'down', 'drama', 'dramatic', 'draw', 'drawing', 'dream', 'dreams', 'driven', 'drum', 'drumming', 'dry', 'during', 'dynamic', 'each', 'eager', 'ear', 'early', 'ears', 'earth', 'easel', 'easy', 'eat', 'eating', 'ed', 'education', 'educational', 'effective', 'ela', 'elementary', 'em', 'emotional', 'empowering', 'encourage', 'endless', 'energetic', 'energy', 'engage', 'engaged', 'engagement', 'engaging', 'engineering', 'engineers', 'english', 'enhance', 'enhancing', 'enrichment', 'environment', 'environmental', 'equal', 'equals', 'equipment', 'erase', 'escape', 'esl', 'essential', 'essentials', 'even', 'events', 'every', 'everybody', 'everyday', 'everyone', 'everything', 'everywhere', 'excel', 'excellent', 'exceptional', 'excited', 'excitement', 'exciting', 'exercise', 'expand', 'expanding', 'experience', 'experiences', 'exploration', 'explore', 'explorers', 'exploring', 'express', 'expression', 'extra', 'eye', 'eyes', 'fabulous', 'facts', 'fairy', 'fall', 'families', 'family', 'fantastic', 'favorite', 'feed', 'feel', 'feet', 'fiction', 'fidget', 'fidgeting', 'fidgets', 'fidgety', 'field', 'fifth', 'fill', 'financial', 'find', 'finding', 'fine', 'fingers', 'fingertips', 'fire', 'fired', 'fires', 'first', 'firsties', 'fit', 'fitbits', 'fitness', 'five', 'flex', 'flexibility', 'flexible', 'flood', 'floor', 'fluency', 'fluent', 'focus', 'focused', 'focusing', 'folders', 'food', 'football', 'for', 'force', 'forward', 'fostering', 'foundation', 'fourth', 'free', 'freedom', 'fresh', 'friendly', 'friends', 'from', 'fuel', 'full', 'fun', 'functional', 'furniture', 'future', 'futures', 'galore', 'game', 'games', 'gap', 'garden', 'gardening', 'gather', 'generation', 'genius', 'geniuses', 'geometry', 'germs', 'get', 'getting', 'gift', 'gifted', 'girls', 'give', 'giving', 'global', 'glue', 'go', 'goal', 'goals', 'goes', 'going', 'gold', 'gone', 'good', 'google', 'got', 'gotta', 'grade', 'graders', 'grades', 'graphic', 'graphics', 'graphing', 'great', 'greatness', 'green', 'grooving', 'group', 'groups', 'grow', 'growing', 'growth', 'guided', 'gym', 'habits', 'hand', 'hands', 'happen', 'happy', 'hard', 'has', 'have', 'having', 'headphones', 'health', 'healthier', 'healthy', 'hear', 'hearing', 'heart', 'hearts', 'help', 'helping', 'helps', 'here', 'heroes', 'high', 'higher', 'history', 'hokki', 'home', 'hooked', 'hoops', 'hooray', 'hope', 'hot', 'house', 'how', 'human', 'hunger', 'hungry', 'hygiene', 'ican', 'ideas', 'if', 'ii', 'ilearn', 'imagination', 'imaginations', 'imagine', 'impact', 'important', 'improve', 'improving', 'in', 'inclusive', 'income', 'increase', 'increasing', 'independence', 'independent', 'individual', 'individualized', 'indoor', 'information', 'ing', 'ink', 'inner', 'innovation', 'innovative', 'innovators', 'inquiry', 'inside', 'inspiration', 'inspire', 'inspired', 'inspiring', 'instruction', 'instruments', 'integrating', 'integration', 'interactive', 'interest', 'intervention', 'into', 'ipad', 'ipads', 'is', 'it', 'items', 'its', 'journalism', 'journals', 'journey', 'jump', 'just', 'keep', 'keeping', 'keeps', 'key', 'kid', 'kiddos', 'kids', 'kind', 'kinder', 'kindergarten', 'kindergarteners', 'kindergartners', 'kinders', 'kindle', 'kindles', 'kindness', 'kinesthetic', 'kit', 'kitchen', 'kits', 'know', 'knowledge', 'lab', 'laboratory', 'labs', 'language', 'laptop', 'laptops', 'last', 'lead', 'leader', 'leaders', 'leads', 'leaping', 'learn', 'learner', 'learners', 'learning', 'lego', 'legos', 'less', 'lessons', 'let', 'lets', 'letters', 'level', 'leveled', 'levels', 'library', 'life', 'lifelong', 'light', 'lighting', 'lights', 'like', 'listen', 'listening', 'literacy', 'literature', 'little', 'live', 'lives', 'living', 'long', 'look', 'looking', 'lost', 'love', 'loving', 'low', 'macbook', 'mad', 'made', 'madness', 'magazine', 'magazines', 'magic', 'magical', 'magnetic', 'magnificent', 'make', 'makeover', 'maker', 'makers', 'makerspace', 'makes', 'making', 'management', 'mania', 'manipulatives', 'many', 'markers', 'marvelous', 'mastering', 'masterpieces', 'masters', 'materials', 'math', 'mathematical', 'mathematicians', 'mathematics', 'mats', 'matter', 'matters', 'maximize', 'may', 'me', 'meaningful', 'means', 'media', 'meet', 'meeting', 'memories', 'mentor', 'mice', 'microscopes', 'middle', 'mind', 'mindful', 'mindfulness', 'minds', 'mindset', 'mini', 'minis', 'miss', 'mission', 'mobile', 'models', 'modern', 'money', 'more', 'morning', 'most', 'motion', 'motivate', 'motivating', 'motivation', 'motor', 'move', 'movement', 'movin', 'moving', 'mr', 'mrs', 'ms', 'much', 'multi', 'music', 'musical', 'musicians', 'must', 'my', 'mystery', 'necessities', 'need', 'needed', 'needs', 'never', 'new', 'news', 'next', 'night', 'no', 'non', 'nonfiction', 'nook', 'not', 'notebooks', 'novel', 'novels', 'now', 'number', 'numbers', 'nutrition', 'of', 'off', 'oh', 'old', 'on', 'once', 'one', 'online', 'only', 'open', 'opening', 'operation', 'opportunities', 'opportunity', 'options', 'orchestra', 'organization', 'organizational', 'organize', 'organized', 'organizing', 'osmo', 'osmos', 'other', 'our', 'ourselves', 'out', 'outdoor', 'outdoors', 'outside', 'over', 'owl', 'own', 'ozobots', 'pad', 'pads', 'paint', 'painting', 'paper', 'paperless', 'parents', 'part', 'past', 'path', 'pe', 'peace', 'pencil', 'pencils', 'pens', 'people', 'perfect', 'performance', 'personal', 'personalized', 'phonics', 'photography', 'physical', 'physics', 'picasso', 'pick', 'picture', 'pictures', 'place', 'places', 'plants', 'play', 'playground', 'playing', 'please', 'pockets', 'poetry', 'pop', 'portfolios', 'positive', 'possibilities', 'possible', 'power', 'powerful', 'practice', 'pre', 'prek', 'prepare', 'preparing', 'preschool', 'preschoolers', 'pretty', 'print', 'printer', 'printing', 'printmaking', 'pro', 'problem', 'problems', 'program', 'programming', 'progress', 'project', 'projecting', 'projector', 'projects', 'promote', 'promoting', 'protect', 'provide', 'providing', 'pt', 'purpose', 'put', 'putting', 'quality', 'quest', 'quiet', 'quill', 'rainbow', 'raspberry', 'reach', 'reaching', 'read', 'reader', 'readers', 'reading', 'reads', 'ready', 'real', 'reality', 'really', 'recess', 'relevant', 'reluctant', 'rescue', 'research', 'resource', 'resources', 'rewards', 'rich', 'ride', 'right', 'road', 'robot', 'robotics', 'robots', 'rock', 'rockin', 'rocking', 'rocks', 'roll', 'rolling', 'room', 'round', 'rug', 'run', 'running', 'sacks', 'safe', 'safety', 'sand', 'save', 'saving', 'savvy', 'say', 'scholars', 'scholastic', 'school', 'schoolers', 'science', 'scientific', 'scientist', 'scientists', 'screen', 'seat', 'seating', 'seats', 'second', 'see', 'seeds', 'seeing', 'seek', 'seeking', 'self', 'sensational', 'sense', 'sensory', 'series', 'set', 'sets', 'setting', 'share', 'sharing', 'sharp', 'shelf', 'shine', 'should', 'show', 'sight', 'simple', 'sims', 'sing', 'singing', 'sit', 'sitting', 'skill', 'skills', 'small', 'smart', 'smile', 'snack', 'snacks', 'snap', 'so', 'soar', 'soaring', 'soccer', 'social', 'solutions', 'solve', 'solvers', 'solving', 'some', 'something', 'sound', 'sounds', 'space', 'spaces', 'spanish', 'spark', 'speak', 'speakers', 'speaking', 'special', 'speech', 'sports', 'spot', 'spring', 'stability', 'stage', 'stand', 'standing', 'star', 'stars', 'start', 'starting', 'starts', 'state', 'station', 'stations', 'stay', 'staying', 'steam', 'steaming', 'stem', 'step', 'stepping', 'stick', 'still', 'stock', 'stools', 'stop', 'storage', 'store', 'stories', 'story', 'storytelling', 'storyworks', 'strength', 'strengthening', 'strong', 'struggling', 'student', 'students', 'studies', 'studio', 'study', 'stuff', 'style', 'succeed', 'success', 'successful', 'summer', 'super', 'superheroes', 'supplies', 'supply', 'support', 'supporting', 'supports', 'surface', 'sweet', 'system', 'table', 'tables', 'tablet', 'tablets', 'take', 'takes', 'taking', 'tales', 'talk', 'target', 'targeting', 'teach', 'teacher', 'teaching', 'team', 'tech', 'techie', 'techies', 'techno', 'technological', 'technology', 'techy', 'teens', 'telling', 'terrific', 'test', 'testing', 'text', 'texts', 'than', 'that', 'the', 'their', 'them', 'therapy', 'there', 'these', 'they', 'things', 'think', 'thinkers', 'thinking', 'third', 'this', 'those', 'thousand', 'through', 'time', 'times', 'tiny', 'title', 'tk', 'to', 'today', 'together', 'tomorrow', 'too', 'tool', 'tools', 'toon', 'top', 'touch', 'towards', 'toys', 'track', 'tracking', 'traditional', 'training', 'tree', 'tune', 'turn', 'turning', 'two', 'ukulele', 'ukuleles', 'understanding', 'unique', 'unit', 'up', 'upgrade', 'urban', 'us', 'use', 'using', 'via', 'video', 'view', 'virtual', 'visual', 'visualize', 'visualizing', 'vocabulary', 'voice', 'voices', 'volleyball', 'walk', 'wall', 'walls', 'want', 'wanted', 'warm', 'watch', 'water', 'way', 'ways', 'we', 'welcome', 'welcoming', 'well', 'wellness', 'what', 'when', 'where', 'while', 'white', 'who', 'whole', 'why', 'wiggle', 'wiggles', 'wiggling', 'wiggly', 'wild', 'will', 'win', 'window', 'winning', 'winter', 'wireless', 'with', 'within', 'without', 'wizards', 'wobble', 'wobbling', 'wobbly', 'wonder', 'wonderful', 'word', 'words', 'work', 'working', 'works', 'workshop', 'world', 'worms', 'worth', 'would', 'write', 'writers', 'writing', 'ye', 'year', 'yearbook', 'yes', 'yoga', 'you', 'young', 'your', 'yourself', 'zone']\n",
      "====================================================================================================\n"
     ]
    }
   ],
   "source": [
    "vectorizer = CountVectorizer(min_df=10)\n",
    "vectorizer.fit(X_train['project_title'].values) # fit has to happen only on train data\n",
    "\n",
    "# we use the fitted CountVectorizer to convert the text to vector\n",
    "X_train_title_bow = vectorizer.transform(X_train['project_title'].values)\n",
    "X_cv_title_bow = vectorizer.transform(X_cv['project_title'].values)\n",
    "X_test_title_bow = vectorizer.transform(X_test['project_title'].values.astype('U'))\n",
    "\n",
    "print(\"After vectorizations\")\n",
    "print(X_train_title_bow.shape, y_train.shape)\n",
    "print(X_cv_title_bow.shape, y_cv.shape)\n",
    "print(X_test_title_bow.shape, y_test.shape)\n",
    "print(vectorizer.get_feature_names())\n",
    "print(\"=\"*100)"
   ]
  },
  {
   "cell_type": "markdown",
   "metadata": {
    "colab_type": "text",
    "id": "ky0EhTrwhgYV"
   },
   "source": [
    "#### 1.5.2.2 TFIDF vectorizer"
   ]
  },
  {
   "cell_type": "code",
   "execution_count": 59,
   "metadata": {
    "colab": {
     "base_uri": "https://localhost:8080/",
     "height": 0
    },
    "colab_type": "code",
    "executionInfo": {
     "elapsed": 154477,
     "status": "ok",
     "timestamp": 1583751758906,
     "user": {
      "displayName": "Hemanth Reddy",
      "photoUrl": "",
      "userId": "16713424825086946671"
     },
     "user_tz": -330
    },
    "id": "BR3znnQ2hBJE",
    "outputId": "3ce407e0-60bd-4589-c90e-ab4444c6b54e"
   },
   "outputs": [
    {
     "name": "stdout",
     "output_type": "stream",
     "text": [
      "After vectorizations\n",
      "(22445, 9209) (22445,)\n",
      "(11055, 9209) (11055,)\n",
      "(16500, 9209) (16500,)\n",
      "['00', '000', '10', '100', '1000', '104', '10th', '11', '110', '11th', '12', '120', '1200', '125', '12th', '13', '130', '14', '140', '1400', '15', '150', '16', '160', '17', '170', '18', '180', '19', '1st', '20', '200', '2000', '2003', '2008', '2011', '2012', '2013', '2014', '2015', '2016', '2017', '2018', '20th', '21', '21st', '22', '23', '24', '25', '250', '26', '27', '28', '280', '29', '2d', '2nd', '30', '300', '3000', '31', '32', '320', '33', '34', '35', '350', '36', '360', '365', '37', '375', '38', '39', '3d', '3doodler', '3rd', '40', '400', '41', '42', '43', '44', '45', '450', '46', '47', '48', '49', '4k', '4th', '50', '500', '504', '51', '52', '53', '54', '55', '550', '56', '57', '58', '5th', '60', '600', '61', '62', '63', '64', '65', '650', '66', '67', '68', '69', '6th', '70', '700', '71', '72', '73', '74', '75', '750', '76', '77', '78', '79', '7th', '80', '800', '81', '82', '83', '84', '85', '850', '86', '87', '88', '89', '8th', '90', '900', '91', '92', '93', '94', '95', '96', '97', '98', '99', '9th', 'abandoned', 'abc', 'abcya', 'abdominal', 'abilities', 'ability', 'able', 'abound', 'about', 'above', 'abraham', 'absence', 'absences', 'absent', 'absenteeism', 'absolute', 'absolutely', 'absorb', 'absorbed', 'absorbing', 'abstract', 'abundance', 'abundant', 'abuse', 'academia', 'academic', 'academically', 'academics', 'academy', 'accelerate', 'accelerated', 'acceleration', 'accept', 'acceptable', 'acceptance', 'accepted', 'accepting', 'accepts', 'access', 'accessed', 'accessibility', 'accessible', 'accessing', 'accessories', 'accessory', 'accident', 'accidentally', 'accidents', 'accommodate', 'accommodating', 'accommodation', 'accommodations', 'accompanied', 'accompaniment', 'accompany', 'accompanying', 'accomplish', 'accomplished', 'accomplishing', 'accomplishment', 'accomplishments', 'according', 'accordingly', 'account', 'accountability', 'accountable', 'accounts', 'accredited', 'accumulate', 'accumulated', 'accuracy', 'accurate', 'accurately', 'accustomed', 'ace', 'acer', 'aches', 'achievable', 'achieve', 'achieved', 'achievement', 'achievements', 'achiever', 'achievers', 'achieving', 'acknowledge', 'acknowledged', 'acquire', 'acquired', 'acquiring', 'acquisition', 'across', 'acrylic', 'act', 'acting', 'action', 'actions', 'activate', 'activates', 'active', 'actively', 'activites', 'activities', 'activity', 'actors', 'acts', 'actual', 'actually', 'ad', 'adapt', 'adaptable', 'adaptation', 'adaptations', 'adapted', 'adapter', 'adapting', 'adaptive', 'add', 'added', 'addiction', 'adding', 'addition', 'additional', 'additionally', 'additions', 'address', 'addressed', 'addresses', 'addressing', 'adds', 'adept', 'adequate', 'adequately', 'adhd', 'adhere', 'adhesive', 'adjectives', 'adjust', 'adjustable', 'adjusted', 'adjusting', 'adjustment', 'adjustments', 'administered', 'administration', 'administrator', 'administrators', 'admire', 'admission', 'admit', 'adobe', 'adolescence', 'adolescent', 'adolescents', 'adopt', 'adopted', 'adoption', 'adorable', 'adore', 'adult', 'adulthood', 'adults', 'advance', 'advanced', 'advancement', 'advancements', 'advances', 'advancing', 'advantage', 'advantages', 'adventure', 'adventures', 'adventurous', 'adversities', 'adversity', 'advertisements', 'advertising', 'advisory', 'advocacy', 'advocate', 'advocates', 'advocating', 'aerobic', 'aesthetically', 'aesthetics', 'affect', 'affected', 'affecting', 'affection', 'affective', 'affects', 'affiliated', 'affirmation', 'affluent', 'afford', 'affordable', 'afforded', 'affording', 'affords', 'afghanistan', 'aforementioned', 'afraid', 'africa', 'african', 'after', 'afternoon', 'afternoons', 'afterschool', 'afterwards', 'again', 'against', 'age', 'aged', 'agencies', 'agency', 'agenda', 'agents', 'ages', 'aggression', 'aggressive', 'agility', 'aging', 'ago', 'agree', 'agreed', 'agricultural', 'agriculture', 'aha', 'ahead', 'aid', 'aide', 'aided', 'aides', 'aiding', 'aids', 'aim', 'aimed', 'aiming', 'aims', 'air', 'airport', 'aka', 'al', 'alabama', 'alaska', 'alaskan', 'albert', 'alcohol', 'alert', 'alertness', 'algebra', 'algebraic', 'algorithms', 'align', 'aligned', 'aligns', 'alike', 'alive', 'all', 'allergies', 'alleviate', 'allocated', 'allotted', 'allow', 'allowed', 'allowing', 'allows', 'almost', 'alone', 'along', 'alongside', 'alot', 'aloud', 'alouds', 'alphabet', 'already', 'also', 'alter', 'alternate', 'alternative', 'alternatives', 'although', 'alto', 'altogether', 'alumni', 'always', 'am', 'amaze', 'amazed', 'amazement', 'amazes', 'amazing', 'amazingly', 'amazon', 'ambassadors', 'ambition', 'ambitions', 'ambitious', 'amenities', 'america', 'american', 'americans', 'amharic', 'amidst', 'among', 'amongst', 'amount', 'amounts', 'ample', 'amplification', 'amplify', 'an', 'analysis', 'analytical', 'analyze', 'analyzed', 'analyzing', 'anatomy', 'ancestors', 'ancestry', 'anchor', 'anchors', 'ancient', 'and', 'anderson', 'android', 'andy', 'angeles', 'angelou', 'anger', 'angle', 'angles', 'angry', 'animal', 'animals', 'animated', 'animation', 'animations', 'anne', 'annotate', 'annotating', 'announcements', 'annual', 'annually', 'anonymous', 'another', 'answer', 'answered', 'answering', 'answers', 'ant', 'anti', 'anticipate', 'anticipated', 'anticipating', 'anticipation', 'antiquated', 'antonio', 'antonyms', 'ants', 'antsy', 'anxieties', 'anxiety', 'anxious', 'anxiously', 'any', 'anymore', 'anyone', 'anything', 'anytime', 'anyway', 'anywhere', 'ap', 'apart', 'apartment', 'apartments', 'app', 'appalachia', 'appalachian', 'apparent', 'appeal', 'appealing', 'appeals', 'appear', 'appearance', 'appears', 'appetite', 'apple', 'applesauce', 'applicable', 'application', 'applications', 'applied', 'applies', 'apply', 'applying', 'appreciate', 'appreciated', 'appreciating', 'appreciation', 'appreciative', 'approach', 'approached', 'approaches', 'approaching', 'appropriate', 'appropriately', 'approval', 'approved', 'approximately', 'apps', 'april', 'apt', 'aptitude', 'aquarium', 'aquatic', 'ar', 'arabic', 'archery', 'architect', 'architects', 'architecture', 'arduino', 'are', 'area', 'areas', 'aren', 'argue', 'argument', 'argumentative', 'arguments', 'arise', 'arises', 'arithmetic', 'arizona', 'arkansas', 'arm', 'armed', 'arms', 'army', 'around', 'arrange', 'arranged', 'arrangement', 'arrangements', 'arranging', 'array', 'arrays', 'arrival', 'arrivals', 'arrive', 'arrived', 'arrives', 'arriving', 'art', 'article', 'articles', 'articulate', 'articulation', 'artifacts', 'artificial', 'artist', 'artistic', 'artistically', 'artists', 'arts', 'artwork', 'artworks', 'as', 'asd', 'asia', 'asian', 'aside', 'ask', 'asked', 'asking', 'asks', 'aspect', 'aspects', 'aspirations', 'aspire', 'aspiring', 'assemble', 'assemblies', 'assembly', 'assess', 'assessed', 'assesses', 'assessing', 'assessment', 'assessments', 'asset', 'assets', 'assign', 'assigned', 'assigning', 'assignment', 'assignments', 'assimilate', 'assist', 'assistance', 'assistant', 'assistants', 'assisted', 'assisting', 'assistive', 'assists', 'associate', 'associated', 'association', 'assorted', 'assortment', 'assume', 'assure', 'assured', 'asthma', 'astounding', 'astronomy', 'at', 'ate', 'athlete', 'athletes', 'athletic', 'athletics', 'atlanta', 'atmosphere', 'atoms', 'attach', 'attached', 'attack', 'attain', 'attainable', 'attained', 'attaining', 'attempt', 'attempting', 'attempts', 'attend', 'attendance', 'attended', 'attending', 'attends', 'attention', 'attentive', 'attentiveness', 'attire', 'attitude', 'attitudes', 'attract', 'attracted', 'attractive', 'attribute', 'attributes', 'audible', 'audience', 'audiences', 'audio', 'audiobooks', 'audition', 'auditorium', 'auditory', 'augment', 'augmentative', 'augmented', 'august', 'aunts', 'austin', 'authentic', 'author', 'authors', 'autism', 'autistic', 'automatic', 'automatically', 'autonomous', 'autonomy', 'availability', 'available', 'avenue', 'avenues', 'average', 'averages', 'avid', 'avoid', 'avoiding', 'await', 'awaiting', 'awaits', 'awake', 'awaken', 'award', 'awarded', 'awards', 'aware', 'awareness', 'away', 'awe', 'awesome', 'awful', 'awhile', 'awkward', 'babies', 'baby', 'babysitting', 'baccalaureate', 'back', 'backbone', 'background', 'backgrounds', 'backpack', 'backpacks', 'backs', 'backwards', 'backyard', 'bacteria', 'bad', 'badly', 'badminton', 'bag', 'baggage', 'baggies', 'bags', 'bake', 'baking', 'balance', 'balanced', 'balances', 'balancing', 'ball', 'ballet', 'balloon', 'balloons', 'balls', 'baltimore', 'band', 'bands', 'bangladesh', 'bank', 'bar', 'bare', 'barely', 'barrier', 'barriers', 'bars', 'base', 'baseball', 'based', 'bases', 'basic', 'basically', 'basics', 'basis', 'basket', 'basketball', 'basketballs', 'baskets', 'bass', 'bath', 'bathroom', 'baton', 'bats', 'batteries', 'battery', 'batting', 'battle', 'battles', 'battling', 'bay', 'be', 'beach', 'beacon', 'beads', 'beakers', 'beam', 'beaming', 'beams', 'bean', 'beanbag', 'beanbags', 'beans', 'bear', 'bears', 'beat', 'beating', 'beats', 'beautiful', 'beautifully', 'beauty', 'became', 'because', 'become', 'becomes', 'becoming', 'bed', 'bedroom', 'beds', 'bedtime', 'bee', 'been', 'bees', 'before', 'beg', 'began', 'begged', 'begging', 'begin', 'beginner', 'beginners', 'beginning', 'beginnings', 'begins', 'begun', 'behalf', 'behave', 'behaved', 'behavior', 'behavioral', 'behaviorally', 'behaviors', 'behind', 'behold', 'being', 'beings', 'belief', 'beliefs', 'believe', 'believed', 'believer', 'believers', 'believes', 'believing', 'bell', 'bellies', 'bells', 'belly', 'belong', 'belonging', 'belongings', 'belongs', 'beloved', 'below', 'belt', 'belts', 'ben', 'bench', 'benches', 'benchmark', 'benchmarks', 'bend', 'beneath', 'beneficial', 'benefit', 'benefited', 'benefiting', 'benefits', 'bengali', 'benjamin', 'bent', 'beside', 'besides', 'best', 'bet', 'better', 'bettering', 'between', 'beyond', 'bi', 'bias', 'biased', 'bicycle', 'big', 'bigger', 'biggest', 'bike', 'bikes', 'bilingual', 'bilingualism', 'biliterate', 'bill', 'bills', 'bin', 'bind', 'binder', 'binders', 'binding', 'bingo', 'bins', 'biographies', 'biography', 'biological', 'biology', 'biomedical', 'biotechnology', 'bird', 'birds', 'birth', 'birthday', 'birthdays', 'bit', 'bits', 'black', 'blacktop', 'blame', 'blank', 'blanket', 'blankets', 'blast', 'blend', 'blended', 'blender', 'blending', 'blends', 'bless', 'blessed', 'blessing', 'blessings', 'blind', 'block', 'blocking', 'blocks', 'blog', 'blogging', 'blogs', 'blood', 'bloom', 'blossom', 'blossoming', 'blow', 'blowing', 'blown', 'bloxels', 'blue', 'bluetooth', 'board', 'boards', 'boasts', 'boat', 'boats', 'bodies', 'body', 'boisterous', 'bold', 'bolster', 'bombarded', 'bond', 'bonding', 'bonds', 'bone', 'bones', 'bonus', 'boogie', 'book', 'bookcase', 'bookcases', 'bookmarks', 'books', 'bookshelf', 'bookshelves', 'bookstore', 'bookworms', 'boost', 'boosting', 'boosts', 'border', 'borders', 'bored', 'boredom', 'boring', 'born', 'borough', 'boroughs', 'borrow', 'borrowed', 'borrowing', 'boston', 'bot', 'both', 'bothering', 'bots', 'bottle', 'bottled', 'bottles', 'bottom', 'bottoms', 'bought', 'bounce', 'bouncing', 'bouncy', 'bound', 'boundaries', 'boundary', 'boundless', 'bounds', 'bowl', 'bowling', 'bowls', 'box', 'boxed', 'boxes', 'boy', 'boys', 'bracelets', 'bracket', 'brag', 'brain', 'brainpop', 'brains', 'brainstorm', 'brainstormed', 'brainstorming', 'branch', 'branches', 'brand', 'brave', 'bravery', 'brazil', 'break', 'breakdown', 'breakfast', 'breakfasts', 'breaking', 'breakout', 'breakoutedu', 'breaks', 'breath', 'breathe', 'breathing', 'breeze', 'brick', 'bricks', 'bridge', 'bridges', 'bridging', 'brief', 'bright', 'brighten', 'brightens', 'brighter', 'brightest', 'brightly', 'brilliance', 'brilliant', 'brimming', 'bring', 'bringing', 'brings', 'broad', 'broadcast', 'broaden', 'broadening', 'broader', 'broadway', 'brochures', 'broke', 'broken', 'bronx', 'brooklyn', 'brother', 'brothers', 'brought', 'brown', 'browse', 'browsing', 'brush', 'brushes', 'bubble', 'bubbles', 'bubbling', 'bubbly', 'bucket', 'buckets', 'bucks', 'buddies', 'budding', 'buddy', 'budget', 'budgetary', 'budgeting', 'budgets', 'buds', 'buffalo', 'bug', 'bugs', 'build', 'builder', 'builders', 'building', 'buildings', 'builds', 'built', 'bulb', 'bulbs', 'bulk', 'bulky', 'bulletin', 'bullies', 'bullying', 'bump', 'bumping', 'bumps', 'bunch', 'bundle', 'bundles', 'bungee', 'burden', 'burdened', 'burdens', 'burma', 'burmese', 'burn', 'burned', 'burner', 'burning', 'burst', 'bursting', 'bus', 'bused', 'buses', 'business', 'businesses', 'bussed', 'busting', 'bustling', 'busy', 'but', 'butterflies', 'butterfly', 'button', 'buttons', 'buy', 'buying', 'buzz', 'buzzers', 'buzzing', 'by', 'ca', 'cabinet', 'cabinets', 'cable', 'cables', 'cad', 'caddies', 'cafe', 'cafeteria', 'cake', 'calculate', 'calculating', 'calculations', 'calculator', 'calculators', 'calculus', 'calendar', 'calendars', 'caliber', 'california', 'call', 'called', 'calling', 'calls', 'calm', 'calmer', 'calming', 'calories', 'cam', 'camaraderie', 'cambodia', 'camden', 'came', 'camera', 'cameras', 'camp', 'campaign', 'camping', 'camps', 'campus', 'campuses', 'can', 'cancel', 'cancelling', 'cancer', 'candy', 'cannot', 'canon', 'cans', 'cant', 'cantonese', 'canvas', 'canvases', 'canyon', 'cap', 'capabilities', 'capability', 'capable', 'capacities', 'capacity', 'capital', 'capitalize', 'caps', 'captions', 'captivate', 'captivated', 'captivating', 'capture', 'captured', 'captures', 'capturing', 'car', 'carbon', 'card', 'cardboard', 'cardio', 'cardiovascular', 'cards', 'cardstock', 'care', 'cared', 'career', 'careers', 'careful', 'carefully', 'caregiver', 'caregivers', 'cares', 'caretakers', 'caribbean', 'caring', 'carol', 'carolina', 'carpet', 'carpeted', 'carpets', 'carried', 'carries', 'carry', 'carrying', 'cars', 'cart', 'cartoons', 'cartridge', 'cartridges', 'carts', 'carve', 'carving', 'case', 'caseload', 'cases', 'cash', 'cassette', 'cast', 'castle', 'castles', 'cat', 'catalog', 'catalyst', 'catapult', 'catch', 'catches', 'catching', 'catchy', 'categorical', 'categories', 'categorized', 'category', 'cater', 'caterpillar', 'caterpillars', 'caters', 'cats', 'caucasian', 'caught', 'cause', 'caused', 'causes', 'causing', 'ccss', 'cd', 'cds', 'cease', 'ceases', 'ceiling', 'celebrate', 'celebrated', 'celebrates', 'celebrating', 'celebration', 'celebrations', 'cell', 'cells', 'cement', 'center', 'centered', 'centers', 'central', 'century', 'ceramic', 'ceramics', 'cereal', 'cerebral', 'certain', 'certainly', 'certificate', 'certificates', 'certification', 'certified', 'chain', 'chains', 'chair', 'chairs', 'chalk', 'chalkboard', 'challenge', 'challenged', 'challenges', 'challenging', 'champion', 'champions', 'championship', 'championships', 'chance', 'chances', 'change', 'changed', 'changer', 'changers', 'changes', 'changing', 'channel', 'channeled', 'chant', 'chants', 'chaos', 'chaotic', 'chapter', 'chapters', 'character', 'characteristic', 'characteristics', 'characterization', 'characterized', 'characters', 'charge', 'charged', 'charger', 'chargers', 'charges', 'charging', 'charismatic', 'charity', 'charleston', 'charlotte', 'charm', 'charming', 'chart', 'charter', 'charting', 'charts', 'chase', 'chat', 'chatter', 'cheap', 'cheaper', 'check', 'checked', 'checking', 'checkout', 'checks', 'cheer', 'cheerful', 'cheering', 'cheerleader', 'cheerleaders', 'cheerleading', 'cheers', 'chef', 'chefs', 'chemical', 'chemicals', 'chemistry', 'cherish', 'cherished', 'chess', 'chest', 'chew', 'chicago', 'chicken', 'chickens', 'chicks', 'child', 'childcare', 'childhood', 'children', 'childrens', 'china', 'chinese', 'chip', 'chips', 'chocolate', 'choice', 'choices', 'choir', 'choose', 'chooses', 'choosing', 'choral', 'chord', 'chords', 'chore', 'chores', 'chorus', 'chose', 'chosen', 'christmas', 'chrome', 'chromebook', 'chromebooks', 'chronic', 'chunks', 'church', 'churches', 'circle', 'circles', 'circuit', 'circuitry', 'circuits', 'circular', 'circulation', 'circumstance', 'circumstances', 'cite', 'cities', 'citizen', 'citizens', 'citizenship', 'city', 'civic', 'civil', 'civilization', 'civilizations', 'claim', 'claims', 'clarify', 'clarinet', 'clarinets', 'clarity', 'clark', 'class', 'classdojo', 'classes', 'classic', 'classical', 'classics', 'classification', 'classified', 'classify', 'classmate', 'classmates', 'classroom', 'classrooms', 'classwork', 'clay', 'clean', 'cleaned', 'cleaner', 'cleaners', 'cleaning', 'cleanliness', 'cleanup', 'clear', 'clearer', 'clearly', 'cleveland', 'clever', 'click', 'clickers', 'clicking', 'climate', 'climb', 'climbing', 'clinic', 'clip', 'clipboard', 'clipboards', 'clips', 'clock', 'clocks', 'clorox', 'close', 'closed', 'closely', 'closer', 'closest', 'closet', 'closing', 'clothes', 'clothing', 'cloud', 'club', 'clubs', 'clue', 'clues', 'cluster', 'clutter', 'cluttered', 'co', 'coach', 'coaches', 'coaching', 'coal', 'coast', 'coastal', 'coaster', 'coasters', 'coat', 'coats', 'code', 'coded', 'coders', 'codes', 'coding', 'coffee', 'cognition', 'cognitive', 'cognitively', 'cohesive', 'cohort', 'coincide', 'coins', 'cold', 'collaborate', 'collaborating', 'collaboration', 'collaborative', 'collaboratively', 'collaborators', 'collage', 'collages', 'collar', 'colleague', 'colleagues', 'collect', 'collected', 'collecting', 'collection', 'collections', 'collective', 'collectively', 'college', 'colleges', 'collegiate', 'colony', 'color', 'colorado', 'colored', 'colorful', 'coloring', 'colors', 'columbia', 'columbus', 'com', 'combat', 'combination', 'combinations', 'combine', 'combined', 'combines', 'combining', 'combo', 'come', 'comes', 'comfort', 'comfortable', 'comfortably', 'comforting', 'comforts', 'comfy', 'comic', 'comics', 'coming', 'command', 'commands', 'comment', 'commented', 'comments', 'commercial', 'commercials', 'commit', 'commitment', 'committed', 'committee', 'commodity', 'common', 'commonalities', 'commonality', 'commonly', 'commons', 'communicate', 'communicates', 'communicating', 'communication', 'communications', 'communicators', 'communities', 'community', 'commute', 'compact', 'companies', 'company', 'comparable', 'compare', 'compared', 'comparing', 'comparison', 'comparisons', 'compass', 'compasses', 'compassion', 'compassionate', 'compatible', 'compelling', 'compete', 'competence', 'competency', 'competent', 'competing', 'competition', 'competitions', 'competitive', 'competitors', 'compile', 'compiled', 'complain', 'complained', 'complaining', 'complement', 'complete', 'completed', 'completely', 'completes', 'completing', 'completion', 'complex', 'complexes', 'complexity', 'complicated', 'compliment', 'component', 'components', 'compose', 'composed', 'composers', 'composing', 'composition', 'compositions', 'compost', 'composting', 'compound', 'comprehend', 'comprehending', 'comprehension', 'comprehensive', 'comprise', 'comprised', 'compromise', 'computation', 'computations', 'computer', 'computerized', 'computers', 'computing', 'concentrate', 'concentrated', 'concentrating', 'concentration', 'concept', 'concepts', 'conceptual', 'conceptualize', 'concern', 'concerned', 'concerning', 'concerns', 'concert', 'concerts', 'conclude', 'conclusion', 'conclusions', 'concrete', 'concretely', 'condition', 'conditioner', 'conditioning', 'conditions', 'conducive', 'conduct', 'conducted', 'conducting', 'cone', 'cones', 'conference', 'conferences', 'conferencing', 'confidence', 'confident', 'confidently', 'confined', 'confines', 'conflict', 'conflicts', 'conform', 'confused', 'confusing', 'confusion', 'congo', 'congressional', 'conjunction', 'connect', 'connected', 'connecticut', 'connecting', 'connection', 'connections', 'connectivity', 'connects', 'conquer', 'conscientious', 'conscious', 'consecutive', 'consequences', 'consequently', 'conservation', 'conserve', 'consider', 'considerable', 'considerably', 'considerate', 'consideration', 'considered', 'considering', 'consist', 'consistency', 'consistent', 'consistently', 'consisting', 'consists', 'console', 'consoles', 'constant', 'constantly', 'constitution', 'constraints', 'construct', 'constructed', 'constructing', 'construction', 'constructive', 'consumable', 'consume', 'consumed', 'consumer', 'consumers', 'consuming', 'consumption', 'contact', 'contagious', 'contain', 'contained', 'container', 'containers', 'containing', 'contains', 'contemporary', 'content', 'contents', 'contest', 'contests', 'context', 'contexts', 'continents', 'continual', 'continually', 'continuation', 'continue', 'continued', 'continues', 'continuing', 'continuous', 'continuously', 'continuum', 'contrary', 'contrast', 'contrasting', 'contribute', 'contributed', 'contributes', 'contributing', 'contribution', 'contributions', 'contributors', 'control', 'controlled', 'controlling', 'convenience', 'convenient', 'conveniently', 'conventional', 'conventions', 'conversation', 'conversational', 'conversations', 'converse', 'convert', 'converted', 'convex', 'convey', 'convince', 'convinced', 'cook', 'cookie', 'cookies', 'cooking', 'cool', 'cooler', 'coolest', 'cooperate', 'cooperating', 'cooperation', 'cooperative', 'cooperatively', 'coordinate', 'coordination', 'coordinator', 'cope', 'copier', 'copies', 'coping', 'copper', 'copy', 'copying', 'cord', 'cords', 'core', 'cores', 'corn', 'cornell', 'corner', 'corners', 'cornerstone', 'corporation', 'correct', 'corrections', 'correctly', 'correlate', 'correlated', 'correlation', 'correspond', 'correspondence', 'corresponding', 'cost', 'costly', 'costs', 'costume', 'costumes', 'couch', 'couches', 'could', 'couldn', 'council', 'counseling', 'counselor', 'counselors', 'count', 'counter', 'counterparts', 'counters', 'counties', 'counting', 'countless', 'countries', 'country', 'counts', 'county', 'couple', 'coupled', 'courage', 'courageous', 'course', 'courses', 'coursework', 'court', 'courts', 'courtyard', 'cousins', 'cover', 'covered', 'covering', 'covers', 'coveted', 'covey', 'cozy', 'crack', 'cracked', 'crackers', 'cracks', 'craft', 'crafted', 'crafting', 'crafts', 'craftsmanship', 'cramped', 'crash', 'crate', 'crates', 'crave', 'craving', 'crayola', 'crayon', 'crayons', 'crazy', 'cream', 'create', 'created', 'creates', 'creating', 'creation', 'creations', 'creative', 'creatively', 'creativeness', 'creativity', 'creator', 'creators', 'creatures', 'credit', 'credits', 'creek', 'creole', 'crew', 'cricut', 'crime', 'crisis', 'crisp', 'criteria', 'critical', 'critically', 'critique', 'critiquing', 'crop', 'crops', 'cross', 'crossing', 'crowd', 'crowded', 'crucial', 'cry', 'cuba', 'cubbies', 'cubby', 'cube', 'cubes', 'cuddle', 'cue', 'cues', 'culinary', 'culminating', 'culmination', 'cultivate', 'cultivates', 'cultivating', 'cultural', 'culturally', 'culture', 'cultures', 'cumbersome', 'cup', 'cups', 'curb', 'curiosities', 'curiosity', 'curious', 'curl', 'curling', 'current', 'currently', 'curricula', 'curricular', 'curriculum', 'curriculums', 'cursive', 'curve', 'cushion', 'cushioned', 'cushions', 'custodians', 'custom', 'customer', 'customers', 'customize', 'customized', 'customs', 'cut', 'cute', 'cuts', 'cutter', 'cutting', 'cvc', 'cycle', 'cycles', 'dad', 'dahl', 'daily', 'dakota', 'dallas', 'damage', 'damaged', 'damaging', 'dance', 'dancers', 'dances', 'dancing', 'danger', 'dangerous', 'dare', 'dark', 'dash', 'data', 'databases', 'date', 'dated', 'dates', 'daughter', 'daunting', 'david', 'day', 'daycare', 'days', 'dc', 'de', 'dead', 'deadlines', 'deaf', 'deal', 'dealing', 'deals', 'dealt', 'dear', 'death', 'debate', 'debates', 'debating', 'decade', 'decades', 'december', 'decent', 'decide', 'decided', 'deciding', 'decimals', 'decipher', 'decision', 'decisions', 'deck', 'decline', 'decode', 'decoding', 'decompose', 'decor', 'decorate', 'decorated', 'decorating', 'decorations', 'decorative', 'decrease', 'decreased', 'decreases', 'decreasing', 'dedicate', 'dedicated', 'dedication', 'deemed', 'deep', 'deepen', 'deepening', 'deeper', 'deeply', 'defeat', 'defeated', 'defend', 'deficiencies', 'deficient', 'deficit', 'deficits', 'define', 'defined', 'defines', 'defining', 'definite', 'definitely', 'definition', 'definitions', 'defy', 'defying', 'degree', 'degrees', 'delay', 'delayed', 'delays', 'delicate', 'delicious', 'delight', 'delighted', 'delightful', 'deliver', 'delivered', 'delivering', 'delivery', 'dell', 'delta', 'delve', 'delving', 'delzer', 'demand', 'demanding', 'demands', 'demographic', 'demographics', 'demonstrate', 'demonstrated', 'demonstrates', 'demonstrating', 'demonstration', 'demonstrations', 'denied', 'dense', 'density', 'dental', 'denver', 'deodorant', 'department', 'departmentalized', 'depend', 'dependable', 'dependent', 'dependents', 'depending', 'depends', 'depleted', 'deployed', 'deployment', 'depressed', 'depression', 'deprived', 'depth', 'descent', 'describe', 'described', 'describes', 'describing', 'description', 'descriptive', 'desert', 'deserve', 'deserved', 'deserves', 'deserving', 'design', 'designated', 'designed', 'designer', 'designers', 'designing', 'designs', 'desirable', 'desire', 'desired', 'desires', 'desk', 'desks', 'desktop', 'desktops', 'desperate', 'desperately', 'despite', 'destination', 'destined', 'destiny', 'destroyed', 'detail', 'detailed', 'details', 'detectives', 'deter', 'determination', 'determine', 'determined', 'determining', 'detrimental', 'detroit', 'devastated', 'devastating', 'develop', 'developed', 'developing', 'development', 'developmental', 'developmentally', 'developments', 'develops', 'device', 'devices', 'devise', 'devote', 'devoted', 'devour', 'dewey', 'dexterity', 'diabetes', 'diagnosed', 'diagnoses', 'diagnosis', 'diagnostic', 'diagram', 'diagrams', 'dialects', 'dialogue', 'diamond', 'diamonds', 'diaries', 'diary', 'dice', 'dictate', 'dictionaries', 'dictionary', 'did', 'didn', 'die', 'diego', 'dies', 'diet', 'diets', 'differ', 'difference', 'differences', 'different', 'differentiate', 'differentiated', 'differentiating', 'differentiation', 'differently', 'differing', 'difficult', 'difficulties', 'difficulty', 'diffuser', 'dig', 'digging', 'digit', 'digital', 'digitally', 'dignity', 'digraphs', 'dilapidated', 'dilemma', 'diligent', 'diligently', 'dim', 'dimension', 'dimensional', 'dimensions', 'diminished', 'dinner', 'dinosaur', 'dinosaurs', 'dioramas', 'diploma', 'dire', 'direct', 'directed', 'directing', 'direction', 'directions', 'directly', 'director', 'directors', 'dirt', 'dirty', 'disabilities', 'disability', 'disabled', 'disadvantage', 'disadvantaged', 'disadvantages', 'disagree', 'disagreements', 'disappear', 'disappointed', 'disappointment', 'disaster', 'disasters', 'disc', 'disciplinary', 'discipline', 'disciplined', 'disciplines', 'discomfort', 'disconnect', 'discourage', 'discouraged', 'discourse', 'discover', 'discovered', 'discoveries', 'discovering', 'discovery', 'discrimination', 'discs', 'discuss', 'discussed', 'discussing', 'discussion', 'discussions', 'disease', 'disenfranchised', 'disengaged', 'dishes', 'disinfecting', 'disk', 'disks', 'dislike', 'dislikes', 'dismissal', 'disney', 'disorder', 'disorders', 'disorganized', 'disparity', 'dispenser', 'displaced', 'display', 'displayed', 'displaying', 'displays', 'disposable', 'disposal', 'disrepair', 'disrupt', 'disrupting', 'disruption', 'disruptions', 'disruptive', 'dissect', 'dissecting', 'dissection', 'distance', 'distances', 'distant', 'distinct', 'distinguish', 'distinguished', 'distract', 'distracted', 'distracting', 'distraction', 'distractions', 'distracts', 'distribute', 'distributed', 'district', 'districts', 'disturb', 'disturbance', 'disturbances', 'disturbed', 'disturbing', 'dive', 'divergent', 'diverse', 'diversified', 'diversify', 'diversity', 'divide', 'divided', 'dividers', 'diving', 'division', 'divorce', 'diy', 'dna', 'do', 'doc', 'docs', 'doctor', 'doctors', 'document', 'documentaries', 'documentary', 'documentation', 'documented', 'documenting', 'documents', 'doers', 'does', 'doesn', 'dog', 'dogs', 'doh', 'doing', 'dojo', 'dollar', 'dollars', 'dolls', 'dolphins', 'domains', 'domestic', 'dominant', 'dominated', 'dominican', 'dominoes', 'don', 'donate', 'donated', 'donating', 'donation', 'donations', 'done', 'donor', 'donors', 'donorschoose', 'doodle', 'doodler', 'door', 'doors', 'dork', 'dose', 'dot', 'dots', 'double', 'doubled', 'doubles', 'doubt', 'dough', 'douglass', 'down', 'download', 'downloaded', 'downloading', 'downs', 'downtown', 'dozen', 'dozens', 'dr', 'draft', 'drafting', 'drafts', 'drag', 'dragon', 'drama', 'dramatic', 'dramatically', 'drastic', 'drastically', 'draw', 'drawbacks', 'drawer', 'drawers', 'drawing', 'drawings', 'drawn', 'draws', 'dread', 'dream', 'dreambox', 'dreamed', 'dreamers', 'dreaming', 'dreams', 'dress', 'dressed', 'drew', 'dribbling', 'dried', 'drill', 'drills', 'drink', 'drinking', 'drinks', 'drive', 'driven', 'driver', 'drivers', 'drives', 'driving', 'drone', 'drones', 'drop', 'dropped', 'dropping', 'drown', 'drug', 'drugs', 'drum', 'drumline', 'drumming', 'drums', 'dry', 'drying', 'dual', 'duct', 'due', 'dull', 'durability', 'durable', 'duration', 'during', 'dust', 'duties', 'duty', 'dvd', 'dvds', 'dwindling', 'dye', 'dying', 'dynamic', 'dynamics', 'dyslexia', 'dyslexic', 'dystopian', 'each', 'eager', 'eagerly', 'eagerness', 'eagle', 'eagles', 'ear', 'earbuds', 'earlier', 'earliest', 'early', 'earn', 'earned', 'earning', 'earphones', 'ears', 'earth', 'earthquake', 'earthquakes', 'ease', 'easel', 'easels', 'easier', 'easiest', 'easily', 'east', 'eastern', 'easy', 'eat', 'eaten', 'eating', 'eats', 'ebooks', 'ec', 'echo', 'eclectic', 'eco', 'ecology', 'economic', 'economical', 'economically', 'economics', 'economy', 'ecosystem', 'ecosystems', 'ecstatic', 'ect', 'ecuador', 'ed', 'edge', 'edges', 'edible', 'edison', 'edit', 'editing', 'edition', 'edu', 'educate', 'educated', 'educates', 'educating', 'education', 'educational', 'educationally', 'educations', 'educator', 'educators', 'edutopia', 'effect', 'effected', 'effective', 'effectively', 'effectiveness', 'effects', 'efficiency', 'efficient', 'efficiently', 'effort', 'effortlessly', 'efforts', 'egg', 'eggs', 'egypt', 'eight', 'eighteen', 'eighth', 'eighty', 'einstein', 'either', 'el', 'ela', 'elaborate', 'elastic', 'elbow', 'eld', 'elderly', 'election', 'elections', 'elective', 'electives', 'electric', 'electrical', 'electricity', 'electronic', 'electronically', 'electronics', 'electrophoresis', 'element', 'elementary', 'elements', 'elephant', 'elevate', 'eleven', 'eligibility', 'eligible', 'eliminate', 'eliminated', 'eliminates', 'eliminating', 'ell', 'elliptical', 'ells', 'elmo', 'else', 'elsewhere', 'email', 'emails', 'embark', 'embarking', 'embarrassed', 'embarrassing', 'embarrassment', 'embed', 'embedded', 'embodies', 'embody', 'embrace', 'embraced', 'embraces', 'embracing', 'emerge', 'emergency', 'emergent', 'emerging', 'emotion', 'emotional', 'emotionally', 'emotions', 'empathetic', 'empathize', 'empathy', 'emphasis', 'emphasize', 'emphasized', 'emphasizes', 'emphasizing', 'employ', 'employed', 'employees', 'employers', 'employment', 'empower', 'empowered', 'empowering', 'empowerment', 'empowers', 'empty', 'emulate', 'en', 'enable', 'enabled', 'enables', 'enabling', 'encompass', 'encompasses', 'encounter', 'encountered', 'encounters', 'encourage', 'encouraged', 'encouragement', 'encourages', 'encouraging', 'end', 'endangered', 'endearing', 'endeavor', 'endeavors', 'ended', 'ending', 'endings', 'endless', 'ends', 'endurance', 'endure', 'endured', 'enduring', 'energetic', 'energize', 'energized', 'energy', 'enforce', 'engage', 'engaged', 'engagement', 'engages', 'engaging', 'engine', 'engineer', 'engineering', 'engineers', 'engines', 'england', 'english', 'engrossed', 'enhance', 'enhanced', 'enhancement', 'enhances', 'enhancing', 'enjoy', 'enjoyable', 'enjoyed', 'enjoying', 'enjoyment', 'enjoys', 'enl', 'enlarge', 'enlighten', 'enlightening', 'enormous', 'enough', 'enrich', 'enriched', 'enriches', 'enriching', 'enrichment', 'enroll', 'enrolled', 'enrolling', 'enrollment', 'ensemble', 'ensembles', 'ensure', 'ensures', 'ensuring', 'entails', 'enter', 'entered', 'entering', 'enters', 'entertain', 'entertained', 'entertaining', 'entertainment', 'enthralled', 'enthused', 'enthusiasm', 'enthusiastic', 'enthusiastically', 'entice', 'enticing', 'entire', 'entirely', 'entirety', 'entitled', 'entrance', 'entrepreneur', 'entrepreneurs', 'entrepreneurship', 'entries', 'entry', 'envelopes', 'environment', 'environmental', 'environmentally', 'environments', 'envision', 'envisioned', 'epic', 'equal', 'equality', 'equalizer', 'equally', 'equals', 'equation', 'equations', 'equip', 'equipment', 'equipped', 'equipping', 'equitable', 'equity', 'equivalent', 'era', 'erase', 'erased', 'eraser', 'erasers', 'ergonomic', 'eric', 'erosion', 'error', 'errors', 'escape', 'ese', 'esl', 'esol', 'especially', 'essay', 'essays', 'essence', 'essential', 'essentially', 'essentials', 'establish', 'established', 'establishing', 'esteem', 'estimate', 'estimation', 'estrada', 'etc', 'ethic', 'ethical', 'ethics', 'ethiopia', 'ethnic', 'ethnically', 'ethnicities', 'ethnicity', 'europe', 'european', 'ev3', 'evaluate', 'evaluating', 'evaluation', 'evans', 'even', 'evening', 'evenings', 'event', 'events', 'eventually', 'ever', 'every', 'everybody', 'everyday', 'everyone', 'everything', 'everywhere', 'evidence', 'evident', 'evolution', 'evolve', 'evolved', 'evolves', 'evolving', 'ex', 'exact', 'exactly', 'exam', 'examine', 'examining', 'example', 'examples', 'exams', 'exceed', 'exceeded', 'exceeding', 'exceeds', 'excel', 'excelled', 'excellence', 'excellent', 'excelling', 'except', 'exception', 'exceptional', 'exceptionalities', 'exceptionally', 'exceptions', 'excess', 'excessive', 'exchange', 'excitable', 'excite', 'excited', 'excitedly', 'excitement', 'excites', 'exciting', 'exclaimed', 'excuse', 'excuses', 'execute', 'executing', 'executive', 'exemplary', 'exemplify', 'exercise', 'exercises', 'exercising', 'exert', 'exhibit', 'exhibiting', 'exhibits', 'exist', 'existed', 'existence', 'existent', 'existing', 'exists', 'exit', 'exited', 'exiting', 'expand', 'expanded', 'expanding', 'expands', 'expansion', 'expect', 'expectation', 'expectations', 'expected', 'expecting', 'expedition', 'expeditionary', 'expeditions', 'expel', 'expend', 'expense', 'expenses', 'expensive', 'experience', 'experienced', 'experiences', 'experiencing', 'experiential', 'experiment', 'experimental', 'experimentation', 'experimented', 'experimenting', 'experiments', 'expert', 'expertise', 'experts', 'explain', 'explained', 'explaining', 'explains', 'explanation', 'explanations', 'explicit', 'explicitly', 'explode', 'exploration', 'explorations', 'exploratory', 'explore', 'explored', 'explorers', 'explores', 'exploring', 'explosion', 'expo', 'exponential', 'exponentially', 'expose', 'exposed', 'exposes', 'exposing', 'expository', 'exposure', 'exposures', 'express', 'expressed', 'expressing', 'expression', 'expressions', 'expressive', 'extend', 'extended', 'extending', 'extends', 'extension', 'extensions', 'extensive', 'extensively', 'extent', 'exterior', 'external', 'extra', 'extracurricular', 'extraordinary', 'extras', 'extreme', 'extremely', 'extrinsic', 'exuberant', 'exude', 'eye', 'eyed', 'eyes', 'fabric', 'fabulous', 'face', 'facebook', 'faced', 'faces', 'facet', 'faceted', 'facets', 'facial', 'facilitate', 'facilitated', 'facilitates', 'facilitating', 'facilitator', 'facilities', 'facility', 'facing', 'fact', 'factor', 'factors', 'factory', 'facts', 'faculty', 'fail', 'failed', 'failing', 'fails', 'failure', 'failures', 'fair', 'fairly', 'fairness', 'fairy', 'faith', 'fake', 'fall', 'fallen', 'falling', 'falls', 'familial', 'familiar', 'familiarity', 'familiarize', 'families', 'family', 'famous', 'fan', 'fancy', 'fans', 'fantastic', 'fantasy', 'far', 'farm', 'farmers', 'farming', 'farmland', 'farms', 'farther', 'fascinated', 'fascinating', 'fashion', 'fashioned', 'fast', 'faster', 'fastest', 'fat', 'father', 'fathers', 'fatigue', 'fault', 'favor', 'favorite', 'favorites', 'fear', 'fearless', 'fears', 'feasible', 'feat', 'feature', 'featured', 'features', 'featuring', 'february', 'fed', 'federal', 'fee', 'feed', 'feedback', 'feeder', 'feeding', 'feeds', 'feel', 'feeling', 'feelings', 'feels', 'fees', 'feet', 'fell', 'fellow', 'felt', 'female', 'females', 'feminine', 'ferguson', 'festival', 'festivals', 'few', 'fewer', 'fi', 'fiction', 'fictional', 'fidget', 'fidgeting', 'fidgets', 'fidgety', 'field', 'fields', 'fiercely', 'fifteen', 'fifth', 'fifty', 'fight', 'fighters', 'fighting', 'figurative', 'figure', 'figured', 'figures', 'figuring', 'filament', 'file', 'files', 'filing', 'filipino', 'fill', 'filled', 'filling', 'fills', 'film', 'filming', 'films', 'filter', 'filters', 'final', 'finally', 'finance', 'finances', 'financial', 'financially', 'find', 'finding', 'findings', 'finds', 'fine', 'finest', 'finger', 'fingers', 'fingertips', 'finish', 'finished', 'finishers', 'finishes', 'finishing', 'fire', 'fired', 'fires', 'firm', 'firmly', 'first', 'firsthand', 'firsties', 'fish', 'fishing', 'fist', 'fit', 'fitbit', 'fitbits', 'fitness', 'fits', 'fitting', 'five', 'fives', 'fix', 'fixed', 'fixing', 'fl', 'flag', 'flags', 'flame', 'flash', 'flashcards', 'flashlight', 'flashlights', 'flat', 'flex', 'flexibility', 'flexible', 'flight', 'flint', 'flip', 'flipped', 'flipping', 'float', 'floating', 'flocabulary', 'flood', 'flooded', 'flooding', 'floor', 'floors', 'florida', 'flourish', 'flourishing', 'flow', 'flower', 'flowers', 'flowing', 'flows', 'flu', 'fluency', 'fluent', 'fluently', 'fluid', 'fluorescent', 'fly', 'flyers', 'flying', 'foam', 'focal', 'focus', 'focused', 'focuses', 'focusing', 'fold', 'foldable', 'foldables', 'folder', 'folders', 'folding', 'folk', 'folktales', 'follow', 'followed', 'following', 'follows', 'fond', 'food', 'foods', 'foot', 'footage', 'football', 'footballs', 'foothills', 'footprint', 'for', 'force', 'forced', 'forces', 'forcing', 'forefront', 'foreign', 'foremost', 'forensic', 'forensics', 'forest', 'forests', 'forever', 'forge', 'forget', 'forgot', 'forgotten', 'form', 'formal', 'formally', 'format', 'formation', 'formative', 'formats', 'formed', 'former', 'formerly', 'forming', 'forms', 'formula', 'formulate', 'fort', 'forth', 'fortunate', 'fortunately', 'fortune', 'forty', 'forum', 'forward', 'fossil', 'fossils', 'foster', 'fostered', 'fostering', 'fosters', 'found', 'foundation', 'foundational', 'foundations', 'founded', 'founding', 'fountain', 'four', 'fourteen', 'fourth', 'fourths', 'fraction', 'fractions', 'fragile', 'frame', 'frames', 'framework', 'frameworks', 'france', 'francisco', 'frank', 'franklin', 'frankly', 'fred', 'free', 'freedom', 'freeing', 'freely', 'french', 'frequency', 'frequent', 'frequently', 'fresh', 'freshly', 'freshman', 'freshmen', 'friday', 'fridays', 'friend', 'friendly', 'friends', 'friendship', 'friendships', 'frisbee', 'frisbees', 'frog', 'frogs', 'from', 'front', 'frozen', 'fruit', 'fruition', 'fruits', 'frustrated', 'frustrating', 'frustration', 'frustrations', 'ft', 'fuel', 'fueled', 'fueling', 'fuels', 'fulfill', 'fulfilled', 'fulfilling', 'fulfillment', 'full', 'fullest', 'fully', 'fun', 'function', 'functional', 'functionality', 'functionally', 'functioning', 'functions', 'fund', 'fundamental', 'fundamentals', 'funded', 'funding', 'fundraisers', 'fundraising', 'funds', 'funniest', 'funny', 'furnish', 'furniture', 'further', 'furthering', 'furthermore', 'futon', 'future', 'futures', 'ga', 'gadgets', 'gaiam', 'gain', 'gained', 'gaining', 'gains', 'galaxy', 'galleries', 'gallery', 'gallon', 'game', 'gamers', 'games', 'gaming', 'gamut', 'gang', 'gangs', 'gap', 'gaps', 'garage', 'garbage', 'garden', 'gardening', 'gardens', 'gas', 'gases', 'gate', 'gates', 'gateway', 'gather', 'gathered', 'gathering', 'gauge', 'gave', 'gear', 'geared', 'gears', 'gel', 'gem', 'gender', 'genders', 'general', 'generalization', 'generalize', 'generally', 'generate', 'generated', 'generating', 'generation', 'generational', 'generations', 'generosity', 'generous', 'generously', 'genetic', 'genetics', 'genius', 'geniuses', 'genre', 'genres', 'gentle', 'gentlemen', 'gently', 'genuine', 'genuinely', 'geographic', 'geographical', 'geography', 'geometric', 'geometry', 'george', 'georgia', 'germ', 'german', 'germs', 'gestures', 'get', 'gets', 'getting', 'ghana', 'giant', 'gift', 'gifted', 'gifts', 'giggle', 'giggles', 'girl', 'girls', 'give', 'given', 'giver', 'gives', 'giving', 'gizmos', 'glad', 'glance', 'glare', 'glass', 'glasses', 'glaze', 'glazes', 'glimpse', 'glitter', 'global', 'globally', 'globe', 'globes', 'gloves', 'glow', 'glue', 'glued', 'gluing', 'go', 'goal', 'goals', 'goats', 'god', 'goes', 'goggles', 'gogh', 'going', 'gold', 'golden', 'goldfish', 'goldilocks', 'golf', 'gone', 'gonoodle', 'good', 'goodbye', 'goodness', 'goods', 'goofy', 'google', 'gopro', 'got', 'gotten', 'government', 'grab', 'grabbing', 'grace', 'gracious', 'graciously', 'grade', 'graded', 'grader', 'graders', 'grades', 'grading', 'gradually', 'graduate', 'graduated', 'graduates', 'graduating', 'graduation', 'graffiti', 'grammar', 'grand', 'grandma', 'grandparent', 'grandparents', 'granola', 'grant', 'granted', 'grants', 'graph', 'graphic', 'graphics', 'graphing', 'graphs', 'grapple', 'grasp', 'grasped', 'grasping', 'grass', 'grateful', 'gratification', 'gratifying', 'gratitude', 'gravitate', 'gravity', 'great', 'greater', 'greatest', 'greatly', 'greatness', 'greece', 'greek', 'green', 'greenhouse', 'greet', 'greeted', 'greeting', 'greetings', 'grew', 'grid', 'grip', 'grips', 'grit', 'grocery', 'groove', 'grooving', 'gross', 'ground', 'grounded', 'grounds', 'group', 'grouped', 'grouping', 'groupings', 'groups', 'grove', 'grow', 'growing', 'growling', 'grown', 'grows', 'growth', 'gt', 'guarantee', 'guaranteed', 'guard', 'guardian', 'guardians', 'guards', 'guatemala', 'guess', 'guest', 'guests', 'guidance', 'guide', 'guided', 'guidelines', 'guides', 'guiding', 'guinea', 'guitar', 'guitars', 'gun', 'gusto', 'guy', 'guys', 'gym', 'gymnasium', 'gymnastics', 'ha', 'habit', 'habitat', 'habitats', 'habits', 'had', 'hail', 'hair', 'haiti', 'haitian', 'half', 'halfway', 'hall', 'halls', 'hallway', 'hallways', 'hand', 'handed', 'handful', 'handheld', 'handicapped', 'handing', 'handle', 'handles', 'handling', 'handouts', 'hands', 'handshake', 'handwriting', 'handy', 'hang', 'hanging', 'happen', 'happened', 'happening', 'happenings', 'happens', 'happier', 'happiest', 'happily', 'happiness', 'happy', 'hard', 'hardcover', 'harder', 'hardest', 'hardly', 'hardship', 'hardships', 'hardware', 'hardworking', 'harlem', 'harm', 'harmful', 'harmony', 'harness', 'harnessing', 'harry', 'harsh', 'harvest', 'harvesting', 'has', 'hasn', 'hassle', 'hat', 'hatch', 'hatching', 'hate', 'hates', 'hats', 'have', 'haven', 'haves', 'having', 'hawaii', 'hawaiian', 'hazard', 'hdmi', 'he', 'head', 'headaches', 'headed', 'heading', 'headphone', 'headphones', 'heads', 'headset', 'headsets', 'healing', 'health', 'healthier', 'healthy', 'hear', 'heard', 'hearing', 'heart', 'heartbeat', 'heartbreaking', 'hearted', 'hearts', 'heartwarming', 'heat', 'heating', 'heaven', 'heavily', 'heavy', 'hectic', 'height', 'heighten', 'heightened', 'heights', 'held', 'helen', 'hello', 'helmets', 'help', 'helped', 'helper', 'helpers', 'helpful', 'helping', 'helps', 'hence', 'henry', 'her', 'herbs', 'here', 'heritage', 'hero', 'heroes', 'herself', 'hesitant', 'hesitation', 'heterogeneous', 'hey', 'hi', 'hidden', 'hide', 'high', 'higher', 'highest', 'highlight', 'highlighted', 'highlighters', 'highlighting', 'highlights', 'highly', 'hilarious', 'hill', 'hills', 'him', 'himself', 'hinder', 'hindered', 'hindering', 'hinders', 'hindi', 'hindrance', 'hip', 'hired', 'his', 'hispanic', 'hispanics', 'historians', 'historic', 'historical', 'historically', 'histories', 'history', 'hit', 'hits', 'hitting', 'hmong', 'hobbies', 'hobby', 'hockey', 'hokki', 'hold', 'holder', 'holders', 'holding', 'holds', 'hole', 'holes', 'holiday', 'holidays', 'holistic', 'hollywood', 'holocaust', 'home', 'homeless', 'homelessness', 'homemade', 'homeroom', 'homes', 'homestead', 'hometown', 'homework', 'homey', 'honduras', 'hone', 'honest', 'honestly', 'honesty', 'honing', 'honor', 'honored', 'honoring', 'honors', 'hood', 'hook', 'hooked', 'hooks', 'hoop', 'hoops', 'hop', 'hope', 'hoped', 'hopeful', 'hopefully', 'hopes', 'hoping', 'hopping', 'hopscotch', 'horizon', 'horizons', 'horrible', 'horseshoe', 'hose', 'hospital', 'host', 'hosted', 'hosting', 'hosts', 'hot', 'hotel', 'hotels', 'hour', 'hours', 'house', 'housed', 'household', 'households', 'housekeeping', 'houses', 'housing', 'houston', 'how', 'however', 'hp', 'html', 'http', 'https', 'hub', 'hug', 'huge', 'hugely', 'hugs', 'hula', 'hum', 'human', 'humanities', 'humanity', 'humans', 'humble', 'humbled', 'humbly', 'humidity', 'humor', 'humorous', 'hundred', 'hundreds', 'hung', 'hunger', 'hungry', 'hunt', 'hunter', 'hunting', 'hunts', 'hurdle', 'hurdles', 'hurricane', 'hurt', 'hurting', 'hurts', 'hybrid', 'hydrated', 'hydration', 'hygiene', 'hyper', 'hyperactive', 'hyperactivity', 'hypotheses', 'hypothesis', 'ib', 'ice', 'ict', 'id', 'idaho', 'idea', 'ideal', 'ideally', 'ideals', 'ideas', 'identification', 'identified', 'identify', 'identifying', 'identities', 'identity', 'ie', 'iep', 'ieps', 'if', 'ignacio', 'ignite', 'ignited', 'ignites', 'igniting', 'ignore', 'ignored', 'ii', 'iii', 'il', 'ill', 'illinois', 'illiterate', 'illness', 'illnesses', 'illustrate', 'illustrated', 'illustrating', 'illustration', 'illustrations', 'illustrator', 'illustrators', 'imac', 'image', 'imagery', 'images', 'imaginable', 'imaginary', 'imagination', 'imaginations', 'imaginative', 'imagine', 'imagined', 'imagining', 'imitate', 'immeasurable', 'immediate', 'immediately', 'immense', 'immensely', 'immerse', 'immersed', 'immersing', 'immersion', 'immigrant', 'immigrants', 'immigrated', 'immigration', 'imovie', 'imovies', 'impact', 'impacted', 'impactful', 'impacting', 'impacts', 'impaired', 'impairment', 'impairments', 'impart', 'impede', 'imperative', 'implement', 'implementation', 'implemented', 'implementing', 'implications', 'importance', 'important', 'importantly', 'impossible', 'impoverished', 'impress', 'impressed', 'impression', 'impressionable', 'impressions', 'impressive', 'improve', 'improved', 'improvement', 'improvements', 'improves', 'improving', 'improvise', 'impulsive', 'in', 'inability', 'inadequate', 'inappropriate', 'inaugural', 'incarcerated', 'incarceration', 'incentive', 'incentives', 'inch', 'inches', 'inclement', 'inclined', 'include', 'included', 'includes', 'including', 'inclusion', 'inclusive', 'income', 'incomes', 'incoming', 'incorporate', 'incorporated', 'incorporates', 'incorporating', 'incorporation', 'incorrect', 'increase', 'increased', 'increases', 'increasing', 'increasingly', 'incredible', 'incredibly', 'incubator', 'indeed', 'independence', 'independent', 'independently', 'index', 'india', 'indian', 'indiana', 'indianapolis', 'indicate', 'indicated', 'indicates', 'indicator', 'individual', 'individuality', 'individualize', 'individualized', 'individually', 'individuals', 'indoor', 'indoors', 'industrial', 'industries', 'industry', 'inequality', 'inequities', 'inevitable', 'inevitably', 'inexpensive', 'infectious', 'infer', 'inference', 'inferences', 'infested', 'infinite', 'infinity', 'inflatable', 'influence', 'influenced', 'influences', 'influential', 'influx', 'inform', 'informal', 'information', 'informational', 'informative', 'informed', 'infrastructure', 'infuse', 'infused', 'infusing', 'ingenuity', 'ingredient', 'ingredients', 'inhabit', 'inherent', 'inherently', 'inherited', 'inhibit', 'initial', 'initially', 'initiate', 'initiated', 'initiative', 'initiatives', 'injured', 'injuries', 'injury', 'injustice', 'ink', 'innate', 'inner', 'innocent', 'innovate', 'innovated', 'innovating', 'innovation', 'innovations', 'innovative', 'innovators', 'input', 'inquire', 'inquirers', 'inquiries', 'inquiring', 'inquiry', 'inquisitive', 'inquisitiveness', 'ins', 'insatiable', 'insect', 'insects', 'insecure', 'insecurity', 'insert', 'inside', 'insight', 'insightful', 'insights', 'inspiration', 'inspirational', 'inspirations', 'inspire', 'inspired', 'inspires', 'inspiring', 'instability', 'instagram', 'install', 'installation', 'installed', 'instance', 'instances', 'instant', 'instantly', 'instead', 'instill', 'instilled', 'instilling', 'instills', 'institute', 'institution', 'institutions', 'instruct', 'instructed', 'instructing', 'instruction', 'instructional', 'instructions', 'instructor', 'instrument', 'instrumental', 'instrumentation', 'instruments', 'insufficient', 'insure', 'insurmountable', 'intake', 'integral', 'integrate', 'integrated', 'integrates', 'integrating', 'integration', 'integrity', 'intellect', 'intellectual', 'intellectually', 'intelligence', 'intelligences', 'intelligent', 'intend', 'intended', 'intense', 'intensely', 'intensity', 'intensive', 'intent', 'intention', 'intentional', 'inter', 'interact', 'interacting', 'interaction', 'interactions', 'interactive', 'interactively', 'interacts', 'interconnected', 'interdependent', 'interdisciplinary', 'interest', 'interested', 'interesting', 'interests', 'interface', 'interfere', 'intermediate', 'internal', 'internalize', 'international', 'internationally', 'internet', 'internships', 'interpersonal', 'interpret', 'interpretation', 'interpretations', 'interpreting', 'interrupt', 'interrupted', 'interrupting', 'interruption', 'interruptions', 'intertwined', 'intervals', 'intervention', 'interventionist', 'interventions', 'interview', 'interviews', 'intimate', 'intimidated', 'intimidating', 'into', 'intonation', 'intricate', 'intrigue', 'intrigued', 'intriguing', 'intrinsic', 'intrinsically', 'introduce', 'introduced', 'introduces', 'introducing', 'introduction', 'introductory', 'intuitive', 'invaluable', 'invent', 'invented', 'inventing', 'invention', 'inventions', 'inventive', 'inventor', 'inventors', 'inventory', 'invest', 'invested', 'investigate', 'investigating', 'investigation', 'investigations', 'investigative', 'investigators', 'investing', 'investment', 'invigorating', 'invisible', 'invite', 'invited', 'invites', 'inviting', 'involve', 'involved', 'involvement', 'involves', 'involving', 'iowa', 'ipad', 'ipads', 'iphone', 'iphones', 'ipod', 'ipods', 'iq', 'iraq', 'iready', 'iron', 'is', 'isd', 'island', 'islander', 'islanders', 'isn', 'isolated', 'isolation', 'issue', 'issued', 'issues', 'istation', 'it', 'italy', 'item', 'items', 'its', 'itself', 'ixl', 'jack', 'jacket', 'jackets', 'jacks', 'jackson', 'jail', 'jam', 'jamaica', 'james', 'january', 'japan', 'japanese', 'jazz', 'jean', 'jefferson', 'jellyfish', 'jenga', 'jersey', 'jet', 'jewelry', 'jitters', 'job', 'jobs', 'john', 'johnson', 'join', 'joined', 'joining', 'joint', 'joints', 'jokes', 'jones', 'jordan', 'jose', 'joseph', 'jot', 'journal', 'journaling', 'journalism', 'journalists', 'journals', 'journey', 'journeys', 'joy', 'joyful', 'joys', 'jr', 'judge', 'judged', 'judges', 'judgment', 'juice', 'juices', 'july', 'jumbo', 'jump', 'jumped', 'jumping', 'jumpstart', 'junction', 'june', 'jungle', 'junie', 'junior', 'juniors', 'junk', 'just', 'justice', 'justify', 'juvenile', 'kahoot', 'kansas', 'karen', 'kate', 'katrina', 'kayla', 'keen', 'keep', 'keeping', 'keeps', 'keepsake', 'keller', 'kennedy', 'kentucky', 'kenya', 'kept', 'key', 'keyboard', 'keyboarding', 'keyboards', 'keynote', 'keys', 'khan', 'kick', 'kickball', 'kicking', 'kid', 'kiddos', 'kidney', 'kids', 'kill', 'killed', 'kiln', 'kind', 'kinder', 'kindergarten', 'kindergartener', 'kindergarteners', 'kindergartens', 'kindergartner', 'kindergartners', 'kinders', 'kindest', 'kindhearted', 'kindle', 'kindles', 'kindly', 'kindness', 'kinds', 'kinesthetic', 'kinesthetically', 'kinetic', 'king', 'kit', 'kitchen', 'kits', 'kleenex', 'knack', 'knee', 'kneel', 'kneeling', 'knees', 'knew', 'knit', 'knock', 'know', 'knowing', 'knowledge', 'knowledgeable', 'known', 'knows', 'kore', 'korea', 'korean', 'la', 'lab', 'label', 'labeled', 'labeling', 'labels', 'labor', 'laboratory', 'labs', 'lacing', 'lack', 'lacked', 'lacking', 'lacks', 'lacrosse', 'ladder', 'ladies', 'lady', 'laid', 'lake', 'lakeshore', 'lakota', 'laminate', 'laminated', 'laminating', 'lamination', 'laminator', 'lamp', 'lamps', 'land', 'landforms', 'landmarks', 'lands', 'landscape', 'landscapes', 'language', 'languages', 'lap', 'laps', 'laptop', 'laptops', 'large', 'largely', 'larger', 'largest', 'las', 'laser', 'last', 'lasting', 'lastly', 'lasts', 'latch', 'late', 'lately', 'later', 'latest', 'latin', 'latino', 'latinos', 'laugh', 'laughing', 'laughter', 'launch', 'launching', 'laundry', 'law', 'laws', 'lawyers', 'lay', 'layer', 'layers', 'laying', 'layout', 'lcd', 'lead', 'leader', 'leaders', 'leadership', 'leading', 'leads', 'leaf', 'league', 'lean', 'leaning', 'leap', 'leapfrog', 'leaps', 'learn', 'learned', 'learner', 'learners', 'learning', 'learnings', 'learns', 'least', 'leave', 'leaves', 'leaving', 'lecture', 'lectures', 'lecturing', 'led', 'left', 'leftover', 'leg', 'legacy', 'legal', 'legged', 'lego', 'legos', 'legs', 'leisure', 'lend', 'lending', 'lends', 'length', 'lengths', 'lengthy', 'lenovo', 'lens', 'lenses', 'less', 'lessen', 'lesson', 'lessons', 'let', 'lets', 'letter', 'letters', 'letting', 'level', 'leveled', 'leveling', 'levels', 'leverage', 'lewis', 'lexia', 'lexile', 'lgbtq', 'liberty', 'librarian', 'librarians', 'libraries', 'library', 'lice', 'license', 'licenses', 'lie', 'lies', 'life', 'lifelong', 'lifestyle', 'lifestyles', 'lifetime', 'lift', 'lifting', 'light', 'lightbulb', 'lighthouse', 'lighting', 'lightly', 'lights', 'lightweight', 'like', 'liked', 'likelihood', 'likely', 'likes', 'likewise', 'liking', 'limit', 'limitation', 'limitations', 'limited', 'limiting', 'limitless', 'limits', 'lincoln', 'line', 'linear', 'lined', 'lines', 'lingual', 'linguistic', 'linguistically', 'lining', 'link', 'linked', 'linking', 'links', 'linoleum', 'lion', 'liquid', 'liquids', 'list', 'listed', 'listen', 'listened', 'listeners', 'listening', 'lists', 'lit', 'literacy', 'literal', 'literally', 'literary', 'literate', 'literature', 'little', 'littlebits', 'littles', 'littlest', 'live', 'lived', 'lively', 'liven', 'lives', 'living', 'll', 'load', 'loaded', 'loads', 'loan', 'local', 'locally', 'locate', 'located', 'locating', 'location', 'locations', 'lock', 'locked', 'locker', 'lockers', 'locks', 'log', 'logan', 'logging', 'logic', 'logical', 'login', 'logs', 'long', 'longer', 'longevity', 'longing', 'look', 'looked', 'looking', 'looks', 'loop', 'looped', 'looping', 'loose', 'los', 'lose', 'losing', 'loss', 'lost', 'lot', 'lots', 'lottery', 'loud', 'loudly', 'louis', 'louisiana', 'louisville', 'lounge', 'lovable', 'love', 'loved', 'lovely', 'lover', 'lovers', 'loves', 'loving', 'lovingly', 'low', 'lower', 'lowered', 'lowest', 'loyal', 'luck', 'luckiest', 'luckily', 'lucky', 'lucy', 'lunch', 'lunches', 'lunchroom', 'luther', 'luxuries', 'luxury', 'lying', 'lyrics', 'ma', 'mac', 'macbook', 'mache', 'machine', 'machines', 'mad', 'made', 'magazine', 'magazines', 'magic', 'magical', 'magna', 'magnatiles', 'magnet', 'magnetic', 'magnetism', 'magnets', 'magnificent', 'magnifying', 'mail', 'mailbox', 'mailboxes', 'main', 'maine', 'mainly', 'mainstream', 'mainstreamed', 'maintain', 'maintained', 'maintaining', 'maintains', 'maintenance', 'major', 'majority', 'make', 'makeover', 'maker', 'makers', 'makerspace', 'makerspaces', 'makes', 'makeup', 'makey', 'making', 'malala', 'male', 'males', 'mallets', 'man', 'manage', 'manageable', 'managed', 'management', 'manager', 'managers', 'managing', 'mandarin', 'mandated', 'mandatory', 'mandela', 'maneuver', 'manhattan', 'manipulate', 'manipulated', 'manipulates', 'manipulating', 'manipulation', 'manipulative', 'manipulatives', 'manner', 'mannered', 'manners', 'mantra', 'manual', 'manufacturing', 'many', 'map', 'maps', 'marble', 'march', 'marching', 'margaret', 'marginalized', 'maria', 'marine', 'mark', 'marked', 'marker', 'markers', 'market', 'marketable', 'marketing', 'marking', 'marks', 'mars', 'marshallese', 'martin', 'marvel', 'marvelous', 'mary', 'maryland', 'mascot', 'masks', 'mass', 'massachusetts', 'massive', 'master', 'mastered', 'mastering', 'masterpiece', 'masterpieces', 'masters', 'mastery', 'mat', 'match', 'matched', 'matches', 'matching', 'material', 'materials', 'math', 'mathematic', 'mathematical', 'mathematically', 'mathematician', 'mathematicians', 'mathematics', 'mats', 'matter', 'matters', 'matthew', 'mature', 'maturing', 'maturity', 'max', 'maximize', 'maximized', 'maximizes', 'maximizing', 'maximum', 'may', 'maya', 'maybe', 'mayo', 'maze', 'mazes', 'me', 'mead', 'meager', 'meal', 'meals', 'mean', 'meaning', 'meaningful', 'meanings', 'means', 'meant', 'meanwhile', 'measurable', 'measure', 'measured', 'measurement', 'measurements', 'measures', 'measuring', 'mechanical', 'mechanics', 'mechanisms', 'medal', 'media', 'median', 'medical', 'medication', 'medicine', 'meditating', 'meditation', 'medium', 'mediums', 'meet', 'meeting', 'meetings', 'meets', 'melodies', 'melody', 'melt', 'melting', 'member', 'members', 'membership', 'memorable', 'memories', 'memorization', 'memorize', 'memorized', 'memorizing', 'memory', 'memphis', 'men', 'mental', 'mentality', 'mentally', 'mention', 'mentioned', 'mentor', 'mentoring', 'mentors', 'menu', 'mercy', 'merely', 'mesh', 'mess', 'message', 'messages', 'messes', 'messy', 'met', 'metabolism', 'metal', 'meter', 'method', 'methods', 'metric', 'metro', 'metropolitan', 'mexican', 'mexico', 'mi', 'miami', 'mice', 'michael', 'michigan', 'micro', 'microphone', 'microphones', 'microscope', 'microscopes', 'microsoft', 'microwave', 'mid', 'middle', 'midst', 'midwest', 'might', 'mighty', 'migrant', 'mild', 'mile', 'miles', 'milestone', 'milestones', 'military', 'milk', 'mill', 'miller', 'million', 'millions', 'milwaukee', 'mimic', 'min', 'mind', 'minded', 'mindedness', 'mindful', 'mindfulness', 'minds', 'mindset', 'mindsets', 'mindstorms', 'mine', 'minecraft', 'mineral', 'minerals', 'mini', 'miniature', 'minimal', 'minimize', 'minimizing', 'minimum', 'mining', 'minis', 'minneapolis', 'minnesota', 'minor', 'minorities', 'minority', 'minute', 'minutes', 'miracle', 'mirror', 'mirrors', 'misconceptions', 'misplaced', 'miss', 'missed', 'missing', 'mission', 'missions', 'mississippi', 'missouri', 'mistake', 'mistakes', 'misunderstood', 'mix', 'mixed', 'mixing', 'mixture', 'mn', 'mo', 'mobile', 'mobility', 'moby', 'mobymax', 'mock', 'mockingbird', 'modalities', 'modality', 'mode', 'model', 'modeled', 'modeling', 'models', 'moderate', 'modern', 'modes', 'modest', 'modification', 'modifications', 'modified', 'modify', 'modules', 'mold', 'molded', 'molding', 'molds', 'molecules', 'mom', 'moment', 'moments', 'momentum', 'moms', 'monday', 'mondays', 'monetary', 'money', 'monitor', 'monitored', 'monitoring', 'monitors', 'monolingual', 'monster', 'montana', 'montessori', 'month', 'monthly', 'months', 'monumental', 'mood', 'moods', 'moon', 'moral', 'morale', 'more', 'moreover', 'morning', 'mornings', 'mosaic', 'most', 'mostly', 'motels', 'mother', 'mothers', 'motion', 'motions', 'motivate', 'motivated', 'motivates', 'motivating', 'motivation', 'motivational', 'motivations', 'motivator', 'motivators', 'motor', 'motors', 'motto', 'mount', 'mountain', 'mountains', 'mounted', 'mouse', 'mouth', 'mouthpieces', 'mouths', 'movable', 'move', 'moved', 'movement', 'movements', 'movers', 'moves', 'movie', 'movies', 'moving', 'mp3', 'mr', 'mrs', 'ms', 'mt', 'much', 'mud', 'multi', 'multiage', 'multicultural', 'multilingual', 'multimedia', 'multiple', 'multiplication', 'multiply', 'multiracial', 'multisensory', 'multitude', 'mundane', 'mural', 'murals', 'murder', 'muscle', 'muscles', 'muscular', 'museum', 'museums', 'music', 'musical', 'musically', 'musicals', 'musician', 'musicians', 'musicianship', 'must', 'mutual', 'my', 'myon', 'myriad', 'myself', 'mysteries', 'mystery', 'mythology', 'myths', 'n1', 'n100', 'n2', 'n3', 'n4', 'n5', 'na', 'nabout', 'naccess', 'naccording', 'nactive', 'nadding', 'nadditionally', 'nafter', 'nall', 'nallowing', 'nalmost', 'nalong', 'nalso', 'nalternative', 'nalthough', 'name', 'named', 'names', 'nan', 'nancy', 'nand', 'nannan', 'nanother', 'nany', 'nap', 'napproximately', 'narrative', 'narratives', 'narrow', 'nart', 'nas', 'nasa', 'nat', 'nate', 'nation', 'national', 'nationalities', 'nationally', 'nations', 'nationwide', 'native', 'natives', 'natural', 'naturally', 'nature', 'navigate', 'navigating', 'nbecause', 'nbefore', 'nbeing', 'nbesides', 'nbeyond', 'nbooks', 'nboth', 'nbouncy', 'nbreakout', 'nbringing', 'nbuilding', 'nbut', 'nby', 'nc', 'ncan', 'nchildren', 'nchromebooks', 'nclassroom', 'ncoding', 'ncollaboration', 'ncoming', 'ncomputer', 'ncomputers', 'ncreating', 'ncurrently', 'ndaily', 'ndespite', 'ndeveloping', 'ndid', 'ndifferent', 'ndo', 'ndonating', 'ndonations', 'ndue', 'nduring', 'neach', 'near', 'nearby', 'nearest', 'nearly', 'nearpod', 'neat', 'neatly', 'nebraska', 'necessarily', 'necessary', 'necessities', 'necessity', 'neck', 'necklaces', 'neducation', 'need', 'needed', 'neediest', 'needing', 'needless', 'needs', 'needy', 'negative', 'negatively', 'negatives', 'negativity', 'neglect', 'neglected', 'negotiate', 'neighbor', 'neighborhood', 'neighborhoods', 'neighboring', 'neighbors', 'neither', 'nelson', 'nengaging', 'nenglish', 'nepal', 'nepali', 'nerve', 'nervous', 'nestled', 'net', 'netbooks', 'nets', 'network', 'neurological', 'nevada', 'neven', 'never', 'nevertheless', 'nevery', 'neveryday', 'neveryone', 'new', 'newcomer', 'newcomers', 'newer', 'newest', 'newfound', 'newly', 'news', 'newsela', 'newsletter', 'newsletters', 'newspaper', 'newspapers', 'newton', 'nex', 'next', 'nfinally', 'nfirst', 'nflexible', 'nfor', 'nfourth', 'nfrom', 'nfunding', 'nfurthermore', 'ngames', 'ngetting', 'ngiven', 'ngiving', 'ngood', 'ngoogle', 'ngraphic', 'ngss', 'nhands', 'nhave', 'nhaving', 'nheadphones', 'nhealthy', 'nhelp', 'nhelping', 'nhere', 'nhigh', 'nhokki', 'nhow', 'nhowever', 'ni', 'nice', 'nicely', 'nicer', 'niche', 'nif', 'night', 'nightly', 'nights', 'nimagine', 'nin', 'nincorporating', 'nine', 'nineteen', 'ninety', 'ninstead', 'nintegrating', 'ninteractive', 'ninth', 'nipads', 'nit', 'nj', 'njust', 'nkeeping', 'nkids', 'nkindergarten', 'nkindergarteners', 'nkindergartners', 'nknowing', 'nlast', 'nlastly', 'nlearning', 'nlegos', 'nlet', 'nlife', 'nlike', 'nlistening', 'nliteracy', 'nlittle', 'nliving', 'nmaking', 'nmany', 'nmath', 'nmiddle', 'nmore', 'nmost', 'nmovement', 'nmoving', 'nms', 'nmusic', 'nmy', 'nnannan', 'nnew', 'nnext', 'nno', 'nnot', 'nnothing', 'nnow', 'no', 'nobody', 'nof', 'noften', 'noh', 'noise', 'noises', 'noisy', 'non', 'nonce', 'none', 'nonetheless', 'nonexistent', 'nonfiction', 'nontraditional', 'nonverbal', 'noodle', 'noodles', 'nook', 'nooks', 'nor', 'norganization', 'norm', 'normal', 'normalcy', 'normally', 'norms', 'north', 'northeast', 'northern', 'northwest', 'nose', 'noses', 'nosmo', 'not', 'notable', 'notation', 'notch', 'note', 'notebook', 'notebooks', 'noted', 'notes', 'nother', 'nothing', 'notice', 'noticed', 'notices', 'noticing', 'notion', 'notoriously', 'nour', 'nourish', 'nourished', 'novel', 'novels', 'novelty', 'november', 'nover', 'noverall', 'novice', 'now', 'nowadays', 'nowhere', 'nparents', 'npart', 'nphysical', 'nplaying', 'nplease', 'nproviding', 'nreading', 'nreceiving', 'nrecently', 'nrecess', 'nregardless', 'nremember', 'nresearch', 'nright', 'nsadly', 'nscholastic', 'nschool', 'nscience', 'nsecond', 'nseeing', 'nsensory', 'nseveral', 'nsince', 'nsitting', 'nsmall', 'nso', 'nsome', 'nsomething', 'nsometimes', 'nstability', 'nstanding', 'nsteam', 'nstem', 'nstudent', 'nstudents', 'nstudies', 'ntablets', 'ntaking', 'nteachers', 'nteaching', 'ntechnology', 'nthank', 'nthanks', 'nthat', 'nthe', 'ntheir', 'nthen', 'nthere', 'ntherefore', 'nthese', 'nthey', 'nthink', 'nthird', 'nthis', 'nthough', 'nthree', 'nthrough', 'nthroughout', 'ntime', 'nto', 'ntoday', 'ntogether', 'ntwo', 'nuclear', 'nultimately', 'number', 'numbers', 'numeracy', 'numerous', 'nunfortunately', 'nupon', 'nurse', 'nursery', 'nurses', 'nurture', 'nurtured', 'nurtures', 'nurturing', 'nusing', 'nut', 'nutilizing', 'nutrient', 'nutrients', 'nutrition', 'nutritional', 'nutritious', 'nuts', 'nvery', 'nwatching', 'nwe', 'nwhat', 'nwhen', 'nwhether', 'nwhile', 'nwho', 'nwhy', 'nwith', 'nwithin', 'nwithout', 'nwobble', 'nworking', 'nwriting', 'ny', 'nyc', 'nyet', 'nyoga', 'nyou', 'nyoung', 'nyour', 'oakland', 'oasis', 'obama', 'obese', 'obesity', 'object', 'objective', 'objectives', 'objects', 'obligation', 'observant', 'observation', 'observations', 'observe', 'observed', 'observer', 'observing', 'obsessed', 'obsolete', 'obstacle', 'obstacles', 'obtain', 'obtained', 'obtaining', 'obvious', 'obviously', 'occasion', 'occasional', 'occasionally', 'occasions', 'occupational', 'occupations', 'occupy', 'occur', 'occurred', 'occurrence', 'occurring', 'occurs', 'ocean', 'oceans', 'october', 'odd', 'odds', 'odyssey', 'of', 'off', 'offer', 'offered', 'offering', 'offerings', 'offers', 'office', 'officer', 'officers', 'offices', 'official', 'officially', 'often', 'oftentimes', 'oh', 'ohio', 'oil', 'oils', 'ok', 'okay', 'oklahoma', 'old', 'older', 'oldest', 'olds', 'olympic', 'olympics', 'on', 'once', 'one', 'ones', 'oneself', 'ongoing', 'online', 'only', 'onto', 'open', 'opened', 'opening', 'openly', 'opens', 'opera', 'operate', 'operates', 'operating', 'operation', 'operations', 'opinion', 'opinions', 'opponents', 'opportunities', 'opportunity', 'opposed', 'opposite', 'optimal', 'optimism', 'optimistic', 'optimize', 'optimum', 'option', 'optional', 'options', 'or', 'oral', 'orally', 'orange', 'orchestra', 'order', 'ordered', 'ordering', 'orderly', 'orders', 'ordinary', 'oregon', 'orff', 'org', 'organ', 'organic', 'organism', 'organisms', 'organization', 'organizational', 'organizations', 'organize', 'organized', 'organizer', 'organizers', 'organizing', 'organs', 'orientation', 'oriented', 'origami', 'origin', 'original', 'originally', 'origins', 'orlando', 'orleans', 'orthopedic', 'osmo', 'osmos', 'ot', 'other', 'others', 'otherwise', 'our', 'ours', 'ourselves', 'out', 'outbursts', 'outcome', 'outcomes', 'outdated', 'outdoor', 'outdoors', 'outer', 'outfit', 'outgoing', 'outlet', 'outlets', 'outlook', 'output', 'outreach', 'outs', 'outside', 'outskirts', 'outstanding', 'oven', 'over', 'overall', 'overcome', 'overcoming', 'overcrowded', 'overcrowding', 'overflow', 'overflowing', 'overhead', 'overjoyed', 'overload', 'overlook', 'overlooked', 'overly', 'overnight', 'overrated', 'overseas', 'oversized', 'overstimulated', 'overweight', 'overwhelmed', 'overwhelming', 'overwhelmingly', 'owe', 'owl', 'owls', 'own', 'owned', 'owners', 'ownership', 'oxygen', 'ozobot', 'ozobots', 'pa', 'pablo', 'pace', 'paced', 'paces', 'pacific', 'pacing', 'pack', 'package', 'packages', 'packed', 'packets', 'packing', 'packs', 'pad', 'padded', 'padlet', 'pads', 'page', 'pages', 'paid', 'pain', 'pains', 'paint', 'paintbrush', 'painted', 'painters', 'painting', 'paintings', 'paints', 'pair', 'paired', 'pairing', 'pairs', 'pakistan', 'palacio', 'palm', 'pals', 'palsy', 'panel', 'panels', 'pans', 'pantry', 'pants', 'paper', 'paperback', 'paperless', 'papers', 'paperwork', 'par', 'parachute', 'parachutes', 'parade', 'parades', 'paragraph', 'paragraphs', 'parallel', 'parameters', 'paramount', 'paraprofessional', 'paraprofessionals', 'parcc', 'parent', 'parental', 'parenting', 'parents', 'parish', 'park', 'parking', 'parks', 'part', 'partake', 'partial', 'partially', 'participant', 'participants', 'participate', 'participated', 'participates', 'participating', 'participation', 'particular', 'particularly', 'parties', 'partitions', 'partner', 'partnered', 'partnering', 'partners', 'partnership', 'partnerships', 'parts', 'party', 'pass', 'passage', 'passages', 'passed', 'passes', 'passing', 'passion', 'passionate', 'passionately', 'passions', 'passive', 'passively', 'passport', 'past', 'paste', 'pastels', 'path', 'pathologist', 'paths', 'pathway', 'pathways', 'patience', 'patient', 'patiently', 'pattern', 'patterning', 'patterns', 'paul', 'pause', 'pave', 'pay', 'paycheck', 'paying', 'pays', 'pbis', 'pbl', 'pc', 'pdf', 'pe', 'peace', 'peaceful', 'peak', 'peanut', 'pedagogy', 'pedal', 'pedals', 'pedometer', 'pedometers', 'peek', 'peer', 'peers', 'pegs', 'pellet', 'pellets', 'pen', 'pencil', 'pencils', 'penmanship', 'pennsylvania', 'penny', 'pens', 'pent', 'people', 'pep', 'per', 'perceive', 'perceived', 'percent', 'percentage', 'percentages', 'percentile', 'perception', 'percussion', 'percy', 'perfect', 'perfection', 'perfectly', 'perform', 'performance', 'performances', 'performed', 'performers', 'performing', 'performs', 'perhaps', 'perimeter', 'period', 'periodic', 'periodicals', 'periods', 'perks', 'permanent', 'permanently', 'permission', 'permit', 'perseverance', 'persevere', 'persevering', 'persist', 'persistence', 'persistent', 'person', 'personal', 'personalities', 'personality', 'personalize', 'personalized', 'personally', 'personnel', 'perspective', 'perspectives', 'persuade', 'persuasive', 'pertain', 'pertaining', 'pertinent', 'peru', 'peruse', 'pervasive', 'pet', 'pete', 'pets', 'ph', 'phase', 'phases', 'phenomena', 'phenomenal', 'phenomenon', 'philadelphia', 'philosophy', 'phoenix', 'phone', 'phonemes', 'phonemic', 'phones', 'phonetic', 'phonic', 'phonics', 'phonological', 'photo', 'photograph', 'photographer', 'photographers', 'photographs', 'photography', 'photos', 'photoshop', 'photosynthesis', 'phrase', 'phrases', 'physical', 'physically', 'physics', 'physiology', 'pi', 'piano', 'pianos', 'picasso', 'pick', 'picked', 'picking', 'picks', 'picnic', 'pictorial', 'picture', 'pictures', 'piece', 'pieces', 'pig', 'pigeon', 'piggie', 'pigs', 'pile', 'piles', 'pillars', 'pillow', 'pillows', 'pilot', 'piloting', 'pink', 'pins', 'pioneers', 'pipe', 'pique', 'pitch', 'pittsburgh', 'pivotal', 'pizza', 'pk', 'place', 'placed', 'placement', 'places', 'placing', 'plague', 'plagued', 'plain', 'plan', 'plane', 'planet', 'planets', 'planned', 'planners', 'planning', 'plans', 'plant', 'planted', 'planting', 'plants', 'plastic', 'plate', 'plates', 'platform', 'platforms', 'play', 'playdough', 'played', 'player', 'players', 'playful', 'playground', 'playing', 'plays', 'playtime', 'pleasant', 'please', 'pleased', 'pleasing', 'pleasurable', 'pleasure', 'pledge', 'plentiful', 'plenty', 'plethora', 'plickers', 'plot', 'plots', 'plug', 'plugged', 'plugs', 'plus', 'plush', 'pm', 'pocket', 'pockets', 'pod', 'podcast', 'podcasts', 'pods', 'poem', 'poems', 'poetry', 'poets', 'point', 'pointed', 'pointers', 'pointing', 'points', 'pokemon', 'poles', 'police', 'policy', 'polish', 'polite', 'political', 'politicians', 'politics', 'pollution', 'pom', 'poms', 'pond', 'pool', 'poor', 'poorest', 'poorly', 'pop', 'popcorn', 'popsicle', 'popular', 'popularity', 'populated', 'population', 'populations', 'portability', 'portable', 'portal', 'portfolio', 'portfolios', 'portion', 'portions', 'portland', 'portrait', 'portraits', 'portuguese', 'pose', 'posed', 'poses', 'position', 'positions', 'positive', 'positively', 'positives', 'positivity', 'possess', 'possessions', 'possibilities', 'possibility', 'possible', 'possibly', 'post', 'posted', 'poster', 'posters', 'posting', 'posts', 'posture', 'pot', 'potato', 'potential', 'potentially', 'potentials', 'pots', 'potter', 'pottery', 'pouch', 'pouches', 'pound', 'pour', 'pouring', 'poverty', 'power', 'powered', 'powerful', 'powerpoint', 'powerpoints', 'powers', 'practical', 'practically', 'practice', 'practiced', 'practices', 'practicing', 'praise', 'praised', 'pray', 'pre', 'precious', 'precise', 'precision', 'precocious', 'predict', 'predictable', 'predicting', 'predictions', 'predominantly', 'predominately', 'prefer', 'preference', 'preferences', 'preferred', 'preform', 'prek', 'prekindergarten', 'premium', 'prep', 'preparation', 'preparatory', 'prepare', 'prepared', 'prepares', 'preparing', 'prerequisite', 'preschool', 'preschoolers', 'prescribed', 'presence', 'present', 'presentation', 'presentations', 'presented', 'presenter', 'presenters', 'presenting', 'presently', 'presents', 'preserve', 'preserved', 'preserving', 'president', 'presidential', 'press', 'pressed', 'pressing', 'pressure', 'pressures', 'prestigious', 'pretend', 'pretending', 'pretty', 'pretzels', 'prevalent', 'prevent', 'prevented', 'preventing', 'prevention', 'prevents', 'previous', 'previously', 'prezi', 'price', 'priced', 'priceless', 'prices', 'pricey', 'pride', 'prides', 'primarily', 'primary', 'prime', 'princesses', 'principal', 'principals', 'principle', 'principles', 'print', 'printable', 'printed', 'printer', 'printers', 'printing', 'printmaking', 'prints', 'prior', 'priorities', 'priority', 'prison', 'privacy', 'private', 'privilege', 'privileged', 'privileges', 'prize', 'prizes', 'pro', 'proactive', 'probability', 'probably', 'probes', 'problem', 'problematic', 'problems', 'procedures', 'proceed', 'process', 'processes', 'processing', 'prodigy', 'produce', 'produced', 'producers', 'produces', 'producing', 'product', 'production', 'productions', 'productive', 'productively', 'productivity', 'products', 'profession', 'professional', 'professionalism', 'professionally', 'professionals', 'professions', 'professor', 'professors', 'proficiency', 'proficient', 'proficiently', 'profile', 'profit', 'profound', 'profoundly', 'program', 'programing', 'programmable', 'programmed', 'programmers', 'programming', 'programs', 'progress', 'progressed', 'progresses', 'progressing', 'progression', 'progressive', 'project', 'projected', 'projecting', 'projection', 'projector', 'projectors', 'projects', 'prolonged', 'promethean', 'prominent', 'promise', 'promised', 'promising', 'promote', 'promoted', 'promotes', 'promoting', 'prompt', 'prompting', 'prompts', 'prone', 'pronunciation', 'proof', 'prop', 'propel', 'proper', 'properly', 'properties', 'property', 'proposal', 'proposed', 'props', 'pros', 'prospect', 'prosper', 'prosperous', 'protect', 'protected', 'protecting', 'protection', 'protective', 'protector', 'protectors', 'protein', 'prototype', 'prototypes', 'prototyping', 'proud', 'prouder', 'proudly', 'prove', 'proved', 'proven', 'proverb', 'proves', 'provide', 'provided', 'provider', 'providers', 'provides', 'providing', 'proving', 'provoking', 'proximity', 'psychological', 'psychologist', 'psychology', 'pta', 'pto', 'public', 'publication', 'publications', 'publicly', 'publish', 'published', 'publishing', 'puerto', 'pull', 'pulled', 'pulling', 'pulls', 'pump', 'pumped', 'pumping', 'punch', 'punctuation', 'pupils', 'puppet', 'puppets', 'purchase', 'purchased', 'purchases', 'purchasing', 'pure', 'purifier', 'purple', 'purpose', 'purposeful', 'purposefully', 'purposes', 'pursue', 'pursuing', 'pursuit', 'pursuits', 'push', 'pushed', 'pushes', 'pushing', 'put', 'puts', 'putting', 'putty', 'puzzle', 'puzzles', 'pyramid', 'pyramids', 'qr', 'qualified', 'qualifies', 'qualify', 'qualifying', 'qualities', 'quality', 'quantities', 'quantity', 'quarter', 'quarterly', 'quarters', 'queens', 'quench', 'quenched', 'quest', 'question', 'questioners', 'questioning', 'questions', 'quests', 'quick', 'quicker', 'quickly', 'quiet', 'quieter', 'quietly', 'quirky', 'quit', 'quite', 'quiz', 'quizlet', 'quizzes', 'quote', 'quotes', 'race', 'races', 'racial', 'racially', 'racing', 'rack', 'rackets', 'racks', 'radio', 'radios', 'radius', 'rain', 'rainbow', 'raining', 'rains', 'rainy', 'raise', 'raised', 'raises', 'raising', 'rallies', 'rambunctious', 'ramps', 'ran', 'random', 'range', 'ranges', 'ranging', 'rank', 'ranked', 'ranking', 'ranks', 'rap', 'rapid', 'rapidly', 'rare', 'rarely', 'raspberry', 'rate', 'rated', 'rates', 'rather', 'rating', 'ratio', 'ratios', 'raw', 'ray', 'rays', 'raz', 're', 'reach', 'reached', 'reaches', 'reaching', 'react', 'reaction', 'reactions', 'read', 'readability', 'readable', 'reader', 'readers', 'readily', 'readiness', 'reading', 'readings', 'reads', 'ready', 'real', 'realia', 'realistic', 'realities', 'reality', 'realization', 'realize', 'realized', 'realizes', 'realizing', 'really', 'realm', 'reap', 'rearrange', 'reason', 'reasoning', 'reasons', 'rebuild', 'rebuilding', 'rebuilt', 'recall', 'receive', 'received', 'receives', 'receiving', 'recent', 'recently', 'receptive', 'recess', 'recesses', 'recession', 'recharge', 'rechargeable', 'recieve', 'recipe', 'recipes', 'recipient', 'recipients', 'recite', 'recognition', 'recognize', 'recognized', 'recognizes', 'recognizing', 'recommend', 'recommendations', 'recommended', 'record', 'recorded', 'recorder', 'recorders', 'recording', 'recordings', 'records', 'recovery', 'recreate', 'recreation', 'recreational', 'rectangle', 'rectangular', 'recycle', 'recycled', 'recycling', 'red', 'redesign', 'redesigning', 'redirect', 'redirecting', 'redirection', 'reduce', 'reduced', 'reduces', 'reducing', 'reduction', 'reeds', 'reef', 'refer', 'reference', 'references', 'referred', 'referring', 'refill', 'refine', 'refining', 'reflect', 'reflected', 'reflecting', 'reflection', 'reflections', 'reflective', 'reflects', 'reflex', 'refocus', 'refresh', 'refreshed', 'refreshing', 'refrigerator', 'refuge', 'refugee', 'refugees', 'refuse', 'regain', 'regard', 'regarding', 'regardless', 'regards', 'region', 'regional', 'regions', 'register', 'registered', 'regroup', 'regular', 'regularly', 'regulate', 'regulated', 'regulating', 'regulation', 'regulations', 'rehearsal', 'rehearsals', 'rehearse', 'reinforce', 'reinforced', 'reinforcement', 'reinforcements', 'reinforces', 'reinforcing', 'rekenrek', 'rekenreks', 'relatable', 'relate', 'related', 'relates', 'relating', 'relation', 'relational', 'relations', 'relationship', 'relationships', 'relative', 'relatively', 'relatives', 'relax', 'relaxation', 'relaxed', 'relaxing', 'relay', 'release', 'released', 'releases', 'releasing', 'relentlessly', 'relevance', 'relevant', 'reliable', 'reliant', 'relief', 'relies', 'relieve', 'religion', 'religions', 'religious', 'relish', 'relocated', 'reluctant', 'rely', 'relying', 'remain', 'remainder', 'remained', 'remaining', 'remains', 'remarkable', 'remedial', 'remediate', 'remediation', 'remember', 'remembered', 'remembering', 'remind', 'reminded', 'reminder', 'reminders', 'reminding', 'reminds', 'remote', 'remove', 'removed', 'removing', 'renaissance', 'renewable', 'renewed', 'rent', 'repair', 'repaired', 'repairs', 'repeat', 'repeated', 'repeatedly', 'repeating', 'repertoire', 'repetition', 'repetitive', 'replace', 'replaced', 'replacement', 'replacements', 'replacing', 'replenish', 'replenished', 'replicate', 'replied', 'reply', 'report', 'reported', 'reporting', 'reports', 'represent', 'representation', 'representations', 'representative', 'represented', 'representing', 'represents', 'republic', 'reputable', 'reputation', 'request', 'requested', 'requesting', 'requests', 'require', 'required', 'requirement', 'requirements', 'requires', 'requiring', 'requisite', 'reread', 'rereading', 'research', 'researched', 'researchers', 'researching', 'reservation', 'reserve', 'reserved', 'reside', 'residence', 'residential', 'residents', 'resides', 'residing', 'resilience', 'resiliency', 'resilient', 'resist', 'resistance', 'resistant', 'resolution', 'resolve', 'resonates', 'resort', 'resource', 'resourced', 'resourceful', 'resources', 'respect', 'respected', 'respectful', 'respectfully', 'respecting', 'respective', 'respects', 'respiratory', 'respond', 'responded', 'responding', 'responds', 'response', 'responses', 'responsibilities', 'responsibility', 'responsible', 'responsibly', 'responsive', 'rest', 'restaurant', 'restaurants', 'restless', 'restlessness', 'restock', 'restorative', 'restraints', 'restricted', 'restrictions', 'restrictive', 'rests', 'result', 'resulted', 'resulting', 'results', 'resume', 'retain', 'retained', 'retaining', 'reteach', 'reteaching', 'retell', 'retelling', 'retention', 'retired', 'retrieve', 'return', 'returned', 'returning', 'reusable', 'reuse', 'reused', 'reusing', 'reveal', 'review', 'reviewed', 'reviewing', 'reviews', 'revise', 'revising', 'revisit', 'revolution', 'revolutionary', 'revolutionize', 'revolve', 'revolves', 'revolving', 'reward', 'rewarded', 'rewarding', 'rewards', 'rewrite', 'rhyme', 'rhymes', 'rhyming', 'rhythm', 'rhythmic', 'rhythms', 'ribbon', 'ribbons', 'rican', 'rice', 'rich', 'richer', 'richest', 'richmond', 'richness', 'rico', 'rid', 'ridden', 'riddles', 'ride', 'ridge', 'riding', 'right', 'rights', 'rigid', 'rigor', 'rigorous', 'rigors', 'ring', 'rings', 'rip', 'ripped', 'rise', 'risen', 'risers', 'rises', 'rising', 'risk', 'risks', 'river', 'rivers', 'road', 'roadblocks', 'roads', 'roald', 'roam', 'rob', 'robert', 'robot', 'robotic', 'robotics', 'robots', 'robust', 'rochester', 'rock', 'rocker', 'rockers', 'rocket', 'rockets', 'rocking', 'rocks', 'rods', 'rogers', 'role', 'roles', 'roll', 'rolled', 'roller', 'rolling', 'rolls', 'rome', 'ron', 'roof', 'room', 'rooms', 'roosevelt', 'root', 'rooted', 'roots', 'rope', 'ropes', 'rose', 'roster', 'rotate', 'rotated', 'rotating', 'rotation', 'rotations', 'rote', 'rouge', 'rough', 'roughly', 'round', 'rounded', 'route', 'routine', 'routinely', 'routines', 'row', 'rowdy', 'rows', 'rti', 'rubber', 'rug', 'rugs', 'ruined', 'rule', 'ruled', 'ruler', 'rulers', 'rules', 'run', 'runners', 'running', 'runs', 'rural', 'rush', 'russia', 'russian', 'sack', 'sacks', 'sacramento', 'sacrifice', 'sad', 'sadly', 'sadness', 'safe', 'safely', 'safer', 'safest', 'safety', 'said', 'saint', 'sake', 'salad', 'salary', 'sale', 'salem', 'sales', 'salt', 'salvador', 'same', 'sample', 'samples', 'samsung', 'san', 'sanctuary', 'sand', 'sandy', 'sanitary', 'sanitizer', 'santa', 'sat', 'satisfaction', 'satisfied', 'satisfy', 'satisfying', 'saturday', 'save', 'saved', 'saver', 'saves', 'saving', 'savings', 'savvy', 'saw', 'saxophone', 'say', 'saying', 'says', 'sc', 'scaffold', 'scaffolding', 'scale', 'scales', 'scan', 'scanner', 'scarce', 'scared', 'scarves', 'scary', 'scattered', 'scavenger', 'scenario', 'scenarios', 'scene', 'scenes', 'schedule', 'scheduled', 'schedules', 'scheduling', 'schema', 'scholar', 'scholarly', 'scholars', 'scholarship', 'scholarships', 'scholastic', 'school', 'schoolers', 'schooling', 'schools', 'schoolwide', 'schoolwork', 'science', 'sciences', 'scientific', 'scientifically', 'scientist', 'scientists', 'scissors', 'scoop', 'scoot', 'scooter', 'scooters', 'scope', 'score', 'scored', 'scores', 'scoring', 'scotch', 'scrabble', 'scratch', 'scratched', 'screen', 'screens', 'script', 'scripts', 'sculpt', 'sculpture', 'sculptures', 'sea', 'seamless', 'seamlessly', 'seams', 'search', 'searches', 'searching', 'season', 'seasonal', 'seasons', 'seat', 'seated', 'seating', 'seats', 'seattle', 'second', 'secondary', 'secondly', 'seconds', 'secret', 'section', 'sections', 'secure', 'secured', 'securely', 'securing', 'security', 'sedentary', 'see', 'seed', 'seeds', 'seeing', 'seek', 'seekers', 'seeking', 'seeks', 'seem', 'seemed', 'seemingly', 'seems', 'seen', 'sees', 'seesaw', 'segment', 'segments', 'seize', 'sel', 'seldom', 'select', 'selected', 'selecting', 'selection', 'selections', 'selective', 'self', 'selfies', 'sell', 'selling', 'selves', 'semester', 'semi', 'seminar', 'seminars', 'send', 'sending', 'sends', 'senegal', 'senior', 'seniors', 'sense', 'senses', 'sensitive', 'sensitivity', 'sensor', 'sensors', 'sensory', 'sent', 'sentence', 'sentences', 'separate', 'separated', 'separating', 'september', 'sequence', 'sequences', 'sequencing', 'sequential', 'series', 'serious', 'seriously', 'serve', 'served', 'serves', 'service', 'serviced', 'services', 'servicing', 'serving', 'ses', 'session', 'sessions', 'set', 'setbacks', 'sets', 'setting', 'settings', 'settle', 'settled', 'setup', 'seuss', 'seven', 'seventeen', 'seventh', 'seventy', 'several', 'severe', 'severely', 'severity', 'sew', 'sewing', 'shade', 'shades', 'shadow', 'shake', 'shakers', 'shakespeare', 'shaking', 'shame', 'shampoo', 'shape', 'shaped', 'shapes', 'shaping', 'share', 'shared', 'shares', 'sharing', 'sharp', 'sharpen', 'sharpened', 'sharpener', 'sharpeners', 'sharpening', 'sharpies', 'she', 'shed', 'sheer', 'sheet', 'sheets', 'shelf', 'shell', 'shells', 'shelter', 'sheltered', 'shelters', 'shelves', 'shelving', 'shift', 'shifted', 'shifting', 'shifts', 'shine', 'shines', 'shining', 'shiny', 'shirt', 'shirts', 'shock', 'shoe', 'shoes', 'shoot', 'shooting', 'shop', 'shopping', 'shops', 'short', 'shortage', 'shortcomings', 'shorter', 'shorts', 'shot', 'shots', 'should', 'shoulder', 'shoulders', 'shouldn', 'shout', 'show', 'showcase', 'showcased', 'showcasing', 'showed', 'shower', 'showing', 'shown', 'shows', 'shrinking', 'shut', 'shy', 'sibling', 'siblings', 'sick', 'side', 'sided', 'sides', 'sidewalk', 'sight', 'sights', 'sign', 'signed', 'significance', 'significant', 'significantly', 'signing', 'signs', 'silence', 'silent', 'silently', 'silicon', 'silly', 'silver', 'similar', 'similarities', 'similarly', 'simple', 'simpler', 'simplest', 'simply', 'simulate', 'simulation', 'simulations', 'simultaneously', 'since', 'sincere', 'sincerely', 'sing', 'singers', 'singing', 'single', 'singled', 'sink', 'sinking', 'sister', 'sisters', 'sit', 'site', 'sites', 'sits', 'sitting', 'situated', 'situation', 'situations', 'six', 'sixteen', 'sixth', 'sixty', 'size', 'sized', 'sizes', 'skeleton', 'sketch', 'sketchbooks', 'sketches', 'skill', 'skilled', 'skills', 'skin', 'skip', 'skipping', 'skits', 'sky', 'skype', 'sleep', 'sleeping', 'sleepy', 'sleeves', 'slide', 'slides', 'slideshows', 'slight', 'slightly', 'slim', 'slime', 'slip', 'slips', 'slot', 'slow', 'slower', 'slowly', 'slows', 'small', 'smaller', 'smallest', 'smart', 'smartboard', 'smartboards', 'smarter', 'smartest', 'smartphone', 'smartphones', 'smell', 'smile', 'smiles', 'smiling', 'smooth', 'smoother', 'smoothies', 'smoothly', 'snack', 'snacks', 'snap', 'snare', 'sneak', 'snow', 'snowy', 'snuggle', 'so', 'soak', 'soaking', 'soap', 'soar', 'soaring', 'soccer', 'social', 'socialization', 'socialize', 'socializing', 'socially', 'societies', 'society', 'socio', 'socioeconomic', 'socioeconomically', 'socks', 'socratic', 'sofa', 'soft', 'softball', 'softer', 'software', 'soil', 'solar', 'sold', 'sole', 'solely', 'solid', 'solidify', 'solo', 'solution', 'solutions', 'solve', 'solved', 'solvers', 'solving', 'somali', 'somalia', 'some', 'somebody', 'someday', 'somehow', 'someone', 'someplace', 'something', 'sometime', 'sometimes', 'somewhat', 'somewhere', 'son', 'song', 'songs', 'sons', 'soon', 'sooner', 'soothe', 'soothing', 'sophisticated', 'sophomore', 'sophomores', 'soprano', 'sore', 'sorely', 'sorry', 'sort', 'sorted', 'sorting', 'sorts', 'sought', 'soul', 'souls', 'sound', 'sounding', 'sounds', 'soup', 'source', 'sources', 'south', 'southeast', 'southeastern', 'southern', 'southwest', 'space', 'spaces', 'spacial', 'span', 'spanish', 'spanning', 'spans', 'spare', 'spark', 'sparked', 'sparking', 'sparkle', 'sparks', 'spatial', 'speak', 'speaker', 'speakers', 'speaking', 'speaks', 'special', 'specialist', 'specialists', 'specialize', 'specialized', 'specializes', 'specially', 'specials', 'specialty', 'species', 'specific', 'specifically', 'specified', 'specimen', 'specimens', 'spectacular', 'spectrum', 'sped', 'speech', 'speeches', 'speed', 'speeds', 'spell', 'spelling', 'spend', 'spending', 'spends', 'spent', 'sphero', 'spheros', 'spill', 'spills', 'spin', 'spinning', 'spiral', 'spirit', 'spirited', 'spirits', 'spite', 'split', 'splitters', 'spoke', 'spoken', 'sponge', 'sponges', 'sponsor', 'sponsored', 'sponsoring', 'sponsors', 'spontaneous', 'sport', 'sporting', 'sports', 'sportsmanship', 'spot', 'spots', 'sprawl', 'spray', 'spread', 'spreading', 'spreads', 'spreadsheets', 'spring', 'springboard', 'springs', 'spunk', 'spunky', 'spur', 'square', 'squares', 'squeeze', 'squirm', 'squirming', 'squishy', 'st', 'staar', 'stability', 'stable', 'stack', 'stackable', 'stacked', 'stacking', 'staff', 'staffing', 'stage', 'stages', 'stained', 'stains', 'stakeholders', 'stakes', 'stamina', 'stamp', 'stamps', 'stand', 'standard', 'standardized', 'standards', 'standing', 'stands', 'staple', 'stapler', 'staplers', 'staples', 'star', 'starbucks', 'starfall', 'stars', 'start', 'started', 'starter', 'starters', 'starting', 'starts', 'starving', 'state', 'stated', 'statement', 'statements', 'states', 'statewide', 'static', 'stating', 'station', 'stationary', 'stationed', 'stations', 'statistic', 'statistical', 'statistically', 'statistics', 'status', 'statuses', 'stay', 'stayed', 'staying', 'stays', 'steady', 'steam', 'steel', 'steer', 'stellar', 'stem', 'stems', 'stencils', 'step', 'stephen', 'stepped', 'stepping', 'steps', 'stereo', 'stereotypes', 'steve', 'stewards', 'stewardship', 'stick', 'sticker', 'stickers', 'sticking', 'sticks', 'sticky', 'stiff', 'stifle', 'stigma', 'still', 'stimulate', 'stimulated', 'stimulates', 'stimulating', 'stimulation', 'stimuli', 'stimulus', 'stix', 'stock', 'stocked', 'stolen', 'stomach', 'stomachs', 'stone', 'stones', 'stood', 'stool', 'stools', 'stop', 'stopped', 'stopping', 'stops', 'stopwatches', 'storage', 'store', 'stored', 'stores', 'stories', 'storing', 'storm', 'story', 'storytellers', 'storytelling', 'storyworks', 'straight', 'strain', 'strangers', 'strapped', 'straps', 'strategic', 'strategically', 'strategies', 'strategy', 'straws', 'stream', 'streaming', 'streamline', 'street', 'streets', 'strength', 'strengthen', 'strengthened', 'strengthening', 'strengthens', 'strengths', 'stress', 'stressed', 'stresses', 'stressful', 'stressors', 'stretch', 'stretched', 'stretches', 'stretching', 'stricken', 'strictly', 'strides', 'striking', 'string', 'strings', 'strip', 'strips', 'strive', 'strives', 'striving', 'strong', 'stronger', 'strongest', 'strongly', 'struck', 'structural', 'structure', 'structured', 'structures', 'struggle', 'struggled', 'struggles', 'struggling', 'stuck', 'student', 'students', 'studied', 'studies', 'studio', 'study', 'studying', 'stuff', 'stuffed', 'stunning', 'stupid', 'sturdy', 'style', 'styles', 'stylus', 'sub', 'subject', 'subjects', 'submit', 'submitted', 'submitting', 'subscription', 'subscriptions', 'subsequent', 'subsequently', 'subsidized', 'substance', 'substances', 'substantial', 'substantially', 'substitute', 'subtle', 'subtract', 'subtracting', 'subtraction', 'suburb', 'suburban', 'suburbs', 'succeed', 'succeeded', 'succeeding', 'succeeds', 'success', 'successes', 'successful', 'successfully', 'such', 'sudan', 'suddenly', 'suffer', 'suffered', 'suffering', 'sufficient', 'sugar', 'sugary', 'suggest', 'suggested', 'suggestions', 'suggests', 'suit', 'suitable', 'suite', 'suited', 'suits', 'sum', 'summaries', 'summarize', 'summarizing', 'summary', 'summer', 'sums', 'sun', 'sunny', 'sunshine', 'super', 'superhero', 'superheroes', 'superior', 'superstars', 'supervised', 'supervision', 'supper', 'supplement', 'supplemental', 'supplied', 'supplies', 'supply', 'supplying', 'support', 'supported', 'supporter', 'supporters', 'supporting', 'supportive', 'supports', 'supposed', 'supreme', 'sure', 'surely', 'surface', 'surfaces', 'surpass', 'surprise', 'surprised', 'surprises', 'surprising', 'surprisingly', 'surround', 'surrounded', 'surrounding', 'surroundings', 'surrounds', 'survey', 'surveys', 'survival', 'survive', 'survived', 'surviving', 'survivors', 'sustain', 'sustainability', 'sustainable', 'sustained', 'sustaining', 'sway', 'sweat', 'sweet', 'sweetest', 'swim', 'swimming', 'swing', 'swinging', 'swings', 'switch', 'switched', 'switching', 'swivel', 'syllables', 'symbol', 'symbolism', 'symbols', 'symmetry', 'symphony', 'syndrome', 'synergize', 'synonyms', 'syntax', 'synthesize', 'synthesizing', 'syria', 'system', 'systems', 'table', 'tables', 'tablet', 'tabletop', 'tablets', 'tabs', 'tackle', 'tackling', 'tactile', 'tag', 'tagalog', 'tags', 'tailor', 'tailored', 'take', 'taken', 'takers', 'takes', 'taking', 'tale', 'talent', 'talented', 'talents', 'tales', 'talk', 'talkative', 'talked', 'talkers', 'talking', 'talks', 'tall', 'taller', 'tampa', 'tangible', 'tangle', 'tangled', 'tangrams', 'tank', 'tap', 'tape', 'taped', 'tapes', 'tapping', 'target', 'targeted', 'targeting', 'targets', 'task', 'tasked', 'tasks', 'taste', 'tasting', 'tasty', 'tattered', 'taught', 'tax', 'tea', 'teach', 'teachable', 'teacher', 'teachers', 'teaches', 'teaching', 'teachings', 'team', 'teammates', 'teams', 'teamwork', 'tear', 'tears', 'tech', 'technical', 'technically', 'technique', 'techniques', 'technological', 'technologically', 'technologies', 'technology', 'tedious', 'teen', 'teenage', 'teenager', 'teenagers', 'teens', 'teeter', 'teeth', 'teks', 'television', 'tell', 'tellers', 'telling', 'tells', 'tempera', 'temperature', 'temperatures', 'templates', 'temporarily', 'temporary', 'ten', 'tenacious', 'tenacity', 'tend', 'tendencies', 'tends', 'tenmarks', 'tennessee', 'tennis', 'tens', 'tension', 'tent', 'tenth', 'term', 'terminology', 'terms', 'terrible', 'terrific', 'territory', 'test', 'testament', 'tested', 'testing', 'tests', 'texas', 'text', 'textbook', 'textbooks', 'texting', 'texts', 'textual', 'texture', 'textured', 'textures', 'th', 'thailand', 'than', 'thank', 'thankful', 'thankfully', 'thanks', 'that', 'the', 'theater', 'theatre', 'their', 'theirs', 'them', 'thematic', 'theme', 'themed', 'themes', 'themselves', 'then', 'theoretical', 'theories', 'theory', 'therapeutic', 'therapies', 'therapist', 'therapists', 'theraputty', 'therapy', 'there', 'thereby', 'therefore', 'thermometer', 'thermometers', 'thesaurus', 'these', 'theses', 'they', 'thick', 'thief', 'thier', 'thin', 'thing', 'things', 'think', 'thinker', 'thinkers', 'thinking', 'thinks', 'third', 'thirds', 'thirst', 'thirsty', 'thirteen', 'thirty', 'this', 'thomas', 'thorough', 'thoroughly', 'those', 'though', 'thought', 'thoughtful', 'thoughtfully', 'thoughts', 'thousand', 'thousands', 'thread', 'threatening', 'three', 'threshold', 'thrift', 'thrill', 'thrilled', 'thrilling', 'thrive', 'thrives', 'thriving', 'through', 'throughout', 'throw', 'throwing', 'thrown', 'throws', 'thru', 'thursday', 'thursdays', 'thus', 'ti', 'ticket', 'tickets', 'tidy', 'tie', 'tied', 'tier', 'ties', 'tiger', 'tigers', 'tiggly', 'tight', 'tightly', 'tile', 'tiles', 'tilt', 'time', 'timed', 'timeline', 'timely', 'timer', 'timers', 'times', 'timid', 'tinker', 'tinkercad', 'tinkering', 'tiny', 'tip', 'tipping', 'tips', 'tired', 'tirelessly', 'tissue', 'tissues', 'title', 'titles', 'tk', 'tlc', 'tn', 'to', 'today', 'todays', 'toes', 'together', 'toilet', 'token', 'told', 'tolerance', 'tolerant', 'toll', 'tom', 'tomatoes', 'tomorrow', 'ton', 'tone', 'toner', 'tongue', 'tons', 'too', 'took', 'tool', 'toolbox', 'tools', 'toon', 'toothbrush', 'toothbrushes', 'toothpaste', 'top', 'topic', 'topics', 'tops', 'torn', 'tornado', 'toss', 'total', 'totally', 'tote', 'touch', 'touched', 'touches', 'touching', 'touchscreen', 'tough', 'toughest', 'tour', 'tournament', 'tournaments', 'tours', 'toward', 'towards', 'towel', 'towels', 'tower', 'towers', 'town', 'towns', 'township', 'toy', 'toys', 'trace', 'tracing', 'track', 'tracked', 'tracker', 'trackers', 'tracking', 'tracks', 'trade', 'tradition', 'traditional', 'traditionally', 'traditions', 'traffic', 'tragedy', 'tragic', 'trail', 'trailer', 'trailers', 'train', 'trained', 'trainer', 'training', 'trains', 'trait', 'traits', 'trajectory', 'trampoline', 'transcend', 'transfer', 'transferable', 'transferred', 'transferring', 'transfers', 'transform', 'transformation', 'transformations', 'transformed', 'transforming', 'transforms', 'transient', 'transition', 'transitional', 'transitioned', 'transitioning', 'transitions', 'translate', 'translated', 'translates', 'translation', 'translations', 'translators', 'transport', 'transportation', 'transported', 'transporting', 'trapped', 'trash', 'trauma', 'traumatic', 'travel', 'traveled', 'travelers', 'traveling', 'travels', 'tray', 'trays', 'treasure', 'treasured', 'treasures', 'treat', 'treated', 'treating', 'treatment', 'treats', 'tree', 'trees', 'tremendous', 'tremendously', 'trend', 'trends', 'tri', 'trial', 'trials', 'tribe', 'tribes', 'tribulations', 'trick', 'tricky', 'tricycles', 'tried', 'tries', 'triggers', 'trimester', 'trip', 'triple', 'tripping', 'trips', 'triumph', 'trouble', 'troubled', 'troubles', 'troubleshoot', 'troubleshooting', 'true', 'truly', 'trunk', 'trust', 'trusted', 'trusting', 'truth', 'try', 'trying', 'tub', 'tube', 'tubes', 'tubs', 'tucked', 'tuesday', 'tulsa', 'tumbling', 'tummies', 'tummy', 'tumultuous', 'tune', 'tuned', 'tuners', 'tunes', 'tuning', 'tunnel', 'turmoil', 'turn', 'turnaround', 'turned', 'turning', 'turns', 'turtle', 'turtles', 'tutor', 'tutorial', 'tutorials', 'tutoring', 'tutors', 'tv', 'tweezers', 'twelfth', 'twelve', 'twenty', 'twice', 'twist', 'twisting', 'twitter', 'two', 'tx', 'tying', 'type', 'typed', 'types', 'typical', 'typically', 'typing', 'ugly', 'ukulele', 'ukuleles', 'ultimate', 'ultimately', 'un', 'unable', 'unavailable', 'unaware', 'unbelievable', 'unbelievably', 'uncertainty', 'uncles', 'uncomfortable', 'uncommon', 'unconditional', 'unconventional', 'uncover', 'under', 'underestimated', 'underfunded', 'undergo', 'undergoing', 'underline', 'underneath', 'underprivileged', 'underrepresented', 'underserved', 'understand', 'understandable', 'understanding', 'understandings', 'understands', 'understatement', 'understood', 'undertaking', 'underwater', 'underwear', 'undoubtedly', 'unemployed', 'unemployment', 'uneven', 'unexpected', 'unfair', 'unfamiliar', 'unfinished', 'unfold', 'unforgettable', 'unfortunate', 'unfortunately', 'unhealthy', 'unified', 'unifix', 'uniform', 'uniforms', 'unimaginable', 'uninterested', 'uninterrupted', 'union', 'unique', 'uniquely', 'uniqueness', 'unit', 'unite', 'united', 'unites', 'units', 'unity', 'universal', 'universe', 'universities', 'university', 'unknown', 'unleash', 'unless', 'unlike', 'unlimited', 'unlock', 'unlocking', 'unmatched', 'unmotivated', 'unnecessary', 'unnoticed', 'unparalleled', 'unprecedented', 'unpredictable', 'unprepared', 'unrealistic', 'unreliable', 'unsafe', 'unstable', 'unstoppable', 'unstructured', 'unsuccessful', 'unsure', 'unthinkable', 'until', 'unusable', 'unusual', 'unwanted', 'unwind', 'up', 'upbeat', 'upcoming', 'update', 'updated', 'updates', 'updating', 'upgrade', 'upgraded', 'uphill', 'uphold', 'uplifting', 'upload', 'uploaded', 'upon', 'upper', 'upright', 'ups', 'upset', 'upside', 'upstate', 'upward', 'urban', 'urdu', 'urge', 'urgency', 'urgent', 'us', 'usa', 'usable', 'usage', 'usb', 'use', 'used', 'useful', 'user', 'users', 'uses', 'using', 'usual', 'usually', 'utah', 'utensils', 'utilization', 'utilize', 'utilized', 'utilizes', 'utilizing', 'utmost', 'uv', 'vacation', 'vacuum', 'valid', 'valley', 'valuable', 'value', 'valued', 'values', 'van', 'variables', 'variation', 'variations', 'varied', 'varies', 'variety', 'various', 'varsity', 'vary', 'varying', 'vast', 'vastly', 've', 'vegas', 'vegetable', 'vegetables', 'veggies', 'vehicle', 'vehicles', 'velcro', 'velocity', 'venture', 'venue', 'venues', 'verbal', 'verbalize', 'verbally', 'verbs', 'verge', 'vernier', 'versa', 'versatile', 'versed', 'version', 'versions', 'versus', 'very', 'vest', 'vested', 'vestibular', 'vests', 'veteran', 'veterans', 'veterinarian', 'veterinarians', 'vex', 'via', 'viable', 'vibe', 'vibrant', 'victims', 'victories', 'victory', 'video', 'videos', 'vietnam', 'vietnamese', 'view', 'viewed', 'viewers', 'viewing', 'viewpoints', 'views', 'village', 'vinyl', 'violence', 'violent', 'violin', 'violins', 'virginia', 'virtual', 'virtually', 'viruses', 'visible', 'vision', 'visions', 'visit', 'visited', 'visiting', 'visitors', 'visits', 'visual', 'visualize', 'visualizing', 'visually', 'visuals', 'vital', 'vitally', 'vivacious', 'vivid', 'vividly', 'vocabularies', 'vocabulary', 'vocal', 'vocational', 'voice', 'voices', 'void', 'volcano', 'volcanoes', 'volleyball', 'volleyballs', 'volume', 'volumes', 'volunteer', 'volunteering', 'volunteers', 'voracious', 'vote', 'voted', 'voting', 'vowel', 'vowels', 'vr', 'vs', 'vulnerable', 'wage', 'wages', 'wagon', 'wait', 'waiting', 'wake', 'waking', 'walk', 'walked', 'walking', 'walks', 'wall', 'walls', 'walt', 'wander', 'wandering', 'wands', 'want', 'wanted', 'wanting', 'wants', 'war', 'ward', 'warlick', 'warm', 'warming', 'warms', 'warmth', 'warriors', 'wars', 'was', 'wash', 'washed', 'washing', 'washington', 'wasn', 'waste', 'wasted', 'wasting', 'watch', 'watched', 'watches', 'watching', 'water', 'watercolor', 'watercolors', 'watering', 'waters', 'watson', 'wave', 'waves', 'wax', 'way', 'ways', 'we', 'weak', 'weakness', 'weaknesses', 'wealth', 'wealthier', 'wealthy', 'weapon', 'wear', 'wearing', 'weather', 'weaving', 'web', 'webs', 'website', 'websites', 'wedo', 'week', 'weekend', 'weekends', 'weekly', 'weeks', 'weight', 'weighted', 'weights', 'welcome', 'welcomed', 'welcomes', 'welcoming', 'well', 'wellbeing', 'wellness', 'went', 'were', 'weren', 'west', 'western', 'wet', 'what', 'whatever', 'wheel', 'wheelchair', 'wheelchairs', 'wheels', 'when', 'whenever', 'where', 'whereas', 'wherever', 'whether', 'which', 'while', 'whisper', 'whistles', 'white', 'whiteboard', 'whiteboards', 'who', 'whole', 'wholeheartedly', 'whom', 'whose', 'why', 'wi', 'wide', 'widely', 'widen', 'wider', 'wifi', 'wiggle', 'wigglers', 'wiggles', 'wiggling', 'wiggly', 'wii', 'wild', 'wildlife', 'will', 'willed', 'willems', 'william', 'willing', 'willingly', 'willingness', 'wimpy', 'win', 'wind', 'window', 'windows', 'wing', 'wings', 'winner', 'winners', 'winning', 'wins', 'winter', 'winters', 'wipe', 'wipes', 'wire', 'wired', 'wireless', 'wirelessly', 'wires', 'wiring', 'wisconsin', 'wisdom', 'wise', 'wisely', 'wish', 'wished', 'wishes', 'wishing', 'with', 'within', 'without', 'withstand', 'witness', 'witnessed', 'witnessing', 'witty', 'wobble', 'wobbling', 'wobbly', 'wolf', 'woman', 'women', 'won', 'wonder', 'wondered', 'wonderful', 'wonderfully', 'wondering', 'wonders', 'wondrous', 'wont', 'wood', 'wooden', 'woods', 'woodwind', 'word', 'words', 'work', 'workbook', 'workbooks', 'worked', 'worker', 'workers', 'workforce', 'working', 'workout', 'workouts', 'workplace', 'works', 'worksheet', 'worksheets', 'workshop', 'workshops', 'workspace', 'workstation', 'workstations', 'world', 'worlds', 'worldwide', 'worm', 'worms', 'worn', 'worried', 'worries', 'worry', 'worrying', 'worse', 'worst', 'worth', 'worthwhile', 'worthy', 'would', 'wouldn', 'woven', 'wow', 'wrap', 'wrapped', 'wrist', 'write', 'writer', 'writers', 'writes', 'writing', 'writings', 'written', 'wrong', 'wrote', 'www', 'xbox', 'xtra', 'xtramath', 'xylophone', 'xylophones', 'yard', 'yarn', 'yay', 'year', 'yearbook', 'yearly', 'yearn', 'yearning', 'years', 'yellow', 'yemen', 'yes', 'yesterday', 'yet', 'yield', 'yields', 'yoga', 'york', 'you', 'younannan', 'young', 'younger', 'youngest', 'youngsters', 'your', 'yours', 'yourself', 'youth', 'youtube', 'yummy', 'zeal', 'zenergy', 'zero', 'zest', 'zip', 'zone', 'zones', 'zoo', 'zoom', 'zumba']\n",
      "====================================================================================================\n"
     ]
    }
   ],
   "source": [
    "from sklearn.feature_extraction.text import TfidfVectorizer\n",
    "\n",
    "vectorizer = TfidfVectorizer(min_df=10)\n",
    "vectorizer.fit(X_train['essay'].values) # fit has to happen only on train data\n",
    "\n",
    "# we use the fitted tfidfVectorizer to convert the text to vector\n",
    "X_train_essay_tfidf = vectorizer.transform(X_train['essay'].values)\n",
    "X_cv_essay_tfidf = vectorizer.transform(X_cv['essay'].values)\n",
    "X_test_essay_tfidf = vectorizer.transform(X_test['essay'].values)\n",
    "\n",
    "print(\"After vectorizations\")\n",
    "print(X_train_essay_tfidf.shape, y_train.shape)\n",
    "print(X_cv_essay_tfidf.shape, y_cv.shape)\n",
    "print(X_test_essay_tfidf.shape, y_test.shape)\n",
    "print(vectorizer.get_feature_names())\n",
    "print(\"=\"*100)"
   ]
  },
  {
   "cell_type": "code",
   "execution_count": 60,
   "metadata": {
    "colab": {
     "base_uri": "https://localhost:8080/",
     "height": 0
    },
    "colab_type": "code",
    "executionInfo": {
     "elapsed": 154831,
     "status": "ok",
     "timestamp": 1583751759273,
     "user": {
      "displayName": "Hemanth Reddy",
      "photoUrl": "",
      "userId": "16713424825086946671"
     },
     "user_tz": -330
    },
    "id": "A-R1hwqVhsUj",
    "outputId": "8d3ca305-321f-4a41-860c-deea3b922c86"
   },
   "outputs": [
    {
     "name": "stdout",
     "output_type": "stream",
     "text": [
      "After vectorizations\n",
      "(22445, 1221) (22445,)\n",
      "(11055, 1221) (11055,)\n",
      "(16500, 1221) (16500,)\n",
      "['05', '10', '16', '1st', '2016', '2017', '21st', '2nd', '3d', '3rd', '4th', '5th', '6th', 'abc', 'about', 'academic', 'access', 'accessible', 'accessing', 'accessories', 'achieve', 'achievement', 'achieving', 'across', 'act', 'action', 'active', 'activities', 'activity', 'add', 'adding', 'advanced', 'adventure', 'adventures', 'after', 'again', 'age', 'ahead', 'air', 'algebra', 'alive', 'all', 'along', 'alouds', 'alphabet', 'alternative', 'always', 'am', 'amazing', 'america', 'american', 'an', 'and', 'animal', 'another', 'ap', 'app', 'apple', 'apples', 'approach', 'apps', 'are', 'area', 'around', 'art', 'artist', 'artistic', 'artists', 'arts', 'as', 'aspiring', 'at', 'atpe', 'attention', 'audio', 'authors', 'autism', 'avid', 'award', 'away', 'awesome', 'baby', 'back', 'backpack', 'backpacks', 'bag', 'bags', 'balance', 'balancing', 'ball', 'balls', 'band', 'bands', 'baseball', 'based', 'basic', 'basics', 'basketball', 'bay', 'be', 'bean', 'beat', 'beautiful', 'become', 'becoming', 'begin', 'beginning', 'begins', 'behavior', 'being', 'believing', 'best', 'better', 'beyond', 'big', 'bilingual', 'binders', 'bins', 'biology', 'blended', 'block', 'blocks', 'board', 'boards', 'bodies', 'body', 'boogie', 'book', 'books', 'bookworms', 'boom', 'boost', 'bounce', 'bouncing', 'bouncy', 'box', 'boxes', 'boys', 'brain', 'brains', 'break', 'breaking', 'breakout', 'bridge', 'bridging', 'bright', 'brighter', 'bring', 'bringing', 'bronx', 'budding', 'bug', 'build', 'building', 'busy', 'but', 'by', 'ca', 'calculating', 'calculators', 'calling', 'calm', 'calming', 'camera', 'cameras', 'can', 'capture', 'capturing', 'care', 'career', 'caring', 'carpet', 'cart', 'cases', 'celebrate', 'center', 'centered', 'centers', 'century', 'chair', 'chairs', 'challenge', 'change', 'changing', 'chapter', 'character', 'characters', 'charge', 'charging', 'charts', 'check', 'chemistry', 'chess', 'child', 'children', 'choice', 'choices', 'choose', 'chrome', 'chromebook', 'chromebooks', 'circles', 'circuits', 'citizens', 'city', 'class', 'classes', 'classroom', 'classrooms', 'clay', 'clean', 'clearly', 'click', 'close', 'club', 'clubs', 'code', 'coding', 'collaborate', 'collaboration', 'collaborative', 'collection', 'college', 'color', 'colorful', 'colors', 'come', 'comes', 'comfort', 'comfortable', 'comfy', 'coming', 'common', 'communicate', 'communication', 'community', 'comprehension', 'computer', 'computers', 'concentration', 'concepts', 'confidence', 'connect', 'connected', 'connecting', 'connections', 'cooking', 'cool', 'cooperative', 'core', 'corner', 'could', 'count', 'counting', 'cozy', 'crazy', 'create', 'creates', 'creating', 'creation', 'creations', 'creative', 'creativity', 'critical', 'cross', 'cultivating', 'culture', 'curiosity', 'curious', 'current', 'curriculum', 'cushions', 'cut', 'cycle', 'daily', 'dance', 'dancing', 'dash', 'data', 'day', 'days', 'deck', 'design', 'designing', 'desk', 'desks', 'desperately', 'develop', 'developing', 'development', 'difference', 'different', 'differentiated', 'digital', 'disabilities', 'discover', 'discovering', 'discovery', 'display', 'diverse', 'diversity', 'divide', 'do', 'document', 'does', 'doing', 'dot', 'down', 'drama', 'dramatic', 'draw', 'drawing', 'dream', 'dreams', 'driven', 'drum', 'drumming', 'dry', 'during', 'dynamic', 'each', 'eager', 'ear', 'early', 'ears', 'earth', 'easel', 'easy', 'eat', 'eating', 'ed', 'education', 'educational', 'effective', 'ela', 'elementary', 'em', 'emotional', 'empowering', 'encourage', 'endless', 'energetic', 'energy', 'engage', 'engaged', 'engagement', 'engaging', 'engineering', 'engineers', 'english', 'enhance', 'enhancing', 'enrichment', 'environment', 'environmental', 'equal', 'equals', 'equipment', 'erase', 'escape', 'esl', 'essential', 'essentials', 'even', 'events', 'every', 'everybody', 'everyday', 'everyone', 'everything', 'everywhere', 'excel', 'excellent', 'exceptional', 'excited', 'excitement', 'exciting', 'exercise', 'expand', 'expanding', 'experience', 'experiences', 'exploration', 'explore', 'explorers', 'exploring', 'express', 'expression', 'extra', 'eye', 'eyes', 'fabulous', 'facts', 'fairy', 'fall', 'families', 'family', 'fantastic', 'favorite', 'feed', 'feel', 'feet', 'fiction', 'fidget', 'fidgeting', 'fidgets', 'fidgety', 'field', 'fifth', 'fill', 'financial', 'find', 'finding', 'fine', 'fingers', 'fingertips', 'fire', 'fired', 'fires', 'first', 'firsties', 'fit', 'fitbits', 'fitness', 'five', 'flex', 'flexibility', 'flexible', 'flood', 'floor', 'fluency', 'fluent', 'focus', 'focused', 'focusing', 'folders', 'food', 'football', 'for', 'force', 'forward', 'fostering', 'foundation', 'fourth', 'free', 'freedom', 'fresh', 'friendly', 'friends', 'from', 'fuel', 'full', 'fun', 'functional', 'furniture', 'future', 'futures', 'galore', 'game', 'games', 'gap', 'garden', 'gardening', 'gather', 'generation', 'genius', 'geniuses', 'geometry', 'germs', 'get', 'getting', 'gift', 'gifted', 'girls', 'give', 'giving', 'global', 'glue', 'go', 'goal', 'goals', 'goes', 'going', 'gold', 'gone', 'good', 'google', 'got', 'gotta', 'grade', 'graders', 'grades', 'graphic', 'graphics', 'graphing', 'great', 'greatness', 'green', 'grooving', 'group', 'groups', 'grow', 'growing', 'growth', 'guided', 'gym', 'habits', 'hand', 'hands', 'happen', 'happy', 'hard', 'has', 'have', 'having', 'headphones', 'health', 'healthier', 'healthy', 'hear', 'hearing', 'heart', 'hearts', 'help', 'helping', 'helps', 'here', 'heroes', 'high', 'higher', 'history', 'hokki', 'home', 'hooked', 'hoops', 'hooray', 'hope', 'hot', 'house', 'how', 'human', 'hunger', 'hungry', 'hygiene', 'ican', 'ideas', 'if', 'ii', 'ilearn', 'imagination', 'imaginations', 'imagine', 'impact', 'important', 'improve', 'improving', 'in', 'inclusive', 'income', 'increase', 'increasing', 'independence', 'independent', 'individual', 'individualized', 'indoor', 'information', 'ing', 'ink', 'inner', 'innovation', 'innovative', 'innovators', 'inquiry', 'inside', 'inspiration', 'inspire', 'inspired', 'inspiring', 'instruction', 'instruments', 'integrating', 'integration', 'interactive', 'interest', 'intervention', 'into', 'ipad', 'ipads', 'is', 'it', 'items', 'its', 'journalism', 'journals', 'journey', 'jump', 'just', 'keep', 'keeping', 'keeps', 'key', 'kid', 'kiddos', 'kids', 'kind', 'kinder', 'kindergarten', 'kindergarteners', 'kindergartners', 'kinders', 'kindle', 'kindles', 'kindness', 'kinesthetic', 'kit', 'kitchen', 'kits', 'know', 'knowledge', 'lab', 'laboratory', 'labs', 'language', 'laptop', 'laptops', 'last', 'lead', 'leader', 'leaders', 'leads', 'leaping', 'learn', 'learner', 'learners', 'learning', 'lego', 'legos', 'less', 'lessons', 'let', 'lets', 'letters', 'level', 'leveled', 'levels', 'library', 'life', 'lifelong', 'light', 'lighting', 'lights', 'like', 'listen', 'listening', 'literacy', 'literature', 'little', 'live', 'lives', 'living', 'long', 'look', 'looking', 'lost', 'love', 'loving', 'low', 'macbook', 'mad', 'made', 'madness', 'magazine', 'magazines', 'magic', 'magical', 'magnetic', 'magnificent', 'make', 'makeover', 'maker', 'makers', 'makerspace', 'makes', 'making', 'management', 'mania', 'manipulatives', 'many', 'markers', 'marvelous', 'mastering', 'masterpieces', 'masters', 'materials', 'math', 'mathematical', 'mathematicians', 'mathematics', 'mats', 'matter', 'matters', 'maximize', 'may', 'me', 'meaningful', 'means', 'media', 'meet', 'meeting', 'memories', 'mentor', 'mice', 'microscopes', 'middle', 'mind', 'mindful', 'mindfulness', 'minds', 'mindset', 'mini', 'minis', 'miss', 'mission', 'mobile', 'models', 'modern', 'money', 'more', 'morning', 'most', 'motion', 'motivate', 'motivating', 'motivation', 'motor', 'move', 'movement', 'movin', 'moving', 'mr', 'mrs', 'ms', 'much', 'multi', 'music', 'musical', 'musicians', 'must', 'my', 'mystery', 'necessities', 'need', 'needed', 'needs', 'never', 'new', 'news', 'next', 'night', 'no', 'non', 'nonfiction', 'nook', 'not', 'notebooks', 'novel', 'novels', 'now', 'number', 'numbers', 'nutrition', 'of', 'off', 'oh', 'old', 'on', 'once', 'one', 'online', 'only', 'open', 'opening', 'operation', 'opportunities', 'opportunity', 'options', 'orchestra', 'organization', 'organizational', 'organize', 'organized', 'organizing', 'osmo', 'osmos', 'other', 'our', 'ourselves', 'out', 'outdoor', 'outdoors', 'outside', 'over', 'owl', 'own', 'ozobots', 'pad', 'pads', 'paint', 'painting', 'paper', 'paperless', 'parents', 'part', 'past', 'path', 'pe', 'peace', 'pencil', 'pencils', 'pens', 'people', 'perfect', 'performance', 'personal', 'personalized', 'phonics', 'photography', 'physical', 'physics', 'picasso', 'pick', 'picture', 'pictures', 'place', 'places', 'plants', 'play', 'playground', 'playing', 'please', 'pockets', 'poetry', 'pop', 'portfolios', 'positive', 'possibilities', 'possible', 'power', 'powerful', 'practice', 'pre', 'prek', 'prepare', 'preparing', 'preschool', 'preschoolers', 'pretty', 'print', 'printer', 'printing', 'printmaking', 'pro', 'problem', 'problems', 'program', 'programming', 'progress', 'project', 'projecting', 'projector', 'projects', 'promote', 'promoting', 'protect', 'provide', 'providing', 'pt', 'purpose', 'put', 'putting', 'quality', 'quest', 'quiet', 'quill', 'rainbow', 'raspberry', 'reach', 'reaching', 'read', 'reader', 'readers', 'reading', 'reads', 'ready', 'real', 'reality', 'really', 'recess', 'relevant', 'reluctant', 'rescue', 'research', 'resource', 'resources', 'rewards', 'rich', 'ride', 'right', 'road', 'robot', 'robotics', 'robots', 'rock', 'rockin', 'rocking', 'rocks', 'roll', 'rolling', 'room', 'round', 'rug', 'run', 'running', 'sacks', 'safe', 'safety', 'sand', 'save', 'saving', 'savvy', 'say', 'scholars', 'scholastic', 'school', 'schoolers', 'science', 'scientific', 'scientist', 'scientists', 'screen', 'seat', 'seating', 'seats', 'second', 'see', 'seeds', 'seeing', 'seek', 'seeking', 'self', 'sensational', 'sense', 'sensory', 'series', 'set', 'sets', 'setting', 'share', 'sharing', 'sharp', 'shelf', 'shine', 'should', 'show', 'sight', 'simple', 'sims', 'sing', 'singing', 'sit', 'sitting', 'skill', 'skills', 'small', 'smart', 'smile', 'snack', 'snacks', 'snap', 'so', 'soar', 'soaring', 'soccer', 'social', 'solutions', 'solve', 'solvers', 'solving', 'some', 'something', 'sound', 'sounds', 'space', 'spaces', 'spanish', 'spark', 'speak', 'speakers', 'speaking', 'special', 'speech', 'sports', 'spot', 'spring', 'stability', 'stage', 'stand', 'standing', 'star', 'stars', 'start', 'starting', 'starts', 'state', 'station', 'stations', 'stay', 'staying', 'steam', 'steaming', 'stem', 'step', 'stepping', 'stick', 'still', 'stock', 'stools', 'stop', 'storage', 'store', 'stories', 'story', 'storytelling', 'storyworks', 'strength', 'strengthening', 'strong', 'struggling', 'student', 'students', 'studies', 'studio', 'study', 'stuff', 'style', 'succeed', 'success', 'successful', 'summer', 'super', 'superheroes', 'supplies', 'supply', 'support', 'supporting', 'supports', 'surface', 'sweet', 'system', 'table', 'tables', 'tablet', 'tablets', 'take', 'takes', 'taking', 'tales', 'talk', 'target', 'targeting', 'teach', 'teacher', 'teaching', 'team', 'tech', 'techie', 'techies', 'techno', 'technological', 'technology', 'techy', 'teens', 'telling', 'terrific', 'test', 'testing', 'text', 'texts', 'than', 'that', 'the', 'their', 'them', 'therapy', 'there', 'these', 'they', 'things', 'think', 'thinkers', 'thinking', 'third', 'this', 'those', 'thousand', 'through', 'time', 'times', 'tiny', 'title', 'tk', 'to', 'today', 'together', 'tomorrow', 'too', 'tool', 'tools', 'toon', 'top', 'touch', 'towards', 'toys', 'track', 'tracking', 'traditional', 'training', 'tree', 'tune', 'turn', 'turning', 'two', 'ukulele', 'ukuleles', 'understanding', 'unique', 'unit', 'up', 'upgrade', 'urban', 'us', 'use', 'using', 'via', 'video', 'view', 'virtual', 'visual', 'visualize', 'visualizing', 'vocabulary', 'voice', 'voices', 'volleyball', 'walk', 'wall', 'walls', 'want', 'wanted', 'warm', 'watch', 'water', 'way', 'ways', 'we', 'welcome', 'welcoming', 'well', 'wellness', 'what', 'when', 'where', 'while', 'white', 'who', 'whole', 'why', 'wiggle', 'wiggles', 'wiggling', 'wiggly', 'wild', 'will', 'win', 'window', 'winning', 'winter', 'wireless', 'with', 'within', 'without', 'wizards', 'wobble', 'wobbling', 'wobbly', 'wonder', 'wonderful', 'word', 'words', 'work', 'working', 'works', 'workshop', 'world', 'worms', 'worth', 'would', 'write', 'writers', 'writing', 'ye', 'year', 'yearbook', 'yes', 'yoga', 'you', 'young', 'your', 'yourself', 'zone']\n",
      "====================================================================================================\n"
     ]
    }
   ],
   "source": [
    "from sklearn.feature_extraction.text import TfidfVectorizer\n",
    "\n",
    "vectorizer = TfidfVectorizer(min_df=10)\n",
    "vectorizer.fit(X_train['project_title'].values) # fit has to happen only on train data\n",
    "\n",
    "# we use the fitted tfidfVectorizer to convert the text to vector\n",
    "X_train_title_tfidf = vectorizer.transform(X_train['project_title'].values)\n",
    "X_cv_title_tfidf = vectorizer.transform(X_cv['project_title'].values)\n",
    "X_test_title_tfidf = vectorizer.transform(X_test['project_title'].values.astype('U'))\n",
    "\n",
    "print(\"After vectorizations\")\n",
    "print(X_train_title_tfidf.shape, y_train.shape)\n",
    "print(X_cv_title_tfidf.shape, y_cv.shape)\n",
    "print(X_test_title_tfidf.shape, y_test.shape)\n",
    "print(vectorizer.get_feature_names())\n",
    "print(\"=\"*100)"
   ]
  },
  {
   "cell_type": "markdown",
   "metadata": {
    "colab_type": "text",
    "id": "28Bb0jjVhgYb"
   },
   "source": [
    "#### 1.5.2.3 Using Pretrained Models: Avg W2V"
   ]
  },
  {
   "cell_type": "code",
   "execution_count": 0,
   "metadata": {
    "colab": {},
    "colab_type": "code",
    "id": "InMMx3K-iV90"
   },
   "outputs": [],
   "source": [
    "# here i used the google drive link to upload the csv files in the google colab \n",
    "downloaded = drive.CreateFile({'id':'19MKcrDNIiKVb-bZ1pJsJQVfwBHGAqf3J'}) # replace the id with id of file you want to access\n",
    "downloaded.GetContentFile('glove.42B.300d.txt') "
   ]
  },
  {
   "cell_type": "code",
   "execution_count": 62,
   "metadata": {
    "colab": {
     "base_uri": "https://localhost:8080/",
     "height": 0
    },
    "colab_type": "code",
    "executionInfo": {
     "elapsed": 646107,
     "status": "ok",
     "timestamp": 1583752250582,
     "user": {
      "displayName": "Hemanth Reddy",
      "photoUrl": "",
      "userId": "16713424825086946671"
     },
     "user_tz": -330
    },
    "id": "AwbzH7y0PREz",
    "outputId": "524b5984-daca-47dd-848a-d648158ad649"
   },
   "outputs": [
    {
     "name": "stderr",
     "output_type": "stream",
     "text": [
      "1050it [00:00, 10491.81it/s]"
     ]
    },
    {
     "name": "stdout",
     "output_type": "stream",
     "text": [
      "Loading Glove Model\n"
     ]
    },
    {
     "name": "stderr",
     "output_type": "stream",
     "text": [
      "1917495it [02:56, 10873.85it/s]\n"
     ]
    },
    {
     "name": "stdout",
     "output_type": "stream",
     "text": [
      "Done. 1917495  words loaded!\n",
      "all the words in the coupus 7778551\n",
      "the unique words in the coupus 42992\n",
      "The number of words that are present in both glove vectors and our coupus 39171 ( 91.112 %)\n",
      "word 2 vec length 39171\n"
     ]
    }
   ],
   "source": [
    "# Reading glove vectors in python: https://stackoverflow.com/a/38230349/4084039\n",
    "def loadGloveModel(gloveFile):\n",
    "    print (\"Loading Glove Model\")\n",
    "    f = open(gloveFile,'r', encoding=\"utf8\")\n",
    "    model = {}\n",
    "    for line in tqdm(f):\n",
    "        splitLine = line.split()\n",
    "        word = splitLine[0]\n",
    "        embedding = np.array([float(val) for val in splitLine[1:]])\n",
    "        model[word] = embedding\n",
    "    print (\"Done.\",len(model),\" words loaded!\")\n",
    "    return model\n",
    "model = loadGloveModel('glove.42B.300d.txt')\n",
    "\n",
    "words = []\n",
    "for i in preprocessed_essays:\n",
    "    words.extend(i.split(' '))\n",
    "\n",
    "for i in preprocessed_title:\n",
    "    words.extend(i.split(' '))\n",
    "print(\"all the words in the coupus\", len(words))\n",
    "words = set(words)\n",
    "print(\"the unique words in the coupus\", len(words))\n",
    "\n",
    "inter_words = set(model.keys()).intersection(words)\n",
    "print(\"The number of words that are present in both glove vectors and our coupus\", \\\n",
    "      len(inter_words),\"(\",np.round(len(inter_words)/len(words)*100,3),\"%)\")\n",
    "\n",
    "words_courpus = {}\n",
    "words_glove = set(model.keys())\n",
    "for i in words:\n",
    "    if i in words_glove:\n",
    "        words_courpus[i] = model[i]\n",
    "print(\"word 2 vec length\", len(words_courpus))\n",
    "\n",
    "\n",
    "# stronging variables into pickle files python: http://www.jessicayung.com/how-to-use-pickle-to-save-and-load-variables-in-python/\n",
    "\n",
    "import pickle\n",
    "with open('glove_vectors', 'wb') as f:\n",
    "    pickle.dump(words_courpus, f)\n"
   ]
  },
  {
   "cell_type": "code",
   "execution_count": 0,
   "metadata": {
    "colab": {},
    "colab_type": "code",
    "id": "05IkDPemhgYh"
   },
   "outputs": [],
   "source": [
    "# stronging variables into pickle files python: http://www.jessicayung.com/how-to-use-pickle-to-save-and-load-variables-in-python/\n",
    "# make sure you have the glove_vectors file\n",
    "with open('glove_vectors', 'rb') as f:\n",
    "    model = pickle.load(f)\n",
    "    glove_words =  set(model.keys())"
   ]
  },
  {
   "cell_type": "code",
   "execution_count": 64,
   "metadata": {
    "colab": {
     "base_uri": "https://localhost:8080/",
     "height": 0
    },
    "colab_type": "code",
    "executionInfo": {
     "elapsed": 657648,
     "status": "ok",
     "timestamp": 1583752262132,
     "user": {
      "displayName": "Hemanth Reddy",
      "photoUrl": "",
      "userId": "16713424825086946671"
     },
     "user_tz": -330
    },
    "id": "xpz3m8jehgYl",
    "outputId": "f4e09bb0-ccd0-4650-e5d1-58245db61049",
    "scrolled": true
   },
   "outputs": [
    {
     "name": "stderr",
     "output_type": "stream",
     "text": [
      "100%|██████████| 22445/22445 [00:09<00:00, 2277.38it/s]"
     ]
    },
    {
     "name": "stdout",
     "output_type": "stream",
     "text": [
      "22445\n",
      "300\n"
     ]
    },
    {
     "name": "stderr",
     "output_type": "stream",
     "text": [
      "\n"
     ]
    }
   ],
   "source": [
    "# average Word2Vec\n",
    "# compute average word2vec for each review.\n",
    "X_train_avg_w2v_vectors = []; # the avg-w2v for each sentence/review is stored in this list\n",
    "for sentence in tqdm(X_train['essay']): # for each review/sentence\n",
    "    vector = np.zeros(300) # as word vectors are of zero length\n",
    "    cnt_words =0; # num of words with a valid vector in the sentence/review\n",
    "    for word in sentence.split(): # for each word in a review/sentence\n",
    "        if word in glove_words:\n",
    "            vector += model[word]\n",
    "            cnt_words += 1\n",
    "    if cnt_words != 0:\n",
    "        vector /= cnt_words\n",
    "    X_train_avg_w2v_vectors.append(vector)\n",
    "\n",
    "print(len(X_train_avg_w2v_vectors))\n",
    "print(len(X_train_avg_w2v_vectors[0]))"
   ]
  },
  {
   "cell_type": "code",
   "execution_count": 65,
   "metadata": {
    "colab": {
     "base_uri": "https://localhost:8080/",
     "height": 0
    },
    "colab_type": "code",
    "executionInfo": {
     "elapsed": 662600,
     "status": "ok",
     "timestamp": 1583752267088,
     "user": {
      "displayName": "Hemanth Reddy",
      "photoUrl": "",
      "userId": "16713424825086946671"
     },
     "user_tz": -330
    },
    "id": "kt4JF-HUX6vy",
    "outputId": "eff40e78-afed-46b8-87c1-5cb1e35e105b"
   },
   "outputs": [
    {
     "name": "stderr",
     "output_type": "stream",
     "text": [
      "100%|██████████| 11055/11055 [00:04<00:00, 2249.63it/s]"
     ]
    },
    {
     "name": "stdout",
     "output_type": "stream",
     "text": [
      "11055\n",
      "300\n"
     ]
    },
    {
     "name": "stderr",
     "output_type": "stream",
     "text": [
      "\n"
     ]
    }
   ],
   "source": [
    "# average Word2Vec\n",
    "# compute average word2vec for each review.\n",
    "X_cv_avg_w2v_vectors = []; # the avg-w2v for each sentence/review is stored in this list\n",
    "for sentence in tqdm(X_cv[\"essay\"]): # for each review/sentence\n",
    "    vector = np.zeros(300) # as word vectors are of zero length\n",
    "    cnt_words =0; # num of words with a valid vector in the sentence/review\n",
    "    for word in sentence.split(): # for each word in a review/sentence\n",
    "        if word in glove_words:\n",
    "            vector += model[word]\n",
    "            cnt_words += 1\n",
    "    if cnt_words != 0:\n",
    "        vector /= cnt_words\n",
    "    X_cv_avg_w2v_vectors.append(vector)\n",
    "\n",
    "print(len(X_cv_avg_w2v_vectors))\n",
    "print(len(X_cv_avg_w2v_vectors[0]))"
   ]
  },
  {
   "cell_type": "code",
   "execution_count": 66,
   "metadata": {
    "colab": {
     "base_uri": "https://localhost:8080/",
     "height": 0
    },
    "colab_type": "code",
    "executionInfo": {
     "elapsed": 670056,
     "status": "ok",
     "timestamp": 1583752274548,
     "user": {
      "displayName": "Hemanth Reddy",
      "photoUrl": "",
      "userId": "16713424825086946671"
     },
     "user_tz": -330
    },
    "id": "H1k-6kXabb8Y",
    "outputId": "69c6c5bf-2569-4e86-83b7-9375e575a682"
   },
   "outputs": [
    {
     "name": "stderr",
     "output_type": "stream",
     "text": [
      "100%|██████████| 16500/16500 [00:07<00:00, 2242.31it/s]"
     ]
    },
    {
     "name": "stdout",
     "output_type": "stream",
     "text": [
      "16500\n",
      "300\n"
     ]
    },
    {
     "name": "stderr",
     "output_type": "stream",
     "text": [
      "\n"
     ]
    }
   ],
   "source": [
    " #average Word2Vec\n",
    "# compute average word2vec for each review.\n",
    "X_test_avg_w2v_vectors = []; # the avg-w2v for each sentence/review is stored in this list\n",
    "for sentence in tqdm(X_test['essay']): # for each review/sentence\n",
    "    vector = np.zeros(300) # as word vectors are of zero length\n",
    "    cnt_words =0; # num of words with a valid vector in the sentence/review\n",
    "    for word in sentence.split(): # for each word in a review/sentence\n",
    "        if word in glove_words:\n",
    "            vector += model[word]\n",
    "            cnt_words += 1\n",
    "    if cnt_words != 0:\n",
    "        vector /= cnt_words\n",
    "    X_test_avg_w2v_vectors.append(vector)\n",
    "\n",
    "print(len(X_test_avg_w2v_vectors))\n",
    "print(len(X_test_avg_w2v_vectors[0]))"
   ]
  },
  {
   "cell_type": "markdown",
   "metadata": {
    "colab_type": "text",
    "id": "Y9FPcAjkVni2"
   },
   "source": [
    "####  Using Pretrained Models: AVG w2v on project title\n"
   ]
  },
  {
   "cell_type": "code",
   "execution_count": 67,
   "metadata": {
    "colab": {
     "base_uri": "https://localhost:8080/",
     "height": 0
    },
    "colab_type": "code",
    "executionInfo": {
     "elapsed": 670418,
     "status": "ok",
     "timestamp": 1583752274914,
     "user": {
      "displayName": "Hemanth Reddy",
      "photoUrl": "",
      "userId": "16713424825086946671"
     },
     "user_tz": -330
    },
    "id": "FNNqOnGwVnNS",
    "outputId": "dd870307-0025-48e8-a466-1b477cfcce31"
   },
   "outputs": [
    {
     "name": "stdout",
     "output_type": "stream",
     "text": [
      "all the words in the corpus 97001\n",
      "all the unique words in the corpus 8021\n",
      "The number of words that are present in both glove vectors and our corpus 7767 ( 96.833 %)\n",
      "word 2 vec length 7767\n"
     ]
    }
   ],
   "source": [
    "# Building dictionary of words for project title\n",
    "words = []\n",
    "for i in X_train['project_title']:\n",
    "    words.extend(i.split(' '))\n",
    "\n",
    "print(\"all the words in the corpus\", len(words))\n",
    "words = set(words)\n",
    "print(\"all the unique words in the corpus\", len(words))\n",
    "\n",
    "inter_words = set(model.keys()).intersection(words)\n",
    "print(\"The number of words that are present in both glove vectors and our corpus\", \\\n",
    "      len(inter_words),\"(\",np.round(len(inter_words)/len(words)*100,3),\"%)\")\n",
    "\n",
    "words_corpus_title = {}\n",
    "words_glove = set(model.keys())\n",
    "for i in words:\n",
    "    if i in words_glove:\n",
    "        words_corpus_title[i] = model[i]\n",
    "print(\"word 2 vec length\", len(words_corpus_title))\n",
    "\n",
    "\n",
    "# stronging variables into pickle files python: http://www.jessicayung.com/how-to-use-pickle-to-save-and-load-variables-in-python/\n",
    "\n",
    "import pickle\n",
    "with open('glove_vectors', 'wb') as f:\n",
    "    pickle.dump(words_corpus_title, f)"
   ]
  },
  {
   "cell_type": "code",
   "execution_count": 0,
   "metadata": {
    "colab": {},
    "colab_type": "code",
    "id": "vdf_XRtmVnF8"
   },
   "outputs": [],
   "source": [
    "# stronging variables into pickle files python: http://www.jessicayung.com/how-to-use-pickle-to-save-and-load-variables-in-python/\n",
    "# make sure you have the glove_vectors file\n",
    "with open('glove_vectors', 'rb') as f:\n",
    "    model = pickle.load(f)\n",
    "    glove_words =  set(model.keys())"
   ]
  },
  {
   "cell_type": "code",
   "execution_count": 69,
   "metadata": {
    "colab": {
     "base_uri": "https://localhost:8080/",
     "height": 0
    },
    "colab_type": "code",
    "executionInfo": {
     "elapsed": 671203,
     "status": "ok",
     "timestamp": 1583752275708,
     "user": {
      "displayName": "Hemanth Reddy",
      "photoUrl": "",
      "userId": "16713424825086946671"
     },
     "user_tz": -330
    },
    "id": "ofqM8HxIVm6p",
    "outputId": "6e7f1eeb-2c8b-4c05-b269-68fba1028443"
   },
   "outputs": [
    {
     "name": "stderr",
     "output_type": "stream",
     "text": [
      "100%|██████████| 22445/22445 [00:00<00:00, 63319.24it/s]"
     ]
    },
    {
     "name": "stdout",
     "output_type": "stream",
     "text": [
      "22445\n",
      "300\n"
     ]
    },
    {
     "name": "stderr",
     "output_type": "stream",
     "text": [
      "\n"
     ]
    }
   ],
   "source": [
    "# average Word2Vec\n",
    "# compute average word2vec for each review.\n",
    "X_train_avg_w2v_title = []; # the avg-w2v for each sentence/review is stored in this list\n",
    "for sentence in tqdm(X_train['project_title']): # for each review/sentence\n",
    "    vector = np.zeros(300) # as word vectors are of zero length\n",
    "    cnt_words =0; # num of words with a valid vector in the sentence/review\n",
    "    for word in sentence.split(): # for each word in a review/sentence\n",
    "        if word in glove_words:\n",
    "            vector += model[word]\n",
    "            cnt_words += 1\n",
    "    if cnt_words != 0:\n",
    "        vector /= cnt_words\n",
    "    X_train_avg_w2v_title.append(vector)\n",
    "\n",
    "print(len(X_train_avg_w2v_title))\n",
    "print(len(X_train_avg_w2v_title[0]))"
   ]
  },
  {
   "cell_type": "code",
   "execution_count": 70,
   "metadata": {
    "colab": {
     "base_uri": "https://localhost:8080/",
     "height": 0
    },
    "colab_type": "code",
    "executionInfo": {
     "elapsed": 671201,
     "status": "ok",
     "timestamp": 1583752275710,
     "user": {
      "displayName": "Hemanth Reddy",
      "photoUrl": "",
      "userId": "16713424825086946671"
     },
     "user_tz": -330
    },
    "id": "qXQ8UAm5VmzH",
    "outputId": "c0339b03-80d0-4d2e-ed4b-c24f95ac6d36"
   },
   "outputs": [
    {
     "name": "stderr",
     "output_type": "stream",
     "text": [
      "100%|██████████| 11055/11055 [00:00<00:00, 65812.45it/s]"
     ]
    },
    {
     "name": "stdout",
     "output_type": "stream",
     "text": [
      "11055\n",
      "300\n"
     ]
    },
    {
     "name": "stderr",
     "output_type": "stream",
     "text": [
      "\n"
     ]
    }
   ],
   "source": [
    "# average Word2Vec\n",
    "# compute average word2vec for each review.\n",
    "X_cv_avg_w2v_title = []; # the avg-w2v for each sentence/review is stored in this list\n",
    "for sentence in tqdm(X_cv['project_title']): # for each review/sentence\n",
    "    vector = np.zeros(300) # as word vectors are of zero length\n",
    "    cnt_words =0; # num of words with a valid vector in the sentence/review\n",
    "    for word in sentence.split(): # for each word in a review/sentence\n",
    "        if word in glove_words:\n",
    "            vector += model[word]\n",
    "            cnt_words += 1\n",
    "    if cnt_words != 0:\n",
    "        vector /= cnt_words\n",
    "    X_cv_avg_w2v_title.append(vector)\n",
    "\n",
    "print(len(X_cv_avg_w2v_title))\n",
    "print(len(X_cv_avg_w2v_title[0]))"
   ]
  },
  {
   "cell_type": "code",
   "execution_count": 71,
   "metadata": {
    "colab": {
     "base_uri": "https://localhost:8080/",
     "height": 0
    },
    "colab_type": "code",
    "executionInfo": {
     "elapsed": 671533,
     "status": "ok",
     "timestamp": 1583752276046,
     "user": {
      "displayName": "Hemanth Reddy",
      "photoUrl": "",
      "userId": "16713424825086946671"
     },
     "user_tz": -330
    },
    "id": "7nRMedVqVmpc",
    "outputId": "6df22e2a-e8ae-42b5-92ea-950cb72735bd"
   },
   "outputs": [
    {
     "name": "stderr",
     "output_type": "stream",
     "text": [
      "100%|██████████| 16500/16500 [00:00<00:00, 65352.63it/s]"
     ]
    },
    {
     "name": "stdout",
     "output_type": "stream",
     "text": [
      "16500\n",
      "300\n"
     ]
    },
    {
     "name": "stderr",
     "output_type": "stream",
     "text": [
      "\n"
     ]
    }
   ],
   "source": [
    "# average Word2Vec\n",
    "# compute average word2vec for each review.\n",
    "X_test_avg_w2v_title = []; # the avg-w2v for each sentence/review is stored in this list\n",
    "for sentence in tqdm(X_test['project_title']): # for each review/sentence\n",
    "    vector = np.zeros(300) # as word vectors are of zero length\n",
    "    cnt_words =0; # num of words with a valid vector in the sentence/review\n",
    "    for word in str(sentence).split(): # for each word in a review/sentence\n",
    "        if word in glove_words:\n",
    "            vector += model[word]\n",
    "            cnt_words += 1\n",
    "    if cnt_words != 0:\n",
    "        vector /= cnt_words\n",
    "    X_test_avg_w2v_title.append(vector)\n",
    "\n",
    "print(len(X_test_avg_w2v_title))\n",
    "print(len(X_test_avg_w2v_title[0]))"
   ]
  },
  {
   "cell_type": "markdown",
   "metadata": {
    "colab_type": "text",
    "id": "h7FP-WAfhgYq"
   },
   "source": [
    "#### 1.5.2.3 Using Pretrained Models: TFIDF weighted W2V"
   ]
  },
  {
   "cell_type": "code",
   "execution_count": 0,
   "metadata": {
    "colab": {},
    "colab_type": "code",
    "id": "NPOW7ojehgYr"
   },
   "outputs": [],
   "source": [
    "# S = [\"abc def pqr\", \"def def def abc\", \"pqr pqr def\"]\n",
    "tfidf_model = TfidfVectorizer()\n",
    "tfidf_model.fit(X_train['essay'])\n",
    "# we are converting a dictionary with word as a key, and the idf as a value\n",
    "dictionary = dict(zip(tfidf_model.get_feature_names(), list(tfidf_model.idf_)))\n",
    "tfidf_words = set(tfidf_model.get_feature_names())"
   ]
  },
  {
   "cell_type": "code",
   "execution_count": 73,
   "metadata": {
    "colab": {
     "base_uri": "https://localhost:8080/",
     "height": 0
    },
    "colab_type": "code",
    "executionInfo": {
     "elapsed": 756725,
     "status": "ok",
     "timestamp": 1583752361246,
     "user": {
      "displayName": "Hemanth Reddy",
      "photoUrl": "",
      "userId": "16713424825086946671"
     },
     "user_tz": -330
    },
    "id": "slFiyoKohgYw",
    "outputId": "f34ba89c-b47f-4276-b2a9-264981ae731d",
    "scrolled": true
   },
   "outputs": [
    {
     "name": "stderr",
     "output_type": "stream",
     "text": [
      "100%|██████████| 22445/22445 [01:21<00:00, 275.67it/s]"
     ]
    },
    {
     "name": "stdout",
     "output_type": "stream",
     "text": [
      "22445\n",
      "300\n"
     ]
    },
    {
     "name": "stderr",
     "output_type": "stream",
     "text": [
      "\n"
     ]
    }
   ],
   "source": [
    "# average Word2Vec\n",
    "# compute average word2vec for each review.\n",
    "X_train_tfidf_w2v_vectors = []; # the avg-w2v for each sentence/review is stored in this list\n",
    "for sentence in tqdm(X_train['essay']): # for each review/sentence\n",
    "    vector = np.zeros(300) # as word vectors are of zero length\n",
    "    tf_idf_weight =0; # num of words with a valid vector in the sentence/review\n",
    "    for word in sentence.split(): # for each word in a review/sentence\n",
    "        if (word in glove_words) and (word in tfidf_words):\n",
    "            vec = model[word] # getting the vector for each word\n",
    "            # here we are multiplying idf value(dictionary[word]) and the tf value((sentence.count(word)/len(sentence.split())))\n",
    "            tf_idf = dictionary[word]*(sentence.count(word)/len(sentence.split())) # getting the tfidf value for each word\n",
    "            vector += (vec * tf_idf) # calculating tfidf weighted w2v\n",
    "            tf_idf_weight += tf_idf\n",
    "    if tf_idf_weight != 0:\n",
    "        vector /= tf_idf_weight\n",
    "    X_train_tfidf_w2v_vectors.append(vector)\n",
    "\n",
    "print(len(X_train_tfidf_w2v_vectors))\n",
    "print(len(X_train_tfidf_w2v_vectors[0]))"
   ]
  },
  {
   "cell_type": "code",
   "execution_count": 74,
   "metadata": {
    "colab": {
     "base_uri": "https://localhost:8080/",
     "height": 0
    },
    "colab_type": "code",
    "executionInfo": {
     "elapsed": 797386,
     "status": "ok",
     "timestamp": 1583752401912,
     "user": {
      "displayName": "Hemanth Reddy",
      "photoUrl": "",
      "userId": "16713424825086946671"
     },
     "user_tz": -330
    },
    "id": "9JO3E--HTtyh",
    "outputId": "653a87ce-8496-488b-b8aa-47a2d70417b9"
   },
   "outputs": [
    {
     "name": "stderr",
     "output_type": "stream",
     "text": [
      "100%|██████████| 11055/11055 [00:40<00:00, 273.89it/s]"
     ]
    },
    {
     "name": "stdout",
     "output_type": "stream",
     "text": [
      "11055\n",
      "300\n"
     ]
    },
    {
     "name": "stderr",
     "output_type": "stream",
     "text": [
      "\n"
     ]
    }
   ],
   "source": [
    "# average Word2Vec\n",
    "# compute average word2vec for each review.\n",
    "X_cv_tfidf_w2v_vectors = []; # the avg-w2v for each sentence/review is stored in this list\n",
    "for sentence in tqdm(X_cv['essay']): # for each review/sentence\n",
    "    vector = np.zeros(300) # as word vectors are of zero length\n",
    "    tf_idf_weight =0; # num of words with a valid vector in the sentence/review\n",
    "    for word in sentence.split(): # for each word in a review/sentence\n",
    "        if (word in glove_words) and (word in tfidf_words):\n",
    "            vec = model[word] # getting the vector for each word\n",
    "            # here we are multiplying idf value(dictionary[word]) and the tf value((sentence.count(word)/len(sentence.split())))\n",
    "            tf_idf = dictionary[word]*(sentence.count(word)/len(sentence.split())) # getting the tfidf value for each word\n",
    "            vector += (vec * tf_idf) # calculating tfidf weighted w2v\n",
    "            tf_idf_weight += tf_idf\n",
    "    if tf_idf_weight != 0:\n",
    "        vector /= tf_idf_weight\n",
    "    X_cv_tfidf_w2v_vectors.append(vector)\n",
    "\n",
    "print(len(X_cv_tfidf_w2v_vectors))\n",
    "print(len(X_cv_tfidf_w2v_vectors[0]))"
   ]
  },
  {
   "cell_type": "code",
   "execution_count": 75,
   "metadata": {
    "colab": {
     "base_uri": "https://localhost:8080/",
     "height": 0
    },
    "colab_type": "code",
    "executionInfo": {
     "elapsed": 856534,
     "status": "ok",
     "timestamp": 1583752461064,
     "user": {
      "displayName": "Hemanth Reddy",
      "photoUrl": "",
      "userId": "16713424825086946671"
     },
     "user_tz": -330
    },
    "id": "KWc1tfqKT_H9",
    "outputId": "fd37828e-1cdd-4237-fa55-df40d4c0673f"
   },
   "outputs": [
    {
     "name": "stderr",
     "output_type": "stream",
     "text": [
      "100%|██████████| 16500/16500 [00:59<00:00, 290.02it/s]"
     ]
    },
    {
     "name": "stdout",
     "output_type": "stream",
     "text": [
      "16500\n",
      "300\n"
     ]
    },
    {
     "name": "stderr",
     "output_type": "stream",
     "text": [
      "\n"
     ]
    }
   ],
   "source": [
    "# average Word2Vec\n",
    "# compute average word2vec for each review.\n",
    "X_test_tfidf_w2v_vectors = []; # the avg-w2v for each sentence/review is stored in this list\n",
    "for sentence in tqdm(X_test['essay']): # for each review/sentence\n",
    "    vector = np.zeros(300) # as word vectors are of zero length\n",
    "    tf_idf_weight =0; # num of words with a valid vector in the sentence/review\n",
    "    for word in sentence.split(): # for each word in a review/sentence\n",
    "        if (word in glove_words) and (word in tfidf_words):\n",
    "            vec = model[word] # getting the vector for each word\n",
    "            # here we are multiplying idf value(dictionary[word]) and the tf value((sentence.count(word)/len(sentence.split())))\n",
    "            tf_idf = dictionary[word]*(sentence.count(word)/len(sentence.split())) # getting the tfidf value for each word\n",
    "            vector += (vec * tf_idf) # calculating tfidf weighted w2v\n",
    "            tf_idf_weight += tf_idf\n",
    "    if tf_idf_weight != 0:\n",
    "        vector /= tf_idf_weight\n",
    "    X_test_tfidf_w2v_vectors.append(vector)\n",
    "\n",
    "print(len(X_test_tfidf_w2v_vectors))\n",
    "print(len(X_test_tfidf_w2v_vectors[0]))"
   ]
  },
  {
   "cell_type": "markdown",
   "metadata": {
    "colab_type": "text",
    "id": "1NI-cbEwWWf6"
   },
   "source": [
    "####  Using Pretrained Models: TFIDF weighted W2V"
   ]
  },
  {
   "cell_type": "code",
   "execution_count": 0,
   "metadata": {
    "colab": {},
    "colab_type": "code",
    "id": "F_eEkvSVVVYy"
   },
   "outputs": [],
   "source": [
    "# S = [\"abc def pqr\", \"def def def abc\", \"pqr pqr def\"]\n",
    "tfidf_model = TfidfVectorizer()\n",
    "tfidf_model.fit(X_train['project_title'])\n",
    "# we are converting a dictionary with word as a key, and the idf as a value\n",
    "dictionary = dict(zip(tfidf_model.get_feature_names(), list(tfidf_model.idf_)))\n",
    "tfidf_words = set(tfidf_model.get_feature_names())"
   ]
  },
  {
   "cell_type": "code",
   "execution_count": 77,
   "metadata": {
    "colab": {
     "base_uri": "https://localhost:8080/",
     "height": 0
    },
    "colab_type": "code",
    "executionInfo": {
     "elapsed": 857753,
     "status": "ok",
     "timestamp": 1583752462291,
     "user": {
      "displayName": "Hemanth Reddy",
      "photoUrl": "",
      "userId": "16713424825086946671"
     },
     "user_tz": -330
    },
    "id": "yYM18rSWVVGK",
    "outputId": "95a5cb64-d346-42ab-f1ec-0b27d018f946"
   },
   "outputs": [
    {
     "name": "stderr",
     "output_type": "stream",
     "text": [
      "100%|██████████| 22445/22445 [00:00<00:00, 23561.41it/s]"
     ]
    },
    {
     "name": "stdout",
     "output_type": "stream",
     "text": [
      "22445\n",
      "300\n"
     ]
    },
    {
     "name": "stderr",
     "output_type": "stream",
     "text": [
      "\n"
     ]
    }
   ],
   "source": [
    "# average Word2Vec\n",
    "# compute average word2vec for each review.\n",
    "X_train_tfidf_w2v_title = []; # the avg-w2v for each sentence/review is stored in this list\n",
    "for sentence in tqdm(X_train['project_title']): # for each review/sentence\n",
    "    vector = np.zeros(300) # as word vectors are of zero length\n",
    "    tf_idf_weight =0; # num of words with a valid vector in the sentence/review\n",
    "    for word in sentence.split(): # for each word in a review/sentence\n",
    "        if (word in glove_words) and (word in tfidf_words):\n",
    "            vec = model[word] # getting the vector for each word\n",
    "            # here we are multiplying idf value(dictionary[word]) and the tf value((sentence.count(word)/len(sentence.split())))\n",
    "            tf_idf = dictionary[word]*(sentence.count(word)/len(sentence.split())) # getting the tfidf value for each word\n",
    "            vector += (vec * tf_idf) # calculating tfidf weighted w2v\n",
    "            tf_idf_weight += tf_idf\n",
    "    if tf_idf_weight != 0:\n",
    "        vector /= tf_idf_weight\n",
    "    X_train_tfidf_w2v_title.append(vector)\n",
    "\n",
    "print(len(X_train_tfidf_w2v_title))\n",
    "print(len(X_train_tfidf_w2v_title[0]))"
   ]
  },
  {
   "cell_type": "code",
   "execution_count": 78,
   "metadata": {
    "colab": {
     "base_uri": "https://localhost:8080/",
     "height": 0
    },
    "colab_type": "code",
    "executionInfo": {
     "elapsed": 858227,
     "status": "ok",
     "timestamp": 1583752462769,
     "user": {
      "displayName": "Hemanth Reddy",
      "photoUrl": "",
      "userId": "16713424825086946671"
     },
     "user_tz": -330
    },
    "id": "YMnpl8QJWh9N",
    "outputId": "db1e6922-5516-4ce2-9fdf-ccbff5b2b840"
   },
   "outputs": [
    {
     "name": "stderr",
     "output_type": "stream",
     "text": [
      "100%|██████████| 11055/11055 [00:00<00:00, 23568.06it/s]"
     ]
    },
    {
     "name": "stdout",
     "output_type": "stream",
     "text": [
      "11055\n",
      "300\n"
     ]
    },
    {
     "name": "stderr",
     "output_type": "stream",
     "text": [
      "\n"
     ]
    }
   ],
   "source": [
    "# average Word2Vec\n",
    "# compute average word2vec for each review.\n",
    "X_cv_tfidf_w2v_title = []; # the avg-w2v for each sentence/review is stored in this list\n",
    "for sentence in tqdm(X_cv['project_title']): # for each review/sentence\n",
    "    vector = np.zeros(300) # as word vectors are of zero length\n",
    "    tf_idf_weight =0; # num of words with a valid vector in the sentence/review\n",
    "    for word in sentence.split(): # for each word in a review/sentence\n",
    "        if (word in glove_words) and (word in tfidf_words):\n",
    "            vec = model[word] # getting the vector for each word\n",
    "            # here we are multiplying idf value(dictionary[word]) and the tf value((sentence.count(word)/len(sentence.split())))\n",
    "            tf_idf = dictionary[word]*(sentence.count(word)/len(sentence.split())) # getting the tfidf value for each word\n",
    "            vector += (vec * tf_idf) # calculating tfidf weighted w2v\n",
    "            tf_idf_weight += tf_idf\n",
    "    if tf_idf_weight != 0:\n",
    "        vector /= tf_idf_weight\n",
    "    X_cv_tfidf_w2v_title.append(vector)\n",
    "\n",
    "print(len(X_cv_tfidf_w2v_title))\n",
    "print(len(X_cv_tfidf_w2v_title[0]))"
   ]
  },
  {
   "cell_type": "code",
   "execution_count": 79,
   "metadata": {
    "colab": {
     "base_uri": "https://localhost:8080/",
     "height": 0
    },
    "colab_type": "code",
    "executionInfo": {
     "elapsed": 858932,
     "status": "ok",
     "timestamp": 1583752463479,
     "user": {
      "displayName": "Hemanth Reddy",
      "photoUrl": "",
      "userId": "16713424825086946671"
     },
     "user_tz": -330
    },
    "id": "BcZ4eEjMWhx_",
    "outputId": "89f6f4d4-0cbe-4de9-9f73-c46bae4ebb15"
   },
   "outputs": [
    {
     "name": "stderr",
     "output_type": "stream",
     "text": [
      "100%|██████████| 16500/16500 [00:00<00:00, 24263.16it/s]"
     ]
    },
    {
     "name": "stdout",
     "output_type": "stream",
     "text": [
      "16500\n",
      "300\n"
     ]
    },
    {
     "name": "stderr",
     "output_type": "stream",
     "text": [
      "\n"
     ]
    }
   ],
   "source": [
    "# average Word2Vec\n",
    "# compute average word2vec for each review.\n",
    "X_test_tfidf_w2v_title = []; # the avg-w2v for each sentence/review is stored in this list\n",
    "for sentence in tqdm(X_test['project_title']): # for each review/sentence\n",
    "    vector = np.zeros(300) # as word vectors are of zero length\n",
    "    tf_idf_weight =0; # num of words with a valid vector in the sentence/review\n",
    "    for word in str(sentence).split(): # for each word in a review/sentence\n",
    "        if (word in glove_words) and (word in tfidf_words):\n",
    "            vec = model[word] # getting the vector for each word\n",
    "            # here we are multiplying idf value(dictionary[word]) and the tf value((sentence.count(word)/len(sentence.split())))\n",
    "            tf_idf = dictionary[word]*(sentence.count(word)/len(sentence.split())) # getting the tfidf value for each word\n",
    "            vector += (vec * tf_idf) # calculating tfidf weighted w2v\n",
    "            tf_idf_weight += tf_idf\n",
    "    if tf_idf_weight != 0:\n",
    "        vector /= tf_idf_weight\n",
    "    X_test_tfidf_w2v_title.append(vector)\n",
    "\n",
    "print(len(X_test_tfidf_w2v_title))\n",
    "print(len(X_test_tfidf_w2v_title[0]))"
   ]
  },
  {
   "cell_type": "markdown",
   "metadata": {
    "colab_type": "text",
    "id": "n91j0KJGhgY6"
   },
   "source": [
    "### 1.5.3 Vectorizing Numerical features"
   ]
  },
  {
   "cell_type": "code",
   "execution_count": 80,
   "metadata": {
    "colab": {
     "base_uri": "https://localhost:8080/",
     "height": 0
    },
    "colab_type": "code",
    "executionInfo": {
     "elapsed": 858929,
     "status": "ok",
     "timestamp": 1583752463481,
     "user": {
      "displayName": "Hemanth Reddy",
      "photoUrl": "",
      "userId": "16713424825086946671"
     },
     "user_tz": -330
    },
    "id": "Y5QKjsC6XKhl",
    "outputId": "b126d62d-8696-431b-8661-36ada9ea396c"
   },
   "outputs": [
    {
     "name": "stdout",
     "output_type": "stream",
     "text": [
      "After vectorizations\n",
      "(22445, 1) (22445,)\n",
      "(11055, 1) (11055,)\n",
      "(16500, 1) (16500,)\n"
     ]
    }
   ],
   "source": [
    "# check this one: https://www.youtube.com/watch?v=0HOqOcln3Z4&t=530s\n",
    "# the cost feature is already in numerical values,  we are going to represent the money, as numerical values within the range 0-1\n",
    "# normalization sklearn: https://scikit-learn.org/stable/modules/generated/sklearn.preprocessing.normalize.html\n",
    "from sklearn.preprocessing import Normalizer\n",
    "# price_normalized = normalize(project_data['price'].values)\n",
    "# this will rise the error\n",
    "# ValueError: Expected 2D array, got 1D array instead: array=[725.05 213.03 329.   ... 399.   287.73   5.5 ].\n",
    "# Reshape your data either using array.reshape(-1, 1) or array.reshape(1, -1)\n",
    "\n",
    "normalizer = Normalizer()\n",
    "normalizer.fit(X_train['price'].values.reshape(-1,1))\n",
    "\n",
    "X_train_price_norm = normalizer.transform(X_train['price'].values.reshape(1,-1))\n",
    "X_cv_price_norm = normalizer.transform(X_cv['price'].values.reshape(1,-1))\n",
    "X_test_price_norm = normalizer.transform(X_test['price'].values.reshape(1,-1))\n",
    "\n",
    "X_train_price_norm = X_train_price_norm.reshape(-1,1)\n",
    "X_cv_price_norm = X_cv_price_norm.reshape(-1,1)\n",
    "X_test_price_norm = X_test_price_norm.reshape(-1,1)\n",
    "\n",
    "print(\"After vectorizations\")\n",
    "print(X_train_price_norm.shape, y_train.shape)\n",
    "print(X_cv_price_norm.shape, y_cv.shape)\n",
    "print(X_test_price_norm.shape, y_test.shape)\n"
   ]
  },
  {
   "cell_type": "code",
   "execution_count": 81,
   "metadata": {
    "colab": {
     "base_uri": "https://localhost:8080/",
     "height": 0
    },
    "colab_type": "code",
    "executionInfo": {
     "elapsed": 858927,
     "status": "ok",
     "timestamp": 1583752463483,
     "user": {
      "displayName": "Hemanth Reddy",
      "photoUrl": "",
      "userId": "16713424825086946671"
     },
     "user_tz": -330
    },
    "id": "NL7h9Ky8X7xM",
    "outputId": "c9b1ec17-8dfd-415e-a740-3a8f315b17a1"
   },
   "outputs": [
    {
     "name": "stdout",
     "output_type": "stream",
     "text": [
      "After vectorizations\n",
      "(22445, 1) (22445,)\n",
      "(11055, 1) (11055,)\n",
      "(16500, 1) (16500,)\n"
     ]
    }
   ],
   "source": [
    "from sklearn.preprocessing import Normalizer\n",
    "normalizer = Normalizer()\n",
    "normalizer.fit(X_train['teacher_number_of_previously_posted_projects'].values.reshape(-1,1))\n",
    "\n",
    "X_train_teacher_number_of_previously_posted_projects_norm = normalizer.transform(X_train['teacher_number_of_previously_posted_projects'].values.reshape(1,-1))\n",
    "X_cv_teacher_number_of_previously_posted_projects_norm = normalizer.transform(X_cv['teacher_number_of_previously_posted_projects'].values.reshape(1,-1))\n",
    "X_test_teacher_number_of_previously_posted_projects_norm = normalizer.transform(X_test['teacher_number_of_previously_posted_projects'].values.reshape(1,-1))\n",
    "\n",
    "X_train_teacher_number_of_previously_posted_projects_norm = X_train_teacher_number_of_previously_posted_projects_norm.reshape(-1,1)\n",
    "X_cv_teacher_number_of_previously_posted_projects_norm = X_cv_teacher_number_of_previously_posted_projects_norm.reshape(-1,1)\n",
    "X_test_teacher_number_of_previously_posted_projects_norm = X_test_teacher_number_of_previously_posted_projects_norm.reshape(-1,1)\n",
    "\n",
    "print(\"After vectorizations\")\n",
    "print(X_train_teacher_number_of_previously_posted_projects_norm.shape, y_train.shape)\n",
    "print(X_cv_teacher_number_of_previously_posted_projects_norm.shape, y_cv.shape)\n",
    "print(X_test_teacher_number_of_previously_posted_projects_norm.shape, y_test.shape)\n"
   ]
  },
  {
   "cell_type": "markdown",
   "metadata": {
    "colab_type": "text",
    "id": "MvI7sl1thgZQ"
   },
   "source": [
    "### 1.5.4 Merging all the above features"
   ]
  },
  {
   "cell_type": "markdown",
   "metadata": {
    "colab_type": "text",
    "id": "Gi3XXvCUhgZR"
   },
   "source": [
    "- we need to merge all the numerical vectors i.e catogorical, text, numerical vectors"
   ]
  },
  {
   "cell_type": "code",
   "execution_count": 82,
   "metadata": {
    "colab": {
     "base_uri": "https://localhost:8080/",
     "height": 102
    },
    "colab_type": "code",
    "executionInfo": {
     "elapsed": 859257,
     "status": "ok",
     "timestamp": 1583752463824,
     "user": {
      "displayName": "Hemanth Reddy",
      "photoUrl": "",
      "userId": "16713424825086946671"
     },
     "user_tz": -330
    },
    "id": "_qFEk-wmET1m",
    "outputId": "a63f5841-0a2c-4f78-91d7-8267ad87d1d4"
   },
   "outputs": [
    {
     "name": "stdout",
     "output_type": "stream",
     "text": [
      "Final Data matrix\n",
      "(22445, 10532) (22445,)\n",
      "(11055, 10532) (11055,)\n",
      "(16500, 10532) (16500,)\n",
      "====================================================================================================\n"
     ]
    }
   ],
   "source": [
    "# merge two sparse matrices: https://stackoverflow.com/a/19710648/4084039\n",
    "from scipy.sparse import hstack\n",
    "X_tr = hstack((X_train_state_ohe,X_train_teacher_one_hot,X_train_grade_ohe,X_train_subcat_ohe,X_train_cat_ohe,X_train_price_norm,X_train_teacher_number_of_previously_posted_projects_norm,X_train_essay_bow,X_train_title_bow)).tocsr()\n",
    "X_cr = hstack((X_cv_state_ohe,X_cv_teacher_one_hot,X_cv_grade_ohe,X_cv_subcat_ohe,X_cv_cat_ohe,X_cv_price_norm,X_cv_teacher_number_of_previously_posted_projects_norm,X_cv_essay_bow,X_cv_title_bow)).tocsr()\n",
    "X_te = hstack((X_test_state_ohe,X_test_teacher_one_hot,X_test_grade_ohe,X_test_subcat_ohe,X_test_cat_ohe,X_test_price_norm,X_test_teacher_number_of_previously_posted_projects_norm,X_test_essay_bow,X_test_title_bow)).tocsr()\n",
    "print(\"Final Data matrix\")\n",
    "print(X_tr.shape, y_train.shape)\n",
    "print(X_cr.shape, y_cv.shape)\n",
    "print(X_te.shape, y_test.shape)\n",
    "print(\"=\"*100)"
   ]
  },
  {
   "cell_type": "markdown",
   "metadata": {
    "colab_type": "text",
    "id": "PRXeNpIUhgZa"
   },
   "source": [
    "# Assignment 3: Apply KNN\n",
    "\n",
    "1.   List item\n",
    "2.   List item\n",
    "\n"
   ]
  },
  {
   "cell_type": "markdown",
   "metadata": {
    "colab_type": "text",
    "id": "N9hukwIMhgZb"
   },
   "source": [
    "<ol>\n",
    "    <li><strong>[Task-1] Apply KNN(brute force version) on these feature sets</strong>\n",
    "        <ul>\n",
    "            <li><font color='red'>Set 1</font>: categorical, numerical features + project_title(BOW) + preprocessed_essay (BOW)</li>\n",
    "            <li><font color='red'>Set 2</font>: categorical, numerical features + project_title(TFIDF)+  preprocessed_essay (TFIDF)</li>\n",
    "            <li><font color='red'>Set 3</font>: categorical, numerical features + project_title(AVG W2V)+  preprocessed_essay (AVG W2V)</li>\n",
    "            <li><font color='red'>Set 4</font>: categorical, numerical features + project_title(TFIDF W2V)+  preprocessed_essay (TFIDF W2V)</li>\n",
    "        </ul>\n",
    "    </li>\n",
    "    <br>\n",
    "    <li><strong>Hyper paramter tuning to find best K</strong>\n",
    "        <ul>\n",
    "    <li>Find the best hyper parameter which results in the maximum <a href='https://www.appliedaicourse.com/course/applied-ai-course-online/lessons/receiver-operating-characteristic-curve-roc-curve-and-auc-1/'>AUC</a> value</li>\n",
    "    <li>Find the best hyper paramter using k-fold cross validation (or) simple cross validation data</li>\n",
    "    <li>Use gridsearch-cv or randomsearch-cv or  write your own for loops to do this task</li>\n",
    "        </ul>\n",
    "    </li>\n",
    "    <br>\n",
    "    <li>\n",
    "    <strong>Representation of results</strong>\n",
    "        <ul>\n",
    "    <li>You need to plot the performance of model both on train data and cross validation data for each hyper parameter, as shown in the figure\n",
    "    <img src='train_cv_auc.JPG' width=300px></li>\n",
    "    <li>Once you find the best hyper parameter, you need to train your model-M using the best hyper-param. Now, find the AUC on test data and plot the ROC curve on both train and test using model-M.\n",
    "    <img src='train_test_auc.JPG' width=300px></li>\n",
    "    <li>Along with plotting ROC curve, you need to print the <a href='https://www.appliedaicourse.com/course/applied-ai-course-online/lessons/confusion-matrix-tpr-fpr-fnr-tnr-1/'>confusion matrix</a> with predicted and original labels of test data points\n",
    "    <img src='confusion_matrix.png' width=300px></li>\n",
    "        </ul>\n",
    "    </li>\n",
    "    <li><strong> [Task-2] </strong>\n",
    "        <ul>\n",
    "            <li>Select top 2000 features from feature <font color='red'>Set 2</font> using <a href='https://scikit-learn.org/stable/modules/generated/sklearn.feature_selection.SelectKBest.html'>`SelectKBest`</a>\n",
    "and then apply KNN on top of these features</li>\n",
    "            <li>\n",
    "                <pre>\n",
    "                from sklearn.datasets import load_digits\n",
    "                from sklearn.feature_selection import SelectKBest, chi2\n",
    "                X, y = load_digits(return_X_y=True)\n",
    "                X.shape\n",
    "                X_new = SelectKBest(chi2, k=20).fit_transform(X, y)\n",
    "                X_new.shape\n",
    "                ========\n",
    "                output:\n",
    "                (1797, 64)\n",
    "                (1797, 20)\n",
    "                </pre>\n",
    "            </li>\n",
    "            <li>Repeat the steps 2 and 3 on the data matrix after feature selection</li>\n",
    "        </ul>\n",
    "    </li>\n",
    "    <br>\n",
    "    <li><strong>Conclusion</strong>\n",
    "        <ul>\n",
    "    <li>You need to summarize the results at the end of the notebook, summarize it in the table format. To print out a table please refer to this prettytable library<a href='http://zetcode.com/python/prettytable/'> link</a> \n",
    "        <img src='summary.JPG' width=400px>\n",
    "    </li>\n",
    "        </ul>\n",
    "</ol>"
   ]
  },
  {
   "cell_type": "markdown",
   "metadata": {
    "colab_type": "text",
    "id": "lDLSkT1uhgZc"
   },
   "source": [
    "<h4><font color='red'>Note: Data Leakage</font></h4>\n",
    "\n",
    "1. There will be an issue of data-leakage if you vectorize the entire data and then split it into train/cv/test.\n",
    "2. To avoid the issue of data-leakag, make sure to split your data first and then vectorize it. \n",
    "3. While vectorizing your data, apply the method fit_transform() on you train data, and apply the method transform() on cv/test data.\n",
    "4. For more details please go through this <a href='https://soundcloud.com/applied-ai-course/leakage-bow-and-tfidf'>link.</a>"
   ]
  },
  {
   "cell_type": "markdown",
   "metadata": {
    "colab_type": "text",
    "id": "HUleNw9shgZe"
   },
   "source": [
    "<h1>2. K Nearest Neighbor</h1>"
   ]
  },
  {
   "cell_type": "markdown",
   "metadata": {
    "colab_type": "text",
    "id": "3rAagyhHhgZ6"
   },
   "source": [
    "### 2.4.1 Applying KNN brute force on BOW,<font color='red'> SET 1</font>"
   ]
  },
  {
   "cell_type": "code",
   "execution_count": 0,
   "metadata": {
    "colab": {},
    "colab_type": "code",
    "id": "e53fnTEghgZ7"
   },
   "outputs": [],
   "source": [
    "# Please write all the code with proper documentation\n",
    "# Dividing the training into batches\n",
    "def batch_predict(clf, data):\n",
    "    # roc_auc_score(y_true, y_score) the 2nd parameter should be probability estimates of the positive class\n",
    "    # not the predicted outputs\n",
    "\n",
    "    y_data_pred = []\n",
    "    tr_loop = data.shape[0] - data.shape[0]%1000\n",
    "    # consider you X_tr shape is 49041, then your tr_loop will be 49041 - 49041%1000 = 49000\n",
    "    # in this for loop we will iterate unti the last 1000 multiplier\n",
    "    for i in range(0, tr_loop, 1000):\n",
    "        y_data_pred.extend(clf.predict_proba(data[i:i+1000])[:,1])\n",
    "    # we will be predicting for the last data points\n",
    "    if data.shape[0]%1000 !=0:\n",
    "        y_data_pred.extend(clf.predict_proba(data[tr_loop:])[:,1])\n",
    "    \n",
    "    return y_data_pred\n",
    "    "
   ]
  },
  {
   "cell_type": "code",
   "execution_count": 84,
   "metadata": {
    "colab": {
     "base_uri": "https://localhost:8080/",
     "height": 312
    },
    "colab_type": "code",
    "executionInfo": {
     "elapsed": 1215180,
     "status": "ok",
     "timestamp": 1583752819778,
     "user": {
      "displayName": "Hemanth Reddy",
      "photoUrl": "",
      "userId": "16713424825086946671"
     },
     "user_tz": -330
    },
    "id": "1Z0_y6wr9HyE",
    "outputId": "35df8dbb-e2e4-4c52-a593-2e369905f1d5"
   },
   "outputs": [
    {
     "name": "stderr",
     "output_type": "stream",
     "text": [
      "100%|██████████| 5/5 [05:55<00:00, 71.16s/it]\n"
     ]
    },
    {
     "data": {
      "image/png": "[encoded data removed]",
      "text/plain": [
       "<Figure size 432x288 with 1 Axes>"
      ]
     },
     "metadata": {
      "tags": []
     },
     "output_type": "display_data"
    }
   ],
   "source": [
    "import matplotlib.pyplot as plt\n",
    "from sklearn.neighbors import KNeighborsClassifier\n",
    "from sklearn.metrics import roc_auc_score\n",
    "\"\"\"\n",
    "y_true : array, shape = [n_samples] or [n_samples, n_classes]\n",
    "True binary labels or binary label indicators.\n",
    "\n",
    "y_score : array, shape = [n_samples] or [n_samples, n_classes]\n",
    "Target scores, can either be probability estimates of the positive class, confidence values, or non-thresholded measure of\n",
    "decisions (as returned by “decision_function” on some classifiers). \n",
    "For binary y_true, y_score is supposed to be the score of the class with greater label.\n",
    "\n",
    "\"\"\"\n",
    "\n",
    "train_auc = []\n",
    "cv_auc = []\n",
    "K = [7, 21, 45, 77, 101]\n",
    "for i in tqdm(K):\n",
    "    neigh = KNeighborsClassifier(n_neighbors=i, algorithm='brute', n_jobs=-1)\n",
    "    neigh.fit(X_tr, y_train)\n",
    "\n",
    "    y_train_pred = batch_predict(neigh, X_tr)    \n",
    "    y_cv_pred = batch_predict(neigh, X_cr)\n",
    "\n",
    "    # roc_auc_score(y_true, y_score) the 2nd parameter should be probability estimates of the positive class\n",
    "    # not the predicted outputs        \n",
    "    train_auc.append(roc_auc_score(y_train,y_train_pred))\n",
    "    cv_auc.append(roc_auc_score(y_cv, y_cv_pred))\n",
    "\n",
    "plt.plot(K, train_auc, label='Train AUC')\n",
    "plt.plot(K, cv_auc, label='CV AUC')\n",
    "\n",
    "plt.scatter(K, train_auc, label='Train AUC points')\n",
    "plt.scatter(K, cv_auc, label='CV AUC points')\n",
    "\n",
    "plt.legend()\n",
    "plt.xlabel(\"K: hyperparameter\")\n",
    "plt.ylabel(\"AUC\")\n",
    "plt.title(\"ERROR PLOTS\")\n",
    "plt.grid()\n",
    "plt.show()"
   ]
  },
  {
   "cell_type": "markdown",
   "metadata": {
    "colab_type": "text",
    "id": "DvyRarhAPSxq"
   },
   "source": [
    "#### 1.5.1.2 Testing the performance of the model on test data, plotting ROC Curves"
   ]
  },
  {
   "cell_type": "code",
   "execution_count": 0,
   "metadata": {
    "colab": {},
    "colab_type": "code",
    "id": "junRbHEhJsb1"
   },
   "outputs": [],
   "source": [
    "# from the error plot we choose K such that, we will have maximum AUC on cv data and gap between the train and cv is less\n",
    "# Note: based on the method you use you might get different hyperparameter values as best one\n",
    "# so, you choose according to the method you choose, you use gridsearch if you are having more computing power and note it will take more time\n",
    "# if you increase the cv values in the GridSearchCV you will get more rebust results.\n",
    "\n",
    "#here we are choosing the best_k based on forloop results\n",
    "best_k =77"
   ]
  },
  {
   "cell_type": "code",
   "execution_count": 86,
   "metadata": {
    "colab": {
     "base_uri": "https://localhost:8080/",
     "height": 295
    },
    "colab_type": "code",
    "executionInfo": {
     "elapsed": 1297625,
     "status": "ok",
     "timestamp": 1583752902277,
     "user": {
      "displayName": "Hemanth Reddy",
      "photoUrl": "",
      "userId": "16713424825086946671"
     },
     "user_tz": -330
    },
    "id": "5W1e2jogJz_0",
    "outputId": "63e443b3-0386-4f97-962c-46012c8325fd"
   },
   "outputs": [
    {
     "data": {
      "image/png": "[encoded data removed]",
      "text/plain": [
       "<Figure size 432x288 with 1 Axes>"
      ]
     },
     "metadata": {
      "tags": []
     },
     "output_type": "display_data"
    }
   ],
   "source": [
    "# https://scikit-learn.org/stable/modules/generated/sklearn.metrics.roc_curve.html#sklearn.metrics.roc_curve\n",
    "from sklearn.metrics import roc_curve, auc\n",
    "\n",
    "\n",
    "neigh = KNeighborsClassifier(n_neighbors=best_k, n_jobs=-1)\n",
    "neigh.fit(X_tr, y_train)\n",
    "# roc_auc_score(y_true, y_score) the 2nd parameter should be probability estimates of the positive class\n",
    "# not the predicted outputs\n",
    "\n",
    "y_train_pred = batch_predict(neigh, X_tr)    \n",
    "y_test_pred = batch_predict(neigh, X_te)\n",
    "\n",
    "train_fpr, train_tpr, tr_thresholds = roc_curve(y_train, y_train_pred)\n",
    "test_fpr, test_tpr, te_thresholds = roc_curve(y_test, y_test_pred)\n",
    "\n",
    "plt.plot(train_fpr, train_tpr, label=\"train AUC =\"+str(auc(train_fpr, train_tpr)))\n",
    "plt.plot(test_fpr, test_tpr, label=\"test AUC =\"+str(auc(test_fpr, test_tpr)))\n",
    "plt.legend()\n",
    "plt.xlabel(\"FPR\")\n",
    "plt.ylabel(\"TPR\")\n",
    "plt.title(\"AUC\")\n",
    "plt.grid()\n",
    "plt.show()"
   ]
  },
  {
   "cell_type": "code",
   "execution_count": 0,
   "metadata": {
    "colab": {},
    "colab_type": "code",
    "id": "6Gwt6WY1WuAE"
   },
   "outputs": [],
   "source": [
    "# subplot seaborn : https://stackoverflow.com/a/41384984/8363466\n",
    "#confusion matrix heat map : https://seaborn.pydata.org/generated/seaborn.heatmap.html\n",
    "#plot confusion matrix of test and train\n",
    "def plotheatMap(confusion_matrix_train, confusion_matrix_test):\n",
    "    fig, (ax1, ax2) = plt.subplots(1,2)\n",
    "    fig.set_figheight(5)\n",
    "    fig.set_figwidth(15)\n",
    "    \n",
    "    confusion_train_bow = pd.DataFrame(confusion_matrix_train)\n",
    "    sns.heatmap(confusion_train_bow, annot=True, fmt='d', ax=ax1)\n",
    "    ax1.set_title(\"Train Confusion matrix\")\n",
    "    ax1.set(xlabel='Actual', ylabel='Predicted')\n",
    "    \n",
    "    confusion_test_bow = pd.DataFrame(confusion_matrix_test)\n",
    "    sns.heatmap(confusion_test_bow, annot=True, fmt='d', ax=ax2)\n",
    "    ax2.set_title(\"Test Confusion matrix\")\n",
    "    ax2.set(xlabel='Actual', ylabel='Predicted')"
   ]
  },
  {
   "cell_type": "code",
   "execution_count": 0,
   "metadata": {
    "colab": {},
    "colab_type": "code",
    "id": "0RxzP05zLWGe"
   },
   "outputs": [],
   "source": [
    "# we are writing our own function for predict, with defined thresould\n",
    "# we will pick a threshold that will give the least fpr\n",
    "def find_best_threshold(threshould, fpr, tpr):\n",
    "    t = threshould[np.argmax(tpr*(1-fpr))]\n",
    "    # (tpr*(1-fpr)) will be maximum if your fpr is very low and tpr is very high\n",
    "    print(\"the maximum value of tpr*(1-fpr)\", max(tpr*(1-fpr)), \"for threshold\", np.round(t,3))\n",
    "    return t\n",
    "\n",
    "def predict_with_best_t(proba, threshould):\n",
    "    predictions = []\n",
    "    for i in proba:\n",
    "        if i>=threshould:\n",
    "            predictions.append(1)\n",
    "        else:\n",
    "            predictions.append(0)\n",
    "    return predictions"
   ]
  },
  {
   "cell_type": "code",
   "execution_count": 89,
   "metadata": {
    "colab": {
     "base_uri": "https://localhost:8080/",
     "height": 153
    },
    "colab_type": "code",
    "executionInfo": {
     "elapsed": 1297556,
     "status": "ok",
     "timestamp": 1583752902282,
     "user": {
      "displayName": "Hemanth Reddy",
      "photoUrl": "",
      "userId": "16713424825086946671"
     },
     "user_tz": -330
    },
    "id": "0WvZ4KeALcdI",
    "outputId": "ded8a49b-df12-41b4-e233-735949ebfc74"
   },
   "outputs": [
    {
     "name": "stdout",
     "output_type": "stream",
     "text": [
      "====================================================================================================\n",
      "the maximum value of tpr*(1-fpr) 0.3676982857112258 for threshold 0.831\n",
      "Train confusion matrix\n",
      "[[ 2212  1251]\n",
      " [ 8055 10927]]\n",
      "Test confusion matrix\n",
      "[[1462 1084]\n",
      " [6201 7753]]\n"
     ]
    }
   ],
   "source": [
    "import seaborn as sn\n",
    "print(\"=\"*100)\n",
    "from sklearn.metrics import confusion_matrix\n",
    "best_t = find_best_threshold(tr_thresholds, train_fpr, train_tpr)\n",
    "print(\"Train confusion matrix\")\n",
    "print(confusion_matrix(y_train, predict_with_best_t(y_train_pred, best_t)))\n",
    "print(\"Test confusion matrix\")\n",
    "print(confusion_matrix(y_test, predict_with_best_t(y_test_pred, best_t)))"
   ]
  },
  {
   "cell_type": "code",
   "execution_count": 90,
   "metadata": {
    "colab": {
     "base_uri": "https://localhost:8080/",
     "height": 350
    },
    "colab_type": "code",
    "executionInfo": {
     "elapsed": 1298055,
     "status": "ok",
     "timestamp": 1583752902813,
     "user": {
      "displayName": "Hemanth Reddy",
      "photoUrl": "",
      "userId": "16713424825086946671"
     },
     "user_tz": -330
    },
    "id": "ta1owyqmXWar",
    "outputId": "653bcddd-9b16-4de8-e004-8964238ea0b9"
   },
   "outputs": [
    {
     "data": {
      "image/png": "[encoded data removed]",
      "text/plain": [
       "<Figure size 1080x360 with 4 Axes>"
      ]
     },
     "metadata": {
      "tags": []
     },
     "output_type": "display_data"
    }
   ],
   "source": [
    "plotheatMap((confusion_matrix(y_train, predict_with_best_t(y_train_pred, best_t))),(confusion_matrix(y_test, predict_with_best_t(y_test_pred, best_t))))"
   ]
  },
  {
   "cell_type": "markdown",
   "metadata": {
    "colab_type": "text",
    "id": "VYFVMw1ghgaC"
   },
   "source": [
    "### 2.4.2 Applying KNN brute force on TFIDF,<font color='red'> SET 2</font>"
   ]
  },
  {
   "cell_type": "code",
   "execution_count": 91,
   "metadata": {
    "colab": {
     "base_uri": "https://localhost:8080/",
     "height": 102
    },
    "colab_type": "code",
    "executionInfo": {
     "elapsed": 1140,
     "status": "ok",
     "timestamp": 1583752915763,
     "user": {
      "displayName": "Hemanth Reddy",
      "photoUrl": "",
      "userId": "16713424825086946671"
     },
     "user_tz": -330
    },
    "id": "yC_2uLjAPZRj",
    "outputId": "09981ea1-1306-4f92-dc9c-669ad192f971"
   },
   "outputs": [
    {
     "name": "stdout",
     "output_type": "stream",
     "text": [
      "Final Data matrix\n",
      "(22445, 10532) (22445,)\n",
      "(11055, 10532) (11055,)\n",
      "(16500, 10532) (16500,)\n",
      "====================================================================================================\n"
     ]
    }
   ],
   "source": [
    "# Please write all the code with proper documentation\n",
    "# merge two sparse matrices: https://stackoverflow.com/a/19710648/4084039\n",
    "from scipy.sparse import hstack\n",
    "X_tr = hstack((X_train_state_ohe,X_train_teacher_one_hot,X_train_grade_ohe,X_train_subcat_ohe,X_train_cat_ohe,X_train_price_norm,X_train_teacher_number_of_previously_posted_projects_norm,X_train_essay_tfidf,X_train_title_tfidf)).tocsr()\n",
    "X_cr = hstack((X_cv_state_ohe,X_cv_teacher_one_hot,X_cv_grade_ohe,X_cv_subcat_ohe,X_cv_cat_ohe,X_cv_price_norm,X_cv_teacher_number_of_previously_posted_projects_norm,X_cv_essay_tfidf,X_cv_title_tfidf)).tocsr()\n",
    "X_te = hstack((X_test_state_ohe,X_test_teacher_one_hot,X_test_grade_ohe,X_test_subcat_ohe,X_test_cat_ohe,X_test_price_norm,X_test_teacher_number_of_previously_posted_projects_norm,X_test_essay_tfidf,X_test_title_tfidf)).tocsr()\n",
    "print(\"Final Data matrix\")\n",
    "print(X_tr.shape, y_train.shape)\n",
    "print(X_cr.shape, y_cv.shape)\n",
    "print(X_te.shape, y_test.shape)\n",
    "print(\"=\"*100)"
   ]
  },
  {
   "cell_type": "code",
   "execution_count": 92,
   "metadata": {
    "colab": {
     "base_uri": "https://localhost:8080/",
     "height": 312
    },
    "colab_type": "code",
    "executionInfo": {
     "elapsed": 344373,
     "status": "ok",
     "timestamp": 1583753265186,
     "user": {
      "displayName": "Hemanth Reddy",
      "photoUrl": "",
      "userId": "16713424825086946671"
     },
     "user_tz": -330
    },
    "id": "ui5bSn10hgaE",
    "outputId": "0b80d14e-7f35-49a2-a0db-62bc4307276b"
   },
   "outputs": [
    {
     "name": "stderr",
     "output_type": "stream",
     "text": [
      "100%|██████████| 5/5 [05:43<00:00, 68.74s/it]\n"
     ]
    },
    {
     "data": {
      "image/png": "[encoded data removed]",
      "text/plain": [
       "<Figure size 432x288 with 1 Axes>"
      ]
     },
     "metadata": {
      "tags": []
     },
     "output_type": "display_data"
    }
   ],
   "source": [
    "# Please write all the code with proper documentation\n",
    "import matplotlib.pyplot as plt\n",
    "from sklearn.neighbors import KNeighborsClassifier\n",
    "from sklearn.metrics import roc_auc_score\n",
    "\"\"\"\n",
    "y_true : array, shape = [n_samples] or [n_samples, n_classes]\n",
    "True binary labels or binary label indicators.\n",
    "\n",
    "y_score : array, shape = [n_samples] or [n_samples, n_classes]\n",
    "Target scores, can either be probability estimates of the positive class, confidence values, or non-thresholded measure of\n",
    "decisions (as returned by “decision_function” on some classifiers). \n",
    "For binary y_true, y_score is supposed to be the score of the class with greater label.\n",
    "\n",
    "\"\"\"\n",
    "\n",
    "train_auc = []\n",
    "cv_auc = []\n",
    "K = [7, 21, 45, 77, 101]\n",
    "for i in tqdm(K):\n",
    "    neigh = KNeighborsClassifier(n_neighbors=i, algorithm='brute', n_jobs=-1)\n",
    "    neigh.fit(X_tr, y_train)\n",
    "\n",
    "    y_train_pred = batch_predict(neigh, X_tr)    \n",
    "    y_cv_pred = batch_predict(neigh, X_cr)\n",
    "\n",
    "    # roc_auc_score(y_true, y_score) the 2nd parameter should be probability estimates of the positive class\n",
    "    # not the predicted outputs        \n",
    "    train_auc.append(roc_auc_score(y_train,y_train_pred))\n",
    "    cv_auc.append(roc_auc_score(y_cv, y_cv_pred))\n",
    "\n",
    "plt.plot(K, train_auc, label='Train AUC')\n",
    "plt.plot(K, cv_auc, label='CV AUC')\n",
    "\n",
    "plt.scatter(K, train_auc, label='Train AUC points')\n",
    "plt.scatter(K, cv_auc, label='CV AUC points')\n",
    "\n",
    "plt.legend()\n",
    "plt.xlabel(\"K: hyperparameter\")\n",
    "plt.ylabel(\"AUC\")\n",
    "plt.title(\"ERROR PLOTS\")\n",
    "plt.grid()\n",
    "plt.show()"
   ]
  },
  {
   "cell_type": "code",
   "execution_count": 0,
   "metadata": {
    "colab": {},
    "colab_type": "code",
    "id": "R60AeE0vZWsd"
   },
   "outputs": [],
   "source": [
    "# from the error plot we choose K such that, we will have maximum AUC on cv data and gap between the train and cv is less\n",
    "# Note: based on the method you use you might get different hyperparameter values as best one\n",
    "# so, you choose according to the method you choose, you use gridsearch if you are having more computing power and note it will take more time\n",
    "# if you increase the cv values in the GridSearchCV you will get more rebust results.\n",
    "\n",
    "#here we are choosing the best_k based on forloop results\n",
    "best_k = 99"
   ]
  },
  {
   "cell_type": "code",
   "execution_count": 95,
   "metadata": {
    "colab": {
     "base_uri": "https://localhost:8080/",
     "height": 295
    },
    "colab_type": "code",
    "executionInfo": {
     "elapsed": 82439,
     "status": "ok",
     "timestamp": 1583753372694,
     "user": {
      "displayName": "Hemanth Reddy",
      "photoUrl": "",
      "userId": "16713424825086946671"
     },
     "user_tz": -330
    },
    "id": "-p0TbJ6GcqDU",
    "outputId": "4ad3f0fb-b640-4be0-b692-a46d13c75df1"
   },
   "outputs": [
    {
     "data": {
      "image/png": "[encoded data removed]",
      "text/plain": [
       "<Figure size 432x288 with 1 Axes>"
      ]
     },
     "metadata": {
      "tags": []
     },
     "output_type": "display_data"
    }
   ],
   "source": [
    "# https://scikit-learn.org/stable/modules/generated/sklearn.metrics.roc_curve.html#sklearn.metrics.roc_curve\n",
    "from sklearn.metrics import roc_curve, auc\n",
    "\n",
    "\n",
    "neigh = KNeighborsClassifier(n_neighbors=best_k, n_jobs=-1)\n",
    "neigh.fit(X_tr, y_train)\n",
    "# roc_auc_score(y_true, y_score) the 2nd parameter should be probability estimates of the positive class\n",
    "# not the predicted outputs\n",
    "\n",
    "y_train_pred = batch_predict(neigh, X_tr)    \n",
    "y_test_pred = batch_predict(neigh, X_te)\n",
    "\n",
    "train_fpr, train_tpr, tr_thresholds = roc_curve(y_train, y_train_pred)\n",
    "test_fpr, test_tpr, te_thresholds = roc_curve(y_test, y_test_pred)\n",
    "\n",
    "plt.plot(train_fpr, train_tpr, label=\"train AUC =\"+str(auc(train_fpr, train_tpr)))\n",
    "plt.plot(test_fpr, test_tpr, label=\"test AUC =\"+str(auc(test_fpr, test_tpr)))\n",
    "plt.legend()\n",
    "plt.xlabel(\"FPR\")\n",
    "plt.ylabel(\"TPR\")\n",
    "plt.title(\"AUC\")\n",
    "plt.grid()\n",
    "plt.show()"
   ]
  },
  {
   "cell_type": "code",
   "execution_count": 96,
   "metadata": {
    "colab": {
     "base_uri": "https://localhost:8080/",
     "height": 153
    },
    "colab_type": "code",
    "executionInfo": {
     "elapsed": 810,
     "status": "ok",
     "timestamp": 1583753379069,
     "user": {
      "displayName": "Hemanth Reddy",
      "photoUrl": "",
      "userId": "16713424825086946671"
     },
     "user_tz": -330
    },
    "id": "jHtQBKA8fQlL",
    "outputId": "1a9901d9-dc63-450c-8fef-543e3b4e4524"
   },
   "outputs": [
    {
     "name": "stdout",
     "output_type": "stream",
     "text": [
      "====================================================================================================\n",
      "the maximum value of tpr*(1-fpr) 0.34405978422405004 for threshold 0.848\n",
      "Train confusion matrix\n",
      "[[ 1959  1504]\n",
      " [ 7437 11545]]\n",
      "Test confusion matrix\n",
      "[[1243 1303]\n",
      " [5598 8356]]\n"
     ]
    }
   ],
   "source": [
    "print(\"=\"*100)\n",
    "from sklearn.metrics import confusion_matrix\n",
    "best_t = find_best_threshold(tr_thresholds, train_fpr, train_tpr)\n",
    "print(\"Train confusion matrix\")\n",
    "print(confusion_matrix(y_train, predict_with_best_t(y_train_pred, best_t)))\n",
    "print(\"Test confusion matrix\")\n",
    "print(confusion_matrix(y_test, predict_with_best_t(y_test_pred, best_t)))"
   ]
  },
  {
   "cell_type": "code",
   "execution_count": 98,
   "metadata": {
    "colab": {
     "base_uri": "https://localhost:8080/",
     "height": 350
    },
    "colab_type": "code",
    "executionInfo": {
     "elapsed": 1275,
     "status": "ok",
     "timestamp": 1583753420545,
     "user": {
      "displayName": "Hemanth Reddy",
      "photoUrl": "",
      "userId": "16713424825086946671"
     },
     "user_tz": -330
    },
    "id": "gRnh5B068qx1",
    "outputId": "8815e1f8-8f6e-4ac2-bc39-6b60f02b4cd1"
   },
   "outputs": [
    {
     "data": {
      "image/png": "[encoded data removed]",
      "text/plain": [
       "<Figure size 1080x360 with 4 Axes>"
      ]
     },
     "metadata": {
      "tags": []
     },
     "output_type": "display_data"
    }
   ],
   "source": [
    "plotheatMap((confusion_matrix(y_train, predict_with_best_t(y_train_pred, best_t))),(confusion_matrix(y_test, predict_with_best_t(y_test_pred, best_t))))"
   ]
  },
  {
   "cell_type": "markdown",
   "metadata": {
    "colab_type": "text",
    "id": "HN90-YJfhgaJ"
   },
   "source": [
    "### 2.4.3 Applying KNN brute force on AVG W2V,<font color='red'> SET 3</font>"
   ]
  },
  {
   "cell_type": "code",
   "execution_count": 0,
   "metadata": {
    "colab": {},
    "colab_type": "code",
    "id": "19Nv9C9PhgaK"
   },
   "outputs": [],
   "source": [
    "# Please write all the code with proper documentation"
   ]
  },
  {
   "cell_type": "code",
   "execution_count": 100,
   "metadata": {
    "colab": {
     "base_uri": "https://localhost:8080/",
     "height": 102
    },
    "colab_type": "code",
    "executionInfo": {
     "elapsed": 2524,
     "status": "ok",
     "timestamp": 1583753477233,
     "user": {
      "displayName": "Hemanth Reddy",
      "photoUrl": "",
      "userId": "16713424825086946671"
     },
     "user_tz": -330
    },
    "id": "osU8L6c8gE_P",
    "outputId": "894235f6-f07d-491c-befd-83a292e2c79e"
   },
   "outputs": [
    {
     "name": "stdout",
     "output_type": "stream",
     "text": [
      "Final Data matrix\n",
      "(22445, 702) (22445,)\n",
      "(11055, 702) (11055,)\n",
      "(16500, 702) (16500,)\n",
      "====================================================================================================\n"
     ]
    }
   ],
   "source": [
    "# Please write all the code with proper documentation\n",
    "# merge two sparse matrices: https://stackoverflow.com/a/19710648/4084039\n",
    "from scipy.sparse import hstack\n",
    "X_tr = hstack((X_train_state_ohe,X_train_teacher_one_hot,X_train_grade_ohe,X_train_subcat_ohe,X_train_cat_ohe,X_train_price_norm,X_train_teacher_number_of_previously_posted_projects_norm,X_train_avg_w2v_vectors,X_train_avg_w2v_title)).tocsr()\n",
    "X_cr = hstack((X_cv_state_ohe,X_cv_teacher_one_hot,X_cv_grade_ohe,X_cv_subcat_ohe,X_cv_cat_ohe,X_cv_price_norm,X_cv_teacher_number_of_previously_posted_projects_norm,X_cv_avg_w2v_vectors,X_cv_avg_w2v_title)).tocsr()\n",
    "X_te = hstack((X_test_state_ohe,X_test_teacher_one_hot,X_test_grade_ohe,X_test_subcat_ohe,X_test_cat_ohe,X_test_price_norm,X_test_teacher_number_of_previously_posted_projects_norm,X_test_avg_w2v_vectors,X_test_avg_w2v_title)).tocsr()\n",
    "print(\"Final Data matrix\")\n",
    "print(X_tr.shape, y_train.shape)\n",
    "print(X_cr.shape, y_cv.shape)\n",
    "print(X_te.shape, y_test.shape)\n",
    "print(\"=\"*100)"
   ]
  },
  {
   "cell_type": "code",
   "execution_count": 101,
   "metadata": {
    "colab": {
     "base_uri": "https://localhost:8080/",
     "height": 312
    },
    "colab_type": "code",
    "executionInfo": {
     "elapsed": 2617664,
     "status": "ok",
     "timestamp": 1583756096080,
     "user": {
      "displayName": "Hemanth Reddy",
      "photoUrl": "",
      "userId": "16713424825086946671"
     },
     "user_tz": -330
    },
    "id": "HguPfscdguEK",
    "outputId": "987f910c-96c4-4671-8aed-a334545e8ce0"
   },
   "outputs": [
    {
     "name": "stderr",
     "output_type": "stream",
     "text": [
      "100%|██████████| 5/5 [43:36<00:00, 523.77s/it]\n"
     ]
    },
    {
     "data": {
      "image/png": "[encoded data removed]",
      "text/plain": [
       "<Figure size 432x288 with 1 Axes>"
      ]
     },
     "metadata": {
      "tags": []
     },
     "output_type": "display_data"
    }
   ],
   "source": [
    "import matplotlib.pyplot as plt\n",
    "from sklearn.neighbors import KNeighborsClassifier\n",
    "from sklearn.metrics import roc_auc_score\n",
    "\"\"\"\n",
    "y_true : array, shape = [n_samples] or [n_samples, n_classes]\n",
    "True binary labels or binary label indicators.\n",
    "\n",
    "y_score : array, shape = [n_samples] or [n_samples, n_classes]\n",
    "Target scores, can either be probability estimates of the positive class, confidence values, or non-thresholded measure of\n",
    "decisions (as returned by “decision_function” on some classifiers). \n",
    "For binary y_true, y_score is supposed to be the score of the class with greater label.\n",
    "\n",
    "\"\"\"\n",
    "\n",
    "train_auc = []\n",
    "cv_auc = []\n",
    "K = [7, 21, 45, 77, 101]\n",
    "for i in tqdm(K):\n",
    "    neigh = KNeighborsClassifier(n_neighbors=i, algorithm='brute', n_jobs=-1)\n",
    "    neigh.fit(X_tr, y_train)\n",
    "\n",
    "    y_train_pred = batch_predict(neigh, X_tr)    \n",
    "    y_cv_pred = batch_predict(neigh, X_cr)\n",
    "\n",
    "    # roc_auc_score(y_true, y_score) the 2nd parameter should be probability estimates of the positive class\n",
    "    # not the predicted outputs        \n",
    "    train_auc.append(roc_auc_score(y_train,y_train_pred))\n",
    "    cv_auc.append(roc_auc_score(y_cv, y_cv_pred))\n",
    "\n",
    "plt.plot(K, train_auc, label='Train AUC')\n",
    "plt.plot(K, cv_auc, label='CV AUC')\n",
    "\n",
    "plt.scatter(K, train_auc, label='Train AUC points')\n",
    "plt.scatter(K, cv_auc, label='CV AUC points')\n",
    "\n",
    "plt.legend()\n",
    "plt.xlabel(\"K: hyperparameter\")\n",
    "plt.ylabel(\"AUC\")\n",
    "plt.title(\"ERROR PLOTS\")\n",
    "plt.grid()\n",
    "plt.show()"
   ]
  },
  {
   "cell_type": "code",
   "execution_count": 0,
   "metadata": {
    "colab": {},
    "colab_type": "code",
    "id": "idbwCPSPrGlj"
   },
   "outputs": [],
   "source": [
    "# from the error plot we choose K such that, we will have maximum AUC on cv data and gap between the train and cv is less\n",
    "# Note: based on the method you use you might get different hyperparameter values as best one\n",
    "# so, you choose according to the method you choose, you use gridsearch if you are having more computing power and note it will take more time\n",
    "# if you increase the cv values in the GridSearchCV you will get more rebust results.\n",
    "\n",
    "#here we are choosing the best_k based on forloop results\n",
    "best_k = 21"
   ]
  },
  {
   "cell_type": "code",
   "execution_count": 103,
   "metadata": {
    "colab": {
     "base_uri": "https://localhost:8080/",
     "height": 295
    },
    "colab_type": "code",
    "executionInfo": {
     "elapsed": 615661,
     "status": "ok",
     "timestamp": 1583756915777,
     "user": {
      "displayName": "Hemanth Reddy",
      "photoUrl": "",
      "userId": "16713424825086946671"
     },
     "user_tz": -330
    },
    "id": "3hBlKT3xrXE7",
    "outputId": "a35f59f2-8c5f-4ee4-b867-8386b1b1ba29"
   },
   "outputs": [
    {
     "data": {
      "image/png": "[encoded data removed]",
      "text/plain": [
       "<Figure size 432x288 with 1 Axes>"
      ]
     },
     "metadata": {
      "tags": []
     },
     "output_type": "display_data"
    }
   ],
   "source": [
    "# https://scikit-learn.org/stable/modules/generated/sklearn.metrics.roc_curve.html#sklearn.metrics.roc_curve\n",
    "from sklearn.metrics import roc_curve, auc\n",
    "\n",
    "\n",
    "neigh = KNeighborsClassifier(n_neighbors=best_k, algorithm='brute', n_jobs=-1)\n",
    "neigh.fit(X_tr, y_train)\n",
    "# roc_auc_score(y_true, y_score) the 2nd parameter should be probability estimates of the positive class\n",
    "# not the predicted outputs\n",
    "\n",
    "y_train_pred = batch_predict(neigh, X_tr)    \n",
    "y_test_pred = batch_predict(neigh, X_te)\n",
    "\n",
    "train_fpr, train_tpr, tr_thresholds = roc_curve(y_train, y_train_pred)\n",
    "test_fpr, test_tpr, te_thresholds = roc_curve(y_test, y_test_pred)\n",
    "\n",
    "plt.plot(train_fpr, train_tpr, label=\"train AUC =\"+str(auc(train_fpr, train_tpr)))\n",
    "plt.plot(test_fpr, test_tpr, label=\"test AUC =\"+str(auc(test_fpr, test_tpr)))\n",
    "plt.legend()\n",
    "plt.xlabel(\"FPR\")\n",
    "plt.ylabel(\"TPR\")\n",
    "plt.title(\"AUC\")\n",
    "plt.grid()\n",
    "plt.show()"
   ]
  },
  {
   "cell_type": "code",
   "execution_count": 0,
   "metadata": {
    "colab": {
     "base_uri": "https://localhost:8080/",
     "height": 153
    },
    "colab_type": "code",
    "executionInfo": {
     "elapsed": 1092,
     "status": "ok",
     "timestamp": 1583496033414,
     "user": {
      "displayName": "Hemanth Reddy",
      "photoUrl": "",
      "userId": "16713424825086946671"
     },
     "user_tz": -330
    },
    "id": "RCxfiMAxt99n",
    "outputId": "d45fc505-11dd-4545-bf26-d8cd615f7c8a"
   },
   "outputs": [
    {
     "name": "stdout",
     "output_type": "stream",
     "text": [
      "====================================================================================================\n",
      "the maximum value of tpr*(1-fpr) 0.3990690695834676 for threshold 0.857\n",
      "Train confusion matrix\n",
      "[[ 2078  1385]\n",
      " [ 6358 12624]]\n",
      "Test confusion matrix\n",
      "[[ 987 1559]\n",
      " [5116 8838]]\n"
     ]
    }
   ],
   "source": [
    "print(\"=\"*100)\n",
    "from sklearn.metrics import confusion_matrix\n",
    "best_t = find_best_threshold(tr_thresholds, train_fpr, train_tpr)\n",
    "print(\"Train confusion matrix\")\n",
    "print(confusion_matrix(y_train, predict_with_best_t(y_train_pred, best_t)))\n",
    "print(\"Test confusion matrix\")\n",
    "print(confusion_matrix(y_test, predict_with_best_t(y_test_pred, best_t)))"
   ]
  },
  {
   "cell_type": "code",
   "execution_count": 104,
   "metadata": {
    "colab": {
     "base_uri": "https://localhost:8080/",
     "height": 350
    },
    "colab_type": "code",
    "executionInfo": {
     "elapsed": 1551,
     "status": "ok",
     "timestamp": 1583757516066,
     "user": {
      "displayName": "Hemanth Reddy",
      "photoUrl": "",
      "userId": "16713424825086946671"
     },
     "user_tz": -330
    },
    "id": "Eofbbvz4O2_u",
    "outputId": "8f1c59c1-f706-45ab-a3b7-14180b32b096"
   },
   "outputs": [
    {
     "data": {
      "image/png": "[encoded data removed]",
      "text/plain": [
       "<Figure size 1080x360 with 4 Axes>"
      ]
     },
     "metadata": {
      "tags": []
     },
     "output_type": "display_data"
    }
   ],
   "source": [
    "plotheatMap((confusion_matrix(y_train, predict_with_best_t(y_train_pred, best_t))),(confusion_matrix(y_test, predict_with_best_t(y_test_pred, best_t))))"
   ]
  },
  {
   "cell_type": "markdown",
   "metadata": {
    "colab_type": "text",
    "id": "5V_tqVZMhgaO"
   },
   "source": [
    "### 2.4.4 Applying KNN brute force on TFIDF W2V,<font color='red'> SET 4</font>\n",
    "\n",
    "---\n",
    "\n"
   ]
  },
  {
   "cell_type": "code",
   "execution_count": 0,
   "metadata": {
    "colab": {},
    "colab_type": "code",
    "id": "-b-Ydy2IhgaP"
   },
   "outputs": [],
   "source": [
    "# Please write all the code with proper documentation"
   ]
  },
  {
   "cell_type": "code",
   "execution_count": 105,
   "metadata": {
    "colab": {
     "base_uri": "https://localhost:8080/",
     "height": 102
    },
    "colab_type": "code",
    "executionInfo": {
     "elapsed": 2829,
     "status": "ok",
     "timestamp": 1583757666960,
     "user": {
      "displayName": "Hemanth Reddy",
      "photoUrl": "",
      "userId": "16713424825086946671"
     },
     "user_tz": -330
    },
    "id": "UzPZ2_NkuJJs",
    "outputId": "4f460def-0da7-47f0-e71c-b763efbd453c"
   },
   "outputs": [
    {
     "name": "stdout",
     "output_type": "stream",
     "text": [
      "Final Data matrix\n",
      "(22445, 702) (22445,)\n",
      "(11055, 702) (11055,)\n",
      "(16500, 702) (16500,)\n",
      "====================================================================================================\n"
     ]
    }
   ],
   "source": [
    "# Please write all the code with proper documentation\n",
    "# merge two sparse matrices: https://stackoverflow.com/a/19710648/4084039\n",
    "from scipy.sparse import hstack\n",
    "X_tr = hstack((X_train_state_ohe,X_train_teacher_one_hot,X_train_grade_ohe,X_train_subcat_ohe,X_train_cat_ohe,X_train_price_norm,X_train_teacher_number_of_previously_posted_projects_norm,X_train_tfidf_w2v_vectors,X_train_tfidf_w2v_title)).tocsr()\n",
    "X_cr = hstack((X_cv_state_ohe,X_cv_teacher_one_hot,X_cv_grade_ohe,X_cv_subcat_ohe,X_cv_cat_ohe,X_cv_price_norm,X_cv_teacher_number_of_previously_posted_projects_norm,X_cv_tfidf_w2v_vectors,X_cv_tfidf_w2v_title)).tocsr()\n",
    "X_te = hstack((X_test_state_ohe,X_test_teacher_one_hot,X_test_grade_ohe,X_test_subcat_ohe,X_test_cat_ohe,X_test_price_norm,X_test_teacher_number_of_previously_posted_projects_norm,X_test_tfidf_w2v_vectors,X_test_tfidf_w2v_title)).tocsr()\n",
    "print(\"Final Data matrix\")\n",
    "print(X_tr.shape, y_train.shape)\n",
    "print(X_cr.shape, y_cv.shape)\n",
    "print(X_te.shape, y_test.shape)\n",
    "print(\"=\"*100)"
   ]
  },
  {
   "cell_type": "code",
   "execution_count": 106,
   "metadata": {
    "colab": {
     "base_uri": "https://localhost:8080/",
     "height": 312
    },
    "colab_type": "code",
    "executionInfo": {
     "elapsed": 2593025,
     "status": "ok",
     "timestamp": 1583760266629,
     "user": {
      "displayName": "Hemanth Reddy",
      "photoUrl": "",
      "userId": "16713424825086946671"
     },
     "user_tz": -330
    },
    "id": "o0pfri7oumLY",
    "outputId": "56088d0e-73db-4c23-c9e9-124e7d01fde2"
   },
   "outputs": [
    {
     "name": "stderr",
     "output_type": "stream",
     "text": [
      "100%|██████████| 5/5 [43:12<00:00, 517.90s/it]\n"
     ]
    },
    {
     "data": {
      "image/png": "[encoded data removed]",
      "text/plain": [
       "<Figure size 432x288 with 1 Axes>"
      ]
     },
     "metadata": {
      "tags": []
     },
     "output_type": "display_data"
    }
   ],
   "source": [
    "import matplotlib.pyplot as plt\n",
    "from sklearn.neighbors import KNeighborsClassifier\n",
    "from sklearn.metrics import roc_auc_score\n",
    "\"\"\"\n",
    "y_true : array, shape = [n_samples] or [n_samples, n_classes]\n",
    "True binary labels or binary label indicators.\n",
    "\n",
    "y_score : array, shape = [n_samples] or [n_samples, n_classes]\n",
    "Target scores, can either be probability estimates of the positive class, confidence values, or non-thresholded measure of\n",
    "decisions (as returned by “decision_function” on some classifiers). \n",
    "For binary y_true, y_score is supposed to be the score of the class with greater label.\n",
    "\n",
    "\"\"\"\n",
    "\n",
    "train_auc = []\n",
    "cv_auc = []\n",
    "K = [7, 21, 45, 77, 101]\n",
    "for i in tqdm(K):\n",
    "    neigh = KNeighborsClassifier(n_neighbors=i, algorithm='brute', n_jobs=-1)\n",
    "    neigh.fit(X_tr, y_train)\n",
    "\n",
    "    y_train_pred = batch_predict(neigh, X_tr)    \n",
    "    y_cv_pred = batch_predict(neigh, X_cr)\n",
    "\n",
    "    # roc_auc_score(y_true, y_score) the 2nd parameter should be probability estimates of the positive class\n",
    "    # not the predicted outputs        \n",
    "    train_auc.append(roc_auc_score(y_train,y_train_pred))\n",
    "    cv_auc.append(roc_auc_score(y_cv, y_cv_pred))\n",
    "\n",
    "plt.plot(K, train_auc, label='Train AUC')\n",
    "plt.plot(K, cv_auc, label='CV AUC')\n",
    "\n",
    "plt.scatter(K, train_auc, label='Train AUC points')\n",
    "plt.scatter(K, cv_auc, label='CV AUC points')\n",
    "\n",
    "plt.legend()\n",
    "plt.xlabel(\"K: hyperparameter\")\n",
    "plt.ylabel(\"AUC\")\n",
    "plt.title(\"ERROR PLOTS\")\n",
    "plt.grid()\n",
    "plt.show()"
   ]
  },
  {
   "cell_type": "code",
   "execution_count": 0,
   "metadata": {
    "colab": {},
    "colab_type": "code",
    "id": "_ZcGPoYS46CL"
   },
   "outputs": [],
   "source": [
    "# from the error plot we choose K such that, we will have maximum AUC on cv data and gap between the train and cv is less\n",
    "# Note: based on the method you use you might get different hyperparameter values as best one\n",
    "# so, you choose according to the method you choose, you use gridsearch if you are having more computing power and note it will take more time\n",
    "# if you increase the cv values in the GridSearchCV you will get more rebust results.\n",
    "\n",
    "#here we are choosing the best_k based on forloop results\n",
    "best_k = 45"
   ]
  },
  {
   "cell_type": "code",
   "execution_count": 108,
   "metadata": {
    "colab": {
     "base_uri": "https://localhost:8080/",
     "height": 295
    },
    "colab_type": "code",
    "executionInfo": {
     "elapsed": 611449,
     "status": "ok",
     "timestamp": 1583760921805,
     "user": {
      "displayName": "Hemanth Reddy",
      "photoUrl": "",
      "userId": "16713424825086946671"
     },
     "user_tz": -330
    },
    "id": "tU19bRXB5A2t",
    "outputId": "a8001c3e-b542-4db3-ac88-7f32217d5f89"
   },
   "outputs": [
    {
     "data": {
      "image/png": "[encoded data removed]",
      "text/plain": [
       "<Figure size 432x288 with 1 Axes>"
      ]
     },
     "metadata": {
      "tags": []
     },
     "output_type": "display_data"
    }
   ],
   "source": [
    "# https://scikit-learn.org/stable/modules/generated/sklearn.metrics.roc_curve.html#sklearn.metrics.roc_curve\n",
    "from sklearn.metrics import roc_curve, auc\n",
    "\n",
    "\n",
    "neigh = KNeighborsClassifier(n_neighbors=best_k, n_jobs=-1)\n",
    "neigh.fit(X_tr, y_train)\n",
    "# roc_auc_score(y_true, y_score) the 2nd parameter should be probability estimates of the positive class\n",
    "# not the predicted outputs\n",
    "\n",
    "y_train_pred = batch_predict(neigh, X_tr)    \n",
    "y_test_pred = batch_predict(neigh, X_te)\n",
    "\n",
    "train_fpr, train_tpr, tr_thresholds = roc_curve(y_train, y_train_pred)\n",
    "test_fpr, test_tpr, te_thresholds = roc_curve(y_test, y_test_pred)\n",
    "\n",
    "plt.plot(train_fpr, train_tpr, label=\"train AUC =\"+str(auc(train_fpr, train_tpr)))\n",
    "plt.plot(test_fpr, test_tpr, label=\"test AUC =\"+str(auc(test_fpr, test_tpr)))\n",
    "plt.legend()\n",
    "plt.xlabel(\"FPR\")\n",
    "plt.ylabel(\"TPR\")\n",
    "plt.title(\"AUC\")\n",
    "plt.grid()\n",
    "plt.show()"
   ]
  },
  {
   "cell_type": "code",
   "execution_count": 109,
   "metadata": {
    "colab": {
     "base_uri": "https://localhost:8080/",
     "height": 153
    },
    "colab_type": "code",
    "executionInfo": {
     "elapsed": 802,
     "status": "ok",
     "timestamp": 1583760957758,
     "user": {
      "displayName": "Hemanth Reddy",
      "photoUrl": "",
      "userId": "16713424825086946671"
     },
     "user_tz": -330
    },
    "id": "jO5IGJmw6vvd",
    "outputId": "ee6a3e27-70b0-4812-994d-b6e91490abaf"
   },
   "outputs": [
    {
     "name": "stdout",
     "output_type": "stream",
     "text": [
      "====================================================================================================\n",
      "the maximum value of tpr*(1-fpr) 0.35753381632759795 for threshold 0.867\n",
      "Train confusion matrix\n",
      "[[ 2286  1177]\n",
      " [ 8701 10281]]\n",
      "Test confusion matrix\n",
      "[[1294 1252]\n",
      " [6656 7298]]\n"
     ]
    }
   ],
   "source": [
    "print(\"=\"*100)\n",
    "from sklearn.metrics import confusion_matrix\n",
    "best_t = find_best_threshold(tr_thresholds, train_fpr, train_tpr)\n",
    "print(\"Train confusion matrix\")\n",
    "print(confusion_matrix(y_train, predict_with_best_t(y_train_pred, best_t)))\n",
    "print(\"Test confusion matrix\")\n",
    "print(confusion_matrix(y_test, predict_with_best_t(y_test_pred, best_t)))"
   ]
  },
  {
   "cell_type": "code",
   "execution_count": 110,
   "metadata": {
    "colab": {
     "base_uri": "https://localhost:8080/",
     "height": 350
    },
    "colab_type": "code",
    "executionInfo": {
     "elapsed": 1734,
     "status": "ok",
     "timestamp": 1583761008412,
     "user": {
      "displayName": "Hemanth Reddy",
      "photoUrl": "",
      "userId": "16713424825086946671"
     },
     "user_tz": -330
    },
    "id": "c1etvI-T6vYv",
    "outputId": "65e71e21-8ae6-4873-c3f3-bb30bb556d96"
   },
   "outputs": [
    {
     "data": {
      "image/png": "[encoded data removed]",
      "text/plain": [
       "<Figure size 1080x360 with 4 Axes>"
      ]
     },
     "metadata": {
      "tags": []
     },
     "output_type": "display_data"
    }
   ],
   "source": [
    "plotheatMap((confusion_matrix(y_train, predict_with_best_t(y_train_pred, best_t))),(confusion_matrix(y_test, predict_with_best_t(y_test_pred, best_t))))"
   ]
  },
  {
   "cell_type": "markdown",
   "metadata": {
    "colab_type": "text",
    "id": "AZMZyTeDhgaU"
   },
   "source": [
    "<h2>2.5 Feature selection with `SelectKBest` </h2>"
   ]
  },
  {
   "cell_type": "code",
   "execution_count": 111,
   "metadata": {
    "colab": {
     "base_uri": "https://localhost:8080/",
     "height": 102
    },
    "colab_type": "code",
    "executionInfo": {
     "elapsed": 1273,
     "status": "ok",
     "timestamp": 1583761276119,
     "user": {
      "displayName": "Hemanth Reddy",
      "photoUrl": "",
      "userId": "16713424825086946671"
     },
     "user_tz": -330
    },
    "id": "5nPai9TVhgaV",
    "outputId": "9dfd3392-5603-4f99-f023-d61b05203ef4"
   },
   "outputs": [
    {
     "name": "stdout",
     "output_type": "stream",
     "text": [
      "Final Data matrix\n",
      "(22445, 10532) (22445,)\n",
      "(11055, 10532) (11055,)\n",
      "(16500, 10532) (16500,)\n",
      "====================================================================================================\n"
     ]
    }
   ],
   "source": [
    "# please write all the code with proper documentation, and proper titles for each subsection\n",
    "# go through documentations and blogs before you start coding\n",
    "# first figure out what to do, and then think about how to do.\n",
    "# reading and understanding error messages will be very much helpfull in debugging your code\n",
    "\n",
    "# when you plot any graph make sure you use \n",
    "    # a. Title, that describes your plot, this will be very helpful to the reader\n",
    "    # b. Legends if needed\n",
    "    # c. X-axis label\n",
    "    # d. Y-axis label\n",
    "    # Please write all the code with proper documentation\n",
    "# merge two sparse matrices: https://stackoverflow.com/a/19710648/4084039\n",
    "#i bought in the set#2 of tfidf\n",
    "from scipy.sparse import hstack\n",
    "X_tr = hstack((X_train_state_ohe,X_train_teacher_one_hot,X_train_grade_ohe,X_train_subcat_ohe,X_train_cat_ohe,X_train_price_norm,X_train_teacher_number_of_previously_posted_projects_norm,X_train_essay_tfidf,X_train_title_tfidf)).tocsr()\n",
    "X_cr = hstack((X_cv_state_ohe,X_cv_teacher_one_hot,X_cv_grade_ohe,X_cv_subcat_ohe,X_cv_cat_ohe,X_cv_price_norm,X_cv_teacher_number_of_previously_posted_projects_norm,X_cv_essay_tfidf,X_cv_title_tfidf)).tocsr()\n",
    "X_te = hstack((X_test_state_ohe,X_test_teacher_one_hot,X_test_grade_ohe,X_test_subcat_ohe,X_test_cat_ohe,X_test_price_norm,X_test_teacher_number_of_previously_posted_projects_norm,X_test_essay_tfidf,X_test_title_tfidf)).tocsr()\n",
    "print(\"Final Data matrix\")\n",
    "print(X_tr.shape, y_train.shape)\n",
    "print(X_cr.shape, y_cv.shape)\n",
    "print(X_te.shape, y_test.shape)\n",
    "print(\"=\"*100)"
   ]
  },
  {
   "cell_type": "code",
   "execution_count": 0,
   "metadata": {
    "colab": {},
    "colab_type": "code",
    "id": "w6QM7w7Zj_Vi"
   },
   "outputs": [],
   "source": [
    "from sklearn.feature_selection import SelectKBest, f_classif, chi2\n",
    "model=SelectKBest(f_classif, k=2000)\n",
    "X_tr= model.fit_transform(X_tr,y_train)\n",
    "X_cr= model.transform(X_cr)\n",
    "X_te = model.transform(X_te)"
   ]
  },
  {
   "cell_type": "code",
   "execution_count": 117,
   "metadata": {
    "colab": {
     "base_uri": "https://localhost:8080/",
     "height": 85
    },
    "colab_type": "code",
    "executionInfo": {
     "elapsed": 675,
     "status": "ok",
     "timestamp": 1583762416457,
     "user": {
      "displayName": "Hemanth Reddy",
      "photoUrl": "",
      "userId": "16713424825086946671"
     },
     "user_tz": -330
    },
    "id": "FrsFgOSHj_Gz",
    "outputId": "25112240-a85f-4a43-943e-b1e2622a6250"
   },
   "outputs": [
    {
     "name": "stdout",
     "output_type": "stream",
     "text": [
      "Final Data matrix\n",
      "(22445, 2000) (22445,)\n",
      "(16500, 2000) (16500,)\n",
      "====================================================================================================\n"
     ]
    }
   ],
   "source": [
    "##Select top 2000 features from feature Set 2 using `SelectKBest` and then apply KNN on top of these features\n",
    "select_func = SelectKBest(chi2, k=2000).fit(X_tr, y_train)\n",
    "\n",
    "\n",
    "X_tr = select_func.transform(X_tr)\n",
    "X_te = select_func.transform(X_te)\n",
    "\n",
    "\n",
    "print(\"Final Data matrix\")\n",
    "print(X_tr.shape, y_train.shape)\n",
    "print(X_te.shape, y_test.shape)\n",
    "print(\"=\"*100)"
   ]
  },
  {
   "cell_type": "code",
   "execution_count": 118,
   "metadata": {
    "colab": {
     "base_uri": "https://localhost:8080/",
     "height": 312
    },
    "colab_type": "code",
    "executionInfo": {
     "elapsed": 232945,
     "status": "ok",
     "timestamp": 1583762724581,
     "user": {
      "displayName": "Hemanth Reddy",
      "photoUrl": "",
      "userId": "16713424825086946671"
     },
     "user_tz": -330
    },
    "id": "owPy9Kc4mX8K",
    "outputId": "27fe50e9-7140-4903-c3b1-74ea20691ce5"
   },
   "outputs": [
    {
     "name": "stderr",
     "output_type": "stream",
     "text": [
      "100%|██████████| 5/5 [03:51<00:00, 46.41s/it]\n"
     ]
    },
    {
     "data": {
      "image/png": "[encoded data removed]",
      "text/plain": [
       "<Figure size 432x288 with 1 Axes>"
      ]
     },
     "metadata": {
      "tags": []
     },
     "output_type": "display_data"
    }
   ],
   "source": [
    "import matplotlib.pyplot as plt\n",
    "from sklearn.neighbors import KNeighborsClassifier\n",
    "from sklearn.metrics import roc_auc_score\n",
    "\"\"\"\n",
    "y_true : array, shape = [n_samples] or [n_samples, n_classes]\n",
    "True binary labels or binary label indicators.\n",
    "\n",
    "y_score : array, shape = [n_samples] or [n_samples, n_classes]\n",
    "Target scores, can either be probability estimates of the positive class, confidence values, or non-thresholded measure of\n",
    "decisions (as returned by “decision_function” on some classifiers). \n",
    "For binary y_true, y_score is supposed to be the score of the class with greater label.\n",
    "\n",
    "\"\"\"\n",
    "\n",
    "train_auc = []\n",
    "cv_auc = []\n",
    "K = [7, 21, 45, 77, 101]\n",
    "for i in tqdm(K):\n",
    "    neigh = KNeighborsClassifier(n_neighbors=i, algorithm='brute', n_jobs=-1)\n",
    "    neigh.fit(X_tr, y_train)\n",
    "\n",
    "    y_train_pred = batch_predict(neigh, X_tr)    \n",
    "    y_cv_pred = batch_predict(neigh, X_cr)\n",
    "\n",
    "    # roc_auc_score(y_true, y_score) the 2nd parameter should be probability estimates of the positive class\n",
    "    # not the predicted outputs        \n",
    "    train_auc.append(roc_auc_score(y_train,y_train_pred))\n",
    "    cv_auc.append(roc_auc_score(y_cv, y_cv_pred))\n",
    "\n",
    "plt.plot(K, train_auc, label='Train AUC')\n",
    "plt.plot(K, cv_auc, label='CV AUC')\n",
    "\n",
    "plt.scatter(K, train_auc, label='Train AUC points')\n",
    "plt.scatter(K, cv_auc, label='CV AUC points')\n",
    "\n",
    "plt.legend()\n",
    "plt.xlabel(\"K: hyperparameter\")\n",
    "plt.ylabel(\"AUC\")\n",
    "plt.title(\"ERROR PLOTS\")\n",
    "plt.grid()\n",
    "plt.show()"
   ]
  },
  {
   "cell_type": "code",
   "execution_count": 0,
   "metadata": {
    "colab": {},
    "colab_type": "code",
    "id": "JSjwdCgbnyjC"
   },
   "outputs": [],
   "source": [
    "# from the error plot we choose K such that, we will have maximum AUC on cv data and gap between the train and cv is less\n",
    "# Note: based on the method you use you might get different hyperparameter values as best one\n",
    "# so, you choose according to the method you choose, you use gridsearch if you are having more computing power and note it will take more time\n",
    "# if you increase the cv values in the GridSearchCV you will get more rebust results.\n",
    "\n",
    "#here we are choosing the best_k based on forloop results\n",
    "best_k =21"
   ]
  },
  {
   "cell_type": "code",
   "execution_count": 120,
   "metadata": {
    "colab": {
     "base_uri": "https://localhost:8080/",
     "height": 295
    },
    "colab_type": "code",
    "executionInfo": {
     "elapsed": 54926,
     "status": "ok",
     "timestamp": 1583762993845,
     "user": {
      "displayName": "Hemanth Reddy",
      "photoUrl": "",
      "userId": "16713424825086946671"
     },
     "user_tz": -330
    },
    "id": "l2F1gAMuoIqT",
    "outputId": "971596c4-835b-44fc-ced5-dc5d0d8e1f33"
   },
   "outputs": [
    {
     "data": {
      "image/png": "[encoded data removed]",
      "text/plain": [
       "<Figure size 432x288 with 1 Axes>"
      ]
     },
     "metadata": {
      "tags": []
     },
     "output_type": "display_data"
    }
   ],
   "source": [
    "# https://scikit-learn.org/stable/modules/generated/sklearn.metrics.roc_curve.html#sklearn.metrics.roc_curve\n",
    "from sklearn.metrics import roc_curve, auc\n",
    "\n",
    "\n",
    "neigh = KNeighborsClassifier(n_neighbors=best_k, n_jobs=-1)\n",
    "neigh.fit(X_tr, y_train)\n",
    "# roc_auc_score(y_true, y_score) the 2nd parameter should be probability estimates of the positive class\n",
    "# not the predicted outputs\n",
    "\n",
    "y_train_pred = batch_predict(neigh, X_tr)    \n",
    "y_test_pred = batch_predict(neigh, X_te)\n",
    "\n",
    "train_fpr, train_tpr, tr_thresholds = roc_curve(y_train, y_train_pred)\n",
    "test_fpr, test_tpr, te_thresholds = roc_curve(y_test, y_test_pred)\n",
    "\n",
    "plt.plot(train_fpr, train_tpr, label=\"train AUC =\"+str(auc(train_fpr, train_tpr)))\n",
    "plt.plot(test_fpr, test_tpr, label=\"test AUC =\"+str(auc(test_fpr, test_tpr)))\n",
    "plt.legend()\n",
    "plt.xlabel(\"FPR\")\n",
    "plt.ylabel(\"TPR\")\n",
    "plt.title(\"AUC\")\n",
    "plt.grid()\n",
    "plt.show()"
   ]
  },
  {
   "cell_type": "code",
   "execution_count": 121,
   "metadata": {
    "colab": {
     "base_uri": "https://localhost:8080/",
     "height": 153
    },
    "colab_type": "code",
    "executionInfo": {
     "elapsed": 904,
     "status": "ok",
     "timestamp": 1583763895596,
     "user": {
      "displayName": "Hemanth Reddy",
      "photoUrl": "",
      "userId": "16713424825086946671"
     },
     "user_tz": -330
    },
    "id": "3tEpbmaZryPn",
    "outputId": "bb853b00-fb2f-4917-a32c-567a6fa9c2c4"
   },
   "outputs": [
    {
     "name": "stdout",
     "output_type": "stream",
     "text": [
      "====================================================================================================\n",
      "the maximum value of tpr*(1-fpr) 0.40402374600944957 for threshold 0.905\n",
      "Train confusion matrix\n",
      "[[2693  770]\n",
      " [9120 9862]]\n",
      "Test confusion matrix\n",
      "[[1496 1050]\n",
      " [7232 6722]]\n"
     ]
    }
   ],
   "source": [
    "print(\"=\"*100)\n",
    "from sklearn.metrics import confusion_matrix\n",
    "best_t = find_best_threshold(tr_thresholds, train_fpr, train_tpr)\n",
    "print(\"Train confusion matrix\")\n",
    "print(confusion_matrix(y_train, predict_with_best_t(y_train_pred, best_t)))\n",
    "print(\"Test confusion matrix\")\n",
    "print(confusion_matrix(y_test, predict_with_best_t(y_test_pred, best_t)))"
   ]
  },
  {
   "cell_type": "code",
   "execution_count": 122,
   "metadata": {
    "colab": {
     "base_uri": "https://localhost:8080/",
     "height": 350
    },
    "colab_type": "code",
    "executionInfo": {
     "elapsed": 1389,
     "status": "ok",
     "timestamp": 1583763982843,
     "user": {
      "displayName": "Hemanth Reddy",
      "photoUrl": "",
      "userId": "16713424825086946671"
     },
     "user_tz": -330
    },
    "id": "TfdZQpl0r1eT",
    "outputId": "78334b55-83e9-4009-ca93-e699a8e127f5"
   },
   "outputs": [
    {
     "data": {
      "image/png": "[encoded data removed]",
      "text/plain": [
       "<Figure size 1080x360 with 4 Axes>"
      ]
     },
     "metadata": {
      "tags": []
     },
     "output_type": "display_data"
    }
   ],
   "source": [
    "plotheatMap((confusion_matrix(y_train, predict_with_best_t(y_train_pred, best_t))), (confusion_matrix(y_test, predict_with_best_t(y_test_pred, best_t))) )"
   ]
  },
  {
   "cell_type": "markdown",
   "metadata": {
    "colab_type": "text",
    "id": "QVQDwsJ_hgaZ"
   },
   "source": [
    "<h1>3. Conclusions</h1>"
   ]
  },
  {
   "cell_type": "code",
   "execution_count": 124,
   "metadata": {
    "colab": {
     "base_uri": "https://localhost:8080/",
     "height": 170
    },
    "colab_type": "code",
    "executionInfo": {
     "elapsed": 814,
     "status": "ok",
     "timestamp": 1583764555779,
     "user": {
      "displayName": "Hemanth Reddy",
      "photoUrl": "",
      "userId": "16713424825086946671"
     },
     "user_tz": -330
    },
    "id": "wQg6cHFHsR11",
    "outputId": "194acfc7-8e52-4394-f54a-b1af3dc5930f"
   },
   "outputs": [
    {
     "name": "stdout",
     "output_type": "stream",
     "text": [
      "+---------------------+-------+-----------------+----------+\n",
      "|      Vectorizer     | Model | Hyper parameter | TEST AUC |\n",
      "+---------------------+-------+-----------------+----------+\n",
      "|         BOW         | Brute |        77       |   0.58   |\n",
      "|        TFIDF        | Brute |        99       |   0.56   |\n",
      "|         W2V         | Brute |        21       |   0.51   |\n",
      "|       TFIDFW2V      | Brute |        45       |   0.52   |\n",
      "| TFIDF WITH 2000 pts | Brute |        21       |   0.54   |\n",
      "+---------------------+-------+-----------------+----------+\n"
     ]
    }
   ],
   "source": [
    "# Please compare all your models using Prettytable library\n",
    "from prettytable import PrettyTable\n",
    "    \n",
    "x = PrettyTable()\n",
    "\n",
    "x.field_names = [\"Vectorizer\", \"Model\", \"Hyper parameter\", \"TEST AUC\"]\n",
    "\n",
    "x.add_row([\"BOW\", \"Brute\", 77, .58])\n",
    "x.add_row([\"TFIDF\" ,\"Brute\", 99, .56])\n",
    "x.add_row([\"W2V\" ,\"Brute\", 21, .51])\n",
    "x.add_row([\"TFIDFW2V\", \"Brute\", 45, .52])\n",
    "x.add_row([\"TFIDF WITH 2000 pts\", \"Brute\", 21, .54])\n",
    "\n",
    "print(x)"
   ]
  }
 ],
 "metadata": {
  "colab": {
   "collapsed_sections": [
    "t8tV7z3MhgYG",
    "Un_Mp3cRhgYH",
    "ky0EhTrwhgYV",
    "28Bb0jjVhgYb",
    "h7FP-WAfhgYq",
    "n91j0KJGhgY6",
    "MvI7sl1thgZQ",
    "VYFVMw1ghgaC",
    "HN90-YJfhgaJ",
    "5V_tqVZMhgaO"
   ],
   "machine_shape": "hm",
   "name": "Assignment_ 3_DonorsChoose_KNN-checkpoint.ipynb",
   "provenance": [
    {
     "file_id": "1HIHgUDXVZ5XBVdjSUMbjxTvS4ddByTKW",
     "timestamp": 1581580224552
    }
   ]
  },
  "kernelspec": {
   "display_name": "Python 3",
   "language": "python",
   "name": "python3"
  },
  "language_info": {
   "codemirror_mode": {
    "name": "ipython",
    "version": 3
   },
   "file_extension": ".py",
   "mimetype": "text/x-python",
   "name": "python",
   "nbconvert_exporter": "python",
   "pygments_lexer": "ipython3",
   "version": "3.7.3"
  }
 },
 "nbformat": 4,
 "nbformat_minor": 1
}
