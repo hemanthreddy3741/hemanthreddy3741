{
  "nbformat": 4,
  "nbformat_minor": 0,
  "metadata": {
    "colab": {
      "name": "Logistic regression on donors choose.ipynb",
      "provenance": [],
      "collapsed_sections": [
        "0d0QeeQ-CyoD",
        "5YnkzKnmCyoN",
        "W544CoFtCyoN",
        "gK_SHRpTCyol",
        "YHwGesZUCyo1",
        "_s3QN_ZNCypD",
        "B1dIm8PiCypw",
        "s85gPOAbCyp1",
        "oq3NW2CbCyp3",
        "TJLjbsNYCyp5"
      ],
      "include_colab_link": true
    },
    "kernelspec": {
      "display_name": "Python 3",
      "language": "python",
      "name": "python3"
    },
    "language_info": {
      "codemirror_mode": {
        "name": "ipython",
        "version": 3
      },
      "file_extension": ".py",
      "mimetype": "text/x-python",
      "name": "python",
      "nbconvert_exporter": "python",
      "pygments_lexer": "ipython3",
      "version": "3.7.3"
    }
  },
  "cells": [
    {
      "cell_type": "markdown",
      "metadata": {
        "id": "view-in-github",
        "colab_type": "text"
      },
      "source": [
        "<a href=\"https://colab.research.google.com/github/hemanthreddy3741/hemanthreddy3741/blob/master/Logistic_regression_on_donors_choose.ipynb\" target=\"_parent\"><img src=\"https://colab.research.google.com/assets/colab-badge.svg\" alt=\"Open In Colab\"/></a>"
      ]
    },
    {
      "cell_type": "markdown",
      "metadata": {
        "id": "-Ab-X-IrCyl0"
      },
      "source": [
        "# DonorsChoose"
      ]
    },
    {
      "cell_type": "markdown",
      "metadata": {
        "id": "etNpzy7rCyl2"
      },
      "source": [
        "<p>\n",
        "DonorsChoose.org receives hundreds of thousands of project proposals each year for classroom projects in need of funding. Right now, a large number of volunteers is needed to manually screen each submission before it's approved to be posted on the DonorsChoose.org website.\n",
        "</p>\n",
        "<p>\n",
        "    Next year, DonorsChoose.org expects to receive close to 500,000 project proposals. As a result, there are three main problems they need to solve:\n",
        "<ul>\n",
        "<li>\n",
        "    How to scale current manual processes and resources to screen 500,000 projects so that they can be posted as quickly and as efficiently as possible</li>\n",
        "    <li>How to increase the consistency of project vetting across different volunteers to improve the experience for teachers</li>\n",
        "    <li>How to focus volunteer time on the applications that need the most assistance</li>\n",
        "    </ul>\n",
        "</p>    \n",
        "<p>\n",
        "The goal of the competition is to predict whether or not a DonorsChoose.org project proposal submitted by a teacher will be approved, using the text of project descriptions as well as additional metadata about the project, teacher, and school. DonorsChoose.org can then use this information to identify projects most likely to need further review before approval.\n",
        "</p>"
      ]
    },
    {
      "cell_type": "markdown",
      "metadata": {
        "id": "kO2Kg7TgCyl4"
      },
      "source": [
        "## About the DonorsChoose Data Set\n",
        "\n",
        "The `train.csv` data set provided by DonorsChoose contains the following features:\n",
        "\n",
        "Feature | Description \n",
        "----------|---------------\n",
        "**`project_id`** | A unique identifier for the proposed project. **Example:** `p036502`   \n",
        "**`project_title`**    | Title of the project. **Examples:**<br><ul><li><code>Art Will Make You Happy!</code></li><li><code>First Grade Fun</code></li></ul> \n",
        "**`project_grade_category`** | Grade level of students for which the project is targeted. One of the following enumerated values: <br/><ul><li><code>Grades PreK-2</code></li><li><code>Grades 3-5</code></li><li><code>Grades 6-8</code></li><li><code>Grades 9-12</code></li></ul>  \n",
        " **`project_subject_categories`** | One or more (comma-separated) subject categories for the project from the following enumerated list of values:  <br/><ul><li><code>Applied Learning</code></li><li><code>Care &amp; Hunger</code></li><li><code>Health &amp; Sports</code></li><li><code>History &amp; Civics</code></li><li><code>Literacy &amp; Language</code></li><li><code>Math &amp; Science</code></li><li><code>Music &amp; The Arts</code></li><li><code>Special Needs</code></li><li><code>Warmth</code></li></ul><br/> **Examples:** <br/><ul><li><code>Music &amp; The Arts</code></li><li><code>Literacy &amp; Language, Math &amp; Science</code></li>  \n",
        "  **`school_state`** | State where school is located ([Two-letter U.S. postal code](https://en.wikipedia.org/wiki/List_of_U.S._state_abbreviations#Postal_codes)). **Example:** `WY`\n",
        "**`project_subject_subcategories`** | One or more (comma-separated) subject subcategories for the project. **Examples:** <br/><ul><li><code>Literacy</code></li><li><code>Literature &amp; Writing, Social Sciences</code></li></ul> \n",
        "**`project_resource_summary`** | An explanation of the resources needed for the project. **Example:** <br/><ul><li><code>My students need hands on literacy materials to manage sensory needs!</code</li></ul> \n",
        "**`project_essay_1`**    | First application essay<sup>*</sup>  \n",
        "**`project_essay_2`**    | Second application essay<sup>*</sup> \n",
        "**`project_essay_3`**    | Third application essay<sup>*</sup> \n",
        "**`project_essay_4`**    | Fourth application essay<sup>*</sup> \n",
        "**`project_submitted_datetime`** | Datetime when project application was submitted. **Example:** `2016-04-28 12:43:56.245`   \n",
        "**`teacher_id`** | A unique identifier for the teacher of the proposed project. **Example:** `bdf8baa8fedef6bfeec7ae4ff1c15c56`  \n",
        "**`teacher_prefix`** | Teacher's title. One of the following enumerated values: <br/><ul><li><code>nan</code></li><li><code>Dr.</code></li><li><code>Mr.</code></li><li><code>Mrs.</code></li><li><code>Ms.</code></li><li><code>Teacher.</code></li></ul>  \n",
        "**`teacher_number_of_previously_posted_projects`** | Number of project applications previously submitted by the same teacher. **Example:** `2` \n",
        "\n",
        "<sup>*</sup> See the section <b>Notes on the Essay Data</b> for more details about these features.\n",
        "\n",
        "Additionally, the `resources.csv` data set provides more data about the resources required for each project. Each line in this file represents a resource required by a project:\n",
        "\n",
        "Feature | Description \n",
        "----------|---------------\n",
        "**`id`** | A `project_id` value from the `train.csv` file.  **Example:** `p036502`   \n",
        "**`description`** | Desciption of the resource. **Example:** `Tenor Saxophone Reeds, Box of 25`   \n",
        "**`quantity`** | Quantity of the resource required. **Example:** `3`   \n",
        "**`price`** | Price of the resource required. **Example:** `9.95`   \n",
        "\n",
        "**Note:** Many projects require multiple resources. The `id` value corresponds to a `project_id` in train.csv, so you use it as a key to retrieve all resources needed for a project:\n",
        "\n",
        "The data set contains the following label (the value you will attempt to predict):\n",
        "\n",
        "Label | Description\n",
        "----------|---------------\n",
        "`project_is_approved` | A binary flag indicating whether DonorsChoose approved the project. A value of `0` indicates the project was not approved, and a value of `1` indicates the project was approved."
      ]
    },
    {
      "cell_type": "markdown",
      "metadata": {
        "id": "dBGA_YStCyl6"
      },
      "source": [
        "### Notes on the Essay Data\n",
        "\n",
        "<ul>\n",
        "Prior to May 17, 2016, the prompts for the essays were as follows:\n",
        "<li>__project_essay_1:__ \"Introduce us to your classroom\"</li>\n",
        "<li>__project_essay_2:__ \"Tell us more about your students\"</li>\n",
        "<li>__project_essay_3:__ \"Describe how your students will use the materials you're requesting\"</li>\n",
        "<li>__project_essay_3:__ \"Close by sharing why your project will make a difference\"</li>\n",
        "</ul>\n",
        "\n",
        "\n",
        "<ul>\n",
        "Starting on May 17, 2016, the number of essays was reduced from 4 to 2, and the prompts for the first 2 essays were changed to the following:<br>\n",
        "<li>__project_essay_1:__ \"Describe your students: What makes your students special? Specific details about their background, your neighborhood, and your school are all helpful.\"</li>\n",
        "<li>__project_essay_2:__ \"About your project: How will these materials make a difference in your students' learning and improve their school lives?\"</li>\n",
        "<br>For all projects with project_submitted_datetime of 2016-05-17 and later, the values of project_essay_3 and project_essay_4 will be NaN.\n",
        "</ul>\n"
      ]
    },
    {
      "cell_type": "code",
      "metadata": {
        "id": "XTrCJ5p9Cyl7"
      },
      "source": [
        "%matplotlib inline\n",
        "import warnings\n",
        "warnings.filterwarnings(\"ignore\")\n",
        "\n",
        "import sqlite3\n",
        "import pandas as pd\n",
        "import numpy as np\n",
        "import nltk\n",
        "import string\n",
        "import matplotlib.pyplot as plt\n",
        "import seaborn as sns\n",
        "from sklearn.feature_extraction.text import TfidfTransformer\n",
        "from sklearn.feature_extraction.text import TfidfVectorizer\n",
        "\n",
        "from sklearn.feature_extraction.text import CountVectorizer\n",
        "from sklearn.metrics import confusion_matrix\n",
        "from sklearn import metrics\n",
        "from sklearn.metrics import roc_curve, auc\n",
        "from nltk.stem.porter import PorterStemmer\n",
        "\n",
        "import re\n",
        "import string\n",
        "from nltk.corpus import stopwords\n",
        "from nltk.stem import PorterStemmer\n",
        "from nltk.stem.wordnet import WordNetLemmatizer\n",
        "\n",
        "from tqdm import tqdm\n",
        "import os\n",
        "\n",
        "\n",
        "from collections import Counter"
      ],
      "execution_count": null,
      "outputs": []
    },
    {
      "cell_type": "markdown",
      "metadata": {
        "id": "MjknLZQqCymQ"
      },
      "source": [
        "## Reading Data"
      ]
    },
    {
      "cell_type": "code",
      "metadata": {
        "id": "abtcqBS8CymT",
        "colab": {
          "base_uri": "https://localhost:8080/",
          "height": 328
        },
        "outputId": "d17d994a-f69b-450e-ee5a-daf1363ee2c3"
      },
      "source": [
        "project_data = pd.read_csv('train_data.csv',nrows=70000)\n",
        "resource_data = pd.read_csv('resources.csv')"
      ],
      "execution_count": null,
      "outputs": [
        {
          "output_type": "error",
          "ename": "FileNotFoundError",
          "evalue": "ignored",
          "traceback": [
            "\u001b[0;31m---------------------------------------------------------------------------\u001b[0m",
            "\u001b[0;31mFileNotFoundError\u001b[0m                         Traceback (most recent call last)",
            "\u001b[0;32m<ipython-input-2-811469cfa167>\u001b[0m in \u001b[0;36m<module>\u001b[0;34m()\u001b[0m\n\u001b[0;32m----> 1\u001b[0;31m \u001b[0mproject_data\u001b[0m \u001b[0;34m=\u001b[0m \u001b[0mpd\u001b[0m\u001b[0;34m.\u001b[0m\u001b[0mread_csv\u001b[0m\u001b[0;34m(\u001b[0m\u001b[0;34m'train_data.csv'\u001b[0m\u001b[0;34m,\u001b[0m\u001b[0mnrows\u001b[0m\u001b[0;34m=\u001b[0m\u001b[0;36m70000\u001b[0m\u001b[0;34m)\u001b[0m\u001b[0;34m\u001b[0m\u001b[0;34m\u001b[0m\u001b[0m\n\u001b[0m\u001b[1;32m      2\u001b[0m \u001b[0mresource_data\u001b[0m \u001b[0;34m=\u001b[0m \u001b[0mpd\u001b[0m\u001b[0;34m.\u001b[0m\u001b[0mread_csv\u001b[0m\u001b[0;34m(\u001b[0m\u001b[0;34m'resources.csv'\u001b[0m\u001b[0;34m)\u001b[0m\u001b[0;34m\u001b[0m\u001b[0;34m\u001b[0m\u001b[0m\n",
            "\u001b[0;32m/usr/local/lib/python3.7/dist-packages/pandas/util/_decorators.py\u001b[0m in \u001b[0;36mwrapper\u001b[0;34m(*args, **kwargs)\u001b[0m\n\u001b[1;32m    309\u001b[0m                     \u001b[0mstacklevel\u001b[0m\u001b[0;34m=\u001b[0m\u001b[0mstacklevel\u001b[0m\u001b[0;34m,\u001b[0m\u001b[0;34m\u001b[0m\u001b[0;34m\u001b[0m\u001b[0m\n\u001b[1;32m    310\u001b[0m                 )\n\u001b[0;32m--> 311\u001b[0;31m             \u001b[0;32mreturn\u001b[0m \u001b[0mfunc\u001b[0m\u001b[0;34m(\u001b[0m\u001b[0;34m*\u001b[0m\u001b[0margs\u001b[0m\u001b[0;34m,\u001b[0m \u001b[0;34m**\u001b[0m\u001b[0mkwargs\u001b[0m\u001b[0;34m)\u001b[0m\u001b[0;34m\u001b[0m\u001b[0;34m\u001b[0m\u001b[0m\n\u001b[0m\u001b[1;32m    312\u001b[0m \u001b[0;34m\u001b[0m\u001b[0m\n\u001b[1;32m    313\u001b[0m         \u001b[0;32mreturn\u001b[0m \u001b[0mwrapper\u001b[0m\u001b[0;34m\u001b[0m\u001b[0;34m\u001b[0m\u001b[0m\n",
            "\u001b[0;32m/usr/local/lib/python3.7/dist-packages/pandas/io/parsers/readers.py\u001b[0m in \u001b[0;36mread_csv\u001b[0;34m(filepath_or_buffer, sep, delimiter, header, names, index_col, usecols, squeeze, prefix, mangle_dupe_cols, dtype, engine, converters, true_values, false_values, skipinitialspace, skiprows, skipfooter, nrows, na_values, keep_default_na, na_filter, verbose, skip_blank_lines, parse_dates, infer_datetime_format, keep_date_col, date_parser, dayfirst, cache_dates, iterator, chunksize, compression, thousands, decimal, lineterminator, quotechar, quoting, doublequote, escapechar, comment, encoding, encoding_errors, dialect, error_bad_lines, warn_bad_lines, on_bad_lines, delim_whitespace, low_memory, memory_map, float_precision, storage_options)\u001b[0m\n\u001b[1;32m    584\u001b[0m     \u001b[0mkwds\u001b[0m\u001b[0;34m.\u001b[0m\u001b[0mupdate\u001b[0m\u001b[0;34m(\u001b[0m\u001b[0mkwds_defaults\u001b[0m\u001b[0;34m)\u001b[0m\u001b[0;34m\u001b[0m\u001b[0;34m\u001b[0m\u001b[0m\n\u001b[1;32m    585\u001b[0m \u001b[0;34m\u001b[0m\u001b[0m\n\u001b[0;32m--> 586\u001b[0;31m     \u001b[0;32mreturn\u001b[0m \u001b[0m_read\u001b[0m\u001b[0;34m(\u001b[0m\u001b[0mfilepath_or_buffer\u001b[0m\u001b[0;34m,\u001b[0m \u001b[0mkwds\u001b[0m\u001b[0;34m)\u001b[0m\u001b[0;34m\u001b[0m\u001b[0;34m\u001b[0m\u001b[0m\n\u001b[0m\u001b[1;32m    587\u001b[0m \u001b[0;34m\u001b[0m\u001b[0m\n\u001b[1;32m    588\u001b[0m \u001b[0;34m\u001b[0m\u001b[0m\n",
            "\u001b[0;32m/usr/local/lib/python3.7/dist-packages/pandas/io/parsers/readers.py\u001b[0m in \u001b[0;36m_read\u001b[0;34m(filepath_or_buffer, kwds)\u001b[0m\n\u001b[1;32m    480\u001b[0m \u001b[0;34m\u001b[0m\u001b[0m\n\u001b[1;32m    481\u001b[0m     \u001b[0;31m# Create the parser.\u001b[0m\u001b[0;34m\u001b[0m\u001b[0;34m\u001b[0m\u001b[0;34m\u001b[0m\u001b[0m\n\u001b[0;32m--> 482\u001b[0;31m     \u001b[0mparser\u001b[0m \u001b[0;34m=\u001b[0m \u001b[0mTextFileReader\u001b[0m\u001b[0;34m(\u001b[0m\u001b[0mfilepath_or_buffer\u001b[0m\u001b[0;34m,\u001b[0m \u001b[0;34m**\u001b[0m\u001b[0mkwds\u001b[0m\u001b[0;34m)\u001b[0m\u001b[0;34m\u001b[0m\u001b[0;34m\u001b[0m\u001b[0m\n\u001b[0m\u001b[1;32m    483\u001b[0m \u001b[0;34m\u001b[0m\u001b[0m\n\u001b[1;32m    484\u001b[0m     \u001b[0;32mif\u001b[0m \u001b[0mchunksize\u001b[0m \u001b[0;32mor\u001b[0m \u001b[0miterator\u001b[0m\u001b[0;34m:\u001b[0m\u001b[0;34m\u001b[0m\u001b[0;34m\u001b[0m\u001b[0m\n",
            "\u001b[0;32m/usr/local/lib/python3.7/dist-packages/pandas/io/parsers/readers.py\u001b[0m in \u001b[0;36m__init__\u001b[0;34m(self, f, engine, **kwds)\u001b[0m\n\u001b[1;32m    809\u001b[0m             \u001b[0mself\u001b[0m\u001b[0;34m.\u001b[0m\u001b[0moptions\u001b[0m\u001b[0;34m[\u001b[0m\u001b[0;34m\"has_index_names\"\u001b[0m\u001b[0;34m]\u001b[0m \u001b[0;34m=\u001b[0m \u001b[0mkwds\u001b[0m\u001b[0;34m[\u001b[0m\u001b[0;34m\"has_index_names\"\u001b[0m\u001b[0;34m]\u001b[0m\u001b[0;34m\u001b[0m\u001b[0;34m\u001b[0m\u001b[0m\n\u001b[1;32m    810\u001b[0m \u001b[0;34m\u001b[0m\u001b[0m\n\u001b[0;32m--> 811\u001b[0;31m         \u001b[0mself\u001b[0m\u001b[0;34m.\u001b[0m\u001b[0m_engine\u001b[0m \u001b[0;34m=\u001b[0m \u001b[0mself\u001b[0m\u001b[0;34m.\u001b[0m\u001b[0m_make_engine\u001b[0m\u001b[0;34m(\u001b[0m\u001b[0mself\u001b[0m\u001b[0;34m.\u001b[0m\u001b[0mengine\u001b[0m\u001b[0;34m)\u001b[0m\u001b[0;34m\u001b[0m\u001b[0;34m\u001b[0m\u001b[0m\n\u001b[0m\u001b[1;32m    812\u001b[0m \u001b[0;34m\u001b[0m\u001b[0m\n\u001b[1;32m    813\u001b[0m     \u001b[0;32mdef\u001b[0m \u001b[0mclose\u001b[0m\u001b[0;34m(\u001b[0m\u001b[0mself\u001b[0m\u001b[0;34m)\u001b[0m\u001b[0;34m:\u001b[0m\u001b[0;34m\u001b[0m\u001b[0;34m\u001b[0m\u001b[0m\n",
            "\u001b[0;32m/usr/local/lib/python3.7/dist-packages/pandas/io/parsers/readers.py\u001b[0m in \u001b[0;36m_make_engine\u001b[0;34m(self, engine)\u001b[0m\n\u001b[1;32m   1038\u001b[0m             )\n\u001b[1;32m   1039\u001b[0m         \u001b[0;31m# error: Too many arguments for \"ParserBase\"\u001b[0m\u001b[0;34m\u001b[0m\u001b[0;34m\u001b[0m\u001b[0;34m\u001b[0m\u001b[0m\n\u001b[0;32m-> 1040\u001b[0;31m         \u001b[0;32mreturn\u001b[0m \u001b[0mmapping\u001b[0m\u001b[0;34m[\u001b[0m\u001b[0mengine\u001b[0m\u001b[0;34m]\u001b[0m\u001b[0;34m(\u001b[0m\u001b[0mself\u001b[0m\u001b[0;34m.\u001b[0m\u001b[0mf\u001b[0m\u001b[0;34m,\u001b[0m \u001b[0;34m**\u001b[0m\u001b[0mself\u001b[0m\u001b[0;34m.\u001b[0m\u001b[0moptions\u001b[0m\u001b[0;34m)\u001b[0m  \u001b[0;31m# type: ignore[call-arg]\u001b[0m\u001b[0;34m\u001b[0m\u001b[0;34m\u001b[0m\u001b[0m\n\u001b[0m\u001b[1;32m   1041\u001b[0m \u001b[0;34m\u001b[0m\u001b[0m\n\u001b[1;32m   1042\u001b[0m     \u001b[0;32mdef\u001b[0m \u001b[0m_failover_to_python\u001b[0m\u001b[0;34m(\u001b[0m\u001b[0mself\u001b[0m\u001b[0;34m)\u001b[0m\u001b[0;34m:\u001b[0m\u001b[0;34m\u001b[0m\u001b[0;34m\u001b[0m\u001b[0m\n",
            "\u001b[0;32m/usr/local/lib/python3.7/dist-packages/pandas/io/parsers/c_parser_wrapper.py\u001b[0m in \u001b[0;36m__init__\u001b[0;34m(self, src, **kwds)\u001b[0m\n\u001b[1;32m     49\u001b[0m \u001b[0;34m\u001b[0m\u001b[0m\n\u001b[1;32m     50\u001b[0m         \u001b[0;31m# open handles\u001b[0m\u001b[0;34m\u001b[0m\u001b[0;34m\u001b[0m\u001b[0;34m\u001b[0m\u001b[0m\n\u001b[0;32m---> 51\u001b[0;31m         \u001b[0mself\u001b[0m\u001b[0;34m.\u001b[0m\u001b[0m_open_handles\u001b[0m\u001b[0;34m(\u001b[0m\u001b[0msrc\u001b[0m\u001b[0;34m,\u001b[0m \u001b[0mkwds\u001b[0m\u001b[0;34m)\u001b[0m\u001b[0;34m\u001b[0m\u001b[0;34m\u001b[0m\u001b[0m\n\u001b[0m\u001b[1;32m     52\u001b[0m         \u001b[0;32massert\u001b[0m \u001b[0mself\u001b[0m\u001b[0;34m.\u001b[0m\u001b[0mhandles\u001b[0m \u001b[0;32mis\u001b[0m \u001b[0;32mnot\u001b[0m \u001b[0;32mNone\u001b[0m\u001b[0;34m\u001b[0m\u001b[0;34m\u001b[0m\u001b[0m\n\u001b[1;32m     53\u001b[0m \u001b[0;34m\u001b[0m\u001b[0m\n",
            "\u001b[0;32m/usr/local/lib/python3.7/dist-packages/pandas/io/parsers/base_parser.py\u001b[0m in \u001b[0;36m_open_handles\u001b[0;34m(self, src, kwds)\u001b[0m\n\u001b[1;32m    227\u001b[0m             \u001b[0mmemory_map\u001b[0m\u001b[0;34m=\u001b[0m\u001b[0mkwds\u001b[0m\u001b[0;34m.\u001b[0m\u001b[0mget\u001b[0m\u001b[0;34m(\u001b[0m\u001b[0;34m\"memory_map\"\u001b[0m\u001b[0;34m,\u001b[0m \u001b[0;32mFalse\u001b[0m\u001b[0;34m)\u001b[0m\u001b[0;34m,\u001b[0m\u001b[0;34m\u001b[0m\u001b[0;34m\u001b[0m\u001b[0m\n\u001b[1;32m    228\u001b[0m             \u001b[0mstorage_options\u001b[0m\u001b[0;34m=\u001b[0m\u001b[0mkwds\u001b[0m\u001b[0;34m.\u001b[0m\u001b[0mget\u001b[0m\u001b[0;34m(\u001b[0m\u001b[0;34m\"storage_options\"\u001b[0m\u001b[0;34m,\u001b[0m \u001b[0;32mNone\u001b[0m\u001b[0;34m)\u001b[0m\u001b[0;34m,\u001b[0m\u001b[0;34m\u001b[0m\u001b[0;34m\u001b[0m\u001b[0m\n\u001b[0;32m--> 229\u001b[0;31m             \u001b[0merrors\u001b[0m\u001b[0;34m=\u001b[0m\u001b[0mkwds\u001b[0m\u001b[0;34m.\u001b[0m\u001b[0mget\u001b[0m\u001b[0;34m(\u001b[0m\u001b[0;34m\"encoding_errors\"\u001b[0m\u001b[0;34m,\u001b[0m \u001b[0;34m\"strict\"\u001b[0m\u001b[0;34m)\u001b[0m\u001b[0;34m,\u001b[0m\u001b[0;34m\u001b[0m\u001b[0;34m\u001b[0m\u001b[0m\n\u001b[0m\u001b[1;32m    230\u001b[0m         )\n\u001b[1;32m    231\u001b[0m \u001b[0;34m\u001b[0m\u001b[0m\n",
            "\u001b[0;32m/usr/local/lib/python3.7/dist-packages/pandas/io/common.py\u001b[0m in \u001b[0;36mget_handle\u001b[0;34m(path_or_buf, mode, encoding, compression, memory_map, is_text, errors, storage_options)\u001b[0m\n\u001b[1;32m    705\u001b[0m                 \u001b[0mencoding\u001b[0m\u001b[0;34m=\u001b[0m\u001b[0mioargs\u001b[0m\u001b[0;34m.\u001b[0m\u001b[0mencoding\u001b[0m\u001b[0;34m,\u001b[0m\u001b[0;34m\u001b[0m\u001b[0;34m\u001b[0m\u001b[0m\n\u001b[1;32m    706\u001b[0m                 \u001b[0merrors\u001b[0m\u001b[0;34m=\u001b[0m\u001b[0merrors\u001b[0m\u001b[0;34m,\u001b[0m\u001b[0;34m\u001b[0m\u001b[0;34m\u001b[0m\u001b[0m\n\u001b[0;32m--> 707\u001b[0;31m                 \u001b[0mnewline\u001b[0m\u001b[0;34m=\u001b[0m\u001b[0;34m\"\"\u001b[0m\u001b[0;34m,\u001b[0m\u001b[0;34m\u001b[0m\u001b[0;34m\u001b[0m\u001b[0m\n\u001b[0m\u001b[1;32m    708\u001b[0m             )\n\u001b[1;32m    709\u001b[0m         \u001b[0;32melse\u001b[0m\u001b[0;34m:\u001b[0m\u001b[0;34m\u001b[0m\u001b[0;34m\u001b[0m\u001b[0m\n",
            "\u001b[0;31mFileNotFoundError\u001b[0m: [Errno 2] No such file or directory: 'train_data.csv'"
          ]
        }
      ]
    },
    {
      "cell_type": "code",
      "metadata": {
        "id": "6Bd_YjUkA6O6"
      },
      "source": [
        "project_data.isnull().sum()"
      ],
      "execution_count": null,
      "outputs": []
    },
    {
      "cell_type": "code",
      "metadata": {
        "id": "-tmXfqfCA6Pb"
      },
      "source": [
        "project_data.dropna(subset = ['teacher_prefix'], inplace=True)"
      ],
      "execution_count": null,
      "outputs": []
    },
    {
      "cell_type": "code",
      "metadata": {
        "id": "Z69Qiu3CA6P1"
      },
      "source": [
        "project_data.isnull().sum()"
      ],
      "execution_count": null,
      "outputs": []
    },
    {
      "cell_type": "code",
      "metadata": {
        "id": "NrExQW8lA6QH"
      },
      "source": [
        "y = project_data['project_is_approved'].values\n",
        "project_data.drop(['project_is_approved'], axis=1, inplace=True)"
      ],
      "execution_count": null,
      "outputs": []
    },
    {
      "cell_type": "code",
      "metadata": {
        "id": "Prf2ghjDCymX",
        "scrolled": true
      },
      "source": [
        "print(\"Number of data points in entire data\", project_data.shape)\n",
        "print('-'*50)\n",
        "print(\"The attributes of data :\", project_data.columns.values)"
      ],
      "execution_count": null,
      "outputs": []
    },
    {
      "cell_type": "code",
      "metadata": {
        "id": "ntdWuRoUCymj"
      },
      "source": [
        "print(\"Number of data points in entire data\", resource_data.shape)\n",
        "print(resource_data.columns.values)\n",
        "resource_data.head(2)"
      ],
      "execution_count": null,
      "outputs": []
    },
    {
      "cell_type": "markdown",
      "metadata": {
        "id": "6WZaYhwJCymp"
      },
      "source": [
        "## Preprocessing of `project_subject_categories`"
      ]
    },
    {
      "cell_type": "code",
      "metadata": {
        "id": "Mdkhq7PRCymr"
      },
      "source": [
        "catogories = list(project_data['project_subject_categories'].values)\n",
        "# remove special characters from list of strings python: https://stackoverflow.com/a/47301924/4084039\n",
        "\n",
        "# https://www.geeksforgeeks.org/removing-stop-words-nltk-python/\n",
        "# https://stackoverflow.com/questions/23669024/how-to-strip-a-specific-word-from-a-string\n",
        "# https://stackoverflow.com/questions/8270092/remove-all-whitespace-in-a-string-in-python\n",
        "cat_list = []\n",
        "for i in catogories:\n",
        "    temp = \"\"\n",
        "    # consider we have text like this \"Math & Science, Warmth, Care & Hunger\"\n",
        "    for j in i.split(','): # it will split it in three parts [\"Math & Science\", \"Warmth\", \"Care & Hunger\"]\n",
        "        if 'The' in j.split(): # this will split each of the catogory based on space \"Math & Science\"=> \"Math\",\"&\", \"Science\"\n",
        "            j=j.replace('The','') # if we have the words \"The\" we are going to replace it with ''(i.e removing 'The')\n",
        "        j = j.replace(' ','') # we are placeing all the ' '(space) with ''(empty) ex:\"Math & Science\"=>\"Math&Science\"\n",
        "        temp+=j.strip()+\" \" #\" abc \".strip() will return \"abc\", remove the trailing spaces\n",
        "        temp = temp.replace('&','_') # we are replacing the & value into \n",
        "    cat_list.append(temp.strip())\n",
        "    \n",
        "project_data['clean_categories'] = cat_list\n",
        "project_data.drop(['project_subject_categories'], axis=1, inplace=True)\n",
        "\n",
        "from collections import Counter\n",
        "my_counter = Counter()\n",
        "for word in project_data['clean_categories'].values:\n",
        "    my_counter.update(word.split())\n",
        "\n",
        "cat_dict = dict(my_counter)\n",
        "sorted_cat_dict = dict(sorted(cat_dict.items(), key=lambda kv: kv[1]))"
      ],
      "execution_count": null,
      "outputs": []
    },
    {
      "cell_type": "markdown",
      "metadata": {
        "id": "386yx3T2Cymv"
      },
      "source": [
        "##  Preprocessing of `project_subject_subcategories`"
      ]
    },
    {
      "cell_type": "code",
      "metadata": {
        "id": "4QSP0r8XCymw"
      },
      "source": [
        "sub_catogories = list(project_data['project_subject_subcategories'].values)\n",
        "# remove special characters from list of strings python: https://stackoverflow.com/a/47301924/4084039\n",
        "\n",
        "# https://www.geeksforgeeks.org/removing-stop-words-nltk-python/\n",
        "# https://stackoverflow.com/questions/23669024/how-to-strip-a-specific-word-from-a-string\n",
        "# https://stackoverflow.com/questions/8270092/remove-all-whitespace-in-a-string-in-python\n",
        "\n",
        "sub_cat_list = []\n",
        "for i in sub_catogories:\n",
        "    temp = \"\"\n",
        "    # consider we have text like this \"Math & Science, Warmth, Care & Hunger\"\n",
        "    for j in i.split(','): # it will split it in three parts [\"Math & Science\", \"Warmth\", \"Care & Hunger\"]\n",
        "        if 'The' in j.split(): # this will split each of the catogory based on space \"Math & Science\"=> \"Math\",\"&\", \"Science\"\n",
        "            j=j.replace('The','') # if we have the words \"The\" we are going to replace it with ''(i.e removing 'The')\n",
        "        j = j.replace(' ','') # we are placeing all the ' '(space) with ''(empty) ex:\"Math & Science\"=>\"Math&Science\"\n",
        "        temp +=j.strip()+\" \"#\" abc \".strip() will return \"abc\", remove the trailing spaces\n",
        "        temp = temp.replace('&','_')\n",
        "    sub_cat_list.append(temp.strip())\n",
        "\n",
        "project_data['clean_subcategories'] = sub_cat_list\n",
        "project_data.drop(['project_subject_subcategories'], axis=1, inplace=True)\n",
        "\n",
        "# count of all the words in corpus python: https://stackoverflow.com/a/22898595/4084039\n",
        "my_counter = Counter()\n",
        "for word in project_data['clean_subcategories'].values:\n",
        "    my_counter.update(word.split())\n",
        "    \n",
        "sub_cat_dict = dict(my_counter)\n",
        "sorted_sub_cat_dict = dict(sorted(sub_cat_dict.items(), key=lambda kv: kv[1]))"
      ],
      "execution_count": null,
      "outputs": []
    },
    {
      "cell_type": "markdown",
      "metadata": {
        "id": "NANzhWlLCynN"
      },
      "source": [
        "##  Text preprocessing"
      ]
    },
    {
      "cell_type": "code",
      "metadata": {
        "id": "yqsmu-BTCynQ"
      },
      "source": [
        "# merge two column text dataframe: \n",
        "project_data[\"essay\"] = project_data[\"project_essay_1\"].map(str) +\\\n",
        "                        project_data[\"project_essay_2\"].map(str) + \\\n",
        "                        project_data[\"project_essay_3\"].map(str) + \\\n",
        "                        project_data[\"project_essay_4\"].map(str)"
      ],
      "execution_count": null,
      "outputs": []
    },
    {
      "cell_type": "code",
      "metadata": {
        "id": "2ou8qSzkCyna"
      },
      "source": [
        "# Dropping the other 4 columns related in project essay\n",
        "project_data.drop(['project_essay_1', 'project_essay_2', 'project_essay_3', 'project_essay_4'], axis=1, inplace=True)"
      ],
      "execution_count": null,
      "outputs": []
    },
    {
      "cell_type": "code",
      "metadata": {
        "id": "z_I4Op8-A6SY"
      },
      "source": [
        "project_data.head(2)"
      ],
      "execution_count": null,
      "outputs": []
    },
    {
      "cell_type": "code",
      "metadata": {
        "id": "TCl7L1DhCyne"
      },
      "source": [
        "# printing some random reviews\n",
        "print(project_data['essay'].values[0])\n",
        "print(\"=\"*50)\n",
        "print(project_data['essay'].values[150])\n",
        "print(\"=\"*50)\n",
        "print(project_data['essay'].values[1000])\n",
        "print(\"=\"*50)\n",
        "print(project_data['essay'].values[20000])\n",
        "print(\"=\"*50)\n",
        "print(project_data['essay'].values[29500])\n",
        "print(\"=\"*50)"
      ],
      "execution_count": null,
      "outputs": []
    },
    {
      "cell_type": "code",
      "metadata": {
        "id": "Yqj4vGVoCynh"
      },
      "source": [
        "# https://stackoverflow.com/a/47091490/4084039\n",
        "import re\n",
        "\n",
        "def decontracted(phrase):\n",
        "    # specific\n",
        "    phrase = re.sub(r\"won't\", \"will not\", phrase)\n",
        "    phrase = re.sub(r\"can\\'t\", \"can not\", phrase)\n",
        "\n",
        "    # general\n",
        "    phrase = re.sub(r\"n\\'t\", \" not\", phrase)\n",
        "    phrase = re.sub(r\"\\'re\", \" are\", phrase)\n",
        "    phrase = re.sub(r\"\\'s\", \" is\", phrase)\n",
        "    phrase = re.sub(r\"\\'d\", \" would\", phrase)\n",
        "    phrase = re.sub(r\"\\'ll\", \" will\", phrase)\n",
        "    phrase = re.sub(r\"\\'t\", \" not\", phrase)\n",
        "    phrase = re.sub(r\"\\'ve\", \" have\", phrase)\n",
        "    phrase = re.sub(r\"\\'m\", \" am\", phrase)\n",
        "    phrase = re.sub(r\"%\", \" percent\", phrase)\n",
        "    phrase = re.sub(\"nannan\",' ', phrase)# Found this pattern in some essays which adds no meaning\n",
        "    return phrase"
      ],
      "execution_count": null,
      "outputs": []
    },
    {
      "cell_type": "code",
      "metadata": {
        "id": "aDUbe9piCynj"
      },
      "source": [
        "sent = decontracted(project_data['essay'].values[20000])\n",
        "print(sent)\n",
        "print(\"=\"*50)"
      ],
      "execution_count": null,
      "outputs": []
    },
    {
      "cell_type": "code",
      "metadata": {
        "id": "vXSbHYJ4Cynp"
      },
      "source": [
        "# \\r \\n \\t remove from string python: http://texthandler.com/info/remove-line-breaks-python/\n",
        "sent = sent.replace('\\\\r', ' ')\n",
        "sent = sent.replace('\\\\\"', ' ')\n",
        "sent = sent.replace('\\\\n', ' ')\n",
        "print(sent)"
      ],
      "execution_count": null,
      "outputs": []
    },
    {
      "cell_type": "code",
      "metadata": {
        "id": "67Agrz_YCynt"
      },
      "source": [
        "#remove spacial character: https://stackoverflow.com/a/5843547/4084039\n",
        "sent = re.sub('[^A-Za-z0-9]+', ' ', sent)\n",
        "print(sent)"
      ],
      "execution_count": null,
      "outputs": []
    },
    {
      "cell_type": "code",
      "metadata": {
        "id": "YY0pzOpdA6TR"
      },
      "source": [
        "project_data.shape"
      ],
      "execution_count": null,
      "outputs": []
    },
    {
      "cell_type": "code",
      "metadata": {
        "id": "hhyPw-8wCyny"
      },
      "source": [
        "# https://gist.github.com/sebleier/554280\n",
        "# we are removing the words from the stop words list: 'no', 'nor', 'not'\n",
        "stopwords= ['i', 'me', 'my', 'myself', 'we', 'our', 'ours', 'ourselves', 'you', \"you're\", \"you've\",\\\n",
        "            \"you'll\", \"you'd\", 'your', 'yours', 'yourself', 'yourselves', 'he', 'him', 'his', 'himself', \\\n",
        "            'she', \"she's\", 'her', 'hers', 'herself', 'it', \"it's\", 'its', 'itself', 'they', 'them', 'their',\\\n",
        "            'theirs', 'themselves', 'what', 'which', 'who', 'whom', 'this', 'that', \"that'll\", 'these', 'those', \\\n",
        "            'am', 'is', 'are', 'was', 'were', 'be', 'been', 'being', 'have', 'has', 'had', 'having', 'do', 'does', \\\n",
        "            'did', 'doing', 'a', 'an', 'the', 'and', 'but', 'if', 'or', 'because', 'as', 'until', 'while', 'of', \\\n",
        "            'at', 'by', 'for', 'with', 'about', 'against', 'between', 'into', 'through', 'during', 'before', 'after',\\\n",
        "            'above', 'below', 'to', 'from', 'up', 'down', 'in', 'out', 'on', 'off', 'over', 'under', 'again', 'further',\\\n",
        "            'then', 'once', 'here', 'there', 'when', 'where', 'why', 'how', 'all', 'any', 'both', 'each', 'few', 'more',\\\n",
        "            'most', 'other', 'some', 'such', 'only', 'own', 'same', 'so', 'than', 'too', 'very', \\\n",
        "            's', 't', 'can', 'will', 'just', 'don', \"don't\", 'should', \"should've\", 'now', 'd', 'll', 'm', 'o', 're', \\\n",
        "            've', 'y', 'ain', 'aren', \"aren't\", 'couldn', \"couldn't\", 'didn', \"didn't\", 'doesn', \"doesn't\", 'hadn',\\\n",
        "            \"hadn't\", 'hasn', \"hasn't\", 'haven', \"haven't\", 'isn', \"isn't\", 'ma', 'mightn', \"mightn't\", 'mustn',\\\n",
        "            \"mustn't\", 'needn', \"needn't\", 'shan', \"shan't\", 'shouldn', \"shouldn't\", 'wasn', \"wasn't\", 'weren', \"weren't\", \\\n",
        "            'won', \"won't\", 'wouldn', \"wouldn't\"]"
      ],
      "execution_count": null,
      "outputs": []
    },
    {
      "cell_type": "code",
      "metadata": {
        "id": "d6RCdphRCyn0"
      },
      "source": [
        "# Combining all the above snippets \n",
        "from tqdm import tqdm\n",
        "preprocessed_essays = []\n",
        "# tqdm is for printing the status bar\n",
        "for sentence in tqdm(project_data['essay'].values):\n",
        "    sent = decontracted(sentence)\n",
        "    sent = sent.replace('\\\\r', ' ')\n",
        "    sent = sent.replace('\\\\\"', ' ')\n",
        "    sent = sent.replace('\\\\n', ' ')\n",
        "    sent = re.sub('[^A-Za-z0-9]+', ' ', sent)\n",
        "    # https://gist.github.com/sebleier/554280\n",
        "    sent = ' '.join(e for e in sent.split() if e.lower() not in stopwords)\n",
        "    preprocessed_essays.append(sent.lower().strip())"
      ],
      "execution_count": null,
      "outputs": []
    },
    {
      "cell_type": "code",
      "metadata": {
        "id": "rPo9cLvNCyn3"
      },
      "source": [
        "# after preprocesing\n",
        "preprocessed_essays[20000]"
      ],
      "execution_count": null,
      "outputs": []
    },
    {
      "cell_type": "markdown",
      "metadata": {
        "id": "QeUw6WMKCyn7"
      },
      "source": [
        "<h2><font color='black'>  Preprocessing of `project_title`</font></h2>"
      ]
    },
    {
      "cell_type": "code",
      "metadata": {
        "id": "Ql9ttfW3Cyn7"
      },
      "source": [
        "# similarly preprocessing the titles also\n",
        "preprocessed_title = []\n",
        "# tqdm is for printing the status bar\n",
        "for sentance in tqdm(project_data['project_title'].values):\n",
        "    sent = decontracted(sentance)\n",
        "    sent = sent.replace('\\\\r', ' ')\n",
        "    sent = sent.replace('\\\\\"', ' ')\n",
        "    sent = sent.replace('\\\\n', ' ')\n",
        "    sent = re.sub('[^A-Za-z0-9]+', ' ', sent)\n",
        "    # https://gist.github.com/sebleier/554280\n",
        "    sent = ' '.join(e for e in sent.split() if e not in stopwords)\n",
        "    preprocessed_title.append(sent.lower().strip())"
      ],
      "execution_count": null,
      "outputs": []
    },
    {
      "cell_type": "code",
      "metadata": {
        "id": "D1YRNIpcA6UG"
      },
      "source": [
        "project_data['project_title'] = preprocessed_title"
      ],
      "execution_count": null,
      "outputs": []
    },
    {
      "cell_type": "code",
      "metadata": {
        "id": "nb0CXAwYA6UN"
      },
      "source": [
        "#Removing '.' from teacher prefix(as a process of text preprocessing)\n",
        "project_data['teacher_prefix']=project_data['teacher_prefix'].str.replace('\\.','',regex=True).astype(str)"
      ],
      "execution_count": null,
      "outputs": []
    },
    {
      "cell_type": "code",
      "metadata": {
        "id": "xXlfivGHA6UZ"
      },
      "source": [
        "project_data['teacher_prefix'].isna().any()"
      ],
      "execution_count": null,
      "outputs": []
    },
    {
      "cell_type": "code",
      "metadata": {
        "id": "S9x7ClL8A6Um"
      },
      "source": [
        "project_data['teacher_prefix'].value_counts()"
      ],
      "execution_count": null,
      "outputs": []
    },
    {
      "cell_type": "code",
      "metadata": {
        "id": "7DctpxdNA6U1"
      },
      "source": [
        "# https://stackoverflow.com/questions/22407798/how-to-reset-a-dataframes-indexes-for-all-groups-in-one-step\n",
        "price_data = resource_data.groupby('id').agg({'price':'sum', 'quantity':'sum'}).reset_index()\n",
        "price_data.head(2)"
      ],
      "execution_count": null,
      "outputs": []
    },
    {
      "cell_type": "code",
      "metadata": {
        "id": "T0hxe0FDA6U-"
      },
      "source": [
        "# join two dataframes in python: \n",
        "project_data = pd.merge(project_data, price_data, on='id', how='left')"
      ],
      "execution_count": null,
      "outputs": []
    },
    {
      "cell_type": "code",
      "metadata": {
        "id": "ahNbaj9xA6VG"
      },
      "source": [
        "project_data['price'].isnull().any()"
      ],
      "execution_count": null,
      "outputs": []
    },
    {
      "cell_type": "code",
      "metadata": {
        "id": "w59_6RKeA6VO"
      },
      "source": [
        "#Removing '-' from teacher prefix(as a process of text preprocessing)\n",
        "project_data['project_grade_category'] = project_data['project_grade_category'].str.replace('\\s+', '_')\n",
        "project_data['project_grade_category'] = project_data['project_grade_category'].str.replace('-', '_')"
      ],
      "execution_count": null,
      "outputs": []
    },
    {
      "cell_type": "code",
      "metadata": {
        "id": "gfN2NMyGA6VV"
      },
      "source": [
        "import nltk\n",
        "from nltk.sentiment.vader import SentimentIntensityAnalyzer\n",
        "m = []\n",
        "def senti(i):\n",
        "    l = []\n",
        "    sid = SentimentIntensityAnalyzer()\n",
        "    ss = sid.polarity_scores(i)\n",
        "    for k in ss:\n",
        "        l.append(ss[k])\n",
        "    return l"
      ],
      "execution_count": null,
      "outputs": []
    },
    {
      "cell_type": "code",
      "metadata": {
        "id": "8EnK8EtfA6Ve"
      },
      "source": [
        "project_data['text'] = pd.DataFrame(preprocessed_essays)"
      ],
      "execution_count": null,
      "outputs": []
    },
    {
      "cell_type": "code",
      "metadata": {
        "id": "C3sMNa_mA6Vl"
      },
      "source": [
        "# Googled for this\n",
        "import swifter\n",
        "df2 = project_data['text'].swifter.apply(lambda x : senti(x))"
      ],
      "execution_count": null,
      "outputs": []
    },
    {
      "cell_type": "code",
      "metadata": {
        "id": "L4TnBajMA6Vs"
      },
      "source": [
        "senti_score_essay = pd.DataFrame(df2.values.tolist(), columns=['neg','neu','pos','compound'])"
      ],
      "execution_count": null,
      "outputs": []
    },
    {
      "cell_type": "code",
      "metadata": {
        "id": "FKvFSmoOA6V0"
      },
      "source": [
        "#https://stackoverflow.com/questions/23891575/how-to-merge-two-dataframes-side-by-side\n",
        "project_data = pd.concat([project_data, senti_score_essay], axis=1)"
      ],
      "execution_count": null,
      "outputs": []
    },
    {
      "cell_type": "code",
      "metadata": {
        "id": "psD4ZZyRA6V7"
      },
      "source": [
        "#https://stackoverflow.com/questions/34962104/pandas-how-can-i-use-the-apply-function-for-a-single-column\n",
        "a=project_data['project_title'].apply(lambda x : len(x))"
      ],
      "execution_count": null,
      "outputs": []
    },
    {
      "cell_type": "code",
      "metadata": {
        "id": "0yOesSxYA6WG"
      },
      "source": [
        "project_data['now_title'] = pd.DataFrame(a)"
      ],
      "execution_count": null,
      "outputs": []
    },
    {
      "cell_type": "code",
      "metadata": {
        "id": "pvZ2GkhmA6WU"
      },
      "source": [
        "#https://stackoverflow.com/questions/34962104/pandas-how-can-i-use-the-apply-function-for-a-single-column\n",
        "b=project_data['text'].apply(lambda x : len(x))"
      ],
      "execution_count": null,
      "outputs": []
    },
    {
      "cell_type": "code",
      "metadata": {
        "id": "tGQjyzaJA6Wb"
      },
      "source": [
        "project_data['now_text'] = pd.DataFrame(b)"
      ],
      "execution_count": null,
      "outputs": []
    },
    {
      "cell_type": "markdown",
      "metadata": {
        "id": "NQg4ZfFtCyn9"
      },
      "source": [
        "##  Preparing data for models"
      ]
    },
    {
      "cell_type": "code",
      "metadata": {
        "id": "V4GS54ZTCyn-"
      },
      "source": [
        "project_data.columns"
      ],
      "execution_count": null,
      "outputs": []
    },
    {
      "cell_type": "markdown",
      "metadata": {
        "id": "6FDsc1epCyoD"
      },
      "source": [
        "we are going to consider\n",
        "\n",
        "       - school_state : categorical data\n",
        "       - clean_categories : categorical data\n",
        "       - clean_subcategories : categorical data\n",
        "       - project_grade_category : categorical data\n",
        "       - teacher_prefix : categorical data\n",
        "       \n",
        "       - project_title : text data\n",
        "       - text : text data\n",
        "       - project_resource_summary: text data (optional)\n",
        "       \n",
        "       - quantity : numerical (optional)\n",
        "       - teacher_number_of_previously_posted_projects : numerical\n",
        "       - price : numerical"
      ]
    },
    {
      "cell_type": "code",
      "metadata": {
        "id": "DxXczTopA6W5"
      },
      "source": [
        "final_features = ['school_state', 'clean_categories', 'clean_subcategories', 'text', 'project_grade_category', 'teacher_prefix', 'project_title', 'teacher_number_of_previously_posted_projects', 'price','quantity','now_title','now_text','neg','neu','pos','compound']"
      ],
      "execution_count": null,
      "outputs": []
    },
    {
      "cell_type": "code",
      "metadata": {
        "id": "AeaBztPRA6XF"
      },
      "source": [
        "project_data1 = project_data[final_features].copy()"
      ],
      "execution_count": null,
      "outputs": []
    },
    {
      "cell_type": "code",
      "metadata": {
        "id": "owTN9YNbA6XN"
      },
      "source": [
        "project_data1.columns"
      ],
      "execution_count": null,
      "outputs": []
    },
    {
      "cell_type": "code",
      "metadata": {
        "id": "yd_y20osA6XX"
      },
      "source": [
        "X = project_data1.copy()"
      ],
      "execution_count": null,
      "outputs": []
    },
    {
      "cell_type": "code",
      "metadata": {
        "id": "bQLNmGZ1A6Xf"
      },
      "source": [
        "# train test split\n",
        "from sklearn.model_selection import train_test_split\n",
        "X_train, X_test, y_train, y_test = train_test_split(X, y, test_size=0.33, stratify=y, random_state=42)\n",
        "X_train,X_cv,y_train,y_cv=train_test_split(X_train,y_train,test_size=0.33,stratify=y_train, random_state=42)"
      ],
      "execution_count": null,
      "outputs": []
    },
    {
      "cell_type": "code",
      "metadata": {
        "id": "1skTpbycA6Xm"
      },
      "source": [
        "print(\"Shape of X_train\",X_train.shape)\n",
        "print(\"Shape of y_train\",y_train.shape)\n",
        "print('\\n')\n",
        "print(\"Shape of X_cv\",X_cv.shape)\n",
        "print(\"Shape of y_cv\",y_cv.shape)\n",
        "print('\\n')\n",
        "print(\"Shape of X_test\",X_test.shape)\n",
        "print(\"Shape of y_test\",y_test.shape)"
      ],
      "execution_count": null,
      "outputs": []
    },
    {
      "cell_type": "markdown",
      "metadata": {
        "id": "0d0QeeQ-CyoD"
      },
      "source": [
        "###  Vectorizing Categorical data"
      ]
    },
    {
      "cell_type": "markdown",
      "metadata": {
        "id": "p82A6XeYA6Xu"
      },
      "source": [
        "<h3> Encoding categorical features: school_state</h3>"
      ]
    },
    {
      "cell_type": "code",
      "metadata": {
        "id": "_5mt7VMXCyoF"
      },
      "source": [
        "# we use count vectorizer to convert the values into one \n",
        "vectorizer = CountVectorizer()\n",
        "vectorizer.fit(X_train['school_state'].values) # fit has to happen only on train data\n",
        "\n",
        "# we use the fitted CountVectorizer to convert the text to vector\n",
        "X_train_state_ohe = vectorizer.transform(X_train['school_state'].values)\n",
        "X_cv_state_ohe = vectorizer.transform(X_cv['school_state'].values)\n",
        "X_test_state_ohe = vectorizer.transform(X_test['school_state'].values)\n",
        "\n",
        "print(\"After vectorizations\")\n",
        "print(X_train_state_ohe.shape, y_train.shape)\n",
        "print(X_cv_state_ohe.shape, y_cv.shape)\n",
        "print(X_test_state_ohe.shape, y_test.shape)\n",
        "print(vectorizer.get_feature_names())\n",
        "print(\"=\"*100)"
      ],
      "execution_count": null,
      "outputs": []
    },
    {
      "cell_type": "markdown",
      "metadata": {
        "id": "6pmPK2MlA6X9"
      },
      "source": [
        "<h3> Encoding categorical features: teacher_prefix</h3>"
      ]
    },
    {
      "cell_type": "code",
      "metadata": {
        "id": "j-H0GA7qA6YA"
      },
      "source": [
        "vectorizer = CountVectorizer()\n",
        "vectorizer.fit(X_train['teacher_prefix'].values) # fit has to happen only on train data\n",
        "\n",
        "# we use the fitted CountVectorizer to convert the text to vector\n",
        "X_train_teacher_ohe = vectorizer.transform(X_train['teacher_prefix'].values)\n",
        "X_cv_teacher_ohe = vectorizer.transform(X_cv['teacher_prefix'].values)\n",
        "X_test_teacher_ohe = vectorizer.transform(X_test['teacher_prefix'].values.astype(str))\n",
        "\n",
        "print(\"After vectorizations\")\n",
        "print(X_train_teacher_ohe.shape, y_train.shape)\n",
        "print(X_cv_teacher_ohe.shape, y_cv.shape)\n",
        "print(X_test_teacher_ohe.shape, y_test.shape)\n",
        "print(vectorizer.get_feature_names())\n",
        "print(\"=\"*100)"
      ],
      "execution_count": null,
      "outputs": []
    },
    {
      "cell_type": "markdown",
      "metadata": {
        "id": "9JsSiAhhA6YW"
      },
      "source": [
        "<h3> Encoding categorical features: project_grade_category</h3>"
      ]
    },
    {
      "cell_type": "code",
      "metadata": {
        "id": "Bf3FRuiCA6YX"
      },
      "source": [
        "vectorizer = CountVectorizer()\n",
        "vectorizer.fit(X_train['project_grade_category'].values) # fit has to happen only on train data\n",
        "\n",
        "# we use the fitted CountVectorizer to convert the text to vector\n",
        "X_train_grade_ohe = vectorizer.transform(X_train['project_grade_category'].values)\n",
        "X_cv_grade_ohe = vectorizer.transform(X_cv['project_grade_category'].values)\n",
        "X_test_grade_ohe = vectorizer.transform(X_test['project_grade_category'].values)\n",
        "\n",
        "print(\"After vectorizations\")\n",
        "print(X_train_grade_ohe.shape, y_train.shape)\n",
        "print(X_cv_grade_ohe.shape, y_cv.shape)\n",
        "print(X_test_grade_ohe.shape, y_test.shape)\n",
        "print(vectorizer.get_feature_names())\n",
        "print(\"=\"*100)"
      ],
      "execution_count": null,
      "outputs": []
    },
    {
      "cell_type": "markdown",
      "metadata": {
        "id": "amYpPtgzA6Yd"
      },
      "source": [
        "<h3> Encoding categorical features: clean_subcategories</h3>"
      ]
    },
    {
      "cell_type": "code",
      "metadata": {
        "id": "dTE86z7CA6Ym"
      },
      "source": [
        "vectorizer = CountVectorizer()\n",
        "vectorizer.fit(X_train['clean_subcategories'].values) # fit has to happen only on train data\n",
        "\n",
        "# we use the fitted CountVectorizer to convert the text to vector\n",
        "X_train_subcat_ohe = vectorizer.transform(X_train['clean_subcategories'].values)\n",
        "X_cv_subcat_ohe = vectorizer.transform(X_cv['clean_subcategories'].values)\n",
        "X_test_subcat_ohe = vectorizer.transform(X_test['clean_subcategories'].values)\n",
        "\n",
        "print(\"After vectorizations\")\n",
        "print(X_train_subcat_ohe.shape, y_train.shape)\n",
        "print(X_cv_subcat_ohe.shape, y_cv.shape)\n",
        "print(X_test_subcat_ohe.shape, y_test.shape)\n",
        "print(vectorizer.get_feature_names())\n",
        "print(\"=\"*100)"
      ],
      "execution_count": null,
      "outputs": []
    },
    {
      "cell_type": "markdown",
      "metadata": {
        "id": "rKmbfTv9A6Yt"
      },
      "source": [
        "<h3> Encoding categorical features: clean_categories</h3>"
      ]
    },
    {
      "cell_type": "code",
      "metadata": {
        "id": "DRSX5h4LA6Yu"
      },
      "source": [
        "vectorizer = CountVectorizer()\n",
        "vectorizer.fit(X_train['clean_categories'].values) # fit has to happen only on train data\n",
        "\n",
        "# we use the fitted CountVectorizer to convert the text to vector\n",
        "X_train_cat_ohe = vectorizer.transform(X_train['clean_categories'].values)\n",
        "X_cv_cat_ohe = vectorizer.transform(X_cv['clean_categories'].values)\n",
        "X_test_cat_ohe = vectorizer.transform(X_test['clean_categories'].values)\n",
        "\n",
        "print(\"After vectorizations\")\n",
        "print(X_train_cat_ohe.shape, y_train.shape)\n",
        "print(X_cv_cat_ohe.shape, y_cv.shape)\n",
        "print(X_test_cat_ohe.shape, y_test.shape)\n",
        "print(vectorizer.get_feature_names())\n",
        "print(\"=\"*100)"
      ],
      "execution_count": null,
      "outputs": []
    },
    {
      "cell_type": "code",
      "metadata": {
        "id": "npr7SzACCyoH"
      },
      "source": [
        "<h3>Encoding numerical features: Price</h3>"
      ],
      "execution_count": null,
      "outputs": []
    },
    {
      "cell_type": "code",
      "metadata": {
        "id": "0ecQOf-JCyoL"
      },
      "source": [
        "from sklearn.preprocessing import Normalizer\n",
        "normalizer = Normalizer()\n",
        "normalizer.fit(X_train['price'].values.reshape(1,-1))\n",
        "\n",
        "X_train_price_norm = normalizer.transform(X_train['price'].values.reshape(1,-1))\n",
        "X_cv_price_norm = normalizer.transform(X_cv['price'].values.reshape(1,-1))\n",
        "X_test_price_norm = normalizer.transform(X_test['price'].values.reshape(1,-1))\n",
        "\n",
        "X_train_price_norm = X_train_price_norm.reshape(-1,1)\n",
        "X_cv_price_norm = X_cv_price_norm.reshape(-1,1)\n",
        "X_test_price_norm = X_test_price_norm.reshape(-1,1)\n",
        "\n",
        "print(\"After vectorizations\")\n",
        "print(X_train_price_norm.shape, y_train.shape)\n",
        "print(X_cv_price_norm.shape, y_cv.shape)\n",
        "print(X_test_price_norm.shape, y_test.shape)\n",
        "print(\"=\"*100)"
      ],
      "execution_count": null,
      "outputs": []
    },
    {
      "cell_type": "markdown",
      "metadata": {
        "id": "f3eSZZGUA6ZO"
      },
      "source": [
        "\n",
        "\n",
        "```\n",
        "# This is formatted as code\n",
        "```\n",
        "\n",
        "<h3>Encoding numerical features: Quantity</h3>"
      ]
    },
    {
      "cell_type": "code",
      "metadata": {
        "id": "6aSYibVgA6ZP"
      },
      "source": [
        "from sklearn.preprocessing import Normalizer\n",
        "normalizer = Normalizer()\n",
        "normalizer.fit(X_train['quantity'].values.reshape(1,-1))\n",
        "\n",
        "X_train_quan_norm = normalizer.transform(X_train['quantity'].values.reshape(1,-1))\n",
        "X_cv_quan_norm = normalizer.transform(X_cv['quantity'].values.reshape(1,-1))\n",
        "X_test_quan_norm = normalizer.transform(X_test['quantity'].values.reshape(1,-1))\n",
        "\n",
        "X_train_quan_norm = X_train_quan_norm.reshape(-1,1)\n",
        "X_cv_quan_norm = X_cv_quan_norm.reshape(-1,1)\n",
        "X_test_quan_norm = X_test_quan_norm.reshape(-1,1)\n",
        "\n",
        "print(\"After vectorizations\")\n",
        "print(X_train_quan_norm.shape, y_train.shape)\n",
        "print(X_cv_quan_norm.shape, y_cv.shape)\n",
        "print(X_test_quan_norm.shape, y_test.shape)\n",
        "print(\"=\"*100)"
      ],
      "execution_count": null,
      "outputs": []
    },
    {
      "cell_type": "code",
      "metadata": {
        "id": "PZrJCUI7A6ZX"
      },
      "source": [
        "from sklearn.preprocessing import Normalizer\n",
        "normalizer = Normalizer()\n",
        "normalizer.fit(X_train['now_title'].values.reshape(1,-1))\n",
        "\n",
        "X_train_now_title_norm = normalizer.transform(X_train['now_title'].values.reshape(1,-1))\n",
        "X_cv_now_title_norm = normalizer.transform(X_cv['now_title'].values.reshape(1,-1))\n",
        "X_test_now_title_norm = normalizer.transform(X_test['now_title'].values.reshape(1,-1))\n",
        "\n",
        "X_train_now_title_norm = X_train_now_title_norm.reshape(-1,1)\n",
        "X_cv_now_title_norm = X_cv_now_title_norm.reshape(-1,1)\n",
        "X_test_now_title_norm = X_test_now_title_norm.reshape(-1,1)\n",
        "\n",
        "print(\"After vectorizations\")\n",
        "print(X_train_now_title_norm.shape, y_train.shape)\n",
        "print(X_cv_now_title_norm.shape, y_cv.shape)\n",
        "print(X_test_now_title_norm.shape, y_test.shape)\n",
        "print(\"=\"*100)"
      ],
      "execution_count": null,
      "outputs": []
    },
    {
      "cell_type": "code",
      "metadata": {
        "id": "gVqwzAWRA6Zf"
      },
      "source": [
        "from sklearn.preprocessing import Normalizer\n",
        "normalizer = Normalizer()\n",
        "normalizer.fit(X_train['now_text'].values.reshape(1,-1))\n",
        "\n",
        "X_train_now_text_norm = normalizer.transform(X_train['now_text'].values.reshape(1,-1))\n",
        "X_cv_now_text_norm = normalizer.transform(X_cv['now_text'].values.reshape(1,-1))\n",
        "X_test_now_text_norm = normalizer.transform(X_test['now_text'].values.reshape(1,-1))\n",
        "\n",
        "X_train_now_text_norm = X_train_now_text_norm.reshape(-1,1)\n",
        "X_cv_now_text_norm = X_cv_now_text_norm.reshape(-1,1)\n",
        "X_test_now_text_norm = X_test_now_text_norm.reshape(-1,1)\n",
        "\n",
        "print(\"After vectorizations\")\n",
        "print(X_train_now_text_norm.shape, y_train.shape)\n",
        "print(X_cv_now_text_norm.shape, y_cv.shape)\n",
        "print(X_test_now_text_norm.shape, y_test.shape)\n",
        "print(\"=\"*100)"
      ],
      "execution_count": null,
      "outputs": []
    },
    {
      "cell_type": "code",
      "metadata": {
        "id": "CkXLLGsRA6Zl"
      },
      "source": [
        "from sklearn.preprocessing import Normalizer\n",
        "normalizer = Normalizer()\n",
        "normalizer.fit(X_train['neg'].values.reshape(1,-1))\n",
        "\n",
        "X_train_neg_norm = normalizer.transform(X_train['neg'].values.reshape(1,-1))\n",
        "X_cv_neg_norm = normalizer.transform(X_cv['neg'].values.reshape(1,-1))\n",
        "X_test_neg_norm = normalizer.transform(X_test['neg'].values.reshape(1,-1))\n",
        "\n",
        "X_train_neg_norm = X_train_neg_norm.reshape(-1,1)\n",
        "X_cv_neg_norm = X_cv_neg_norm.reshape(-1,1)\n",
        "X_test_neg_norm = X_test_neg_norm.reshape(-1,1)\n",
        "\n",
        "print(\"After vectorizations\")\n",
        "print(X_train_neg_norm.shape, y_train.shape)\n",
        "print(X_test_neg_norm.shape, y_cv.shape)\n",
        "print(X_cv_neg_norm.shape, y_test.shape)\n",
        "print(\"=\"*100)"
      ],
      "execution_count": null,
      "outputs": []
    },
    {
      "cell_type": "code",
      "metadata": {
        "id": "kkN2iz72A6Zp"
      },
      "source": [
        "from sklearn.preprocessing import Normalizer\n",
        "normalizer = Normalizer()\n",
        "normalizer.fit(X_train['pos'].values.reshape(1,-1))\n",
        "\n",
        "X_train_pos_norm = normalizer.transform(X_train['pos'].values.reshape(1,-1))\n",
        "X_cv_pos_norm = normalizer.transform(X_cv['pos'].values.reshape(1,-1))\n",
        "X_test_pos_norm = normalizer.transform(X_test['pos'].values.reshape(1,-1))\n",
        "\n",
        "X_train_pos_norm = X_train_pos_norm.reshape(-1,1)\n",
        "X_cv_pos_norm = X_cv_pos_norm.reshape(-1,1)\n",
        "X_test_pos_norm = X_test_pos_norm.reshape(-1,1)\n",
        "\n",
        "print(\"After vectorizations\")\n",
        "print(X_train_pos_norm.shape, y_train.shape)\n",
        "print(X_test_pos_norm.shape, y_cv.shape)\n",
        "print(X_cv_pos_norm.shape, y_test.shape)\n",
        "print(\"=\"*100)"
      ],
      "execution_count": null,
      "outputs": []
    },
    {
      "cell_type": "code",
      "metadata": {
        "id": "d7J1RkwIA6Zv"
      },
      "source": [
        "from sklearn.preprocessing import Normalizer\n",
        "normalizer = Normalizer()\n",
        "normalizer.fit(X_train['neg'].values.reshape(1,-1))\n",
        "\n",
        "X_train_neu_norm = normalizer.transform(X_train['neu'].values.reshape(1,-1))\n",
        "X_cv_neu_norm = normalizer.transform(X_cv['neu'].values.reshape(1,-1))\n",
        "X_test_neu_norm = normalizer.transform(X_test['neu'].values.reshape(1,-1))\n",
        "\n",
        "X_train_neu_norm = X_train_neu_norm.reshape(-1,1)\n",
        "X_cv_neu_norm = X_cv_neu_norm.reshape(-1,1)\n",
        "X_test_neu_norm = X_test_neu_norm.reshape(-1,1)\n",
        "\n",
        "print(\"After vectorizations\")\n",
        "print(X_train_neu_norm.shape, y_train.shape)\n",
        "print(X_cv_neu_norm.shape, y_cv.shape)\n",
        "print(X_test_neu_norm.shape, y_test.shape)\n",
        "print(\"=\"*100)"
      ],
      "execution_count": null,
      "outputs": []
    },
    {
      "cell_type": "code",
      "metadata": {
        "id": "fLphYnD5A6Z2"
      },
      "source": [
        "from sklearn.preprocessing import Normalizer\n",
        "normalizer = Normalizer()\n",
        "normalizer.fit(X_train['compound'].values.reshape(1,-1))\n",
        "\n",
        "X_train_com_norm = normalizer.transform(X_train['compound'].values.reshape(1,-1))\n",
        "X_cv_com_norm = normalizer.transform(X_cv['compound'].values.reshape(1,-1))\n",
        "X_test_com_norm = normalizer.transform(X_test['compound'].values.reshape(1,-1))\n",
        "\n",
        "X_train_com_norm = X_train_com_norm.reshape(-1,1)\n",
        "X_cv_com_norm = X_cv_com_norm.reshape(-1,1)\n",
        "X_test_com_norm = X_test_com_norm.reshape(-1,1)\n",
        "\n",
        "print(\"After vectorizations\")\n",
        "print(X_train_com_norm.shape, y_train.shape)\n",
        "print(X_test_com_norm.shape, y_cv.shape)\n",
        "print(X_cv_com_norm.shape, y_test.shape)\n",
        "print(\"=\"*100)"
      ],
      "execution_count": null,
      "outputs": []
    },
    {
      "cell_type": "markdown",
      "metadata": {
        "id": "hTtCJoRAA6Z6"
      },
      "source": [
        "<h3>Encoding numerical features: teacher_number_of_projects</h3>"
      ]
    },
    {
      "cell_type": "code",
      "metadata": {
        "id": "J84jymYEA6Z6"
      },
      "source": [
        "from sklearn.preprocessing import Normalizer\n",
        "normalizer = Normalizer()\n",
        "normalizer.fit(X_train['teacher_number_of_previously_posted_projects'].values.reshape(1,-1))\n",
        "\n",
        "X_train_teacher_number_of_previously_posted_projects_norm = normalizer.transform(X_train['teacher_number_of_previously_posted_projects'].values.reshape(1,-1))\n",
        "X_cv_teacher_number_of_previously_posted_projects_norm = normalizer.transform(X_cv['teacher_number_of_previously_posted_projects'].values.reshape(1,-1))\n",
        "X_test_teacher_number_of_previously_posted_projects_norm = normalizer.transform(X_test['teacher_number_of_previously_posted_projects'].values.reshape(1,-1))\n",
        "\n",
        "X_train_teacher_number_of_previously_posted_projects_norm = X_train_teacher_number_of_previously_posted_projects_norm.reshape(-1,1)\n",
        "X_cv_teacher_number_of_previously_posted_projects_norm = X_cv_teacher_number_of_previously_posted_projects_norm.reshape(-1,1)\n",
        "X_test_teacher_number_of_previously_posted_projects_norm = X_test_teacher_number_of_previously_posted_projects_norm.reshape(-1,1)\n",
        "\n",
        "print(\"After vectorizations\")\n",
        "print(X_train_teacher_number_of_previously_posted_projects_norm.shape, y_train.shape)\n",
        "print(X_cv_teacher_number_of_previously_posted_projects_norm.shape, y_cv.shape)\n",
        "print(X_test_teacher_number_of_previously_posted_projects_norm.shape, y_test.shape)\n",
        "print(\"=\"*100)"
      ],
      "execution_count": null,
      "outputs": []
    },
    {
      "cell_type": "markdown",
      "metadata": {
        "id": "5YnkzKnmCyoN"
      },
      "source": [
        "### Vectorizing Text data"
      ]
    },
    {
      "cell_type": "markdown",
      "metadata": {
        "id": "W544CoFtCyoN"
      },
      "source": [
        "###  Bag of words"
      ]
    },
    {
      "cell_type": "code",
      "metadata": {
        "id": "z0uVCs5hA6aD"
      },
      "source": [
        "vectorizer = CountVectorizer(min_df=10, ngram_range=(2,3), max_features = 5000)\n",
        "vectorizer.fit(X_train['text'].values) \n",
        "\n",
        "# we use the fitted CountVectorizer to convert the text to vector\n",
        "X_train_text_bow = vectorizer.transform(X_train['text'].values)\n",
        "X_cv_text_bow = vectorizer.transform(X_cv['text'].values)\n",
        "X_test_text_bow = vectorizer.transform(X_test['text'].values)\n",
        "\n",
        "print(\"After vectorizations\")\n",
        "print(X_train_text_bow.shape, y_train.shape)\n",
        "print(X_cv_text_bow.shape, y_cv.shape)\n",
        "print(X_test_text_bow.shape, y_test.shape)\n",
        "print(vectorizer.get_feature_names())\n",
        "print(\"=\"*100)"
      ],
      "execution_count": null,
      "outputs": []
    },
    {
      "cell_type": "code",
      "metadata": {
        "id": "FOQwnWvXA6aL"
      },
      "source": [
        "vectorizer = CountVectorizer(min_df = 5, ngram_range=(2,2), max_features=5000)\n",
        "vectorizer.fit(X_train['project_title'].values.astype('U')) # fit has to happen only on train data\n",
        "\n",
        "# we use the fitted CountVectorizer to convert the text to vector\n",
        "\n",
        "X_train_title_bow = vectorizer.transform(X_train['project_title'].values.astype('U'))\n",
        "X_cv_title_bow = vectorizer.transform(X_cv['project_title'].values.astype('U'))\n",
        "X_test_title_bow = vectorizer.transform(X_test['project_title'].values.astype('U'))\n",
        "\n",
        "print(\"After vectorizations\")\n",
        "print(X_train_title_bow.shape, y_train.shape)\n",
        "print(X_cv_title_bow.shape, y_cv.shape)\n",
        "print(X_test_title_bow.shape, y_test.shape)\n",
        "print(vectorizer.get_feature_names())\n",
        "print(\"=\"*100)"
      ],
      "execution_count": null,
      "outputs": []
    },
    {
      "cell_type": "markdown",
      "metadata": {
        "id": "gK_SHRpTCyol"
      },
      "source": [
        "####  TFIDF vectorizer"
      ]
    },
    {
      "cell_type": "code",
      "metadata": {
        "id": "EW5XVuzKA6aQ"
      },
      "source": [
        "from sklearn.feature_extraction.text import TfidfVectorizer\n",
        "\n",
        "vectorizer = TfidfVectorizer(min_df=10)\n",
        "vectorizer.fit(X_train['text'].values) # fit has to happen only on train data\n",
        "\n",
        "# we use the fitted tfidfVectorizer to convert the text to vector\n",
        "X_train_text_tfidf = vectorizer.transform(X_train['text'].values)\n",
        "X_cv_text_tfidf = vectorizer.transform(X_cv['text'].values)\n",
        "X_test_text_tfidf = vectorizer.transform(X_test['text'].values)\n",
        "\n",
        "print(\"After vectorizations\")\n",
        "print(X_train_text_tfidf.shape, y_train.shape)\n",
        "print(X_cv_text_tfidf.shape, y_cv.shape)\n",
        "print(X_test_text_tfidf.shape, y_test.shape)\n",
        "print(vectorizer.get_feature_names())\n",
        "print(\"=\"*100)"
      ],
      "execution_count": null,
      "outputs": []
    },
    {
      "cell_type": "code",
      "metadata": {
        "id": "nCgC-fTfA6aZ"
      },
      "source": [
        "from sklearn.feature_extraction.text import TfidfVectorizer\n",
        "\n",
        "vectorizer = TfidfVectorizer(min_df=10)\n",
        "vectorizer.fit(X_train['project_title'].values.astype('U')) # fit has to happen only on train data\n",
        "\n",
        "# we use the fitted tfidfVectorizer to convert the text to vector\n",
        "X_train_title_tfidf = vectorizer.transform(X_train['project_title'].values.astype('U'))\n",
        "X_cv_title_tfidf = vectorizer.transform(X_cv['project_title'].values.astype('U'))\n",
        "X_test_title_tfidf = vectorizer.transform(X_test['project_title'].values.astype('U'))\n",
        "\n",
        "print(\"After vectorizations\")\n",
        "print(X_train_title_tfidf.shape, y_train.shape)\n",
        "print(X_cv_title_tfidf.shape, y_cv.shape)\n",
        "print(X_test_title_tfidf.shape, y_test.shape)\n",
        "print(vectorizer.get_feature_names())\n",
        "print(\"=\"*100)"
      ],
      "execution_count": null,
      "outputs": []
    },
    {
      "cell_type": "markdown",
      "metadata": {
        "id": "5zHPWxL4A6ao"
      },
      "source": [
        "### Using gensim for doing word2vec"
      ]
    },
    {
      "cell_type": "markdown",
      "metadata": {
        "id": "5DYbof_ZA6ap"
      },
      "source": [
        "### Applying word2vec on project title"
      ]
    },
    {
      "cell_type": "code",
      "metadata": {
        "id": "YaQBFpxbA6aq"
      },
      "source": [
        "list_of_sentance_train=[]\n",
        "for sentance in (X_train['project_title'].values):\n",
        "    list_of_sentance_train.append(sentance.split())\n",
        "from gensim.models import Word2Vec\n",
        "from gensim.models import KeyedVectors\n",
        "w2v_model=Word2Vec(list_of_sentance_train,min_count=5,size=50, workers=4)\n",
        "w2v_words = list(w2v_model.wv.vocab)\n",
        "print(\"number of words that occured minimum 5 times \",len(w2v_words))\n",
        "print(\"sample words \", w2v_words[0:50])"
      ],
      "execution_count": null,
      "outputs": []
    },
    {
      "cell_type": "code",
      "metadata": {
        "id": "4Wwt4Y9jA6av"
      },
      "source": [
        "from tqdm import tqdm\n",
        "import numpy as np\n",
        "sent_vectors_train = []; # the avg-w2v for each sentence/review is stored in this list\n",
        "for sent in tqdm(list_of_sentance_train): # for each review/sentence\n",
        "    sent_vec = np.zeros(50) # as word vectors are of zero length 50, you might need to change this to 300 if you use google's w2v\n",
        "    cnt_words =0; # num of words with a valid vector in the sentence/review\n",
        "    for word in sent: # for each word in a review/sentence\n",
        "        if word in w2v_words:\n",
        "            vec = w2v_model.wv[word]\n",
        "            sent_vec += vec\n",
        "            cnt_words += 1\n",
        "    if cnt_words != 0:\n",
        "        sent_vec /= cnt_words\n",
        "    sent_vectors_train.append(sent_vec)\n",
        "X_train_title_avgw2v = np.array(sent_vectors_train)\n",
        "print(X_train_title_avgw2v.shape)\n",
        "print(X_train_title_avgw2v[0])"
      ],
      "execution_count": null,
      "outputs": []
    },
    {
      "cell_type": "code",
      "metadata": {
        "id": "PEEfevX-A6a0"
      },
      "source": [
        "list_of_sentance_train=[]\n",
        "for sentance in (X_cv['project_title'].values):\n",
        "    list_of_sentance_train.append(sentance.split())\n",
        "from tqdm import tqdm\n",
        "import numpy as np\n",
        "sent_vectors_train = []; # the avg-w2v for each sentence/review is stored in this list\n",
        "for sent in tqdm(list_of_sentance_train): # for each review/sentence\n",
        "    sent_vec = np.zeros(50) # as word vectors are of zero length 50, you might need to change this to 300 if you use google's w2v\n",
        "    cnt_words =0; # num of words with a valid vector in the sentence/review\n",
        "    for word in sent: # for each word in a review/sentence\n",
        "        if word in w2v_words:\n",
        "            vec = w2v_model.wv[word]\n",
        "            sent_vec += vec\n",
        "            cnt_words += 1\n",
        "    if cnt_words != 0:\n",
        "        sent_vec /= cnt_words\n",
        "    sent_vectors_train.append(sent_vec)\n",
        "X_cv_title_avgw2v = np.array(sent_vectors_train)\n",
        "print(X_cv_title_avgw2v.shape)\n",
        "print(X_cv_title_avgw2v[0])"
      ],
      "execution_count": null,
      "outputs": []
    },
    {
      "cell_type": "code",
      "metadata": {
        "id": "TQ2LK91GA6a6"
      },
      "source": [
        "list_of_sentance_train=[]\n",
        "for sentance in (X_test['project_title'].values):\n",
        "    list_of_sentance_train.append(sentance.split())\n",
        "from tqdm import tqdm\n",
        "import numpy as np\n",
        "sent_vectors_train = []; # the avg-w2v for each sentence/review is stored in this list\n",
        "for sent in tqdm(list_of_sentance_train): # for each review/sentence\n",
        "    sent_vec = np.zeros(50) # as word vectors are of zero length 50, you might need to change this to 300 if you use google's w2v\n",
        "    cnt_words =0; # num of words with a valid vector in the sentence/review\n",
        "    for word in sent: # for each word in a review/sentence\n",
        "        if word in w2v_words:\n",
        "            vec = w2v_model.wv[word]\n",
        "            sent_vec += vec\n",
        "            cnt_words += 1\n",
        "    if cnt_words != 0:\n",
        "        sent_vec /= cnt_words\n",
        "    sent_vectors_train.append(sent_vec)\n",
        "X_test_title_avgw2v = np.array(sent_vectors_train)\n",
        "print(X_test_title_avgw2v.shape)\n",
        "print(X_test_title_avgw2v[0])"
      ],
      "execution_count": null,
      "outputs": []
    },
    {
      "cell_type": "markdown",
      "metadata": {
        "id": "ufJaO7iOA6bF"
      },
      "source": [
        "### Applying avg word2vec on project_essay"
      ]
    },
    {
      "cell_type": "code",
      "metadata": {
        "id": "jpFCNmuTA6bF"
      },
      "source": [
        "list_of_sentance_train_essay=[]\n",
        "for sentance in (X_train['text'].values):\n",
        "    list_of_sentance_train_essay.append(sentance.split())\n",
        "from gensim.models import Word2Vec\n",
        "from gensim.models import KeyedVectors\n",
        "w2v_model1=Word2Vec(list_of_sentance_train_essay,min_count=5,size=50, workers=4)\n",
        "w2v_words1 = list(w2v_model1.wv.vocab)\n",
        "print(\"number of words that occured minimum 5 times \",len(w2v_words1))\n",
        "print(\"sample words \", w2v_words1[0:50])"
      ],
      "execution_count": null,
      "outputs": []
    },
    {
      "cell_type": "code",
      "metadata": {
        "id": "dh6jsrR8A6bL"
      },
      "source": [
        "from tqdm import tqdm\n",
        "import numpy as np\n",
        "sent_vectors_train = []; # the avg-w2v for each sentence/review is stored in this list\n",
        "for sent in tqdm(list_of_sentance_train_essay): # for each review/sentence\n",
        "    sent_vec = np.zeros(50) # as word vectors are of zero length 50, you might need to change this to 300 if you use google's w2v\n",
        "    cnt_words =0; # num of words with a valid vector in the sentence/review\n",
        "    for word in sent: # for each word in a review/sentence\n",
        "        if word in w2v_words1:\n",
        "            vec = w2v_model1.wv[word]\n",
        "            sent_vec += vec\n",
        "            cnt_words += 1\n",
        "    if cnt_words != 0:\n",
        "        sent_vec /= cnt_words\n",
        "    sent_vectors_train.append(sent_vec)\n",
        "X_train_text_avgw2v = np.array(sent_vectors_train)\n",
        "print(X_train_text_avgw2v.shape)\n",
        "print(X_train_text_avgw2v[0])"
      ],
      "execution_count": null,
      "outputs": []
    },
    {
      "cell_type": "code",
      "metadata": {
        "id": "CrxxyRf6A6bQ"
      },
      "source": [
        "list_of_sentance_train_essay=[]\n",
        "for sentance in (X_cv['text'].values):\n",
        "    list_of_sentance_train_essay.append(sentance.split())\n",
        "from tqdm import tqdm\n",
        "import numpy as np\n",
        "sent_vectors_train = []; # the avg-w2v for each sentence/review is stored in this list\n",
        "for sent in tqdm(list_of_sentance_train_essay): # for each review/sentence\n",
        "    sent_vec = np.zeros(50) # as word vectors are of zero length 50, you might need to change this to 300 if you use google's w2v\n",
        "    cnt_words =0; # num of words with a valid vector in the sentence/review\n",
        "    for word in sent: # for each word in a review/sentence\n",
        "        if word in w2v_words1:\n",
        "            vec = w2v_model1.wv[word]\n",
        "            sent_vec += vec\n",
        "            cnt_words += 1\n",
        "    if cnt_words != 0:\n",
        "        sent_vec /= cnt_words\n",
        "    sent_vectors_train.append(sent_vec)\n",
        "X_cv_text_avgw2v = np.array(sent_vectors_train)\n",
        "print(X_cv_text_avgw2v.shape)\n",
        "print(X_cv_text_avgw2v[0])"
      ],
      "execution_count": null,
      "outputs": []
    },
    {
      "cell_type": "code",
      "metadata": {
        "id": "Zkpmok67A6bX"
      },
      "source": [
        "list_of_sentance_train_essay=[]\n",
        "for sentance in (X_test['text'].values):\n",
        "    list_of_sentance_train_essay.append(sentance.split())\n",
        "from tqdm import tqdm\n",
        "import numpy as np\n",
        "sent_vectors_train = []; # the avg-w2v for each sentence/review is stored in this list\n",
        "for sent in tqdm(list_of_sentance_train_essay): # for each review/sentence\n",
        "    sent_vec = np.zeros(50) # as word vectors are of zero length 50, you might need to change this to 300 if you use google's w2v\n",
        "    cnt_words =0; # num of words with a valid vector in the sentence/review\n",
        "    for word in sent: # for each word in a review/sentence\n",
        "        if word in w2v_words1:\n",
        "            vec = w2v_model1.wv[word]\n",
        "            sent_vec += vec\n",
        "            cnt_words += 1\n",
        "    if cnt_words != 0:\n",
        "        sent_vec /= cnt_words\n",
        "    sent_vectors_train.append(sent_vec)\n",
        "X_test_text_avgw2v = np.array(sent_vectors_train)\n",
        "print(X_test_text_avgw2v.shape)\n",
        "print(X_test_text_avgw2v[0])"
      ],
      "execution_count": null,
      "outputs": []
    },
    {
      "cell_type": "markdown",
      "metadata": {
        "id": "coy9eicJA6bc"
      },
      "source": [
        "### Applying tfidf w2v on project_title"
      ]
    },
    {
      "cell_type": "code",
      "metadata": {
        "id": "MhbVymdwA6bd"
      },
      "source": [
        "tfidf_model1 = TfidfVectorizer()\n",
        "tfidf_model1.fit(X_train['project_title'].values)\n",
        "# we are converting a dictionary with word as a key, and the idf as a value\n",
        "dictionary = dict(zip(tfidf_model1.get_feature_names(), list(tfidf_model1.idf_)))\n",
        "tfidf_words1 = set(tfidf_model1.get_feature_names())"
      ],
      "execution_count": null,
      "outputs": []
    },
    {
      "cell_type": "code",
      "metadata": {
        "id": "34dxl7S2A6bg"
      },
      "source": [
        "X_train_title_tfidf_w2v = []; # the avg-w2v for each sentence/review is stored in this list\n",
        "for sentence in tqdm(X_train['project_title'].values): # for each review/sentence\n",
        "    vector = np.zeros(50) # as word vectors are of zero length\n",
        "    tf_idf_weight =0; # num of words with a valid vector in the sentence/review\n",
        "    for word in sentence.split(): # for each word in a review/sentence\n",
        "        if (word in w2v_words) and (word in tfidf_words1):\n",
        "            vec = w2v_model[word] # getting the vector for each word\n",
        "            # here we are multiplying idf value(dictionary[word]) and the tf value((sentence.count(word)/len(sentence.split())))\n",
        "            tf_idf = dictionary[word]*(sentence.count(word)/len(sentence.split())) # getting the tfidf value for each word\n",
        "            vector += (vec * tf_idf) # calculating tfidf weighted w2v\n",
        "            tf_idf_weight += tf_idf\n",
        "    if tf_idf_weight != 0:\n",
        "        vector /= tf_idf_weight\n",
        "    X_train_title_tfidf_w2v.append(vector)\n",
        "print(len(X_train_title_tfidf_w2v))\n",
        "print(len(X_train_title_tfidf_w2v[0]))"
      ],
      "execution_count": null,
      "outputs": []
    },
    {
      "cell_type": "code",
      "metadata": {
        "id": "FjycZIzvA6bm"
      },
      "source": [
        "X_cv_title_tfidf_w2v = []; # the avg-w2v for each sentence/review is stored in this list\n",
        "for sentence in tqdm(X_cv['project_title'].values): # for each review/sentence\n",
        "    vector = np.zeros(50) # as word vectors are of zero length\n",
        "    tf_idf_weight =0; # num of words with a valid vector in the sentence/review\n",
        "    for word in sentence.split(): # for each word in a review/sentence\n",
        "        if (word in w2v_words) and (word in tfidf_words1):\n",
        "            vec = w2v_model[word] # getting the vector for each word\n",
        "            # here we are multiplying idf value(dictionary[word]) and the tf value((sentence.count(word)/len(sentence.split())))\n",
        "            tf_idf = dictionary[word]*(sentence.count(word)/len(sentence.split())) # getting the tfidf value for each word\n",
        "            vector += (vec * tf_idf) # calculating tfidf weighted w2v\n",
        "            tf_idf_weight += tf_idf\n",
        "    if tf_idf_weight != 0:\n",
        "        vector /= tf_idf_weight\n",
        "    X_cv_title_tfidf_w2v.append(vector)\n",
        "print(len(X_cv_title_tfidf_w2v))\n",
        "print(len(X_cv_title_tfidf_w2v[0]))"
      ],
      "execution_count": null,
      "outputs": []
    },
    {
      "cell_type": "code",
      "metadata": {
        "id": "zpkciSl_A6by"
      },
      "source": [
        "X_test_title_tfidf_w2v = []; # the avg-w2v for each sentence/review is stored in this list\n",
        "for sentence in tqdm(X_test['project_title'].values): # for each review/sentence\n",
        "    vector = np.zeros(50) # as word vectors are of zero length\n",
        "    tf_idf_weight =0; # num of words with a valid vector in the sentence/review\n",
        "    for word in sentence.split(): # for each word in a review/sentence\n",
        "        if (word in w2v_words) and (word in tfidf_words1):\n",
        "            vec = w2v_model[word] # getting the vector for each word\n",
        "            # here we are multiplying idf value(dictionary[word]) and the tf value((sentence.count(word)/len(sentence.split())))\n",
        "            tf_idf = dictionary[word]*(sentence.count(word)/len(sentence.split())) # getting the tfidf value for each word\n",
        "            vector += (vec * tf_idf) # calculating tfidf weighted w2v\n",
        "            tf_idf_weight += tf_idf\n",
        "    if tf_idf_weight != 0:\n",
        "        vector /= tf_idf_weight\n",
        "    X_test_title_tfidf_w2v.append(vector)\n",
        "print(len(X_test_title_tfidf_w2v))\n",
        "print(len(X_test_title_tfidf_w2v[0]))"
      ],
      "execution_count": null,
      "outputs": []
    },
    {
      "cell_type": "markdown",
      "metadata": {
        "id": "uKQPP24NA6b1"
      },
      "source": [
        "### Applying tfidf w2v on project_text"
      ]
    },
    {
      "cell_type": "code",
      "metadata": {
        "id": "8L_1RlFyA6b2"
      },
      "source": [
        "tfidf_model1 = TfidfVectorizer()\n",
        "tfidf_model1.fit(X_train['text'].values)\n",
        "# we are converting a dictionary with word as a key, and the idf as a value\n",
        "dictionary = dict(zip(tfidf_model1.get_feature_names(), list(tfidf_model1.idf_)))\n",
        "tfidf_words1 = set(tfidf_model1.get_feature_names())"
      ],
      "execution_count": null,
      "outputs": []
    },
    {
      "cell_type": "code",
      "metadata": {
        "id": "neTtgCCiA6b5"
      },
      "source": [
        "X_train_text_tfidf_w2v = []; # the avg-w2v for each sentence/review is stored in this list\n",
        "for sentence in tqdm(X_train['text'].values): # for each review/sentence\n",
        "    vector = np.zeros(50) # as word vectors are of zero length\n",
        "    tf_idf_weight =0; # num of words with a valid vector in the sentence/review\n",
        "    for word in sentence.split(): # for each word in a review/sentence\n",
        "        if (word in w2v_words1) and (word in tfidf_words1):\n",
        "            vec = w2v_model1[word] # getting the vector for each word\n",
        "            # here we are multiplying idf value(dictionary[word]) and the tf value((sentence.count(word)/len(sentence.split())))\n",
        "            tf_idf = dictionary[word]*(sentence.count(word)/len(sentence.split())) # getting the tfidf value for each word\n",
        "            vector += (vec * tf_idf) # calculating tfidf weighted w2v\n",
        "            tf_idf_weight += tf_idf\n",
        "    if tf_idf_weight != 0:\n",
        "        vector /= tf_idf_weight\n",
        "    X_train_text_tfidf_w2v.append(vector)\n",
        "print(len(X_train_text_tfidf_w2v))\n",
        "print(len(X_train_text_tfidf_w2v[0]))"
      ],
      "execution_count": null,
      "outputs": []
    },
    {
      "cell_type": "code",
      "metadata": {
        "id": "vRWnjaaLA6b9"
      },
      "source": [
        "X_cv_text_tfidf_w2v = []; # the avg-w2v for each sentence/review is stored in this list\n",
        "for sentence in tqdm(X_cv['text'].values): # for each review/sentence\n",
        "    vector = np.zeros(50) # as word vectors are of zero length\n",
        "    tf_idf_weight =0; # num of words with a valid vector in the sentence/review\n",
        "    for word in sentence.split(): # for each word in a review/sentence\n",
        "        if (word in w2v_words1) and (word in tfidf_words1):\n",
        "            vec = w2v_model1[word] # getting the vector for each word\n",
        "            # here we are multiplying idf value(dictionary[word]) and the tf value((sentence.count(word)/len(sentence.split())))\n",
        "            tf_idf = dictionary[word]*(sentence.count(word)/len(sentence.split())) # getting the tfidf value for each word\n",
        "            vector += (vec * tf_idf) # calculating tfidf weighted w2v\n",
        "            tf_idf_weight += tf_idf\n",
        "    if tf_idf_weight != 0:\n",
        "        vector /= tf_idf_weight\n",
        "    X_cv_text_tfidf_w2v.append(vector)\n",
        "print(len(X_cv_text_tfidf_w2v))\n",
        "print(len(X_cv_text_tfidf_w2v[0]))"
      ],
      "execution_count": null,
      "outputs": []
    },
    {
      "cell_type": "code",
      "metadata": {
        "id": "_M_sNssQA6cA"
      },
      "source": [
        "X_test_text_tfidf_w2v = []; # the avg-w2v for each sentence/review is stored in this list\n",
        "for sentence in tqdm(X_test['text'].values): # for each review/sentence\n",
        "    vector = np.zeros(50) # as word vectors are of zero length\n",
        "    tf_idf_weight =0; # num of words with a valid vector in the sentence/review\n",
        "    for word in sentence.split(): # for each word in a review/sentence\n",
        "        if (word in w2v_words1) and (word in tfidf_words1):\n",
        "            vec = w2v_model1[word] # getting the vector for each word\n",
        "            # here we are multiplying idf value(dictionary[word]) and the tf value((sentence.count(word)/len(sentence.split())))\n",
        "            tf_idf = dictionary[word]*(sentence.count(word)/len(sentence.split())) # getting the tfidf value for each word\n",
        "            vector += (vec * tf_idf) # calculating tfidf weighted w2v\n",
        "            tf_idf_weight += tf_idf\n",
        "    if tf_idf_weight != 0:\n",
        "        vector /= tf_idf_weight\n",
        "    X_test_text_tfidf_w2v.append(vector)\n",
        "print(len(X_test_text_tfidf_w2v))\n",
        "print(len(X_test_text_tfidf_w2v[0]))"
      ],
      "execution_count": null,
      "outputs": []
    },
    {
      "cell_type": "markdown",
      "metadata": {
        "id": "V3vrK7BSCypi"
      },
      "source": [
        "# Assignment 5 : Logistic regression"
      ]
    },
    {
      "cell_type": "markdown",
      "metadata": {
        "id": "WFI1ug-gCypi"
      },
      "source": [
        "<ol>\n",
        "    <li><strong>[Task-1] Logistic Regression(either SGDClassifier with log loss, or LogisticRegression) on these feature sets</strong>\n",
        "        <ul>\n",
        "            <li><font color='red'>Set 1</font>: categorical, numerical features + project_title(BOW) + preprocessed_eassay (`BOW with bi-grams` with `min_df=10` and `max_features=5000`)</li>\n",
        "            <li><font color='red'>Set 2</font>: categorical, numerical features + project_title(TFIDF)+  preprocessed_eassay (`TFIDF with bi-grams` with `min_df=10` and `max_features=5000`)</li>\n",
        "            <li><font color='red'>Set 3</font>: categorical, numerical features + project_title(AVG W2V)+  preprocessed_eassay (AVG W2V)</li>\n",
        "            <li><font color='red'>Set 4</font>: categorical, numerical features + project_title(TFIDF W2V)+  preprocessed_essay (TFIDF W2V)</li>        </ul>\n",
        "    </li>\n",
        "    <br>\n",
        "    <li><strong>Hyper paramter tuning (find best hyper parameters corresponding the algorithm that you choose)</strong>\n",
        "        <ul>\n",
        "    <li>Find the best hyper parameter which will give the maximum <a href='https://www.appliedaicourse.com/course/applied-ai-course-online/lessons/receiver-operating-characteristic-curve-roc-curve-and-auc-1/'>AUC</a> value</li>\n",
        "    <li>Find the best hyper paramter using k-fold cross validation or simple cross validation data</li>\n",
        "    <li>Use gridsearch cv or randomsearch cv or you can also write your own for loops to do this task of hyperparameter tuning</li>          \n",
        "        </ul>\n",
        "    </li>\n",
        "    <br>\n",
        "    <li><strong>Representation of results</strong>\n",
        "        <ul>\n",
        "    <li>You need to plot the performance of model both on train data and cross validation data for each hyper parameter, like shown in the figure.\n",
        "    <img src='train_cv_auc.JPG' width=300px></li>\n",
        "    <li>Once after you found the best hyper parameter, you need to train your model with it, and find the AUC on test data and plot the ROC curve on both train and test.\n",
        "    <img src='train_test_auc.JPG' width=300px></li>\n",
        "    <li>Along with plotting ROC curve, you need to print the <a href='https://www.appliedaicourse.com/course/applied-ai-course-online/lessons/confusion-matrix-tpr-fpr-fnr-tnr-1/'>confusion matrix</a> with predicted and original labels of test data points. Please visualize your confusion matrices using <a href='https://seaborn.pydata.org/generated/seaborn.heatmap.html'>seaborn heatmaps.\n",
        "    <img src='confusion_matrix.png' width=300px></li>\n",
        "        </ul>\n",
        "    </li>\n",
        "    <br>\n",
        "    <li><strong>[Task-2] Apply Logistic Regression on the below feature set <font color='red'> Set 5 </font> by finding the best hyper parameter as suggested in step 2 and step 3.</strong>\n",
        "    <li> Consider these set of features <font color='red'> Set 5 :</font>\n",
        "            <ul>\n",
        "                <li><strong>school_state</strong> : categorical data</li>\n",
        "                <li><strong>clean_categories</strong> : categorical data</li>\n",
        "                <li><strong>clean_subcategories</strong> : categorical data</li>\n",
        "                <li><strong>project_grade_category</strong> :categorical data</li>\n",
        "                <li><strong>teacher_prefix</strong> : categorical data</li>\n",
        "                <li><strong>quantity</strong> : numerical data</li>\n",
        "                <li><strong>teacher_number_of_previously_posted_projects</strong> : numerical data</li>\n",
        "                <li><strong>price</strong> : numerical data</li>\n",
        "                <li><strong>sentiment score's of each of the essay</strong> : numerical data</li>\n",
        "                <li><strong>number of words in the title</strong> : numerical data</li>\n",
        "                <li><strong>number of words in the combine essays</strong> : numerical data</li>\n",
        "            </ul>\n",
        "        And apply the Logistic regression on these features by finding the best hyper paramter as suggested in step 2 and step 3 <br>\n",
        "    </li>\n",
        "    <br>\n",
        "    <li><strong>Conclusion</strong>\n",
        "        <ul>\n",
        "    <li>You need to summarize the results at the end of the notebook, summarize it in the table format. To print out a table please refer to this prettytable library<a href='http://zetcode.com/python/prettytable/'>  link</a> \n",
        "        <img src='summary.JPG' width=400px>\n",
        "    </li>\n",
        "        </ul>\n",
        "</ol>"
      ]
    },
    {
      "cell_type": "markdown",
      "metadata": {
        "id": "vNcsOaPrCypk"
      },
      "source": [
        "<h4><font color='red'>Note: Data Leakage</font></h4>\n",
        "\n",
        "1. There will be an issue of data-leakage if you vectorize the entire data and then split it into train/cv/test.\n",
        "2. To avoid the issue of data-leakag, make sure to split your data first and then vectorize it. \n",
        "3. While vectorizing your data, apply the method fit_transform() on you train data, and apply the method transform() on cv/test data.\n",
        "4. For more details please go through this <a href='https://soundcloud.com/applied-ai-course/leakage-bow-and-tfidf'>link.</a>"
      ]
    },
    {
      "cell_type": "markdown",
      "metadata": {
        "id": "u7svGNyWCypl"
      },
      "source": [
        "<h1>Logistic regression </h1>"
      ]
    },
    {
      "cell_type": "markdown",
      "metadata": {
        "id": "7rNttBxdA6cI"
      },
      "source": [
        "###  Applying Logistic regression on BOW,<font color='red'> SET 1</font>"
      ]
    },
    {
      "cell_type": "markdown",
      "metadata": {
        "id": "5UbaJH21Cypa"
      },
      "source": [
        "### Merging all the above features"
      ]
    },
    {
      "cell_type": "markdown",
      "metadata": {
        "id": "fAZixvIeCypb"
      },
      "source": [
        "- we need to merge all the numerical vectors i.e catogorical, text, numerical vectors\n",
        "\n"
      ]
    },
    {
      "cell_type": "code",
      "metadata": {
        "id": "2fhOtv0eCypc"
      },
      "source": [
        "# merge two sparse matrices: https://stackoverflow.com/a/19710648/4084039\n",
        "from scipy.sparse import hstack\n",
        "X_tr = hstack((X_train_state_ohe,X_train_teacher_ohe,X_train_grade_ohe,X_train_subcat_ohe,\n",
        "               X_train_cat_ohe,X_train_price_norm,X_train_teacher_number_of_previously_posted_projects_norm,\n",
        "               X_train_text_bow,X_train_title_bow)).tocsr()\n",
        "\n",
        "X_cr = hstack((X_cv_state_ohe,X_cv_teacher_ohe,X_cv_grade_ohe,X_cv_subcat_ohe,\n",
        "               X_cv_cat_ohe,X_cv_price_norm,X_cv_teacher_number_of_previously_posted_projects_norm,\n",
        "               X_cv_text_bow,X_cv_title_bow)).tocsr()\n",
        "\n",
        "X_te = hstack((X_test_state_ohe,X_test_teacher_ohe,X_test_grade_ohe,X_test_subcat_ohe,\n",
        "               X_test_cat_ohe,X_test_price_norm,X_test_teacher_number_of_previously_posted_projects_norm,\n",
        "               X_test_text_bow,X_test_title_bow)).tocsr()\n",
        "\n",
        "print(\"Final Data matrix\")\n",
        "print(X_tr.shape, y_train.shape)\n",
        "print(X_cr.shape, y_cv.shape)\n",
        "print(X_te.shape, y_test.shape)\n",
        "print(\"=\"*100)"
      ],
      "execution_count": null,
      "outputs": []
    },
    {
      "cell_type": "code",
      "metadata": {
        "id": "yTwp4cxTA6cN"
      },
      "source": [
        "def batch_predict(clf,data):\n",
        "    y_pred=[]\n",
        "    dl=data.shape[0]-data.shape[0]%1000\n",
        "    \n",
        "    for i in range(0,dl,1000):\n",
        "        y_pred.extend(clf.predict_proba(data[i:i+1000])[:,1])\n",
        "    \n",
        "    y_pred.extend(clf.predict_proba(data[dl:])[:,1])\n",
        "    \n",
        "    return y_pred"
      ],
      "execution_count": null,
      "outputs": []
    },
    {
      "cell_type": "code",
      "metadata": {
        "id": "8bjDOuyJA6cQ"
      },
      "source": [
        "import matplotlib.pyplot as plt \n",
        "from sklearn.linear_model import LogisticRegression\n",
        "from sklearn.metrics import roc_auc_score\n",
        "\n",
        "train_auc=[]\n",
        "cv_auc=[]\n",
        "alpha= [0.00001, 0.0001, 0.001, 0.01, 0.1, 1, 10, 100, 1000, 10000]\n",
        "b=[]\n",
        "for i in tqdm(alpha):\n",
        "    mb=LogisticRegression(penalty='l2',C=i,class_weight='balanced')\n",
        "    mb.fit(X_tr,y_train)\n",
        "    \n",
        "    y_train_pred=batch_predict(mb,X_tr)\n",
        "    y_cv_pred=batch_predict(mb,X_cr)\n",
        "    \n",
        "    train_auc.append(roc_auc_score(y_train,y_train_pred))\n",
        "    cv_auc.append(roc_auc_score(y_cv,y_cv_pred))\n",
        "    \n",
        "max_auc_ind_train=train_auc.index(max(train_auc))\n",
        "alpha_max_auc_train=alpha[max_auc_ind_train]\n",
        "\n",
        "print(\"max auc in train data:\",max(train_auc))\n",
        "print(\"alpha value for maximum AUC:\",alpha_max_auc_train)\n",
        "max_auc_ind_cv=cv_auc.index(max(cv_auc))\n",
        "alpha_max_auc_cv=alpha[max_auc_ind_cv]\n",
        "print(\"max auc  in cv data:\",max(cv_auc))\n",
        "print(\"alpha value for maximum AUC:\",alpha_max_auc_cv)\n",
        "\n",
        "plt.plot(alpha,train_auc,label='Train_AUC')\n",
        "plt.plot(alpha,cv_auc,label='CV_AUC')\n",
        "plt.scatter(alpha,cv_auc)\n",
        "plt.scatter(alpha,train_auc)\n",
        "#https://matplotlib.org/3.1.1/api/_as_gen/matplotlib.pyplot.xscale.html\n",
        "plt.xscale('log')\n",
        "plt.title(\"AUC: ERROR plot\")\n",
        "plt.ylabel('AUC')\n",
        "plt.xlabel('Alpha:Hyperparameter')\n",
        "plt.legend()\n",
        "plt.grid(1)\n"
      ],
      "execution_count": null,
      "outputs": []
    },
    {
      "cell_type": "code",
      "metadata": {
        "id": "rkcdkqD8A6cT"
      },
      "source": [
        "# https://scikit-learn.org/stable/modules/generated/sklearn.metrics.roc_curve.html#sklearn.metrics.roc_curve\n",
        "from sklearn.metrics import roc_curve, auc\n",
        "\n",
        "nb = LogisticRegression(C=0.01,class_weight='balanced',penalty='l2')\n",
        "nb.fit(X_tr, y_train)\n",
        "# roc_auc_score(y_true, y_score) the 2nd parameter should be probability estimates of the positive class\n",
        "# not the predicted outputs\n",
        "\n",
        "y_train_pred = nb.predict_proba(X_tr)[:,1]    \n",
        "y_test_pred = nb.predict_proba(X_te)[:,1]\n",
        "\n",
        "train_fpr, train_tpr, tr_thresholds = roc_curve(y_train, y_train_pred)\n",
        "test_fpr, test_tpr, te_thresholds = roc_curve(y_test, y_test_pred)\n",
        "\n",
        "plt.plot(train_fpr, train_tpr, label=\"train AUC =\"+str(auc(train_fpr, train_tpr)))\n",
        "plt.plot(test_fpr, test_tpr, label=\"test AUC =\"+str(auc(test_fpr, test_tpr )))\n",
        "plt.legend()\n",
        "plt.xlabel(\"alpha: hyperparameter\")\n",
        "plt.ylabel(\"AUC\")\n",
        "plt.title(\"ERROR PLOTS\")\n",
        "plt.grid()\n",
        "plt.show()"
      ],
      "execution_count": null,
      "outputs": []
    },
    {
      "cell_type": "code",
      "metadata": {
        "id": "iW3uuDL9A6cW"
      },
      "source": [
        "#we are writing our own function for predict, with defined thresould\n",
        "# we will pick a threshold that will give the least fpr\n",
        "def predict(proba,threshold,fpr,tpr):\n",
        "    t=threshold[np.argmax(tpr*(1-fpr))]\n",
        "    # (tpr*(1-fpr)) will be maximum if your fpr is very low and tpr is very high\n",
        "\n",
        "    print(\"the maximum value of tpr*(1-fpr)\",max(tpr*(1-fpr)))\n",
        "    print(\"Threshold:\",np.round(t,3))\n",
        "    prediction=[]\n",
        "    for i in proba:\n",
        "        if i>=t:\n",
        "            prediction.append(1)\n",
        "        else:\n",
        "            prediction.append(0)\n",
        "    \n",
        "    return prediction"
      ],
      "execution_count": null,
      "outputs": []
    },
    {
      "cell_type": "code",
      "metadata": {
        "id": "shZRhxlIA6cY"
      },
      "source": [
        "import seaborn as sns\n",
        "#https://stackoverflow.com/a/33158941/10967428\n",
        "con_tr=confusion_matrix(y_train,predict(y_train_pred,tr_thresholds,train_fpr,train_tpr))\n",
        "\n",
        "sns.heatmap(con_tr,annot=True,fmt='0.00f',annot_kws={'size':10})\n",
        "plt.title(\"Train Confusion Matrix\")\n",
        "plt.ylabel(\"Actual value\")\n",
        "plt.xlabel(\"Predicted value\")\n",
        "plt.show()"
      ],
      "execution_count": null,
      "outputs": []
    },
    {
      "cell_type": "code",
      "metadata": {
        "id": "t_y65VJkA6cb"
      },
      "source": [
        "#https://stackoverflow.com/a/33158941/10967428\n",
        "con_te=confusion_matrix(y_test, predict(y_test_pred, tr_thresholds, test_fpr, test_tpr))\n",
        "\n",
        "sns.heatmap(con_te,annot=True,fmt='0.00f',annot_kws={'size':10})\n",
        "plt.title(\"Test Confusion Matrix\")\n",
        "plt.ylabel(\"Actual value\")\n",
        "plt.xlabel(\"Predicted value\")\n",
        "plt.show()"
      ],
      "execution_count": null,
      "outputs": []
    },
    {
      "cell_type": "markdown",
      "metadata": {
        "id": "s85gPOAbCyp1"
      },
      "source": [
        "### 2.4.2 Applying Logistic regression on TFIDF,<font color='red'> SET 2</font>"
      ]
    },
    {
      "cell_type": "code",
      "metadata": {
        "id": "Ziob-T21A6cf"
      },
      "source": [
        "# merge two sparse matrices: https://stackoverflow.com/a/19710648/4084039\n",
        "from scipy.sparse import hstack\n",
        "X_tr = hstack((X_train_state_ohe,X_train_teacher_ohe,X_train_grade_ohe,X_train_subcat_ohe,\n",
        "               X_train_cat_ohe,X_train_price_norm,X_train_teacher_number_of_previously_posted_projects_norm,\n",
        "               X_train_text_tfidf,X_train_title_tfidf)).tocsr()\n",
        "\n",
        "X_cr = hstack((X_cv_state_ohe,X_cv_teacher_ohe,X_cv_grade_ohe,X_cv_subcat_ohe,\n",
        "               X_cv_cat_ohe,X_cv_price_norm,X_cv_teacher_number_of_previously_posted_projects_norm,\n",
        "               X_cv_text_tfidf,X_cv_title_tfidf)).tocsr()\n",
        "\n",
        "X_te = hstack((X_test_state_ohe,X_test_teacher_ohe,X_test_grade_ohe,X_test_subcat_ohe,\n",
        "               X_test_cat_ohe,X_test_price_norm,X_test_teacher_number_of_previously_posted_projects_norm,\n",
        "               X_test_text_tfidf,X_test_title_tfidf)).tocsr()\n",
        "\n",
        "print(\"Final Data matrix\")\n",
        "print(X_tr.shape, y_train.shape)\n",
        "print(X_cr.shape, y_cv.shape)\n",
        "print(X_te.shape, y_test.shape)\n",
        "print(\"=\"*100)"
      ],
      "execution_count": null,
      "outputs": []
    },
    {
      "cell_type": "code",
      "metadata": {
        "id": "T-CoGKd1A6cm"
      },
      "source": [
        "import matplotlib.pyplot as plt \n",
        "from sklearn.naive_bayes import MultinomialNB\n",
        "from sklearn.metrics import roc_auc_score\n",
        "\n",
        "train_auc=[]\n",
        "cv_auc=[]\n",
        "alpha= [0.00001, 0.0001, 0.001, 0.01, 0.1, 1, 10, 100, 1000, 10000]\n",
        "b=[]\n",
        "for i in tqdm(alpha):\n",
        "    mb=MultinomialNB(alpha=i)\n",
        "    mb.fit(X_tr,y_train)\n",
        "    \n",
        "    y_train_pred=batch_predict(mb,X_tr)\n",
        "    y_cv_pred=batch_predict(mb,X_cr)\n",
        "    \n",
        "    train_auc.append(roc_auc_score(y_train,y_train_pred))\n",
        "    cv_auc.append(roc_auc_score(y_cv,y_cv_pred))\n",
        "    \n",
        "max_auc_ind_train=train_auc.index(max(train_auc))\n",
        "alpha_max_auc_train=alpha[max_auc_ind_train]\n",
        "\n",
        "print(\"max auc in train data:\",max(train_auc))\n",
        "print(\"alpha value for maximum AUC:\",alpha_max_auc_train)\n",
        "max_auc_ind_cv=cv_auc.index(max(cv_auc))\n",
        "alpha_max_auc_cv=alpha[max_auc_ind_cv]\n",
        "print(\"max auc  in cv data:\",max(cv_auc))\n",
        "print(\"alpha value for maximum AUC:\",alpha_max_auc_cv)\n",
        "\n",
        "plt.plot(alpha,train_auc,label='Train_AUC')\n",
        "plt.plot(alpha,cv_auc,label='CV_AUC')\n",
        "plt.scatter(alpha,cv_auc)\n",
        "plt.scatter(alpha,train_auc)\n",
        "#https://matplotlib.org/3.1.1/api/_as_gen/matplotlib.pyplot.xscale.html\n",
        "plt.xscale('log')\n",
        "plt.title(\"AUC: ERROR plot\")\n",
        "plt.ylabel('AUC')\n",
        "plt.xlabel('Alpha:Hyperparameter')\n",
        "plt.legend()\n",
        "plt.grid(1)\n"
      ],
      "execution_count": null,
      "outputs": []
    },
    {
      "cell_type": "code",
      "metadata": {
        "id": "9MsFld4JA6cp"
      },
      "source": [
        "# https://scikit-learn.org/stable/modules/generated/sklearn.metrics.roc_curve.html#sklearn.metrics.roc_curve\n",
        "from sklearn.metrics import roc_curve, auc\n",
        "\n",
        "nb = LogisticRegression(C=0.1,class_weight='balanced',penalty='l2')\n",
        "nb.fit(X_tr, y_train)\n",
        "# roc_auc_score(y_true, y_score) the 2nd parameter should be probability estimates of the positive class\n",
        "# not the predicted outputs\n",
        "\n",
        "y_train_pred = nb.predict_proba(X_tr)[:,1]    \n",
        "y_test_pred = nb.predict_proba(X_te)[:,1]\n",
        "\n",
        "train_fpr, train_tpr, tr_thresholds = roc_curve(y_train, y_train_pred)\n",
        "test_fpr, test_tpr, te_thresholds = roc_curve(y_test, y_test_pred)\n",
        "\n",
        "plt.plot(train_fpr, train_tpr, label=\"train AUC =\"+str(auc(train_fpr, train_tpr)))\n",
        "plt.plot(test_fpr, test_tpr, label=\"test AUC =\"+str(auc(test_fpr, test_tpr )))\n",
        "plt.legend()\n",
        "plt.xlabel(\"alpha: hyperparameter\")\n",
        "plt.ylabel(\"AUC\")\n",
        "plt.title(\"ERROR PLOTS\")\n",
        "plt.grid()\n",
        "plt.show()"
      ],
      "execution_count": null,
      "outputs": []
    },
    {
      "cell_type": "code",
      "metadata": {
        "id": "ykAqmAb8A6ct"
      },
      "source": [
        "import seaborn as sns\n",
        "#https://stackoverflow.com/a/33158941/10967428\n",
        "con_tr=confusion_matrix(y_train,predict(y_train_pred,tr_thresholds,train_fpr,train_tpr))\n",
        "\n",
        "sns.heatmap(con_tr,annot=True,fmt='0.00f',annot_kws={'size':10})\n",
        "plt.title(\"Train Confusion Matrix\")\n",
        "plt.ylabel(\"Actual value\")\n",
        "plt.xlabel(\"Predicted value\")\n",
        "plt.show()"
      ],
      "execution_count": null,
      "outputs": []
    },
    {
      "cell_type": "code",
      "metadata": {
        "id": "tSnxxfUmA6cw"
      },
      "source": [
        "import seaborn as sns\n",
        "#https://stackoverflow.com/a/33158941/10967428\n",
        "con_te=confusion_matrix(y_test, predict(y_test_pred, tr_thresholds, test_fpr, test_tpr))\n",
        "\n",
        "sns.heatmap(con_te,annot=True,fmt='0.00f',annot_kws={'size':10})\n",
        "plt.title(\"Test Confusion Matrix\")\n",
        "plt.ylabel(\"Actual value\")\n",
        "plt.xlabel(\"Predicted value\")\n",
        "plt.show()"
      ],
      "execution_count": null,
      "outputs": []
    },
    {
      "cell_type": "markdown",
      "metadata": {
        "id": "rUU-tka2A6cy"
      },
      "source": [
        "### 2.4.2 Applying Logistic regression on avgw2v,<font color='red'> SET 3</font>"
      ]
    },
    {
      "cell_type": "code",
      "metadata": {
        "id": "4n8pqd__A6cz"
      },
      "source": [
        "# merge two sparse matrices: https://stackoverflow.com/a/19710648/4084039\n",
        "from scipy.sparse import hstack\n",
        "X_tr = hstack((X_train_state_ohe,X_train_teacher_ohe,X_train_grade_ohe,X_train_subcat_ohe,\n",
        "               X_train_cat_ohe,X_train_price_norm,X_train_teacher_number_of_previously_posted_projects_norm,\n",
        "               X_train_text_avgw2v,X_train_title_avgw2v)).tocsr()\n",
        "\n",
        "X_cr = hstack((X_cv_state_ohe,X_cv_teacher_ohe,X_cv_grade_ohe,X_cv_subcat_ohe,\n",
        "               X_cv_cat_ohe,X_cv_price_norm,X_cv_teacher_number_of_previously_posted_projects_norm,\n",
        "               X_cv_text_avgw2v,X_cv_title_avgw2v)).tocsr()\n",
        "\n",
        "X_te = hstack((X_test_state_ohe,X_test_teacher_ohe,X_test_grade_ohe,X_test_subcat_ohe,\n",
        "               X_test_cat_ohe,X_test_price_norm,X_test_teacher_number_of_previously_posted_projects_norm,\n",
        "               X_test_text_avgw2v,X_test_title_avgw2v)).tocsr()\n",
        "\n",
        "print(\"Final Data matrix\")\n",
        "print(X_tr.shape, y_train.shape)\n",
        "print(X_cr.shape, y_cv.shape)\n",
        "print(X_te.shape, y_test.shape)\n",
        "print(\"=\"*100)"
      ],
      "execution_count": null,
      "outputs": []
    },
    {
      "cell_type": "code",
      "metadata": {
        "id": "qFJnWuBSA6c2"
      },
      "source": [
        "import matplotlib.pyplot as plt \n",
        "from sklearn.linear_model import LogisticRegression\n",
        "from sklearn.metrics import roc_auc_score\n",
        "\n",
        "train_auc=[]\n",
        "cv_auc=[]\n",
        "alpha= [0.00001, 0.0001, 0.001, 0.01, 0.1, 1, 10, 100, 1000, 10000, 10**5]\n",
        "b=[]\n",
        "for i in tqdm(alpha):\n",
        "    mb=LogisticRegression(penalty='l2',C=i,class_weight='balanced')\n",
        "    mb.fit(X_tr,y_train)\n",
        "    \n",
        "    y_train_pred=batch_predict(mb,X_tr)\n",
        "    y_cv_pred=batch_predict(mb,X_cr)\n",
        "    \n",
        "    train_auc.append(roc_auc_score(y_train,y_train_pred))\n",
        "    cv_auc.append(roc_auc_score(y_cv,y_cv_pred))\n",
        "    \n",
        "max_auc_ind_train=train_auc.index(max(train_auc))\n",
        "alpha_max_auc_train=alpha[max_auc_ind_train]\n",
        "\n",
        "print(\"max auc in train data:\",max(train_auc))\n",
        "print(\"alpha value for maximum AUC:\",alpha_max_auc_train)\n",
        "max_auc_ind_cv=cv_auc.index(max(cv_auc))\n",
        "alpha_max_auc_cv=alpha[max_auc_ind_cv]\n",
        "print(\"max auc  in cv data:\",max(cv_auc))\n",
        "print(\"alpha value for maximum AUC:\",alpha_max_auc_cv)\n",
        "\n",
        "plt.plot(alpha,train_auc,label='Train_AUC')\n",
        "plt.plot(alpha,cv_auc,label='CV_AUC')\n",
        "plt.scatter(alpha,cv_auc)\n",
        "plt.scatter(alpha,train_auc)\n",
        "#https://matplotlib.org/3.1.1/api/_as_gen/matplotlib.pyplot.xscale.html\n",
        "plt.xscale('log')\n",
        "plt.title(\"AUC: ERROR plot\")\n",
        "plt.ylabel('AUC')\n",
        "plt.xlabel('Alpha:Hyperparameter')\n",
        "plt.legend()\n",
        "plt.grid(1)"
      ],
      "execution_count": null,
      "outputs": []
    },
    {
      "cell_type": "code",
      "metadata": {
        "id": "n4iTyRaHA6c7"
      },
      "source": [
        "# https://scikit-learn.org/stable/modules/generated/sklearn.metrics.roc_curve.html#sklearn.metrics.roc_curve\n",
        "from sklearn.metrics import roc_curve, auc\n",
        "\n",
        "nb = LogisticRegression(C=10**5,class_weight='balanced',penalty='l2')\n",
        "nb.fit(X_tr, y_train)\n",
        "# roc_auc_score(y_true, y_score) the 2nd parameter should be probability estimates of the positive class\n",
        "# not the predicted outputs\n",
        "\n",
        "y_train_pred = nb.predict_proba(X_tr)[:,1]    \n",
        "y_test_pred = nb.predict_proba(X_te)[:,1]\n",
        "\n",
        "train_fpr, train_tpr, tr_thresholds = roc_curve(y_train, y_train_pred)\n",
        "test_fpr, test_tpr, te_thresholds = roc_curve(y_test, y_test_pred)\n",
        "\n",
        "plt.plot(train_fpr, train_tpr, label=\"train AUC =\"+str(auc(train_fpr, train_tpr)))\n",
        "plt.plot(test_fpr, test_tpr, label=\"test AUC =\"+str(auc(test_fpr, test_tpr )))\n",
        "plt.legend()\n",
        "plt.xlabel(\"alpha: hyperparameter\")\n",
        "plt.ylabel(\"AUC\")\n",
        "plt.title(\"ERROR PLOTS\")\n",
        "plt.grid()\n",
        "plt.show()"
      ],
      "execution_count": null,
      "outputs": []
    },
    {
      "cell_type": "code",
      "metadata": {
        "id": "Rqfm4MUyA6c-"
      },
      "source": [
        "import seaborn as sns\n",
        "#https://stackoverflow.com/a/33158941/10967428\n",
        "con_tr=confusion_matrix(y_train,predict(y_train_pred,tr_thresholds,train_fpr,train_tpr))\n",
        "\n",
        "sns.heatmap(con_tr,annot=True,fmt='0.00f',annot_kws={'size':10})\n",
        "plt.title(\"Train Confusion Matrix\")\n",
        "plt.ylabel(\"Actual value\")\n",
        "plt.xlabel(\"Predicted value\")\n",
        "plt.show()"
      ],
      "execution_count": null,
      "outputs": []
    },
    {
      "cell_type": "code",
      "metadata": {
        "scrolled": true,
        "id": "D9pAN4qkA6dB"
      },
      "source": [
        "import seaborn as sns\n",
        "#https://stackoverflow.com/a/33158941/10967428\n",
        "con_te=confusion_matrix(y_test, predict(y_test_pred, tr_thresholds, test_fpr, test_tpr))\n",
        "\n",
        "sns.heatmap(con_te,annot=True,fmt='0.00f',annot_kws={'size':10})\n",
        "plt.title(\"Test Confusion Matrix\")\n",
        "plt.ylabel(\"Actual value\")\n",
        "plt.xlabel(\"Predicted value\")\n",
        "plt.show()"
      ],
      "execution_count": null,
      "outputs": []
    },
    {
      "cell_type": "markdown",
      "metadata": {
        "id": "T8sK-ZNXA6dE"
      },
      "source": [
        "### 2.4.2 Applying Logistic regression on TFIDF avgw2v<font color='red'> SET 4</font>"
      ]
    },
    {
      "cell_type": "code",
      "metadata": {
        "id": "Prai-2ZjA6dE"
      },
      "source": [
        "# merge two sparse matrices: https://stackoverflow.com/a/19710648/4084039\n",
        "from scipy.sparse import hstack\n",
        "X_tr = hstack((X_train_state_ohe,X_train_teacher_ohe,X_train_grade_ohe,X_train_subcat_ohe,\n",
        "               X_train_cat_ohe,X_train_price_norm,X_train_teacher_number_of_previously_posted_projects_norm,\n",
        "               X_train_text_tfidf_w2v,X_train_title_tfidf_w2v)).tocsr()\n",
        "\n",
        "X_cr = hstack((X_cv_state_ohe,X_cv_teacher_ohe,X_cv_grade_ohe,X_cv_subcat_ohe,\n",
        "               X_cv_cat_ohe,X_cv_price_norm,X_cv_teacher_number_of_previously_posted_projects_norm,\n",
        "               X_cv_text_tfidf_w2v,X_cv_title_tfidf_w2v)).tocsr()\n",
        "\n",
        "X_te = hstack((X_test_state_ohe,X_test_teacher_ohe,X_test_grade_ohe,X_test_subcat_ohe,\n",
        "               X_test_cat_ohe,X_test_price_norm,X_test_teacher_number_of_previously_posted_projects_norm,\n",
        "               X_test_text_tfidf_w2v,X_test_title_tfidf_w2v)).tocsr()\n",
        "\n",
        "print(\"Final Data matrix\")\n",
        "print(X_tr.shape, y_train.shape)\n",
        "print(X_cr.shape, y_cv.shape)\n",
        "print(X_te.shape, y_test.shape)\n",
        "print(\"=\"*100)"
      ],
      "execution_count": null,
      "outputs": []
    },
    {
      "cell_type": "code",
      "metadata": {
        "id": "5-qfBksrA6dG"
      },
      "source": [
        "import matplotlib.pyplot as plt \n",
        "from sklearn.linear_model import LogisticRegression\n",
        "from sklearn.metrics import roc_auc_score\n",
        "\n",
        "train_auc=[]\n",
        "cv_auc=[]\n",
        "alpha= [0.00001, 0.0001, 0.001, 0.01, 0.1, 1, 10, 100, 1000, 10000, 10**5]\n",
        "b=[]\n",
        "for i in tqdm(alpha):\n",
        "    mb=LogisticRegression(penalty='l2',C=i,class_weight='balanced')\n",
        "    mb.fit(X_tr,y_train)\n",
        "    \n",
        "    y_train_pred=batch_predict(mb,X_tr)\n",
        "    y_cv_pred=batch_predict(mb,X_cr)\n",
        "    \n",
        "    train_auc.append(roc_auc_score(y_train,y_train_pred))\n",
        "    cv_auc.append(roc_auc_score(y_cv,y_cv_pred))\n",
        "    \n",
        "max_auc_ind_train=train_auc.index(max(train_auc))\n",
        "alpha_max_auc_train=alpha[max_auc_ind_train]\n",
        "\n",
        "print(\"max auc in train data:\",max(train_auc))\n",
        "print(\"alpha value for maximum AUC:\",alpha_max_auc_train)\n",
        "max_auc_ind_cv=cv_auc.index(max(cv_auc))\n",
        "alpha_max_auc_cv=alpha[max_auc_ind_cv]\n",
        "print(\"max auc  in cv data:\",max(cv_auc))\n",
        "print(\"alpha value for maximum AUC:\",alpha_max_auc_cv)\n",
        "\n",
        "plt.plot(alpha,train_auc,label='Train_AUC')\n",
        "plt.plot(alpha,cv_auc,label='CV_AUC')\n",
        "plt.scatter(alpha,cv_auc)\n",
        "plt.scatter(alpha,train_auc)\n",
        "#https://matplotlib.org/3.1.1/api/_as_gen/matplotlib.pyplot.xscale.html\n",
        "plt.xscale('log')\n",
        "plt.title(\"AUC: ERROR plot\")\n",
        "plt.ylabel('AUC')\n",
        "plt.xlabel('Alpha:Hyperparameter')\n",
        "plt.legend()\n",
        "plt.grid(1)"
      ],
      "execution_count": null,
      "outputs": []
    },
    {
      "cell_type": "code",
      "metadata": {
        "id": "93YhUAMCA6dJ"
      },
      "source": [
        "# https://scikit-learn.org/stable/modules/generated/sklearn.metrics.roc_curve.html#sklearn.metrics.roc_curve\n",
        "from sklearn.metrics import roc_curve, auc\n",
        "\n",
        "nb = LogisticRegression(C=10**5,class_weight='balanced',penalty='l2')\n",
        "nb.fit(X_tr, y_train)\n",
        "# roc_auc_score(y_true, y_score) the 2nd parameter should be probability estimates of the positive class\n",
        "# not the predicted outputs\n",
        "\n",
        "y_train_pred = nb.predict_proba(X_tr)[:,1]    \n",
        "y_test_pred = nb.predict_proba(X_te)[:,1]\n",
        "\n",
        "train_fpr, train_tpr, tr_thresholds = roc_curve(y_train, y_train_pred)\n",
        "test_fpr, test_tpr, te_thresholds = roc_curve(y_test, y_test_pred)\n",
        "\n",
        "plt.plot(train_fpr, train_tpr, label=\"train AUC =\"+str(auc(train_fpr, train_tpr)))\n",
        "plt.plot(test_fpr, test_tpr, label=\"test AUC =\"+str(auc(test_fpr, test_tpr )))\n",
        "plt.legend()\n",
        "plt.xlabel(\"alpha: hyperparameter\")\n",
        "plt.ylabel(\"AUC\")\n",
        "plt.title(\"ERROR PLOTS\")\n",
        "plt.grid()\n",
        "plt.show()"
      ],
      "execution_count": null,
      "outputs": []
    },
    {
      "cell_type": "code",
      "metadata": {
        "id": "I0TpJ1wiA6dP"
      },
      "source": [
        "import seaborn as sns\n",
        "#https://stackoverflow.com/a/33158941/10967428\n",
        "con_tr=confusion_matrix(y_train,predict(y_train_pred,tr_thresholds,train_fpr,train_tpr))\n",
        "\n",
        "sns.heatmap(con_tr,annot=True,fmt='0.00f',annot_kws={'size':10})\n",
        "plt.title(\"Train Confusion Matrix\")\n",
        "plt.ylabel(\"Actual value\")\n",
        "plt.xlabel(\"Predicted value\")\n",
        "plt.show()"
      ],
      "execution_count": null,
      "outputs": []
    },
    {
      "cell_type": "code",
      "metadata": {
        "id": "Oef3FS21A6dW"
      },
      "source": [
        "import seaborn as sns\n",
        "#https://stackoverflow.com/a/33158941/10967428\n",
        "con_te=confusion_matrix(y_test, predict(y_test_pred, tr_thresholds, test_fpr, test_tpr))\n",
        "\n",
        "sns.heatmap(con_te,annot=True,fmt='0.00f',annot_kws={'size':10})\n",
        "plt.title(\"Test Confusion Matrix\")\n",
        "plt.ylabel(\"Actual value\")\n",
        "plt.xlabel(\"Predicted value\")\n",
        "plt.show()"
      ],
      "execution_count": null,
      "outputs": []
    },
    {
      "cell_type": "markdown",
      "metadata": {
        "id": "Fxh7zu3UA6da"
      },
      "source": [
        "###  Applying Logistic regression on<font color='red'> SET 5</font>"
      ]
    },
    {
      "cell_type": "code",
      "metadata": {
        "id": "zbp2f6d4A6da"
      },
      "source": [
        "# merge two sparse matrices: https://stackoverflow.com/a/19710648/4084039\n",
        "from scipy.sparse import hstack\n",
        "X_tr = hstack((X_train_state_ohe,X_train_teacher_ohe,X_train_grade_ohe,X_train_subcat_ohe,\n",
        "               X_train_cat_ohe,X_train_price_norm,X_train_teacher_number_of_previously_posted_projects_norm,\n",
        "               X_train_quan_norm, X_train_now_title_norm, X_train_now_text_norm,\n",
        "               X_train_pos_norm, X_train_neg_norm, X_train_neu_norm,\n",
        "               X_train_com_norm)).tocsr()\n",
        "\n",
        "X_cr = hstack((X_cv_state_ohe,X_cv_teacher_ohe,X_cv_grade_ohe,X_cv_subcat_ohe,\n",
        "               X_cv_cat_ohe,X_cv_price_norm,X_cv_teacher_number_of_previously_posted_projects_norm,\n",
        "               X_cv_quan_norm,X_cv_now_title_norm, X_cv_now_text_norm,\n",
        "               X_cv_pos_norm, X_cv_neg_norm, X_cv_neu_norm,\n",
        "               X_cv_com_norm)).tocsr()\n",
        "\n",
        "X_te = hstack((X_test_state_ohe,X_test_teacher_ohe,X_test_grade_ohe,X_test_subcat_ohe,\n",
        "               X_test_cat_ohe,X_test_price_norm,X_test_teacher_number_of_previously_posted_projects_norm,\n",
        "               X_test_quan_norm,X_test_now_title_norm, X_test_now_text_norm,\n",
        "               X_test_pos_norm, X_test_neg_norm, X_test_neu_norm,\n",
        "               X_test_com_norm)).tocsr()\n",
        "\n",
        "print(\"Final Data matrix\")\n",
        "print(X_tr.shape, y_train.shape)\n",
        "print(X_cr.shape, y_cv.shape)\n",
        "print(X_te.shape, y_test.shape)\n",
        "print(\"=\"*100)"
      ],
      "execution_count": null,
      "outputs": []
    },
    {
      "cell_type": "code",
      "metadata": {
        "id": "mKVWNrpwA6di"
      },
      "source": [
        "import matplotlib.pyplot as plt \n",
        "from sklearn.linear_model import LogisticRegression\n",
        "from sklearn.metrics import roc_auc_score\n",
        "\n",
        "train_auc=[]\n",
        "cv_auc=[]\n",
        "alpha= [0.00001, 0.0001, 0.001, 0.01, 0.1, 1, 10, 100, 1000, 10000, 10**5]\n",
        "b=[]\n",
        "for i in tqdm(alpha):\n",
        "    mb=LogisticRegression(penalty='l2',C=i,class_weight='balanced')\n",
        "    mb.fit(X_tr,y_train)\n",
        "    \n",
        "    y_train_pred=batch_predict(mb,X_tr)\n",
        "    y_cv_pred=batch_predict(mb,X_cr)\n",
        "    \n",
        "    train_auc.append(roc_auc_score(y_train,y_train_pred))\n",
        "    cv_auc.append(roc_auc_score(y_cv,y_cv_pred))\n",
        "    \n",
        "max_auc_ind_train=train_auc.index(max(train_auc))\n",
        "alpha_max_auc_train=alpha[max_auc_ind_train]\n",
        "\n",
        "print(\"max auc in train data:\",max(train_auc))\n",
        "print(\"alpha value for maximum AUC:\",alpha_max_auc_train)\n",
        "max_auc_ind_cv=cv_auc.index(max(cv_auc))\n",
        "alpha_max_auc_cv=alpha[max_auc_ind_cv]\n",
        "print(\"max auc  in cv data:\",max(cv_auc))\n",
        "print(\"alpha value for maximum AUC:\",alpha_max_auc_cv)\n",
        "\n",
        "plt.plot(alpha,train_auc,label='Train_AUC')\n",
        "plt.plot(alpha,cv_auc,label='CV_AUC')\n",
        "plt.scatter(alpha,cv_auc)\n",
        "plt.scatter(alpha,train_auc)\n",
        "#https://matplotlib.org/3.1.1/api/_as_gen/matplotlib.pyplot.xscale.html\n",
        "plt.xscale('log')\n",
        "plt.title(\"AUC: ERROR plot\")\n",
        "plt.ylabel('AUC')\n",
        "plt.xlabel('Alpha:Hyperparameter')\n",
        "plt.legend()\n",
        "plt.grid(1)"
      ],
      "execution_count": null,
      "outputs": []
    },
    {
      "cell_type": "code",
      "metadata": {
        "id": "A2Hz9s4pA6dk"
      },
      "source": [
        "# https://scikit-learn.org/stable/modules/generated/sklearn.metrics.roc_curve.html#sklearn.metrics.roc_curve\n",
        "from sklearn.metrics import roc_curve, auc\n",
        "\n",
        "nb = LogisticRegression(C=1000,class_weight='balanced',penalty='l2')\n",
        "nb.fit(X_tr, y_train)\n",
        "# roc_auc_score(y_true, y_score) the 2nd parameter should be probability estimates of the positive class\n",
        "# not the predicted outputs\n",
        "\n",
        "y_train_pred = nb.predict_proba(X_tr)[:,1]    \n",
        "y_test_pred = nb.predict_proba(X_te)[:,1]\n",
        "\n",
        "train_fpr, train_tpr, tr_thresholds = roc_curve(y_train, y_train_pred)\n",
        "test_fpr, test_tpr, te_thresholds = roc_curve(y_test, y_test_pred)\n",
        "\n",
        "plt.plot(train_fpr, train_tpr, label=\"train AUC =\"+str(auc(train_fpr, train_tpr)))\n",
        "plt.plot(test_fpr, test_tpr, label=\"test AUC =\"+str(auc(test_fpr, test_tpr )))\n",
        "plt.legend()\n",
        "plt.xlabel(\"alpha: hyperparameter\")\n",
        "plt.ylabel(\"AUC\")\n",
        "plt.title(\"ERROR PLOTS\")\n",
        "plt.grid()\n",
        "plt.show()"
      ],
      "execution_count": null,
      "outputs": []
    },
    {
      "cell_type": "code",
      "metadata": {
        "id": "ISNXF7_yA6dn"
      },
      "source": [
        "import seaborn as sns\n",
        "#https://stackoverflow.com/a/33158941/10967428\n",
        "con_tr=confusion_matrix(y_train,predict(y_train_pred,tr_thresholds,train_fpr,train_tpr))\n",
        "\n",
        "sns.heatmap(con_tr,annot=True,fmt='0.00f',annot_kws={'size':10})\n",
        "plt.title(\"Train Confusion Matrix\")\n",
        "plt.ylabel(\"Actual value\")\n",
        "plt.xlabel(\"Predicted value\")\n",
        "plt.show()"
      ],
      "execution_count": null,
      "outputs": []
    },
    {
      "cell_type": "code",
      "metadata": {
        "id": "Cww9YMfLA6dr"
      },
      "source": [
        "import seaborn as sns\n",
        "#https://stackoverflow.com/a/33158941/10967428\n",
        "con_te=confusion_matrix(y_test, predict(y_test_pred, tr_thresholds, test_fpr, test_tpr))\n",
        "\n",
        "sns.heatmap(con_te,annot=True,fmt='0.00f',annot_kws={'size':10})\n",
        "plt.title(\"Test Confusion Matrix\")\n",
        "plt.ylabel(\"Actual value\")\n",
        "plt.xlabel(\"Predicted value\")\n",
        "plt.show()"
      ],
      "execution_count": null,
      "outputs": []
    },
    {
      "cell_type": "markdown",
      "metadata": {
        "id": "bemispVtCyp-"
      },
      "source": [
        "<h1> Conclusions </h1>"
      ]
    },
    {
      "cell_type": "code",
      "metadata": {
        "id": "zRO-VPG2Cyp_"
      },
      "source": [
        "# Please compare all your models using Prettytable library\n",
        "from prettytable import PrettyTable\n",
        "    \n",
        "x = PrettyTable()\n",
        "x.field_names = [\"Vectorizer\",  \"Hyper parameter\", \"AUC\"]\n",
        "x.add_row([\"BOW\", 1, 0.65])\n",
        "x.add_row([\"TFIDF\", 0.1, 0.69])\n",
        "x.add_row([\"AVGW2V\", 100000, 0.68])\n",
        "x.add_row([\"TFIDF W2V\", 0.1, 0.68])\n",
        "x.add_row([\"NO TEXT\", 100, 0.63])\n",
        "\n",
        "print(x)"
      ],
      "execution_count": null,
      "outputs": []
    },
    {
      "cell_type": "markdown",
      "metadata": {
        "id": "wflClovQA6dw"
      },
      "source": [
        "<h1>Summary</h1>"
      ]
    },
    {
      "cell_type": "markdown",
      "metadata": {
        "id": "n3HDlGDFA6dx"
      },
      "source": [
        "1. On comparing both the results we see that TFIDF featurization works a bit well in terms precision and recall\n",
        "2. Its very good compared to kNN in terms of execution time and in terms of accuracy and execution time."
      ]
    },
    {
      "cell_type": "code",
      "metadata": {
        "id": "HuQ_eK3wA6dx"
      },
      "source": [
        ""
      ],
      "execution_count": null,
      "outputs": []
    }
  ]
}